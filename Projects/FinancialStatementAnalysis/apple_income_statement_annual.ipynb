{
 "cells": [
  {
   "cell_type": "code",
   "execution_count": 1,
   "id": "03056498",
   "metadata": {},
   "outputs": [
    {
     "name": "stdout",
     "output_type": "stream",
     "text": [
      "Requirement already satisfied: morethemes in c:\\users\\dqthi\\appdata\\local\\packages\\pythonsoftwarefoundation.python.3.11_qbz5n2kfra8p0\\localcache\\local-packages\\python311\\site-packages (0.4.0)\n",
      "Requirement already satisfied: matplotlib>=3.6.0 in c:\\users\\dqthi\\appdata\\local\\packages\\pythonsoftwarefoundation.python.3.11_qbz5n2kfra8p0\\localcache\\local-packages\\python311\\site-packages (from morethemes) (3.10.0)\n",
      "Requirement already satisfied: pyfonts>=1.0.0 in c:\\users\\dqthi\\appdata\\local\\packages\\pythonsoftwarefoundation.python.3.11_qbz5n2kfra8p0\\localcache\\local-packages\\python311\\site-packages (from morethemes) (1.1.1)\n",
      "Requirement already satisfied: contourpy>=1.0.1 in c:\\users\\dqthi\\appdata\\local\\packages\\pythonsoftwarefoundation.python.3.11_qbz5n2kfra8p0\\localcache\\local-packages\\python311\\site-packages (from matplotlib>=3.6.0->morethemes) (1.3.2)\n",
      "Requirement already satisfied: cycler>=0.10 in c:\\users\\dqthi\\appdata\\local\\packages\\pythonsoftwarefoundation.python.3.11_qbz5n2kfra8p0\\localcache\\local-packages\\python311\\site-packages (from matplotlib>=3.6.0->morethemes) (0.12.1)\n",
      "Requirement already satisfied: fonttools>=4.22.0 in c:\\users\\dqthi\\appdata\\local\\packages\\pythonsoftwarefoundation.python.3.11_qbz5n2kfra8p0\\localcache\\local-packages\\python311\\site-packages (from matplotlib>=3.6.0->morethemes) (4.58.5)\n",
      "Requirement already satisfied: kiwisolver>=1.3.1 in c:\\users\\dqthi\\appdata\\local\\packages\\pythonsoftwarefoundation.python.3.11_qbz5n2kfra8p0\\localcache\\local-packages\\python311\\site-packages (from matplotlib>=3.6.0->morethemes) (1.4.8)\n",
      "Requirement already satisfied: numpy>=1.23 in c:\\users\\dqthi\\appdata\\local\\packages\\pythonsoftwarefoundation.python.3.11_qbz5n2kfra8p0\\localcache\\local-packages\\python311\\site-packages (from matplotlib>=3.6.0->morethemes) (2.1.3)\n",
      "Requirement already satisfied: packaging>=20.0 in c:\\users\\dqthi\\appdata\\local\\packages\\pythonsoftwarefoundation.python.3.11_qbz5n2kfra8p0\\localcache\\local-packages\\python311\\site-packages (from matplotlib>=3.6.0->morethemes) (25.0)\n",
      "Requirement already satisfied: pillow>=8 in c:\\users\\dqthi\\appdata\\local\\packages\\pythonsoftwarefoundation.python.3.11_qbz5n2kfra8p0\\localcache\\local-packages\\python311\\site-packages (from matplotlib>=3.6.0->morethemes) (11.3.0)\n",
      "Requirement already satisfied: pyparsing>=2.3.1 in c:\\users\\dqthi\\appdata\\local\\packages\\pythonsoftwarefoundation.python.3.11_qbz5n2kfra8p0\\localcache\\local-packages\\python311\\site-packages (from matplotlib>=3.6.0->morethemes) (3.2.3)\n",
      "Requirement already satisfied: python-dateutil>=2.7 in c:\\users\\dqthi\\appdata\\local\\packages\\pythonsoftwarefoundation.python.3.11_qbz5n2kfra8p0\\localcache\\local-packages\\python311\\site-packages (from matplotlib>=3.6.0->morethemes) (2.9.0.post0)\n",
      "Requirement already satisfied: requests in c:\\users\\dqthi\\appdata\\local\\packages\\pythonsoftwarefoundation.python.3.11_qbz5n2kfra8p0\\localcache\\local-packages\\python311\\site-packages (from pyfonts>=1.0.0->morethemes) (2.31.0)\n",
      "Requirement already satisfied: six>=1.5 in c:\\users\\dqthi\\appdata\\local\\packages\\pythonsoftwarefoundation.python.3.11_qbz5n2kfra8p0\\localcache\\local-packages\\python311\\site-packages (from python-dateutil>=2.7->matplotlib>=3.6.0->morethemes) (1.17.0)\n",
      "Requirement already satisfied: charset-normalizer<4,>=2 in c:\\users\\dqthi\\appdata\\local\\packages\\pythonsoftwarefoundation.python.3.11_qbz5n2kfra8p0\\localcache\\local-packages\\python311\\site-packages (from requests->pyfonts>=1.0.0->morethemes) (3.3.2)\n",
      "Requirement already satisfied: idna<4,>=2.5 in c:\\users\\dqthi\\appdata\\local\\packages\\pythonsoftwarefoundation.python.3.11_qbz5n2kfra8p0\\localcache\\local-packages\\python311\\site-packages (from requests->pyfonts>=1.0.0->morethemes) (3.6)\n",
      "Requirement already satisfied: urllib3<3,>=1.21.1 in c:\\users\\dqthi\\appdata\\local\\packages\\pythonsoftwarefoundation.python.3.11_qbz5n2kfra8p0\\localcache\\local-packages\\python311\\site-packages (from requests->pyfonts>=1.0.0->morethemes) (2.2.1)\n",
      "Requirement already satisfied: certifi>=2017.4.17 in c:\\users\\dqthi\\appdata\\local\\packages\\pythonsoftwarefoundation.python.3.11_qbz5n2kfra8p0\\localcache\\local-packages\\python311\\site-packages (from requests->pyfonts>=1.0.0->morethemes) (2024.2.2)\n"
     ]
    },
    {
     "name": "stderr",
     "output_type": "stream",
     "text": [
      "\n",
      "[notice] A new release of pip is available: 25.1.1 -> 25.2\n",
      "[notice] To update, run: C:\\Users\\dqthi\\AppData\\Local\\Microsoft\\WindowsApps\\PythonSoftwareFoundation.Python.3.11_qbz5n2kfra8p0\\python.exe -m pip install --upgrade pip\n"
     ]
    }
   ],
   "source": [
    "!pip install morethemes"
   ]
  },
  {
   "cell_type": "code",
   "execution_count": 2,
   "id": "226397a9",
   "metadata": {},
   "outputs": [],
   "source": [
    "import requests\n",
    "import sys \n",
    "import os \n",
    "sys.path.append(os.path.abspath(os.path.join(os.getcwd(), '..', '..')))\n",
    "from credential import FMP_API_KEY\n",
    "import pandas as pd\n",
    "import matplotlib.pyplot as plt \n",
    "\n",
    "import morethemes as mt "
   ]
  },
  {
   "cell_type": "code",
   "execution_count": 3,
   "id": "164a401b",
   "metadata": {},
   "outputs": [
    {
     "name": "stdout",
     "output_type": "stream",
     "text": [
      "[{'date': '2024-09-28', 'symbol': 'AAPL', 'reportedCurrency': 'USD', 'cik': '0000320193', 'fillingDate': '2024-11-01', 'acceptedDate': '2024-11-01 06:01:36', 'calendarYear': '2024', 'period': 'FY', 'revenue': 391035000000, 'costOfRevenue': 210352000000, 'grossProfit': 180683000000, 'grossProfitRatio': 0.4620634982, 'researchAndDevelopmentExpenses': 31370000000, 'generalAndAdministrativeExpenses': 0, 'sellingAndMarketingExpenses': 0, 'sellingGeneralAndAdministrativeExpenses': 26097000000, 'otherExpenses': 0, 'operatingExpenses': 57467000000, 'costAndExpenses': 267819000000, 'interestIncome': 0, 'interestExpense': 0, 'depreciationAndAmortization': 11445000000, 'ebitda': 134661000000, 'ebitdaratio': 0.3443707085, 'operatingIncome': 123216000000, 'operatingIncomeRatio': 0.3151022287, 'totalOtherIncomeExpensesNet': 269000000, 'incomeBeforeTax': 123485000000, 'incomeBeforeTaxRatio': 0.3157901467, 'incomeTaxExpense': 29749000000, 'netIncome': 93736000000, 'netIncomeRatio': 0.2397125577, 'eps': 6.11, 'epsdiluted': 6.08, 'weightedAverageShsOut': 15343783000, 'weightedAverageShsOutDil': 15408095000, 'link': 'https://www.sec.gov/Archives/edgar/data/320193/000032019324000123/0000320193-24-000123-index.htm', 'finalLink': 'https://www.sec.gov/Archives/edgar/data/320193/000032019324000123/aapl-20240928.htm'}, {'date': '2023-09-30', 'symbol': 'AAPL', 'reportedCurrency': 'USD', 'cik': '0000320193', 'fillingDate': '2023-11-03', 'acceptedDate': '2023-11-02 18:08:27', 'calendarYear': '2023', 'period': 'FY', 'revenue': 383285000000, 'costOfRevenue': 214137000000, 'grossProfit': 169148000000, 'grossProfitRatio': 0.4413112958, 'researchAndDevelopmentExpenses': 29915000000, 'generalAndAdministrativeExpenses': 0, 'sellingAndMarketingExpenses': 0, 'sellingGeneralAndAdministrativeExpenses': 24932000000, 'otherExpenses': 0, 'operatingExpenses': 54847000000, 'costAndExpenses': 268984000000, 'interestIncome': 3750000000, 'interestExpense': 3933000000, 'depreciationAndAmortization': 11519000000, 'ebitda': 125820000000, 'ebitdaratio': 0.3282674772, 'operatingIncome': 114301000000, 'operatingIncomeRatio': 0.2982141227, 'totalOtherIncomeExpensesNet': -565000000, 'incomeBeforeTax': 113736000000, 'incomeBeforeTaxRatio': 0.2967400237, 'incomeTaxExpense': 16741000000, 'netIncome': 96995000000, 'netIncomeRatio': 0.2530623426, 'eps': 6.16, 'epsdiluted': 6.13, 'weightedAverageShsOut': 15744231000, 'weightedAverageShsOutDil': 15812547000, 'link': 'https://www.sec.gov/Archives/edgar/data/320193/000032019323000106/0000320193-23-000106-index.htm', 'finalLink': 'https://www.sec.gov/Archives/edgar/data/320193/000032019323000106/aapl-20230930.htm'}, {'date': '2022-09-24', 'symbol': 'AAPL', 'reportedCurrency': 'USD', 'cik': '0000320193', 'fillingDate': '2022-10-28', 'acceptedDate': '2022-10-27 18:01:14', 'calendarYear': '2022', 'period': 'FY', 'revenue': 394328000000, 'costOfRevenue': 223546000000, 'grossProfit': 170782000000, 'grossProfitRatio': 0.4330963056, 'researchAndDevelopmentExpenses': 26251000000, 'generalAndAdministrativeExpenses': 0, 'sellingAndMarketingExpenses': 0, 'sellingGeneralAndAdministrativeExpenses': 25094000000, 'otherExpenses': 0, 'operatingExpenses': 51345000000, 'costAndExpenses': 274891000000, 'interestIncome': 2825000000, 'interestExpense': 2931000000, 'depreciationAndAmortization': 11104000000, 'ebitda': 133138000000, 'ebitdaratio': 0.3376326307, 'operatingIncome': 119437000000, 'operatingIncomeRatio': 0.302887444, 'totalOtherIncomeExpensesNet': -334000000, 'incomeBeforeTax': 119103000000, 'incomeBeforeTaxRatio': 0.3020404333, 'incomeTaxExpense': 19300000000, 'netIncome': 99803000000, 'netIncomeRatio': 0.2530964071, 'eps': 6.15, 'epsdiluted': 6.11, 'weightedAverageShsOut': 16215963000, 'weightedAverageShsOutDil': 16325819000, 'link': 'https://www.sec.gov/Archives/edgar/data/320193/000032019322000108/0000320193-22-000108-index.htm', 'finalLink': 'https://www.sec.gov/Archives/edgar/data/320193/000032019322000108/aapl-20220924.htm'}, {'date': '2021-09-25', 'symbol': 'AAPL', 'reportedCurrency': 'USD', 'cik': '0000320193', 'fillingDate': '2021-10-29', 'acceptedDate': '2021-10-28 18:04:28', 'calendarYear': '2021', 'period': 'FY', 'revenue': 365817000000, 'costOfRevenue': 212981000000, 'grossProfit': 152836000000, 'grossProfitRatio': 0.4177935963, 'researchAndDevelopmentExpenses': 21914000000, 'generalAndAdministrativeExpenses': 0, 'sellingAndMarketingExpenses': 0, 'sellingGeneralAndAdministrativeExpenses': 21973000000, 'otherExpenses': 0, 'operatingExpenses': 43887000000, 'costAndExpenses': 256868000000, 'interestIncome': 2843000000, 'interestExpense': 2645000000, 'depreciationAndAmortization': 11284000000, 'ebitda': 123136000000, 'ebitdaratio': 0.3366054612, 'operatingIncome': 108949000000, 'operatingIncomeRatio': 0.2978237753, 'totalOtherIncomeExpensesNet': 258000000, 'incomeBeforeTax': 109207000000, 'incomeBeforeTaxRatio': 0.2985290459, 'incomeTaxExpense': 14527000000, 'netIncome': 94680000000, 'netIncomeRatio': 0.2588179336, 'eps': 5.67, 'epsdiluted': 5.61, 'weightedAverageShsOut': 16701272000, 'weightedAverageShsOutDil': 16864919000, 'link': 'https://www.sec.gov/Archives/edgar/data/320193/000032019321000105/0000320193-21-000105-index.htm', 'finalLink': 'https://www.sec.gov/Archives/edgar/data/320193/000032019321000105/aapl-20210925.htm'}, {'date': '2020-09-26', 'symbol': 'AAPL', 'reportedCurrency': 'USD', 'cik': '0000320193', 'fillingDate': '2020-10-30', 'acceptedDate': '2020-10-29 18:06:25', 'calendarYear': '2020', 'period': 'FY', 'revenue': 274515000000, 'costOfRevenue': 169559000000, 'grossProfit': 104956000000, 'grossProfitRatio': 0.3823324773, 'researchAndDevelopmentExpenses': 18752000000, 'generalAndAdministrativeExpenses': 0, 'sellingAndMarketingExpenses': 0, 'sellingGeneralAndAdministrativeExpenses': 19916000000, 'otherExpenses': 0, 'operatingExpenses': 38668000000, 'costAndExpenses': 208227000000, 'interestIncome': 3763000000, 'interestExpense': 2873000000, 'depreciationAndAmortization': 11056000000, 'ebitda': 81020000000, 'ebitdaratio': 0.2951386992, 'operatingIncome': 66288000000, 'operatingIncomeRatio': 0.2414731435, 'totalOtherIncomeExpensesNet': 803000000, 'incomeBeforeTax': 67091000000, 'incomeBeforeTaxRatio': 0.2443983025, 'incomeTaxExpense': 9680000000, 'netIncome': 57411000000, 'netIncomeRatio': 0.2091361128, 'eps': 3.31, 'epsdiluted': 3.28, 'weightedAverageShsOut': 17352119000, 'weightedAverageShsOutDil': 17528214000, 'link': 'https://www.sec.gov/Archives/edgar/data/320193/000032019320000096/0000320193-20-000096-index.htm', 'finalLink': 'https://www.sec.gov/Archives/edgar/data/320193/000032019320000096/aapl-20200926.htm'}]\n"
     ]
    }
   ],
   "source": [
    "url = \"https://financialmodelingprep.com/api/v3/income-statement/AAPL\"\n",
    "params = {\n",
    "    \"period\": \"annual\",\n",
    "    \"limit\": 10,\n",
    "    \"apikey\": FMP_API_KEY\n",
    "}\n",
    "\n",
    "r = requests.get(url, params=params, timeout=30)\n",
    "data = r.json()\n",
    "print(data)\n",
    "\n"
   ]
  },
  {
   "cell_type": "code",
   "execution_count": 4,
   "id": "893c3cfc",
   "metadata": {},
   "outputs": [],
   "source": [
    "df = pd.DataFrame(data)"
   ]
  },
  {
   "cell_type": "code",
   "execution_count": 5,
   "id": "87ce6716",
   "metadata": {},
   "outputs": [
    {
     "data": {
      "text/html": [
       "<div>\n",
       "<style scoped>\n",
       "    .dataframe tbody tr th:only-of-type {\n",
       "        vertical-align: middle;\n",
       "    }\n",
       "\n",
       "    .dataframe tbody tr th {\n",
       "        vertical-align: top;\n",
       "    }\n",
       "\n",
       "    .dataframe thead th {\n",
       "        text-align: right;\n",
       "    }\n",
       "</style>\n",
       "<table border=\"1\" class=\"dataframe\">\n",
       "  <thead>\n",
       "    <tr style=\"text-align: right;\">\n",
       "      <th></th>\n",
       "      <th>date</th>\n",
       "      <th>symbol</th>\n",
       "      <th>reportedCurrency</th>\n",
       "      <th>cik</th>\n",
       "      <th>fillingDate</th>\n",
       "      <th>acceptedDate</th>\n",
       "      <th>calendarYear</th>\n",
       "      <th>period</th>\n",
       "      <th>revenue</th>\n",
       "      <th>costOfRevenue</th>\n",
       "      <th>...</th>\n",
       "      <th>incomeBeforeTaxRatio</th>\n",
       "      <th>incomeTaxExpense</th>\n",
       "      <th>netIncome</th>\n",
       "      <th>netIncomeRatio</th>\n",
       "      <th>eps</th>\n",
       "      <th>epsdiluted</th>\n",
       "      <th>weightedAverageShsOut</th>\n",
       "      <th>weightedAverageShsOutDil</th>\n",
       "      <th>link</th>\n",
       "      <th>finalLink</th>\n",
       "    </tr>\n",
       "  </thead>\n",
       "  <tbody>\n",
       "    <tr>\n",
       "      <th>0</th>\n",
       "      <td>2024-09-28</td>\n",
       "      <td>AAPL</td>\n",
       "      <td>USD</td>\n",
       "      <td>0000320193</td>\n",
       "      <td>2024-11-01</td>\n",
       "      <td>2024-11-01 06:01:36</td>\n",
       "      <td>2024</td>\n",
       "      <td>FY</td>\n",
       "      <td>391035000000</td>\n",
       "      <td>210352000000</td>\n",
       "      <td>...</td>\n",
       "      <td>0.315790</td>\n",
       "      <td>29749000000</td>\n",
       "      <td>93736000000</td>\n",
       "      <td>0.239713</td>\n",
       "      <td>6.11</td>\n",
       "      <td>6.08</td>\n",
       "      <td>15343783000</td>\n",
       "      <td>15408095000</td>\n",
       "      <td>https://www.sec.gov/Archives/edgar/data/320193...</td>\n",
       "      <td>https://www.sec.gov/Archives/edgar/data/320193...</td>\n",
       "    </tr>\n",
       "    <tr>\n",
       "      <th>1</th>\n",
       "      <td>2023-09-30</td>\n",
       "      <td>AAPL</td>\n",
       "      <td>USD</td>\n",
       "      <td>0000320193</td>\n",
       "      <td>2023-11-03</td>\n",
       "      <td>2023-11-02 18:08:27</td>\n",
       "      <td>2023</td>\n",
       "      <td>FY</td>\n",
       "      <td>383285000000</td>\n",
       "      <td>214137000000</td>\n",
       "      <td>...</td>\n",
       "      <td>0.296740</td>\n",
       "      <td>16741000000</td>\n",
       "      <td>96995000000</td>\n",
       "      <td>0.253062</td>\n",
       "      <td>6.16</td>\n",
       "      <td>6.13</td>\n",
       "      <td>15744231000</td>\n",
       "      <td>15812547000</td>\n",
       "      <td>https://www.sec.gov/Archives/edgar/data/320193...</td>\n",
       "      <td>https://www.sec.gov/Archives/edgar/data/320193...</td>\n",
       "    </tr>\n",
       "    <tr>\n",
       "      <th>2</th>\n",
       "      <td>2022-09-24</td>\n",
       "      <td>AAPL</td>\n",
       "      <td>USD</td>\n",
       "      <td>0000320193</td>\n",
       "      <td>2022-10-28</td>\n",
       "      <td>2022-10-27 18:01:14</td>\n",
       "      <td>2022</td>\n",
       "      <td>FY</td>\n",
       "      <td>394328000000</td>\n",
       "      <td>223546000000</td>\n",
       "      <td>...</td>\n",
       "      <td>0.302040</td>\n",
       "      <td>19300000000</td>\n",
       "      <td>99803000000</td>\n",
       "      <td>0.253096</td>\n",
       "      <td>6.15</td>\n",
       "      <td>6.11</td>\n",
       "      <td>16215963000</td>\n",
       "      <td>16325819000</td>\n",
       "      <td>https://www.sec.gov/Archives/edgar/data/320193...</td>\n",
       "      <td>https://www.sec.gov/Archives/edgar/data/320193...</td>\n",
       "    </tr>\n",
       "    <tr>\n",
       "      <th>3</th>\n",
       "      <td>2021-09-25</td>\n",
       "      <td>AAPL</td>\n",
       "      <td>USD</td>\n",
       "      <td>0000320193</td>\n",
       "      <td>2021-10-29</td>\n",
       "      <td>2021-10-28 18:04:28</td>\n",
       "      <td>2021</td>\n",
       "      <td>FY</td>\n",
       "      <td>365817000000</td>\n",
       "      <td>212981000000</td>\n",
       "      <td>...</td>\n",
       "      <td>0.298529</td>\n",
       "      <td>14527000000</td>\n",
       "      <td>94680000000</td>\n",
       "      <td>0.258818</td>\n",
       "      <td>5.67</td>\n",
       "      <td>5.61</td>\n",
       "      <td>16701272000</td>\n",
       "      <td>16864919000</td>\n",
       "      <td>https://www.sec.gov/Archives/edgar/data/320193...</td>\n",
       "      <td>https://www.sec.gov/Archives/edgar/data/320193...</td>\n",
       "    </tr>\n",
       "    <tr>\n",
       "      <th>4</th>\n",
       "      <td>2020-09-26</td>\n",
       "      <td>AAPL</td>\n",
       "      <td>USD</td>\n",
       "      <td>0000320193</td>\n",
       "      <td>2020-10-30</td>\n",
       "      <td>2020-10-29 18:06:25</td>\n",
       "      <td>2020</td>\n",
       "      <td>FY</td>\n",
       "      <td>274515000000</td>\n",
       "      <td>169559000000</td>\n",
       "      <td>...</td>\n",
       "      <td>0.244398</td>\n",
       "      <td>9680000000</td>\n",
       "      <td>57411000000</td>\n",
       "      <td>0.209136</td>\n",
       "      <td>3.31</td>\n",
       "      <td>3.28</td>\n",
       "      <td>17352119000</td>\n",
       "      <td>17528214000</td>\n",
       "      <td>https://www.sec.gov/Archives/edgar/data/320193...</td>\n",
       "      <td>https://www.sec.gov/Archives/edgar/data/320193...</td>\n",
       "    </tr>\n",
       "  </tbody>\n",
       "</table>\n",
       "<p>5 rows × 38 columns</p>\n",
       "</div>"
      ],
      "text/plain": [
       "         date symbol reportedCurrency         cik fillingDate  \\\n",
       "0  2024-09-28   AAPL              USD  0000320193  2024-11-01   \n",
       "1  2023-09-30   AAPL              USD  0000320193  2023-11-03   \n",
       "2  2022-09-24   AAPL              USD  0000320193  2022-10-28   \n",
       "3  2021-09-25   AAPL              USD  0000320193  2021-10-29   \n",
       "4  2020-09-26   AAPL              USD  0000320193  2020-10-30   \n",
       "\n",
       "          acceptedDate calendarYear period       revenue  costOfRevenue  ...  \\\n",
       "0  2024-11-01 06:01:36         2024     FY  391035000000   210352000000  ...   \n",
       "1  2023-11-02 18:08:27         2023     FY  383285000000   214137000000  ...   \n",
       "2  2022-10-27 18:01:14         2022     FY  394328000000   223546000000  ...   \n",
       "3  2021-10-28 18:04:28         2021     FY  365817000000   212981000000  ...   \n",
       "4  2020-10-29 18:06:25         2020     FY  274515000000   169559000000  ...   \n",
       "\n",
       "   incomeBeforeTaxRatio  incomeTaxExpense    netIncome  netIncomeRatio   eps  \\\n",
       "0              0.315790       29749000000  93736000000        0.239713  6.11   \n",
       "1              0.296740       16741000000  96995000000        0.253062  6.16   \n",
       "2              0.302040       19300000000  99803000000        0.253096  6.15   \n",
       "3              0.298529       14527000000  94680000000        0.258818  5.67   \n",
       "4              0.244398        9680000000  57411000000        0.209136  3.31   \n",
       "\n",
       "   epsdiluted  weightedAverageShsOut  weightedAverageShsOutDil  \\\n",
       "0        6.08            15343783000               15408095000   \n",
       "1        6.13            15744231000               15812547000   \n",
       "2        6.11            16215963000               16325819000   \n",
       "3        5.61            16701272000               16864919000   \n",
       "4        3.28            17352119000               17528214000   \n",
       "\n",
       "                                                link  \\\n",
       "0  https://www.sec.gov/Archives/edgar/data/320193...   \n",
       "1  https://www.sec.gov/Archives/edgar/data/320193...   \n",
       "2  https://www.sec.gov/Archives/edgar/data/320193...   \n",
       "3  https://www.sec.gov/Archives/edgar/data/320193...   \n",
       "4  https://www.sec.gov/Archives/edgar/data/320193...   \n",
       "\n",
       "                                           finalLink  \n",
       "0  https://www.sec.gov/Archives/edgar/data/320193...  \n",
       "1  https://www.sec.gov/Archives/edgar/data/320193...  \n",
       "2  https://www.sec.gov/Archives/edgar/data/320193...  \n",
       "3  https://www.sec.gov/Archives/edgar/data/320193...  \n",
       "4  https://www.sec.gov/Archives/edgar/data/320193...  \n",
       "\n",
       "[5 rows x 38 columns]"
      ]
     },
     "execution_count": 5,
     "metadata": {},
     "output_type": "execute_result"
    }
   ],
   "source": [
    "df"
   ]
  },
  {
   "cell_type": "markdown",
   "id": "ffb142e4",
   "metadata": {},
   "source": [
    "## Data cleaning\n",
    "- [x] remove unncessary columns: `fillingDate`, `acceptedDate`, `period`, `date`, `symbol`, `reportedCurrency`, `cik`, `link`, `fina`   - done\n",
    "- [x] display value in as proper format  - done \n",
    "- [x] tranform the data from width to height - done \n",
    "   "
   ]
  },
  {
   "cell_type": "code",
   "execution_count": 6,
   "id": "55ed2a73",
   "metadata": {},
   "outputs": [],
   "source": [
    "df.drop(columns=['fillingDate', 'acceptedDate', 'period', 'date', 'symbol', 'reportedCurrency', 'cik', 'link', 'finalLink'], inplace=True)"
   ]
  },
  {
   "cell_type": "code",
   "execution_count": 7,
   "id": "1a2b66d5",
   "metadata": {},
   "outputs": [
    {
     "data": {
      "text/html": [
       "<div>\n",
       "<style scoped>\n",
       "    .dataframe tbody tr th:only-of-type {\n",
       "        vertical-align: middle;\n",
       "    }\n",
       "\n",
       "    .dataframe tbody tr th {\n",
       "        vertical-align: top;\n",
       "    }\n",
       "\n",
       "    .dataframe thead th {\n",
       "        text-align: right;\n",
       "    }\n",
       "</style>\n",
       "<table border=\"1\" class=\"dataframe\">\n",
       "  <thead>\n",
       "    <tr style=\"text-align: right;\">\n",
       "      <th></th>\n",
       "      <th>calendarYear</th>\n",
       "      <th>revenue</th>\n",
       "      <th>costOfRevenue</th>\n",
       "      <th>grossProfit</th>\n",
       "      <th>grossProfitRatio</th>\n",
       "      <th>researchAndDevelopmentExpenses</th>\n",
       "      <th>generalAndAdministrativeExpenses</th>\n",
       "      <th>sellingAndMarketingExpenses</th>\n",
       "      <th>sellingGeneralAndAdministrativeExpenses</th>\n",
       "      <th>otherExpenses</th>\n",
       "      <th>...</th>\n",
       "      <th>totalOtherIncomeExpensesNet</th>\n",
       "      <th>incomeBeforeTax</th>\n",
       "      <th>incomeBeforeTaxRatio</th>\n",
       "      <th>incomeTaxExpense</th>\n",
       "      <th>netIncome</th>\n",
       "      <th>netIncomeRatio</th>\n",
       "      <th>eps</th>\n",
       "      <th>epsdiluted</th>\n",
       "      <th>weightedAverageShsOut</th>\n",
       "      <th>weightedAverageShsOutDil</th>\n",
       "    </tr>\n",
       "  </thead>\n",
       "  <tbody>\n",
       "    <tr>\n",
       "      <th>0</th>\n",
       "      <td>2024</td>\n",
       "      <td>391035000000</td>\n",
       "      <td>210352000000</td>\n",
       "      <td>180683000000</td>\n",
       "      <td>0.462063</td>\n",
       "      <td>31370000000</td>\n",
       "      <td>0</td>\n",
       "      <td>0</td>\n",
       "      <td>26097000000</td>\n",
       "      <td>0</td>\n",
       "      <td>...</td>\n",
       "      <td>269000000</td>\n",
       "      <td>123485000000</td>\n",
       "      <td>0.315790</td>\n",
       "      <td>29749000000</td>\n",
       "      <td>93736000000</td>\n",
       "      <td>0.239713</td>\n",
       "      <td>6.11</td>\n",
       "      <td>6.08</td>\n",
       "      <td>15343783000</td>\n",
       "      <td>15408095000</td>\n",
       "    </tr>\n",
       "    <tr>\n",
       "      <th>1</th>\n",
       "      <td>2023</td>\n",
       "      <td>383285000000</td>\n",
       "      <td>214137000000</td>\n",
       "      <td>169148000000</td>\n",
       "      <td>0.441311</td>\n",
       "      <td>29915000000</td>\n",
       "      <td>0</td>\n",
       "      <td>0</td>\n",
       "      <td>24932000000</td>\n",
       "      <td>0</td>\n",
       "      <td>...</td>\n",
       "      <td>-565000000</td>\n",
       "      <td>113736000000</td>\n",
       "      <td>0.296740</td>\n",
       "      <td>16741000000</td>\n",
       "      <td>96995000000</td>\n",
       "      <td>0.253062</td>\n",
       "      <td>6.16</td>\n",
       "      <td>6.13</td>\n",
       "      <td>15744231000</td>\n",
       "      <td>15812547000</td>\n",
       "    </tr>\n",
       "    <tr>\n",
       "      <th>2</th>\n",
       "      <td>2022</td>\n",
       "      <td>394328000000</td>\n",
       "      <td>223546000000</td>\n",
       "      <td>170782000000</td>\n",
       "      <td>0.433096</td>\n",
       "      <td>26251000000</td>\n",
       "      <td>0</td>\n",
       "      <td>0</td>\n",
       "      <td>25094000000</td>\n",
       "      <td>0</td>\n",
       "      <td>...</td>\n",
       "      <td>-334000000</td>\n",
       "      <td>119103000000</td>\n",
       "      <td>0.302040</td>\n",
       "      <td>19300000000</td>\n",
       "      <td>99803000000</td>\n",
       "      <td>0.253096</td>\n",
       "      <td>6.15</td>\n",
       "      <td>6.11</td>\n",
       "      <td>16215963000</td>\n",
       "      <td>16325819000</td>\n",
       "    </tr>\n",
       "    <tr>\n",
       "      <th>3</th>\n",
       "      <td>2021</td>\n",
       "      <td>365817000000</td>\n",
       "      <td>212981000000</td>\n",
       "      <td>152836000000</td>\n",
       "      <td>0.417794</td>\n",
       "      <td>21914000000</td>\n",
       "      <td>0</td>\n",
       "      <td>0</td>\n",
       "      <td>21973000000</td>\n",
       "      <td>0</td>\n",
       "      <td>...</td>\n",
       "      <td>258000000</td>\n",
       "      <td>109207000000</td>\n",
       "      <td>0.298529</td>\n",
       "      <td>14527000000</td>\n",
       "      <td>94680000000</td>\n",
       "      <td>0.258818</td>\n",
       "      <td>5.67</td>\n",
       "      <td>5.61</td>\n",
       "      <td>16701272000</td>\n",
       "      <td>16864919000</td>\n",
       "    </tr>\n",
       "    <tr>\n",
       "      <th>4</th>\n",
       "      <td>2020</td>\n",
       "      <td>274515000000</td>\n",
       "      <td>169559000000</td>\n",
       "      <td>104956000000</td>\n",
       "      <td>0.382332</td>\n",
       "      <td>18752000000</td>\n",
       "      <td>0</td>\n",
       "      <td>0</td>\n",
       "      <td>19916000000</td>\n",
       "      <td>0</td>\n",
       "      <td>...</td>\n",
       "      <td>803000000</td>\n",
       "      <td>67091000000</td>\n",
       "      <td>0.244398</td>\n",
       "      <td>9680000000</td>\n",
       "      <td>57411000000</td>\n",
       "      <td>0.209136</td>\n",
       "      <td>3.31</td>\n",
       "      <td>3.28</td>\n",
       "      <td>17352119000</td>\n",
       "      <td>17528214000</td>\n",
       "    </tr>\n",
       "  </tbody>\n",
       "</table>\n",
       "<p>5 rows × 29 columns</p>\n",
       "</div>"
      ],
      "text/plain": [
       "  calendarYear       revenue  costOfRevenue   grossProfit  grossProfitRatio  \\\n",
       "0         2024  391035000000   210352000000  180683000000          0.462063   \n",
       "1         2023  383285000000   214137000000  169148000000          0.441311   \n",
       "2         2022  394328000000   223546000000  170782000000          0.433096   \n",
       "3         2021  365817000000   212981000000  152836000000          0.417794   \n",
       "4         2020  274515000000   169559000000  104956000000          0.382332   \n",
       "\n",
       "   researchAndDevelopmentExpenses  generalAndAdministrativeExpenses  \\\n",
       "0                     31370000000                                 0   \n",
       "1                     29915000000                                 0   \n",
       "2                     26251000000                                 0   \n",
       "3                     21914000000                                 0   \n",
       "4                     18752000000                                 0   \n",
       "\n",
       "   sellingAndMarketingExpenses  sellingGeneralAndAdministrativeExpenses  \\\n",
       "0                            0                              26097000000   \n",
       "1                            0                              24932000000   \n",
       "2                            0                              25094000000   \n",
       "3                            0                              21973000000   \n",
       "4                            0                              19916000000   \n",
       "\n",
       "   otherExpenses  ...  totalOtherIncomeExpensesNet  incomeBeforeTax  \\\n",
       "0              0  ...                    269000000     123485000000   \n",
       "1              0  ...                   -565000000     113736000000   \n",
       "2              0  ...                   -334000000     119103000000   \n",
       "3              0  ...                    258000000     109207000000   \n",
       "4              0  ...                    803000000      67091000000   \n",
       "\n",
       "   incomeBeforeTaxRatio  incomeTaxExpense    netIncome  netIncomeRatio   eps  \\\n",
       "0              0.315790       29749000000  93736000000        0.239713  6.11   \n",
       "1              0.296740       16741000000  96995000000        0.253062  6.16   \n",
       "2              0.302040       19300000000  99803000000        0.253096  6.15   \n",
       "3              0.298529       14527000000  94680000000        0.258818  5.67   \n",
       "4              0.244398        9680000000  57411000000        0.209136  3.31   \n",
       "\n",
       "   epsdiluted  weightedAverageShsOut  weightedAverageShsOutDil  \n",
       "0        6.08            15343783000               15408095000  \n",
       "1        6.13            15744231000               15812547000  \n",
       "2        6.11            16215963000               16325819000  \n",
       "3        5.61            16701272000               16864919000  \n",
       "4        3.28            17352119000               17528214000  \n",
       "\n",
       "[5 rows x 29 columns]"
      ]
     },
     "execution_count": 7,
     "metadata": {},
     "output_type": "execute_result"
    }
   ],
   "source": [
    "df"
   ]
  },
  {
   "cell_type": "code",
   "execution_count": 8,
   "id": "d090d4eb",
   "metadata": {},
   "outputs": [],
   "source": [
    "df_format = df.melt(\n",
    "    id_vars=[\"calendarYear\"],        # keep the year fixed\n",
    "    var_name=\"Metric\",               # new column for metric names\n",
    "    value_name=\"Value\"               # new column for metric values\n",
    ")"
   ]
  },
  {
   "cell_type": "code",
   "execution_count": 9,
   "id": "9942f88f",
   "metadata": {},
   "outputs": [
    {
     "data": {
      "text/html": [
       "<div>\n",
       "<style scoped>\n",
       "    .dataframe tbody tr th:only-of-type {\n",
       "        vertical-align: middle;\n",
       "    }\n",
       "\n",
       "    .dataframe tbody tr th {\n",
       "        vertical-align: top;\n",
       "    }\n",
       "\n",
       "    .dataframe thead th {\n",
       "        text-align: right;\n",
       "    }\n",
       "</style>\n",
       "<table border=\"1\" class=\"dataframe\">\n",
       "  <thead>\n",
       "    <tr style=\"text-align: right;\">\n",
       "      <th></th>\n",
       "      <th>calendarYear</th>\n",
       "      <th>Metric</th>\n",
       "      <th>Value</th>\n",
       "    </tr>\n",
       "  </thead>\n",
       "  <tbody>\n",
       "    <tr>\n",
       "      <th>0</th>\n",
       "      <td>2024</td>\n",
       "      <td>revenue</td>\n",
       "      <td>3.910350e+11</td>\n",
       "    </tr>\n",
       "    <tr>\n",
       "      <th>1</th>\n",
       "      <td>2023</td>\n",
       "      <td>revenue</td>\n",
       "      <td>3.832850e+11</td>\n",
       "    </tr>\n",
       "    <tr>\n",
       "      <th>2</th>\n",
       "      <td>2022</td>\n",
       "      <td>revenue</td>\n",
       "      <td>3.943280e+11</td>\n",
       "    </tr>\n",
       "    <tr>\n",
       "      <th>3</th>\n",
       "      <td>2021</td>\n",
       "      <td>revenue</td>\n",
       "      <td>3.658170e+11</td>\n",
       "    </tr>\n",
       "    <tr>\n",
       "      <th>4</th>\n",
       "      <td>2020</td>\n",
       "      <td>revenue</td>\n",
       "      <td>2.745150e+11</td>\n",
       "    </tr>\n",
       "    <tr>\n",
       "      <th>...</th>\n",
       "      <td>...</td>\n",
       "      <td>...</td>\n",
       "      <td>...</td>\n",
       "    </tr>\n",
       "    <tr>\n",
       "      <th>135</th>\n",
       "      <td>2024</td>\n",
       "      <td>weightedAverageShsOutDil</td>\n",
       "      <td>1.540810e+10</td>\n",
       "    </tr>\n",
       "    <tr>\n",
       "      <th>136</th>\n",
       "      <td>2023</td>\n",
       "      <td>weightedAverageShsOutDil</td>\n",
       "      <td>1.581255e+10</td>\n",
       "    </tr>\n",
       "    <tr>\n",
       "      <th>137</th>\n",
       "      <td>2022</td>\n",
       "      <td>weightedAverageShsOutDil</td>\n",
       "      <td>1.632582e+10</td>\n",
       "    </tr>\n",
       "    <tr>\n",
       "      <th>138</th>\n",
       "      <td>2021</td>\n",
       "      <td>weightedAverageShsOutDil</td>\n",
       "      <td>1.686492e+10</td>\n",
       "    </tr>\n",
       "    <tr>\n",
       "      <th>139</th>\n",
       "      <td>2020</td>\n",
       "      <td>weightedAverageShsOutDil</td>\n",
       "      <td>1.752821e+10</td>\n",
       "    </tr>\n",
       "  </tbody>\n",
       "</table>\n",
       "<p>140 rows × 3 columns</p>\n",
       "</div>"
      ],
      "text/plain": [
       "    calendarYear                    Metric         Value\n",
       "0           2024                   revenue  3.910350e+11\n",
       "1           2023                   revenue  3.832850e+11\n",
       "2           2022                   revenue  3.943280e+11\n",
       "3           2021                   revenue  3.658170e+11\n",
       "4           2020                   revenue  2.745150e+11\n",
       "..           ...                       ...           ...\n",
       "135         2024  weightedAverageShsOutDil  1.540810e+10\n",
       "136         2023  weightedAverageShsOutDil  1.581255e+10\n",
       "137         2022  weightedAverageShsOutDil  1.632582e+10\n",
       "138         2021  weightedAverageShsOutDil  1.686492e+10\n",
       "139         2020  weightedAverageShsOutDil  1.752821e+10\n",
       "\n",
       "[140 rows x 3 columns]"
      ]
     },
     "execution_count": 9,
     "metadata": {},
     "output_type": "execute_result"
    }
   ],
   "source": [
    "df_format"
   ]
  },
  {
   "cell_type": "code",
   "execution_count": 10,
   "id": "d3971dbb",
   "metadata": {},
   "outputs": [
    {
     "data": {
      "text/html": [
       "<div>\n",
       "<style scoped>\n",
       "    .dataframe tbody tr th:only-of-type {\n",
       "        vertical-align: middle;\n",
       "    }\n",
       "\n",
       "    .dataframe tbody tr th {\n",
       "        vertical-align: top;\n",
       "    }\n",
       "\n",
       "    .dataframe thead th {\n",
       "        text-align: right;\n",
       "    }\n",
       "</style>\n",
       "<table border=\"1\" class=\"dataframe\">\n",
       "  <thead>\n",
       "    <tr style=\"text-align: right;\">\n",
       "      <th></th>\n",
       "      <th>calendarYear</th>\n",
       "      <th>Metric</th>\n",
       "      <th>Value</th>\n",
       "    </tr>\n",
       "  </thead>\n",
       "  <tbody>\n",
       "    <tr>\n",
       "      <th>0</th>\n",
       "      <td>2024</td>\n",
       "      <td>revenue</td>\n",
       "      <td>3.910350e+11</td>\n",
       "    </tr>\n",
       "    <tr>\n",
       "      <th>1</th>\n",
       "      <td>2023</td>\n",
       "      <td>revenue</td>\n",
       "      <td>3.832850e+11</td>\n",
       "    </tr>\n",
       "    <tr>\n",
       "      <th>2</th>\n",
       "      <td>2022</td>\n",
       "      <td>revenue</td>\n",
       "      <td>3.943280e+11</td>\n",
       "    </tr>\n",
       "    <tr>\n",
       "      <th>3</th>\n",
       "      <td>2021</td>\n",
       "      <td>revenue</td>\n",
       "      <td>3.658170e+11</td>\n",
       "    </tr>\n",
       "    <tr>\n",
       "      <th>4</th>\n",
       "      <td>2020</td>\n",
       "      <td>revenue</td>\n",
       "      <td>2.745150e+11</td>\n",
       "    </tr>\n",
       "  </tbody>\n",
       "</table>\n",
       "</div>"
      ],
      "text/plain": [
       "  calendarYear   Metric         Value\n",
       "0         2024  revenue  3.910350e+11\n",
       "1         2023  revenue  3.832850e+11\n",
       "2         2022  revenue  3.943280e+11\n",
       "3         2021  revenue  3.658170e+11\n",
       "4         2020  revenue  2.745150e+11"
      ]
     },
     "execution_count": 10,
     "metadata": {},
     "output_type": "execute_result"
    }
   ],
   "source": [
    "df_revenue = df_format[df_format['Metric'] == 'revenue']\n",
    "df_revenue"
   ]
  },
  {
   "cell_type": "markdown",
   "id": "4f96f906",
   "metadata": {},
   "source": []
  },
  {
   "cell_type": "code",
   "execution_count": 11,
   "id": "776def6b",
   "metadata": {},
   "outputs": [
    {
     "name": "stderr",
     "output_type": "stream",
     "text": [
      "C:\\Users\\dqthi\\AppData\\Local\\Temp\\ipykernel_1668\\4090961083.py:1: SettingWithCopyWarning: \n",
      "A value is trying to be set on a copy of a slice from a DataFrame.\n",
      "Try using .loc[row_indexer,col_indexer] = value instead\n",
      "\n",
      "See the caveats in the documentation: https://pandas.pydata.org/pandas-docs/stable/user_guide/indexing.html#returning-a-view-versus-a-copy\n",
      "  df_revenue['value_billion'] = df_revenue['Value']/100_000_000\n",
      "C:\\Users\\dqthi\\AppData\\Local\\Temp\\ipykernel_1668\\4090961083.py:2: SettingWithCopyWarning: \n",
      "A value is trying to be set on a copy of a slice from a DataFrame.\n",
      "Try using .loc[row_indexer,col_indexer] = value instead\n",
      "\n",
      "See the caveats in the documentation: https://pandas.pydata.org/pandas-docs/stable/user_guide/indexing.html#returning-a-view-versus-a-copy\n",
      "  df_revenue['value_billion'] = df_revenue['value_billion'].map(\"{:,.2f}\".format)\n"
     ]
    },
    {
     "data": {
      "text/html": [
       "<div>\n",
       "<style scoped>\n",
       "    .dataframe tbody tr th:only-of-type {\n",
       "        vertical-align: middle;\n",
       "    }\n",
       "\n",
       "    .dataframe tbody tr th {\n",
       "        vertical-align: top;\n",
       "    }\n",
       "\n",
       "    .dataframe thead th {\n",
       "        text-align: right;\n",
       "    }\n",
       "</style>\n",
       "<table border=\"1\" class=\"dataframe\">\n",
       "  <thead>\n",
       "    <tr style=\"text-align: right;\">\n",
       "      <th></th>\n",
       "      <th>calendarYear</th>\n",
       "      <th>Metric</th>\n",
       "      <th>Value</th>\n",
       "      <th>value_billion</th>\n",
       "    </tr>\n",
       "  </thead>\n",
       "  <tbody>\n",
       "    <tr>\n",
       "      <th>0</th>\n",
       "      <td>2024</td>\n",
       "      <td>revenue</td>\n",
       "      <td>3.910350e+11</td>\n",
       "      <td>3,910.35</td>\n",
       "    </tr>\n",
       "    <tr>\n",
       "      <th>1</th>\n",
       "      <td>2023</td>\n",
       "      <td>revenue</td>\n",
       "      <td>3.832850e+11</td>\n",
       "      <td>3,832.85</td>\n",
       "    </tr>\n",
       "    <tr>\n",
       "      <th>2</th>\n",
       "      <td>2022</td>\n",
       "      <td>revenue</td>\n",
       "      <td>3.943280e+11</td>\n",
       "      <td>3,943.28</td>\n",
       "    </tr>\n",
       "    <tr>\n",
       "      <th>3</th>\n",
       "      <td>2021</td>\n",
       "      <td>revenue</td>\n",
       "      <td>3.658170e+11</td>\n",
       "      <td>3,658.17</td>\n",
       "    </tr>\n",
       "    <tr>\n",
       "      <th>4</th>\n",
       "      <td>2020</td>\n",
       "      <td>revenue</td>\n",
       "      <td>2.745150e+11</td>\n",
       "      <td>2,745.15</td>\n",
       "    </tr>\n",
       "  </tbody>\n",
       "</table>\n",
       "</div>"
      ],
      "text/plain": [
       "  calendarYear   Metric         Value value_billion\n",
       "0         2024  revenue  3.910350e+11      3,910.35\n",
       "1         2023  revenue  3.832850e+11      3,832.85\n",
       "2         2022  revenue  3.943280e+11      3,943.28\n",
       "3         2021  revenue  3.658170e+11      3,658.17\n",
       "4         2020  revenue  2.745150e+11      2,745.15"
      ]
     },
     "execution_count": 11,
     "metadata": {},
     "output_type": "execute_result"
    }
   ],
   "source": [
    "df_revenue['value_billion'] = df_revenue['Value']/100_000_000\n",
    "df_revenue['value_billion'] = df_revenue['value_billion'].map(\"{:,.2f}\".format)\n",
    "df_revenue\n"
   ]
  },
  {
   "cell_type": "code",
   "execution_count": 12,
   "id": "e4e032f2",
   "metadata": {},
   "outputs": [
    {
     "name": "stderr",
     "output_type": "stream",
     "text": [
      "C:\\Users\\dqthi\\AppData\\Local\\Temp\\ipykernel_1668\\1750495670.py:1: SettingWithCopyWarning: \n",
      "A value is trying to be set on a copy of a slice from a DataFrame.\n",
      "Try using .loc[row_indexer,col_indexer] = value instead\n",
      "\n",
      "See the caveats in the documentation: https://pandas.pydata.org/pandas-docs/stable/user_guide/indexing.html#returning-a-view-versus-a-copy\n",
      "  df_revenue[\"calendarYear\"] = (\n"
     ]
    }
   ],
   "source": [
    "df_revenue[\"calendarYear\"] = (\n",
    "    df_revenue[\"calendarYear\"]\n",
    "    .astype(str)                 # make sure everything is string\n",
    "    .str.strip()                 # remove leading/trailing spaces\n",
    "    .str.replace(r\"\\.0$\", \"\", regex=True)  # drop '.0' if present\n",
    "    .astype(\"Int32\")                 # finally cast to int\n",
    ")"
   ]
  },
  {
   "cell_type": "code",
   "execution_count": 13,
   "id": "a6a48639",
   "metadata": {},
   "outputs": [
    {
     "name": "stdout",
     "output_type": "stream",
     "text": [
      "<IntegerArray>\n",
      "[2024, 2023, 2022, 2021, 2020]\n",
      "Length: 5, dtype: Int32\n"
     ]
    }
   ],
   "source": [
    "print(df_revenue['calendarYear'].unique())"
   ]
  },
  {
   "cell_type": "code",
   "execution_count": 14,
   "id": "90c6f026",
   "metadata": {},
   "outputs": [
    {
     "data": {
      "text/plain": [
       "(numpy.int32,\n",
       " <IntegerArray>\n",
       " [2024, 2023, 2022, 2021, 2020]\n",
       " Length: 5, dtype: Int32)"
      ]
     },
     "execution_count": 14,
     "metadata": {},
     "output_type": "execute_result"
    }
   ],
   "source": [
    "type(df_revenue.loc[0, \"calendarYear\"]), df_revenue[\"calendarYear\"].unique()\n"
   ]
  },
  {
   "cell_type": "code",
   "execution_count": 15,
   "id": "5c30dde5",
   "metadata": {},
   "outputs": [
    {
     "name": "stderr",
     "output_type": "stream",
     "text": [
      "C:\\Users\\dqthi\\AppData\\Local\\Temp\\ipykernel_1668\\3641463991.py:1: SettingWithCopyWarning: \n",
      "A value is trying to be set on a copy of a slice from a DataFrame.\n",
      "Try using .loc[row_indexer,col_indexer] = value instead\n",
      "\n",
      "See the caveats in the documentation: https://pandas.pydata.org/pandas-docs/stable/user_guide/indexing.html#returning-a-view-versus-a-copy\n",
      "  df_revenue[\"value_billion\"] = (\n"
     ]
    }
   ],
   "source": [
    "df_revenue[\"value_billion\"] = (\n",
    "    df_revenue[\"value_billion\"].astype(str).str.replace(\",\", \"\", regex=False)\n",
    "    .pipe(pd.to_numeric, errors=\"coerce\")\n",
    ")"
   ]
  },
  {
   "cell_type": "code",
   "execution_count": 16,
   "id": "6caf5799",
   "metadata": {},
   "outputs": [
    {
     "name": "stdout",
     "output_type": "stream",
     "text": [
      "<class 'pandas.core.frame.DataFrame'>\n",
      "Index: 5 entries, 0 to 4\n",
      "Data columns (total 4 columns):\n",
      " #   Column         Non-Null Count  Dtype  \n",
      "---  ------         --------------  -----  \n",
      " 0   calendarYear   5 non-null      Int32  \n",
      " 1   Metric         5 non-null      object \n",
      " 2   Value          5 non-null      float64\n",
      " 3   value_billion  5 non-null      float64\n",
      "dtypes: Int32(1), float64(2), object(1)\n",
      "memory usage: 357.0+ bytes\n"
     ]
    }
   ],
   "source": [
    "df_revenue.info() "
   ]
  },
  {
   "cell_type": "markdown",
   "id": "40342cd2",
   "metadata": {},
   "source": [
    "# To follow up:  \n",
    "- try writing a function that appy value formatting (e.i add comma between thousand) to the select list of columns  "
   ]
  },
  {
   "cell_type": "code",
   "execution_count": 17,
   "id": "2b4fe9a8",
   "metadata": {},
   "outputs": [
    {
     "data": {
      "image/png": "[encoded data removed]",
      "text/plain": [
       "<Figure size 640x480 with 1 Axes>"
      ]
     },
     "metadata": {},
     "output_type": "display_data"
    }
   ],
   "source": [
    "# step 1, populate the draft chart to visualize \n",
    "\n",
    "fig, ax = plt.subplots()\n",
    "x = df_revenue['calendarYear']\n",
    "y = df_revenue['value_billion']\n",
    "ax.bar(\n",
    "    x,y\n",
    ")\n",
    "ax = ax \n",
    "\n",
    "plt.show()"
   ]
  },
  {
   "cell_type": "code",
   "execution_count": 18,
   "id": "154b9def",
   "metadata": {},
   "outputs": [
    {
     "data": {
      "image/png": "[encoded data removed]",
      "text/plain": [
       "<Figure size 640x480 with 1 Axes>"
      ]
     },
     "metadata": {},
     "output_type": "display_data"
    }
   ],
   "source": [
    "# step 2:  \n",
    "# remove the border line \n",
    "# remove y value   \n",
    "# starting number of y value to be 0, while the max value is 5000   \n",
    "\n",
    "fig, ax = plt.subplots()\n",
    "x = df_revenue['calendarYear']\n",
    "y = df_revenue['value_billion']\n",
    "bar_container = ax.bar(x,y)\n",
    "for spine in ['top','right','bottom','left']:\n",
    "    ax.spines[spine].set_visible(False),\n",
    "# ax.set_xticks([])\n",
    "ax.set_yticks([]) # to remove border line,\n",
    "ax.tick_params(length=0), # to remove x - ticks,\n",
    "plt.ylim(0,5000),  # starting number of y value to be 0, while the max value is 5000   \n",
    "ax.bar_label(bar_container, label_type='edge', fmt=lambda x: f'{x:,.2f}')\n",
    "ax = bar_container\n",
    "\n",
    "plt.show()"
   ]
  },
  {
   "cell_type": "code",
   "execution_count": 28,
   "id": "9fa41a2b",
   "metadata": {},
   "outputs": [
    {
     "data": {
      "image/png": "[encoded data removed]",
      "text/plain": [
       "<Figure size 640x480 with 1 Axes>"
      ]
     },
     "metadata": {},
     "output_type": "display_data"
    }
   ],
   "source": [
    "# step 2:  \n",
    "# remove the border line \n",
    "# remove y value   \n",
    "# starting number of y value to be 0, while the max value is 5000   \n",
    "\n",
    "# step 3:  \n",
    "# apply formating\n",
    "# setting color for 2024, prior year to grey   \n",
    "\n",
    "blue = '#0466c8'\n",
    "grey = '#979dac'\n",
    "colors = [\n",
    "    blue if year == 2024 else grey\n",
    "    for year in df_revenue[\"calendarYear\"]\n",
    "]\n",
    "\n",
    "fig, ax = plt.subplots()\n",
    "x = df_revenue['calendarYear']\n",
    "y = df_revenue['value_billion']\n",
    "bar_container = ax.bar(x,y,color = colors)\n",
    "for spine in ['top','right','bottom','left']:\n",
    "    ax.spines[spine].set_visible(False),\n",
    "ax.set_yticks([]) # to remove border line,\n",
    "ax.tick_params(length=0), # to remove x - ticks,\n",
    "plt.ylim(0,5000),  # starting number of y value to be 0, while the max value is 5000   \n",
    "ax.bar_label(bar_container, label_type='edge', fmt=lambda x: f'{x:,.2f}')\n",
    "ax = bar_container\n",
    "\n",
    "\n",
    "\n",
    "plt.show()"
   ]
  },
  {
   "cell_type": "code",
   "execution_count": 29,
   "id": "779fa88e",
   "metadata": {},
   "outputs": [],
   "source": [
    "def cagr(begin_value, end_value, periods):\n",
    "    return (end_value / begin_value) ** (1/periods) - 1    "
   ]
  },
  {
   "cell_type": "code",
   "execution_count": 38,
   "id": "d967e79e",
   "metadata": {},
   "outputs": [],
   "source": [
    "start_year = df_revenue['calendarYear'].min()\n",
    "end_year = df_revenue['calendarYear'].max()\n",
    "\n",
    "begin_value = df_revenue.loc[df_revenue['calendarYear'] == start_year,'value_billion'].values[0]\n",
    "end_value = df_revenue.loc[df_revenue['calendarYear'] == end_year,'value_billion'].values[0]\n",
    "periods = end_year - start_year "
   ]
  },
  {
   "cell_type": "code",
   "execution_count": 41,
   "id": "6661009e",
   "metadata": {},
   "outputs": [
    {
     "data": {
      "text/plain": [
       "np.int32(4)"
      ]
     },
     "execution_count": 41,
     "metadata": {},
     "output_type": "execute_result"
    }
   ],
   "source": [
    "periods"
   ]
  },
  {
   "cell_type": "code",
   "execution_count": 40,
   "id": "e6f2f537",
   "metadata": {},
   "outputs": [
    {
     "data": {
      "text/plain": [
       "np.float64(0.09247721446491397)"
      ]
     },
     "execution_count": 40,
     "metadata": {},
     "output_type": "execute_result"
    }
   ],
   "source": [
    "apple_cagr = cagr(begin_value, end_value, periods )\n",
    "apple_cagr"
   ]
  },
  {
   "cell_type": "markdown",
   "id": "15942071",
   "metadata": {},
   "source": [
    "# Data Visualization"
   ]
  },
  {
   "cell_type": "markdown",
   "id": "f056fe7d",
   "metadata": {},
   "source": [
    "What are the steps: \n",
    "- Draft visual\n",
    "  - Chart title: Apple 5 Year Revenue Performance (2020 - 2025) \n",
    "  - Chart subtitle: Apple revenues show steady increase over 5 year with xx% a year \n",
    "  - Chart credit: viz by: ThinhD, data source: FMP, \n",
    "    - [ ] to calculate for CARG ratio \n",
    "  - Chart type - Chart color - Color pallets\n",
    "    - [x] use https://y-sunflower.github.io/morethemes/#__tabbed_1_6    \n",
    "    - => Decided to not use theme as I want to make more control of the chart   \n",
    "\n",
    "\n",
    "Make chart showing cartoon style - \n",
    "https://matplotlib.org/stable/gallery/showcase/xkcd.html#sphx-glr-gallery-showcase-xkcd-py\n"
   ]
  },
  {
   "cell_type": "code",
   "execution_count": 20,
   "id": "7fb387dd",
   "metadata": {},
   "outputs": [
    {
     "ename": "TypeError",
     "evalue": "cannot unpack non-iterable function object",
     "output_type": "error",
     "traceback": [
      "\u001b[1;31m---------------------------------------------------------------------------\u001b[0m",
      "\u001b[1;31mTypeError\u001b[0m                                 Traceback (most recent call last)",
      "Cell \u001b[1;32mIn[20], line 1\u001b[0m\n\u001b[1;32m----> 1\u001b[0m fig, ax \u001b[38;5;241m=\u001b[39m plt\u001b[38;5;241m.\u001b[39msubplot\n",
      "\u001b[1;31mTypeError\u001b[0m: cannot unpack non-iterable function object"
     ]
    }
   ],
   "source": [
    "fig, ax = plt.subplot"
   ]
  },
  {
   "cell_type": "markdown",
   "id": "079f3d15",
   "metadata": {},
   "source": []
  }
 ],
 "metadata": {
  "kernelspec": {
   "display_name": "Python 3",
   "language": "python",
   "name": "python3"
  },
  "language_info": {
   "codemirror_mode": {
    "name": "ipython",
    "version": 3
   },
   "file_extension": ".py",
   "mimetype": "text/x-python",
   "name": "python",
   "nbconvert_exporter": "python",
   "pygments_lexer": "ipython3",
   "version": "3.11.9"
  }
 },
 "nbformat": 4,
 "nbformat_minor": 5
}
