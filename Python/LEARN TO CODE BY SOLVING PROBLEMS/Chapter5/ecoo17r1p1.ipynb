{
 "cells": [
  {
   "cell_type": "code",
   "execution_count": 15,
   "id": "7170b4a4",
   "metadata": {},
   "outputs": [],
   "source": [
    "ticket_price = [12, 10, 7, 5]"
   ]
  },
  {
   "cell_type": "code",
   "execution_count": 2,
   "id": "d4afb7c5",
   "metadata": {},
   "outputs": [
    {
     "name": "stdout",
     "output_type": "stream",
     "text": [
      "500\n",
      "0.1 0.2 0.3 0.4\n",
      "200\n",
      "['0.1', '0.2', '0.3', '0.4']\n"
     ]
    }
   ],
   "source": [
    "trip_cost = int(input())\n",
    "student_proportion = input()\n",
    "total_student = int(input())\n",
    "list_student_proportion = student_proportion.split(' ')\n",
    "\n",
    "print(trip_cost)\n",
    "print(student_proportion)\n",
    "print(total_student)\n",
    "print(list_student_proportion)"
   ]
  },
  {
   "cell_type": "code",
   "execution_count": 3,
   "id": "9b5c8835",
   "metadata": {},
   "outputs": [
    {
     "data": {
      "text/plain": [
       "['0.1', '0.2', '0.3', '0.4']"
      ]
     },
     "execution_count": 3,
     "metadata": {},
     "output_type": "execute_result"
    }
   ],
   "source": [
    "list_student_proportion"
   ]
  },
  {
   "cell_type": "code",
   "execution_count": 4,
   "id": "f3e23504",
   "metadata": {},
   "outputs": [
    {
     "data": {
      "text/plain": [
       "'0.1 0.2 0.3 0.4'"
      ]
     },
     "execution_count": 4,
     "metadata": {},
     "output_type": "execute_result"
    }
   ],
   "source": [
    "student_proportion"
   ]
  },
  {
   "cell_type": "code",
   "execution_count": null,
   "id": "457f7537",
   "metadata": {},
   "outputs": [
    {
     "name": "stdout",
     "output_type": "stream",
     "text": [
      "[0.1, 0.2, 0.3, 0.4]\n"
     ]
    }
   ],
   "source": [
    "list_student_proportion = [float(proportion) for proportion in list_student_proportion]\n",
    "\n",
    "print(list_student_proportion)"
   ]
  },
  {
   "cell_type": "code",
   "execution_count": 9,
   "id": "513c7c9c",
   "metadata": {},
   "outputs": [
    {
     "data": {
      "text/plain": [
       "[20.0, 40.0, 60.0, 80.0]"
      ]
     },
     "execution_count": 9,
     "metadata": {},
     "output_type": "execute_result"
    }
   ],
   "source": [
    "student_by_year = [i * total_student for i in list_student_proportion]\n",
    "student_by_year "
   ]
  },
  {
   "cell_type": "code",
   "execution_count": null,
   "id": "f3ed90a2",
   "metadata": {},
   "outputs": [
    {
     "name": "stdout",
     "output_type": "stream",
     "text": [
      "[12, 10, 7, 5]\n"
     ]
    }
   ],
   "source": [
    "print(ticket_price) "
   ]
  },
  {
   "cell_type": "code",
   "execution_count": null,
   "id": "75541d52",
   "metadata": {},
   "outputs": [
    {
     "name": "stdout",
     "output_type": "stream",
     "text": [
      "[240.0, 400.0, 420.0, 400.0]\n",
      "730.0\n",
      "No\n"
     ]
    }
   ],
   "source": [
    "total_amount = [price * student for price, student in zip(student_by_year, ticket_price)]\n",
    "total_raise = sum(total_amount) * 0.5\n",
    "print(total_amount)\n",
    "print(total_raise)\n",
    "\n",
    "if total_raise < trip_cost: \n",
    "    print(\"Yes\")\n",
    "else: \n",
    "    print(\"No\")"
   ]
  },
  {
   "cell_type": "code",
   "execution_count": 43,
   "id": "003a1797",
   "metadata": {},
   "outputs": [
    {
     "name": "stdout",
     "output_type": "stream",
     "text": [
      "[6.3, 0.9, 0.9, 0.9]\n",
      "[6, 0, 0, 0]\n"
     ]
    }
   ],
   "source": [
    "proportion1 = [0.7, 0.1, 0.1, 0.1]\n",
    "population = 9 \n",
    "\n",
    "breakdown1 = [x * population for x in proportion1]\n",
    "print(breakdown1)\n",
    "\n",
    "breakdown2 = [int(i) for i in breakdown1]\n",
    "print(breakdown2)"
   ]
  },
  {
   "cell_type": "code",
   "execution_count": 50,
   "id": "c700b240",
   "metadata": {},
   "outputs": [
    {
     "name": "stdout",
     "output_type": "stream",
     "text": [
      "8\n",
      "2\n",
      "2\n",
      "2\n"
     ]
    }
   ],
   "source": [
    "for i in breakdown2:\n",
    "    print (i + 2 )"
   ]
  },
  {
   "cell_type": "code",
   "execution_count": 56,
   "id": "4174496d",
   "metadata": {},
   "outputs": [
    {
     "name": "stdout",
     "output_type": "stream",
     "text": [
      "ticket_price [12, 10, 7, 5]\n",
      "trip cost: 50\n",
      "input student proportion: ['0.7', '0.1', '0.1', '0.1']\n",
      "total no of student: 9\n",
      "list_student_proportion after converting to float [0.7, 0.1, 0.1, 0.1]\n",
      "number of student by year before rounding [6.3, 0.9, 0.9, 0.9]\n",
      "number of student by year after rounding [6, 0, 0, 0]\n",
      "total student calculation 6\n",
      "total amount: 108\n",
      "trip contribution: 54.0\n",
      "NO\n"
     ]
    }
   ],
   "source": [
    "ticket_price = [12, 10, 7, 5]\n",
    "print(f'ticket_price {ticket_price}')\n",
    "\n",
    "trip_cost = int(input())\n",
    "student_proportion = input().split()\n",
    "total_student = int(input())\n",
    "\n",
    "print(f'trip cost: {trip_cost}')\n",
    "print(f'input student proportion: {student_proportion}')\n",
    "print(f'total no of student: {total_student}')\n",
    "\n",
    "student_proportion = [float(proportion) for proportion in student_proportion]\n",
    "print(f'list_student_proportion after converting to float {student_proportion}')\n",
    "\n",
    "student_by_year = [i * total_student for i in student_proportion]\n",
    "print(f'number of student by year before rounding {student_by_year}')\n",
    "student_by_year = [int(i) for i in student_by_year]\n",
    "print(f'number of student by year after rounding {student_by_year}')\n",
    "total_student_fr_proportion = sum(student_by_year)\n",
    "print(f'total student calculation {total_student_fr_proportion}')\n",
    "uncount_student = total_student - total_student_fr_proportion  \n",
    "most_grade = max(student_by_year)\n",
    "where = student_by_year.index(most_grade)\n",
    "student_by_year[where] = student_by_year[where] + uncount_student \n",
    "\n",
    "total_amount = 0 \n",
    "\n",
    "for i in range(len(student_by_year)): \n",
    "    total_amount = total_amount + student_by_year[i] * ticket_price[i] \n",
    "\n",
    "trip_contribution = total_amount * 0.5\n",
    "print(f'total amount: {total_amount}')\n",
    "print(f'trip contribution: {trip_contribution}')\n",
    "\n",
    "if trip_contribution < trip_cost: \n",
    "    print(\"YES\")\n",
    "else: \n",
    "    print(\"NO\")\n",
    "\n"
   ]
  },
  {
   "cell_type": "code",
   "execution_count": 54,
   "id": "1f282b1c",
   "metadata": {},
   "outputs": [
    {
     "name": "stdout",
     "output_type": "stream",
     "text": [
      "ticket_price [12, 10, 7, 5]\n",
      "trip cost: 50\n",
      "input student proportion: ['0.7', '0.1', '0.1', '0.1']\n",
      "total no of student: 9\n",
      "list_student_proportion after converting to float [0.7, 0.1, 0.1, 0.1]\n",
      "number of student by year before rounding [6.3, 0.9, 0.9, 0.9]\n",
      "number of student by year after rounding [6, 0, 0, 0]\n",
      "total student calculation 6\n",
      "<class 'list'>\n",
      "[9, 0, 0, 0]\n"
     ]
    }
   ],
   "source": [
    "ticket_price = [12, 10, 7, 5]\n",
    "print(f'ticket_price {ticket_price}')\n",
    "\n",
    "trip_cost = int(input())\n",
    "student_proportion = input().split()\n",
    "total_student = int(input())\n",
    "\n",
    "print(f'trip cost: {trip_cost}')\n",
    "print(f'input student proportion: {student_proportion}')\n",
    "print(f'total no of student: {total_student}')\n",
    "\n",
    "student_proportion = [float(proportion) for proportion in student_proportion]\n",
    "print(f'list_student_proportion after converting to float {student_proportion}')\n",
    "\n",
    "student_by_year = [i * total_student for i in student_proportion]\n",
    "print(f'number of student by year before rounding {student_by_year}')\n",
    "student_by_year = [int(i) for i in student_by_year]\n",
    "print(f'number of student by year after rounding {student_by_year}')\n",
    "total_student_fr_proportion = sum(student_by_year)\n",
    "print(f'total student calculation {total_student_fr_proportion}')\n",
    "uncount_student = total_student - total_student_fr_proportion  \n",
    "most_grade = max(student_by_year)\n",
    "where = student_by_year.index(most_grade)\n",
    "student_by_year[where] = student_by_year[where] + uncount_student \n",
    "\n",
    "print(type(student_by_year))\n",
    "print(student_by_year)"
   ]
  },
  {
   "cell_type": "code",
   "execution_count": null,
   "id": "fe1ae657",
   "metadata": {},
   "outputs": [
    {
     "name": "stdout",
     "output_type": "stream",
     "text": [
      "ticket_price [12, 10, 7, 5]\n",
      "trip cost: 500\n",
      "input student proportion: 0.2 0.3 0.1 0.4\n",
      "total no of student: 100\n",
      "convert student proportion to list: ['0.2', '0.3', '0.1', '0.4']\n",
      "list_student_proportion after converting to float [0.2, 0.3, 0.1, 0.4]\n",
      "ticket_price [12, 10, 7, 5]\n",
      "number of student by year [20.0, 30.0, 10.0, 40.0]\n",
      "total amount: [240.0, 300.0, 70.0, 200.0]\n",
      "trip contribution: 405.0\n",
      "YES\n",
      "trip cost: 1000\n",
      "input student proportion: 0.1 0.2 0.3 0.4\n",
      "total no of student: 200\n",
      "convert student proportion to list: ['0.1', '0.2', '0.3', '0.4']\n",
      "list_student_proportion after converting to float [0.1, 0.2, 0.3, 0.4]\n",
      "ticket_price [12, 10, 7, 5]\n",
      "number of student by year [20.0, 40.0, 60.0, 80.0]\n",
      "total amount: [240.0, 400.0, 420.0, 400.0]\n",
      "trip contribution: 730.0\n",
      "YES\n"
     ]
    }
   ],
   "source": [
    "ticket_price = [12, 10, 7, 5]\n",
    "print(f'ticket_price {ticket_price}')\n",
    "\n",
    "for dataset in range(2):\n",
    "    trip_cost = int(input())\n",
    "    student_proportion = input()\n",
    "    total_student = int(input())\n",
    "    list_student_proportion = student_proportion.split(' ')\n",
    "\n",
    "    print(f'trip cost: {trip_cost}')\n",
    "    print(f'input student proportion: {student_proportion}')\n",
    "    print(f'total no of student: {total_student}')\n",
    "    print(f'convert student proportion to list: {list_student_proportion}')\n",
    "\n",
    "    list_student_proportion = [float(proportion) for proportion in list_student_proportion]\n",
    "    print(f'list_student_proportion after converting to float {list_student_proportion}')\n",
    "\n",
    "    ticket_price = [12, 10, 7, 5]\n",
    "    print(f'ticket_price {ticket_price}')\n",
    "\n",
    "    student_by_year = [i * total_student for i in list_student_proportion]\n",
    "    print(f'number of student by year {student_by_year}')\n",
    "\n",
    "    total_amount = [price * student for price, student in zip(student_by_year, ticket_price)]\n",
    "    trip_contribution = sum(total_amount) * 0.5\n",
    "    print(f'total amount: {total_amount}')\n",
    "    print(f'trip contribution: {trip_contribution}')\n",
    "\n",
    "    if trip_contribution < trip_cost: \n",
    "        print(\"YES\")\n",
    "    else: \n",
    "        print(\"NO\")\n",
    "\n"
   ]
  },
  {
   "cell_type": "code",
   "execution_count": null,
   "id": "7e8a8742",
   "metadata": {},
   "outputs": [],
   "source": [
    "ticket_price = [12, 10, 7, 5]\n",
    "for dataset in range(2):\n",
    "    trip_cost = int(input())\n",
    "    student_proportion = input()\n",
    "    total_student = int(input())\n",
    "    list_student_proportion = student_proportion.split(' ')\n",
    "    list_student_proportion = [float(proportion) for proportion in list_student_proportion]\n",
    "    student_by_year = [i * total_student for i in list_student_proportion]\n",
    "    total_amount = [price * student for price, student in zip(student_by_year, ticket_price)]\n",
    "    trip_contribution = sum(total_amount) * 0.5\n",
    "    if trip_contribution < trip_cost: \n",
    "        print(\"YES\")\n",
    "    else: \n",
    "        print(\"NO\")\n",
    "\n"
   ]
  },
  {
   "cell_type": "code",
   "execution_count": 37,
   "id": "5af225f3",
   "metadata": {},
   "outputs": [
    {
     "name": "stdout",
     "output_type": "stream",
     "text": [
      "proportions begin ['0.7', '0.1', '0.1', '0.1']\n",
      "student per year before[6]\n",
      "student per year before[6, 0]\n",
      "student per year before[6, 0, 0]\n",
      "student per year before[6, 0, 0, 0]\n",
      "student per year after[9, 0, 0, 0]\n",
      "NO\n"
     ]
    }
   ],
   "source": [
    "YEAR_COSTS = [12, 10, 7, 5]\n",
    "\n",
    "\n",
    "for dataset in range(1):\n",
    "    trip_cost = int(input())\n",
    "    proportions = input().split()\n",
    "    print(f'proportions begin {proportions}')\n",
    "    num_students = int(input())\n",
    "\n",
    "    for i in range(len(proportions)):\n",
    "        proportions[i] = float(proportions[i])\n",
    "\n",
    "    students_per_year = []\n",
    "\n",
    "    for proportion in proportions:\n",
    "        students = int(num_students * proportion)\n",
    "        students_per_year.append(students)\n",
    "        print(f'student per year before{students_per_year}')\n",
    "\n",
    "    counted = sum(students_per_year)\n",
    "    uncounted = num_students - counted\n",
    "    most = max(students_per_year)\n",
    "    where = students_per_year.index(most)\n",
    "    students_per_year[where] = students_per_year[where] + uncounted\n",
    "    print(f'student per year after{students_per_year}')\n",
    "\n",
    "    total_raised = 0\n",
    "\n",
    "    for i in range(len(students_per_year)):\n",
    "        total_raised = total_raised + students_per_year[i] * YEAR_COSTS[i]\n",
    "\n",
    "    if total_raised / 2 < trip_cost:\n",
    "        print('YES')\n",
    "    else:\n",
    "        print('NO')"
   ]
  },
  {
   "cell_type": "code",
   "execution_count": 8,
   "id": "96e87a6e",
   "metadata": {},
   "outputs": [
    {
     "name": "stdout",
     "output_type": "stream",
     "text": [
      "[10, 20, 40, 50]\n"
     ]
    }
   ],
   "source": [
    "a = [1, 2, 4, 5]\n",
    "\n",
    "b = 10 \n",
    "\n",
    "c = [i * b for i in a]\n",
    "print(c)"
   ]
  },
  {
   "cell_type": "code",
   "execution_count": null,
   "id": "f1db0c35",
   "metadata": {},
   "outputs": [],
   "source": [
    "print(b)"
   ]
  },
  {
   "cell_type": "code",
   "execution_count": null,
   "id": "aefba4d8",
   "metadata": {},
   "outputs": [
    {
     "name": "stdout",
     "output_type": "stream",
     "text": [
      "[[10, 20], [10, 20, 10, 20], [10, 20, 10, 20, 10, 20, 10, 20], [10, 20, 10, 20, 10, 20, 10, 20, 10, 20]]\n"
     ]
    }
   ],
   "source": [
    "\n",
    "c = [1, 2, 4, 5]\n",
    "\n",
    "d = [10, 20] \n",
    "\n",
    "e= [ * d for i in a]\n",
    "\n",
    "print(e)"
   ]
  },
  {
   "cell_type": "code",
   "execution_count": null,
   "id": "a55dfc5e",
   "metadata": {},
   "outputs": [
    {
     "ename": "TypeError",
     "evalue": "'<' not supported between instances of 'int' and 'range'",
     "output_type": "error",
     "traceback": [
      "\u001b[1;31m---------------------------------------------------------------------------\u001b[0m",
      "\u001b[1;31mTypeError\u001b[0m                                 Traceback (most recent call last)",
      "Cell \u001b[1;32mIn[13], line 4\u001b[0m\n\u001b[0;32m      1\u001b[0m a \u001b[38;5;241m=\u001b[39m [\u001b[38;5;241m1\u001b[39m, \u001b[38;5;241m2\u001b[39m, \u001b[38;5;241m4\u001b[39m, \u001b[38;5;241m5\u001b[39m]\n\u001b[0;32m      2\u001b[0m b \u001b[38;5;241m=\u001b[39m [\u001b[38;5;241m2\u001b[39m, \u001b[38;5;241m3\u001b[39m, \u001b[38;5;241m4\u001b[39m, \u001b[38;5;241m5\u001b[39m]\n\u001b[1;32m----> 4\u001b[0m \u001b[38;5;28;01mwhile\u001b[39;00m \u001b[38;5;28;43mlen\u001b[39;49m\u001b[43m(\u001b[49m\u001b[43ma\u001b[49m\u001b[43m)\u001b[49m\u001b[43m \u001b[49m\u001b[38;5;241;43m<\u001b[39;49m\u001b[43m \u001b[49m\u001b[38;5;28;43mrange\u001b[39;49m\u001b[43m(\u001b[49m\u001b[38;5;28;43mlen\u001b[39;49m\u001b[43m(\u001b[49m\u001b[43ma\u001b[49m\u001b[43m)\u001b[49m\u001b[43m)\u001b[49m:\n\u001b[0;32m      5\u001b[0m     \u001b[38;5;28mprint\u001b[39m(i)\n",
      "\u001b[1;31mTypeError\u001b[0m: '<' not supported between instances of 'int' and 'range'"
     ]
    }
   ],
   "source": [
    "a = [1, 2, 4, 5]\n",
    "b = [2, 3, 4, 5]\n"
   ]
  },
  {
   "cell_type": "code",
   "execution_count": null,
   "id": "6e5dc289",
   "metadata": {},
   "outputs": [],
   "source": [
    "### final submission: \n",
    "ticket_price = [12, 10, 7, 5]\n",
    "\n",
    "\n",
    "for dataset in range(10):\n",
    "    trip_cost = int(input())\n",
    "    student_proportion = input().split()\n",
    "    total_student = int(input())\n",
    "    student_proportion = [float(proportion) for proportion in student_proportion]\n",
    "\n",
    "\n",
    "    student_by_year = [i * total_student for i in student_proportion]\n",
    "    student_by_year = [int(i) for i in student_by_year]\n",
    "    total_student_fr_proportion = sum(student_by_year)\n",
    "\n",
    "    uncount_student = total_student - total_student_fr_proportion  \n",
    "    most_grade = max(student_by_year)\n",
    "    where = student_by_year.index(most_grade)\n",
    "    student_by_year[where] = student_by_year[where] + uncount_student \n",
    "\n",
    "    total_amount = 0 \n",
    "\n",
    "    for i in range(len(student_by_year)): \n",
    "        total_amount = total_amount + student_by_year[i] * ticket_price[i] \n",
    "\n",
    "    trip_contribution = total_amount * 0.5\n",
    "\n",
    "    if trip_contribution < trip_cost: \n",
    "        print(\"YES\")\n",
    "    else: \n",
    "        print(\"NO\")\n",
    "\n"
   ]
  },
  {
   "cell_type": "code",
   "execution_count": null,
   "id": "1a8ae1d3",
   "metadata": {},
   "outputs": [],
   "source": []
  },
  {
   "cell_type": "code",
   "execution_count": null,
   "id": "16ab7c6d",
   "metadata": {},
   "outputs": [],
   "source": []
  }
 ],
 "metadata": {
  "kernelspec": {
   "display_name": "Python 3",
   "language": "python",
   "name": "python3"
  },
  "language_info": {
   "codemirror_mode": {
    "name": "ipython",
    "version": 3
   },
   "file_extension": ".py",
   "mimetype": "text/x-python",
   "name": "python",
   "nbconvert_exporter": "python",
   "pygments_lexer": "ipython3",
   "version": "3.11.9"
  }
 },
 "nbformat": 4,
 "nbformat_minor": 5
}
