{
 "cells": [
  {
   "cell_type": "markdown",
   "id": "b31a41d3",
   "metadata": {},
   "source": [
    "DMOJ problem ccc18s1"
   ]
  },
  {
   "cell_type": "code",
   "execution_count": null,
   "id": "9d43284a",
   "metadata": {
    "vscode": {
     "languageId": "plaintext"
    }
   },
   "outputs": [],
   "source": []
  }
 ],
 "metadata": {
  "language_info": {
   "name": "python"
  }
 },
 "nbformat": 4,
 "nbformat_minor": 5
}
