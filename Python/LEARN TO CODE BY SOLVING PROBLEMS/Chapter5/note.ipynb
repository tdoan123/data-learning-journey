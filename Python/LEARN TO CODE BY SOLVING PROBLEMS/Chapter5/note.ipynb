{
 "cells": [
  {
   "cell_type": "markdown",
   "id": "b31a41d3",
   "metadata": {},
   "source": [
    "DMOJ problem ccc18s1"
   ]
  },
  {
   "cell_type": "code",
   "execution_count": 2,
   "id": "9d43284a",
   "metadata": {},
   "outputs": [
    {
     "name": "stdout",
     "output_type": "stream",
     "text": [
      "this is 1\n",
      "this is 2\n",
      "this is 3\n",
      "this is 4\n",
      "10\n"
     ]
    }
   ],
   "source": [
    "lst = [2, 3, 4, 6]\n",
    "total = 0  \n",
    "i = 1 \n",
    "\n",
    "while i <= len(lst):\n",
    "    print(f'this is {i}')\n",
    "    total = total + i \n",
    "    i = i + 1\n",
    "\n",
    "print(total)"
   ]
  },
  {
   "cell_type": "code",
   "execution_count": 3,
   "id": "b7993d0a",
   "metadata": {},
   "outputs": [
    {
     "data": {
      "text/plain": [
       "['__add__',\n",
       " '__class__',\n",
       " '__contains__',\n",
       " '__delattr__',\n",
       " '__dir__',\n",
       " '__doc__',\n",
       " '__eq__',\n",
       " '__format__',\n",
       " '__ge__',\n",
       " '__getattribute__',\n",
       " '__getitem__',\n",
       " '__getnewargs__',\n",
       " '__getstate__',\n",
       " '__gt__',\n",
       " '__hash__',\n",
       " '__init__',\n",
       " '__init_subclass__',\n",
       " '__iter__',\n",
       " '__le__',\n",
       " '__len__',\n",
       " '__lt__',\n",
       " '__mod__',\n",
       " '__mul__',\n",
       " '__ne__',\n",
       " '__new__',\n",
       " '__reduce__',\n",
       " '__reduce_ex__',\n",
       " '__repr__',\n",
       " '__rmod__',\n",
       " '__rmul__',\n",
       " '__setattr__',\n",
       " '__sizeof__',\n",
       " '__str__',\n",
       " '__subclasshook__',\n",
       " 'capitalize',\n",
       " 'casefold',\n",
       " 'center',\n",
       " 'count',\n",
       " 'encode',\n",
       " 'endswith',\n",
       " 'expandtabs',\n",
       " 'find',\n",
       " 'format',\n",
       " 'format_map',\n",
       " 'index',\n",
       " 'isalnum',\n",
       " 'isalpha',\n",
       " 'isascii',\n",
       " 'isdecimal',\n",
       " 'isdigit',\n",
       " 'isidentifier',\n",
       " 'islower',\n",
       " 'isnumeric',\n",
       " 'isprintable',\n",
       " 'isspace',\n",
       " 'istitle',\n",
       " 'isupper',\n",
       " 'join',\n",
       " 'ljust',\n",
       " 'lower',\n",
       " 'lstrip',\n",
       " 'maketrans',\n",
       " 'partition',\n",
       " 'removeprefix',\n",
       " 'removesuffix',\n",
       " 'replace',\n",
       " 'rfind',\n",
       " 'rindex',\n",
       " 'rjust',\n",
       " 'rpartition',\n",
       " 'rsplit',\n",
       " 'rstrip',\n",
       " 'split',\n",
       " 'splitlines',\n",
       " 'startswith',\n",
       " 'strip',\n",
       " 'swapcase',\n",
       " 'title',\n",
       " 'translate',\n",
       " 'upper',\n",
       " 'zfill']"
      ]
     },
     "execution_count": 3,
     "metadata": {},
     "output_type": "execute_result"
    }
   ],
   "source": [
    "dir('')"
   ]
  },
  {
   "cell_type": "code",
   "execution_count": 4,
   "id": "032a0e14",
   "metadata": {},
   "outputs": [],
   "source": [
    "string = '124324asvadb'"
   ]
  },
  {
   "cell_type": "code",
   "execution_count": 5,
   "id": "e8270d65",
   "metadata": {},
   "outputs": [
    {
     "data": {
      "text/plain": [
       "True"
      ]
     },
     "execution_count": 5,
     "metadata": {},
     "output_type": "execute_result"
    }
   ],
   "source": [
    "string.isalnum()"
   ]
  },
  {
   "cell_type": "code",
   "execution_count": 6,
   "id": "b2bed745",
   "metadata": {},
   "outputs": [
    {
     "ename": "TypeError",
     "evalue": "center expected at least 1 argument, got 0",
     "output_type": "error",
     "traceback": [
      "\u001b[1;31m---------------------------------------------------------------------------\u001b[0m",
      "\u001b[1;31mTypeError\u001b[0m                                 Traceback (most recent call last)",
      "Cell \u001b[1;32mIn[6], line 1\u001b[0m\n\u001b[1;32m----> 1\u001b[0m \u001b[43mstring\u001b[49m\u001b[38;5;241;43m.\u001b[39;49m\u001b[43mcenter\u001b[49m\u001b[43m(\u001b[49m\u001b[43m)\u001b[49m\n",
      "\u001b[1;31mTypeError\u001b[0m: center expected at least 1 argument, got 0"
     ]
    }
   ],
   "source": [
    "string.center()"
   ]
  },
  {
   "cell_type": "code",
   "execution_count": 7,
   "id": "d71886b5",
   "metadata": {},
   "outputs": [
    {
     "name": "stdout",
     "output_type": "stream",
     "text": [
      "Help on built-in function count:\n",
      "\n",
      "count(...) method of builtins.str instance\n",
      "    S.count(sub[, start[, end]]) -> int\n",
      "    \n",
      "    Return the number of non-overlapping occurrences of substring sub in\n",
      "    string S[start:end].  Optional arguments start and end are\n",
      "    interpreted as in slice notation.\n",
      "\n"
     ]
    }
   ],
   "source": [
    "help(''.count)"
   ]
  },
  {
   "cell_type": "code",
   "execution_count": 8,
   "id": "49b42f68",
   "metadata": {},
   "outputs": [
    {
     "ename": "TypeError",
     "evalue": "count() takes at least 1 argument (0 given)",
     "output_type": "error",
     "traceback": [
      "\u001b[1;31m---------------------------------------------------------------------------\u001b[0m",
      "\u001b[1;31mTypeError\u001b[0m                                 Traceback (most recent call last)",
      "Cell \u001b[1;32mIn[8], line 1\u001b[0m\n\u001b[1;32m----> 1\u001b[0m \u001b[43mstring\u001b[49m\u001b[38;5;241;43m.\u001b[39;49m\u001b[43mcount\u001b[49m\u001b[43m(\u001b[49m\u001b[43m)\u001b[49m\n",
      "\u001b[1;31mTypeError\u001b[0m: count() takes at least 1 argument (0 given)"
     ]
    }
   ],
   "source": [
    "string.count()"
   ]
  },
  {
   "cell_type": "code",
   "execution_count": 9,
   "id": "657e90db",
   "metadata": {},
   "outputs": [
    {
     "data": {
      "text/plain": [
       "2"
      ]
     },
     "execution_count": 9,
     "metadata": {},
     "output_type": "execute_result"
    }
   ],
   "source": [
    "string.count('2')"
   ]
  },
  {
   "cell_type": "code",
   "execution_count": 10,
   "id": "fe703ea9",
   "metadata": {},
   "outputs": [
    {
     "ename": "TypeError",
     "evalue": "must be str, not int",
     "output_type": "error",
     "traceback": [
      "\u001b[1;31m---------------------------------------------------------------------------\u001b[0m",
      "\u001b[1;31mTypeError\u001b[0m                                 Traceback (most recent call last)",
      "Cell \u001b[1;32mIn[10], line 1\u001b[0m\n\u001b[1;32m----> 1\u001b[0m \u001b[43mstring\u001b[49m\u001b[38;5;241;43m.\u001b[39;49m\u001b[43mcount\u001b[49m\u001b[43m(\u001b[49m\u001b[38;5;241;43m2\u001b[39;49m\u001b[43m)\u001b[49m\n",
      "\u001b[1;31mTypeError\u001b[0m: must be str, not int"
     ]
    }
   ],
   "source": [
    "string.count(2)"
   ]
  },
  {
   "cell_type": "code",
   "execution_count": 11,
   "id": "4edc20cc",
   "metadata": {},
   "outputs": [
    {
     "data": {
      "text/plain": [
       "2"
      ]
     },
     "execution_count": 11,
     "metadata": {},
     "output_type": "execute_result"
    }
   ],
   "source": [
    "string.count('a')"
   ]
  },
  {
   "cell_type": "code",
   "execution_count": 12,
   "id": "d1f80cda",
   "metadata": {},
   "outputs": [
    {
     "data": {
      "text/plain": [
       "'124324asvadb'"
      ]
     },
     "execution_count": 12,
     "metadata": {},
     "output_type": "execute_result"
    }
   ],
   "source": [
    "string"
   ]
  },
  {
   "cell_type": "code",
   "execution_count": 13,
   "id": "0735fa24",
   "metadata": {},
   "outputs": [
    {
     "data": {
      "text/plain": [
       "1"
      ]
     },
     "execution_count": 13,
     "metadata": {},
     "output_type": "execute_result"
    }
   ],
   "source": [
    "string.count('b')"
   ]
  },
  {
   "cell_type": "code",
   "execution_count": 14,
   "id": "3595c8eb",
   "metadata": {},
   "outputs": [
    {
     "data": {
      "text/plain": [
       "['__add__',\n",
       " '__class__',\n",
       " '__class_getitem__',\n",
       " '__contains__',\n",
       " '__delattr__',\n",
       " '__delitem__',\n",
       " '__dir__',\n",
       " '__doc__',\n",
       " '__eq__',\n",
       " '__format__',\n",
       " '__ge__',\n",
       " '__getattribute__',\n",
       " '__getitem__',\n",
       " '__getstate__',\n",
       " '__gt__',\n",
       " '__hash__',\n",
       " '__iadd__',\n",
       " '__imul__',\n",
       " '__init__',\n",
       " '__init_subclass__',\n",
       " '__iter__',\n",
       " '__le__',\n",
       " '__len__',\n",
       " '__lt__',\n",
       " '__mul__',\n",
       " '__ne__',\n",
       " '__new__',\n",
       " '__reduce__',\n",
       " '__reduce_ex__',\n",
       " '__repr__',\n",
       " '__reversed__',\n",
       " '__rmul__',\n",
       " '__setattr__',\n",
       " '__setitem__',\n",
       " '__sizeof__',\n",
       " '__str__',\n",
       " '__subclasshook__',\n",
       " 'append',\n",
       " 'clear',\n",
       " 'copy',\n",
       " 'count',\n",
       " 'extend',\n",
       " 'index',\n",
       " 'insert',\n",
       " 'pop',\n",
       " 'remove',\n",
       " 'reverse',\n",
       " 'sort']"
      ]
     },
     "execution_count": 14,
     "metadata": {},
     "output_type": "execute_result"
    }
   ],
   "source": [
    "dir([])"
   ]
  },
  {
   "cell_type": "code",
   "execution_count": 15,
   "id": "fc8da304",
   "metadata": {},
   "outputs": [
    {
     "name": "stdout",
     "output_type": "stream",
     "text": [
      "Help on built-in function remove:\n",
      "\n",
      "remove(value, /) method of builtins.list instance\n",
      "    Remove first occurrence of value.\n",
      "    \n",
      "    Raises ValueError if the value is not present.\n",
      "\n"
     ]
    }
   ],
   "source": [
    "help([].remove)"
   ]
  },
  {
   "cell_type": "code",
   "execution_count": 16,
   "id": "59c8e3a7",
   "metadata": {},
   "outputs": [
    {
     "data": {
      "text/plain": [
       "'xxcavexx'"
      ]
     },
     "execution_count": 16,
     "metadata": {},
     "output_type": "execute_result"
    }
   ],
   "source": [
    "'cave'.center(8,'x')"
   ]
  },
  {
   "cell_type": "code",
   "execution_count": 17,
   "id": "4fcffc08",
   "metadata": {},
   "outputs": [
    {
     "data": {
      "text/plain": [
       "'xcavex'"
      ]
     },
     "execution_count": 17,
     "metadata": {},
     "output_type": "execute_result"
    }
   ],
   "source": [
    "'cave'.center(6,'x')"
   ]
  },
  {
   "cell_type": "code",
   "execution_count": 19,
   "id": "5b0f1651",
   "metadata": {},
   "outputs": [
    {
     "data": {
      "text/plain": [
       "'cave'"
      ]
     },
     "execution_count": 19,
     "metadata": {},
     "output_type": "execute_result"
    }
   ],
   "source": [
    "'cave'.center(3,'x')"
   ]
  },
  {
   "cell_type": "code",
   "execution_count": 20,
   "id": "c3249d00",
   "metadata": {},
   "outputs": [],
   "source": [
    "positions = []\n",
    "positions.append(29) "
   ]
  },
  {
   "cell_type": "code",
   "execution_count": 21,
   "id": "2f838fe1",
   "metadata": {},
   "outputs": [
    {
     "data": {
      "text/plain": [
       "[29]"
      ]
     },
     "execution_count": 21,
     "metadata": {},
     "output_type": "execute_result"
    }
   ],
   "source": [
    "positions"
   ]
  },
  {
   "cell_type": "code",
   "execution_count": 22,
   "id": "daaf7a7d",
   "metadata": {},
   "outputs": [],
   "source": [
    "positions.append(50)"
   ]
  },
  {
   "cell_type": "code",
   "execution_count": 23,
   "id": "c08c9ed6",
   "metadata": {},
   "outputs": [
    {
     "data": {
      "text/plain": [
       "[29, 50]"
      ]
     },
     "execution_count": 23,
     "metadata": {},
     "output_type": "execute_result"
    }
   ],
   "source": [
    "positions"
   ]
  },
  {
   "cell_type": "code",
   "execution_count": 26,
   "id": "2290a99f",
   "metadata": {},
   "outputs": [
    {
     "name": "stdout",
     "output_type": "stream",
     "text": [
      "2.5\n"
     ]
    }
   ],
   "source": [
    "n = int(input())\n",
    "\n",
    "positions = []\n",
    "\n",
    "for i in range(n): \n",
    "    positions.append(int(input()))\n",
    "\n",
    "positions.sort()\n",
    "\n",
    "left = (positions[1] - positions[0]) /2 \n",
    "right = (positions[2] - positions[1]) /2  \n",
    "min_size = left  + right  \n",
    "\n",
    "for i in range(2, n-1):\n",
    "    left = (positions[i] - positions[i-1]) /2 \n",
    "    right = (positions[i+1] - positions[i]) /2  \n",
    "    size = left + right \n",
    "    if size < min_size:\n",
    "        min_size = size \n",
    "\n",
    "print(min_size)"
   ]
  },
  {
   "cell_type": "code",
   "execution_count": 27,
   "id": "be3cd0c7",
   "metadata": {},
   "outputs": [
    {
     "name": "stdout",
     "output_type": "stream",
     "text": [
      "2.5\n"
     ]
    }
   ],
   "source": [
    "n = int(input())\n",
    "\n",
    "positions = []\n",
    "\n",
    "for i in range(n):\n",
    "    positions.append(int(input()))\n",
    "\n",
    "positions.sort()\n",
    "\n",
    "sizes = []\n",
    "\n",
    "for i in range(1, n - 1):\n",
    "    left = (positions[i] - positions[i - 1]) / 2\n",
    "    right = (positions[i + 1] - positions[i]) / 2\n",
    "    size = left + right\n",
    "    sizes.append(size)\n",
    "\n",
    "min_size = min(sizes)\n",
    "print(min_size)\n",
    "\n"
   ]
  },
  {
   "cell_type": "code",
   "execution_count": null,
   "id": "244f5564",
   "metadata": {},
   "outputs": [
    {
     "name": "stdout",
     "output_type": "stream",
     "text": [
      "[20, 30, 40, 50, 60, 70]\n",
      "[20, 40, 50, 60, 70]\n",
      "[20, 40, 60, 70]\n"
     ]
    }
   ],
   "source": [
    "case = [10, 20, 30, 40, 50, 60, 70]\n",
    "drop_value = [1, 3, 5]\n",
    "remove_value = []\n",
    "for i in drop_value:\n",
    "    # print(i)\n",
    "    # print(case[i-1])\n",
    "    remove_value.append(case[i-1])\n",
    "    # print(remove_value)\n",
    "    # print(f'before remove{case}')\n",
    "    # case.remove(case[i-1])\n",
    "    # print(f'after remove{case}')\n",
    "for i in remove_value: \n",
    "    case.remove(i)\n",
    "    print(case)\n",
    "\n",
    "avg = case.sum() \n"
   ]
  },
  {
   "cell_type": "code",
   "execution_count": 74,
   "id": "42a0d2bc",
   "metadata": {},
   "outputs": [
    {
     "name": "stdout",
     "output_type": "stream",
     "text": [
      "6\n",
      "3\n",
      "2.0\n"
     ]
    }
   ],
   "source": [
    "test = [1, 2, 3]\n",
    "len_test = len(test)\n",
    "total = sum(test)\n",
    "avg = total / len_test\n",
    "print(total)\n",
    "print(len_test)\n",
    "print(avg)"
   ]
  },
  {
   "cell_type": "code",
   "execution_count": 50,
   "id": "8d3cead0",
   "metadata": {},
   "outputs": [
    {
     "name": "stdout",
     "output_type": "stream",
     "text": [
      "[20, 30, 10, 20]\n"
     ]
    }
   ],
   "source": [
    "case1 = [20, 30]\n",
    "case2 = [10, 20]\n",
    "case3 = case1 + case2\n",
    "print(case3) "
   ]
  },
  {
   "cell_type": "code",
   "execution_count": null,
   "id": "39d82955",
   "metadata": {},
   "outputs": [
    {
     "name": "stdout",
     "output_type": "stream",
     "text": [
      "[100, 1000, 10000]\n",
      "[500, 5000, 25000, 50000, 100000, 500000, 1000000]\n",
      "240071.42857142858\n"
     ]
    }
   ],
   "source": [
    "case = [100, 500, 1000, 5000, 10000, 25000, 50000, 100000, 500000, 1000000]\n",
    "drop_value = [1, 3, 5]\n",
    "remove_value = []\n",
    "for i in drop_value:\n",
    "    remove_value.append(case[i-1])\n",
    "for i in remove_value: \n",
    "    case.remove(i)\n",
    "    # print(case)\n",
    "\n",
    "total = sum(case)\n",
    "len_case  = len(case)\n",
    "avg = total/len_case\n",
    "\n",
    "print(remove_value)\n",
    "print \n",
    "print(avg)\n"
   ]
  },
  {
   "cell_type": "code",
   "execution_count": 81,
   "id": "86d67dd6",
   "metadata": {},
   "outputs": [
    {
     "name": "stdout",
     "output_type": "stream",
     "text": [
      "5\n",
      "[1, 2, 3, 4, 5]\n",
      "200000\n"
     ]
    }
   ],
   "source": [
    "n = int(input())\n",
    "case_open = []\n",
    "for i in range(n): \n",
    "    case_open.append(int(input()))\n",
    "bank_offer = int(input())\n",
    "\n",
    "print(n)\n",
    "print(case_open)\n",
    "print(bank_offer)\n",
    "    "
   ]
  },
  {
   "cell_type": "code",
   "execution_count": 83,
   "id": "711ab2e9",
   "metadata": {},
   "outputs": [
    {
     "name": "stdout",
     "output_type": "stream",
     "text": [
      "deal\n"
     ]
    }
   ],
   "source": [
    "n = int(input())\n",
    "case_open = []\n",
    "for i in range(n): \n",
    "    case_open.append(int(input()))\n",
    "bank_offer = int(input())\n",
    "case = [100, 500, 1000, 5000, 10000, 25000, 50000, 100000, 500000, 1000000]\n",
    "remove_value = []\n",
    "\n",
    "for i in case_open:\n",
    "    remove_value.append(case[i-1])\n",
    "for i in remove_value: \n",
    "    case.remove(i)\n",
    "    # print(case)\n",
    "\n",
    "total = sum(case)\n",
    "len_case  = len(case)\n",
    "avg = total/len_case\n",
    "\n",
    "if avg > bank_offer:\n",
    "    print('no deal')\n",
    "else: \n",
    "    print('deal')\n"
   ]
  },
  {
   "cell_type": "markdown",
   "id": "f36da267",
   "metadata": {},
   "source": [
    "DMOJ ecoo17r1p1"
   ]
  },
  {
   "cell_type": "markdown",
   "id": "5f9a8231",
   "metadata": {},
   "source": []
  },
  {
   "cell_type": "markdown",
   "id": "995ce7ae",
   "metadata": {},
   "source": [
    "DMOJ ecoo17t3p1"
   ]
  },
  {
   "cell_type": "code",
   "execution_count": 1,
   "id": "13ee4886",
   "metadata": {},
   "outputs": [],
   "source": [
    "grid = [[1, 13, 2, 1, 1, 8],\n",
    "        [2, 12, 10, 5, 11, 4],\n",
    "        [39, 6, 13, 52, 3, 3],\n",
    "        [15, 8, 6, 2, 7, 14]]\n"
   ]
  },
  {
   "cell_type": "code",
   "execution_count": 2,
   "id": "2161047e",
   "metadata": {},
   "outputs": [
    {
     "data": {
      "text/plain": [
       "[[1, 13, 2, 1, 1, 8],\n",
       " [2, 12, 10, 5, 11, 4],\n",
       " [39, 6, 13, 52, 3, 3],\n",
       " [15, 8, 6, 2, 7, 14]]"
      ]
     },
     "execution_count": 2,
     "metadata": {},
     "output_type": "execute_result"
    }
   ],
   "source": [
    "grid"
   ]
  },
  {
   "cell_type": "code",
   "execution_count": 3,
   "id": "a9298c0b",
   "metadata": {},
   "outputs": [
    {
     "data": {
      "text/plain": [
       "[1, 13, 2, 1, 1, 8]"
      ]
     },
     "execution_count": 3,
     "metadata": {},
     "output_type": "execute_result"
    }
   ],
   "source": [
    "grid[0]"
   ]
  },
  {
   "cell_type": "code",
   "execution_count": 4,
   "id": "eb1c8b33",
   "metadata": {},
   "outputs": [
    {
     "data": {
      "text/plain": [
       "13"
      ]
     },
     "execution_count": 4,
     "metadata": {},
     "output_type": "execute_result"
    }
   ],
   "source": [
    "grid[0][1]"
   ]
  },
  {
   "cell_type": "code",
   "execution_count": 5,
   "id": "11df3997",
   "metadata": {},
   "outputs": [
    {
     "data": {
      "text/plain": [
       "[39, 6, 13, 52, 3, 3]"
      ]
     },
     "execution_count": 5,
     "metadata": {},
     "output_type": "execute_result"
    }
   ],
   "source": [
    "grid[2]"
   ]
  },
  {
   "cell_type": "code",
   "execution_count": null,
   "id": "bac720ab",
   "metadata": {},
   "outputs": [
    {
     "data": {
      "text/plain": [
       "10"
      ]
     },
     "execution_count": 6,
     "metadata": {},
     "output_type": "execute_result"
    }
   ],
   "source": [
    "grid[1][2]"
   ]
  },
  {
   "cell_type": "code",
   "execution_count": null,
   "id": "b2e57319",
   "metadata": {},
   "outputs": [
    {
     "name": "stdout",
     "output_type": "stream",
     "text": [
      "[13, 12, 6, 8]\n"
     ]
    }
   ],
   "source": [
    "## this is to pick out the value of column [1] from list of list \n",
    "\n",
    "column = []\n",
    "for i in range(len(grid)):\n",
    "    column.append(grid[i][1])\n",
    "\n",
    "print(column)"
   ]
  },
  {
   "cell_type": "code",
   "execution_count": 8,
   "id": "0121320b",
   "metadata": {},
   "outputs": [
    {
     "data": {
      "text/plain": [
       "26"
      ]
     },
     "execution_count": 8,
     "metadata": {},
     "output_type": "execute_result"
    }
   ],
   "source": [
    "sum(grid[0])"
   ]
  },
  {
   "cell_type": "code",
   "execution_count": 9,
   "id": "643590c0",
   "metadata": {},
   "outputs": [
    {
     "name": "stdout",
     "output_type": "stream",
     "text": [
      "0\n",
      "1\n",
      "3\n",
      "6\n"
     ]
    }
   ],
   "source": [
    "total = 0 \n",
    "for i in range(len(grid)):\n",
    "    total += i \n",
    "    print(total)"
   ]
  },
  {
   "cell_type": "code",
   "execution_count": 10,
   "id": "06a493fb",
   "metadata": {},
   "outputs": [
    {
     "name": "stdout",
     "output_type": "stream",
     "text": [
      "1\n",
      "14\n",
      "16\n",
      "17\n",
      "18\n",
      "26\n"
     ]
    }
   ],
   "source": [
    "total = 0 \n",
    "for i in grid[0]:\n",
    "    total += i \n",
    "    print(total)"
   ]
  },
  {
   "cell_type": "code",
   "execution_count": 12,
   "id": "d5189708",
   "metadata": {},
   "outputs": [
    {
     "name": "stdout",
     "output_type": "stream",
     "text": [
      "accumulated column 13\n",
      "accumulated column 25\n",
      "accumulated column 31\n",
      "accumulated column 39\n"
     ]
    }
   ],
   "source": [
    "column_total = 0 \n",
    "for i in range(len(grid)):\n",
    "    column_total += grid[i][1]\n",
    "    print(f'accumulated column {column_total}')"
   ]
  },
  {
   "cell_type": "code",
   "execution_count": null,
   "id": "d5457f19",
   "metadata": {},
   "outputs": [
    {
     "name": "stdout",
     "output_type": "stream",
     "text": [
      "0\n",
      "1\n"
     ]
    }
   ],
   "source": [
    "lst = [[1, 1 ], [2, 3, 4]]\n",
    "\n",
    "for i in range(len (lst)):\n",
    "    print(i)"
   ]
  },
  {
   "cell_type": "code",
   "execution_count": 22,
   "id": "4c842adf",
   "metadata": {},
   "outputs": [
    {
     "name": "stdout",
     "output_type": "stream",
     "text": [
      "i= 0\n",
      "j= 0\n",
      "each loop 1\n",
      "i= 0\n",
      "j= 1\n",
      "each loop 2\n",
      "i= 1\n",
      "j= 0\n",
      "each loop 4\n",
      "i= 1\n",
      "j= 1\n",
      "each loop 7\n",
      "final 7\n"
     ]
    }
   ],
   "source": [
    "lst = [[1, 1 ], [2, 3, 4]]\n",
    "x = 0\n",
    "for i in range(len (lst)):\n",
    "    for j in range(len(lst[0])):\n",
    "        print(f'i= {i}')\n",
    "        print(f'j= {j}')\n",
    "        x = x + lst[i][j]\n",
    "        print(f'each loop {x}')\n",
    "\n",
    "print(f'final {x}')"
   ]
  },
  {
   "cell_type": "code",
   "execution_count": 23,
   "id": "2f4928f6",
   "metadata": {},
   "outputs": [],
   "source": [
    "lst = [[5,10],[15,20]]\n",
    "x = lst[0]\n"
   ]
  },
  {
   "cell_type": "code",
   "execution_count": 24,
   "id": "f5bfed20",
   "metadata": {},
   "outputs": [
    {
     "data": {
      "text/plain": [
       "[5, 10]"
      ]
     },
     "execution_count": 24,
     "metadata": {},
     "output_type": "execute_result"
    }
   ],
   "source": [
    "x"
   ]
  },
  {
   "cell_type": "code",
   "execution_count": 25,
   "id": "088e9182",
   "metadata": {},
   "outputs": [
    {
     "data": {
      "text/plain": [
       "[99, 10]"
      ]
     },
     "execution_count": 25,
     "metadata": {},
     "output_type": "execute_result"
    }
   ],
   "source": [
    "x[0] = 99\n",
    "x"
   ]
  },
  {
   "cell_type": "code",
   "execution_count": 26,
   "id": "2af0a557",
   "metadata": {},
   "outputs": [
    {
     "ename": "TypeError",
     "evalue": "'int' object is not subscriptable",
     "output_type": "error",
     "traceback": [
      "\u001b[1;31m---------------------------------------------------------------------------\u001b[0m",
      "\u001b[1;31mTypeError\u001b[0m                                 Traceback (most recent call last)",
      "Cell \u001b[1;32mIn[26], line 1\u001b[0m\n\u001b[1;32m----> 1\u001b[0m \u001b[43mx\u001b[49m\u001b[43m[\u001b[49m\u001b[38;5;241;43m0\u001b[39;49m\u001b[43m]\u001b[49m\u001b[43m[\u001b[49m\u001b[38;5;241;43m1\u001b[39;49m\u001b[43m]\u001b[49m\n",
      "\u001b[1;31mTypeError\u001b[0m: 'int' object is not subscriptable"
     ]
    }
   ],
   "source": [
    "x[0][1]"
   ]
  },
  {
   "cell_type": "code",
   "execution_count": 27,
   "id": "5373b233",
   "metadata": {},
   "outputs": [
    {
     "data": {
      "text/plain": [
       "10"
      ]
     },
     "execution_count": 27,
     "metadata": {},
     "output_type": "execute_result"
    }
   ],
   "source": [
    "x[1]"
   ]
  },
  {
   "cell_type": "code",
   "execution_count": 28,
   "id": "9588418f",
   "metadata": {},
   "outputs": [
    {
     "data": {
      "text/plain": [
       "[99, 10]"
      ]
     },
     "execution_count": 28,
     "metadata": {},
     "output_type": "execute_result"
    }
   ],
   "source": [
    "x"
   ]
  },
  {
   "cell_type": "code",
   "execution_count": 29,
   "id": "ed9433e9",
   "metadata": {},
   "outputs": [
    {
     "data": {
      "text/plain": [
       "[99, 10, 20]"
      ]
     },
     "execution_count": 29,
     "metadata": {},
     "output_type": "execute_result"
    }
   ],
   "source": [
    "x = x + [20]\n",
    "x"
   ]
  },
  {
   "cell_type": "code",
   "execution_count": null,
   "id": "be25ff83",
   "metadata": {},
   "outputs": [],
   "source": []
  }
 ],
 "metadata": {
  "kernelspec": {
   "display_name": "Python 3",
   "language": "python",
   "name": "python3"
  },
  "language_info": {
   "codemirror_mode": {
    "name": "ipython",
    "version": 3
   },
   "file_extension": ".py",
   "mimetype": "text/x-python",
   "name": "python",
   "nbconvert_exporter": "python",
   "pygments_lexer": "ipython3",
   "version": "3.11.9"
  }
 },
 "nbformat": 4,
 "nbformat_minor": 5
}
