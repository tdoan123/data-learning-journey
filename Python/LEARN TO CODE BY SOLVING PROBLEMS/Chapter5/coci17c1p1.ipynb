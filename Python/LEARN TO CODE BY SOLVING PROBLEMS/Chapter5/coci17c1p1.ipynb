{
 "cells": [
  {
   "cell_type": "code",
   "execution_count": 17,
   "id": "e76ec913",
   "metadata": {},
   "outputs": [],
   "source": [
    "lst = [2, 2, 3, 5]"
   ]
  },
  {
   "cell_type": "code",
   "execution_count": 18,
   "id": "071e0f8f",
   "metadata": {},
   "outputs": [
    {
     "data": {
      "text/plain": [
       "[2, 2, 3, 5]"
      ]
     },
     "execution_count": 18,
     "metadata": {},
     "output_type": "execute_result"
    }
   ],
   "source": [
    "lst"
   ]
  },
  {
   "cell_type": "code",
   "execution_count": 19,
   "id": "1826b658",
   "metadata": {},
   "outputs": [],
   "source": [
    "lst.remove(2)"
   ]
  },
  {
   "cell_type": "code",
   "execution_count": 20,
   "id": "7b0a3071",
   "metadata": {},
   "outputs": [
    {
     "data": {
      "text/plain": [
       "[2, 3, 5]"
      ]
     },
     "execution_count": 20,
     "metadata": {},
     "output_type": "execute_result"
    }
   ],
   "source": [
    "\n",
    "lst"
   ]
  },
  {
   "cell_type": "code",
   "execution_count": 38,
   "id": "e303e3b8",
   "metadata": {},
   "outputs": [
    {
     "name": "stdout",
     "output_type": "stream",
     "text": [
      "score on hand = 5\n",
      "distance to 21 = 16\n",
      "card draw: [5]\n",
      "card remaining [2, 2, 2, 2, 3, 3, 3, 3, 4, 4, 4, 4, 5, 5, 5, 6, 6, 6, 6, 7, 7, 7, 7, 8, 8, 8, 8, 9, 9, 9, 9, 10, 10, 10, 10, 10, 10, 10, 10, 10, 10, 10, 10, 10, 10, 10, 10, 11, 11, 11, 11]\n",
      "score on hand = 11\n",
      "distance to 21 = 10\n",
      "card draw: [5, 6]\n",
      "card remaining [2, 2, 2, 2, 3, 3, 3, 3, 4, 4, 4, 4, 5, 5, 5, 6, 6, 6, 7, 7, 7, 7, 8, 8, 8, 8, 9, 9, 9, 9, 10, 10, 10, 10, 10, 10, 10, 10, 10, 10, 10, 10, 10, 10, 10, 10, 11, 11, 11, 11]\n",
      "score on hand = 13\n",
      "distance to 21 = 8\n",
      "card draw: [5, 6, 2]\n",
      "card remaining [2, 2, 2, 3, 3, 3, 3, 4, 4, 4, 4, 5, 5, 5, 6, 6, 6, 7, 7, 7, 7, 8, 8, 8, 8, 9, 9, 9, 9, 10, 10, 10, 10, 10, 10, 10, 10, 10, 10, 10, 10, 10, 10, 10, 10, 11, 11, 11, 11]\n",
      "score on hand = 16\n",
      "distance to 21 = 5\n",
      "card draw: [5, 6, 2, 3]\n",
      "card remaining [2, 2, 2, 3, 3, 3, 4, 4, 4, 4, 5, 5, 5, 6, 6, 6, 7, 7, 7, 7, 8, 8, 8, 8, 9, 9, 9, 9, 10, 10, 10, 10, 10, 10, 10, 10, 10, 10, 10, 10, 10, 10, 10, 10, 11, 11, 11, 11]\n"
     ]
    }
   ],
   "source": [
    "deck = [2, 2, 2, 2, 3, 3, 3, 3, 4, 4, 4, 4, 5, 5, 5, 5, 6, 6, 6, 6, 7, 7, 7, 7, 8,8,8,8,9,9,9,9,10, 10,10, 10,10, 10,10, 10,10, 10,10, 10,10, 10,10, 10, 11, 11, 11, 11 ]\n",
    "draws = int(input())\n",
    "draw_cards = []   \n",
    "for i in range(draws):\n",
    "    draw_card = int(input())\n",
    "    draw_cards.append(draw_card)\n",
    "    deck.remove(draw_card)\n",
    "    score = sum(draw_cards)\n",
    "    max_score = 21  \n",
    "    x = max_score - score\n",
    "    print(f'score on hand = {score}')\n",
    "    print(f'distance to 21 = {x}')\n",
    "    print(f'card draw: {draw_cards}')\n",
    "    print(f'card remaining {deck}') \n",
    "\n",
    "\n"
   ]
  },
  {
   "cell_type": "code",
   "execution_count": 30,
   "id": "da320d0c",
   "metadata": {},
   "outputs": [],
   "source": [
    "deck = [2, 2, 2, 2, 3, 3, 3, 3, 4, 4, 4, 4, 5, 5, 5, 5, 6, 6, 6, 6, 7, 7, 7, 7, 8,8,8,8,9,9,9,9,10, 10,10, 10,10, 10,10, 10,10, 10,10, 10,10, 10,10, 10, 11, 11, 11, 11 ]"
   ]
  },
  {
   "cell_type": "code",
   "execution_count": 32,
   "id": "ecfac43c",
   "metadata": {},
   "outputs": [
    {
     "data": {
      "text/plain": [
       "4"
      ]
     },
     "execution_count": 32,
     "metadata": {},
     "output_type": "execute_result"
    }
   ],
   "source": [
    "idx = 4\n",
    "len(deck[0:idx])"
   ]
  },
  {
   "cell_type": "code",
   "execution_count": 43,
   "id": "0101b5f5",
   "metadata": {},
   "outputs": [
    {
     "data": {
      "text/plain": [
       "13"
      ]
     },
     "execution_count": 43,
     "metadata": {},
     "output_type": "execute_result"
    }
   ],
   "source": [
    "idx = deck.index(x+1)\n",
    "idx\n"
   ]
  },
  {
   "cell_type": "code",
   "execution_count": 45,
   "id": "e720a5e3",
   "metadata": {},
   "outputs": [
    {
     "name": "stdout",
     "output_type": "stream",
     "text": [
      "less than x = 13\n",
      "more than x = 34\n",
      "DOSTA\n"
     ]
    }
   ],
   "source": [
    "count_card_less_than_x = len(deck[0:idx])\n",
    "print(f'less than x = {count_card_less_than_x}' )\n",
    "\n",
    "count_card_higher_than_x = len(deck[idx:-1])\n",
    "print(f'more than x = {count_card_higher_than_x}')\n",
    "\n",
    "if count_card_higher_than_x >= count_card_less_than_x:\n",
    "    print(\"DOSTA\")\n",
    "else: \n",
    "    print(\"VUCI\") "
   ]
  },
  {
   "cell_type": "code",
   "execution_count": 34,
   "id": "e9886151",
   "metadata": {},
   "outputs": [
    {
     "name": "stdout",
     "output_type": "stream",
     "text": [
      "'banana' is found at indices: [1, 3]\n"
     ]
    }
   ],
   "source": [
    "my_list = ['apple', 'banana', 'cherry', 'banana', 'date']\n",
    "value_to_find = 'banana'\n",
    "all_indices = []\n",
    "\n",
    "for index, item in enumerate(my_list):\n",
    "    if item == value_to_find:\n",
    "        all_indices.append(index)\n",
    "\n",
    "if all_indices:\n",
    "    print(f\"'{value_to_find}' is found at indices: {all_indices}\")\n",
    "else:\n",
    "    print(f\"'{value_to_find}' is not found in the list.\")"
   ]
  },
  {
   "cell_type": "code",
   "execution_count": 46,
   "id": "24b01a6a",
   "metadata": {},
   "outputs": [
    {
     "name": "stdout",
     "output_type": "stream",
     "text": [
      "score on hand = 2\n",
      "distance to 21 = 19\n",
      "card draw: [2]\n",
      "card remaining [2, 2, 2, 3, 3, 3, 3, 4, 4, 4, 4, 5, 5, 5, 5, 6, 6, 6, 6, 7, 7, 7, 7, 8, 8, 8, 8, 9, 9, 9, 9, 10, 10, 10, 10, 10, 10, 10, 10, 10, 10, 10, 10, 10, 10, 10, 10, 11, 11, 11, 11]\n",
      "score on hand = 5\n",
      "distance to 21 = 16\n",
      "card draw: [2, 3]\n",
      "card remaining [2, 2, 2, 3, 3, 3, 4, 4, 4, 4, 5, 5, 5, 5, 6, 6, 6, 6, 7, 7, 7, 7, 8, 8, 8, 8, 9, 9, 9, 9, 10, 10, 10, 10, 10, 10, 10, 10, 10, 10, 10, 10, 10, 10, 10, 10, 11, 11, 11, 11]\n",
      "score on hand = 9\n",
      "distance to 21 = 12\n",
      "card draw: [2, 3, 4]\n",
      "card remaining [2, 2, 2, 3, 3, 3, 4, 4, 4, 5, 5, 5, 5, 6, 6, 6, 6, 7, 7, 7, 7, 8, 8, 8, 8, 9, 9, 9, 9, 10, 10, 10, 10, 10, 10, 10, 10, 10, 10, 10, 10, 10, 10, 10, 10, 11, 11, 11, 11]\n",
      "score on hand = 14\n",
      "distance to 21 = 7\n",
      "card draw: [2, 3, 4, 5]\n",
      "card remaining [2, 2, 2, 3, 3, 3, 4, 4, 4, 5, 5, 5, 6, 6, 6, 6, 7, 7, 7, 7, 8, 8, 8, 8, 9, 9, 9, 9, 10, 10, 10, 10, 10, 10, 10, 10, 10, 10, 10, 10, 10, 10, 10, 10, 11, 11, 11, 11]\n",
      "score on hand = 20\n",
      "distance to 21 = 1\n",
      "card draw: [2, 3, 4, 5, 6]\n",
      "card remaining [2, 2, 2, 3, 3, 3, 4, 4, 4, 5, 5, 5, 6, 6, 6, 7, 7, 7, 7, 8, 8, 8, 8, 9, 9, 9, 9, 10, 10, 10, 10, 10, 10, 10, 10, 10, 10, 10, 10, 10, 10, 10, 10, 11, 11, 11, 11]\n",
      "less than x = 0\n",
      "more than x = 46\n",
      "DOSTA\n"
     ]
    }
   ],
   "source": [
    "deck = [2, 2, 2, 2, 3, 3, 3, 3, 4, 4, 4, 4, 5, 5, 5, 5, 6, 6, 6, 6, 7, 7, 7, 7, 8,8,8,8,9,9,9,9,10, 10,10, 10,10, 10,10, 10,10, 10,10, 10,10, 10,10, 10, 11, 11, 11, 11 ]\n",
    "draws = int(input())\n",
    "draw_cards = []   \n",
    "for i in range(draws):\n",
    "    draw_card = int(input())\n",
    "    draw_cards.append(draw_card)\n",
    "    deck.remove(draw_card)\n",
    "    score = sum(draw_cards)\n",
    "    max_score = 21  \n",
    "    x = max_score - score\n",
    "    print(f'score on hand = {score}')\n",
    "    print(f'distance to 21 = {x}')\n",
    "    print(f'card draw: {draw_cards}')\n",
    "    print(f'card remaining {deck}') \n",
    "\n",
    "idx = deck.index(x+1)\n",
    "\n",
    "count_card_less_than_x = len(deck[0:idx])\n",
    "print(f'less than x = {count_card_less_than_x}' )\n",
    "\n",
    "count_card_higher_than_x = len(deck[idx:-1])\n",
    "print(f'more than x = {count_card_higher_than_x}')\n",
    "\n",
    "if count_card_higher_than_x >= count_card_less_than_x:\n",
    "    print(\"DOSTA\")\n",
    "else: \n",
    "    print(\"VUCI\") \n"
   ]
  },
  {
   "cell_type": "code",
   "execution_count": 48,
   "id": "a74fcffa",
   "metadata": {},
   "outputs": [
    {
     "ename": "ValueError",
     "evalue": "list.remove(x): x not in list",
     "output_type": "error",
     "traceback": [
      "\u001b[1;31m---------------------------------------------------------------------------\u001b[0m",
      "\u001b[1;31mValueError\u001b[0m                                Traceback (most recent call last)",
      "Cell \u001b[1;32mIn[48], line 7\u001b[0m\n\u001b[0;32m      5\u001b[0m draw_card \u001b[38;5;241m=\u001b[39m \u001b[38;5;28mint\u001b[39m(\u001b[38;5;28minput\u001b[39m())\n\u001b[0;32m      6\u001b[0m draw_cards\u001b[38;5;241m.\u001b[39mappend(draw_card)\n\u001b[1;32m----> 7\u001b[0m deck\u001b[38;5;241m.\u001b[39mremove(draw_card)\n\u001b[0;32m      8\u001b[0m score \u001b[38;5;241m=\u001b[39m \u001b[38;5;28msum\u001b[39m(draw_cards)\n\u001b[0;32m      9\u001b[0m max_score \u001b[38;5;241m=\u001b[39m \u001b[38;5;241m21\u001b[39m  \n",
      "\u001b[1;31mValueError\u001b[0m: list.remove(x): x not in list"
     ]
    }
   ],
   "source": [
    "deck = [2, 2, 2, 2, 3, 3, 3, 3, 4, 4, 4, 4, 5, 5, 5, 5, 6, 6, 6, 6, 7, 7, 7, 7, 8,8,8,8,9,9,9,9,10, 10,10, 10,10, 10,10, 10,10, 10,10, 10,10, 10,10, 10, 11, 11, 11, 11 ]\n",
    "draws = int(input())\n",
    "draw_cards = []   \n",
    "for i in range(draws):\n",
    "    draw_card = int(input())\n",
    "    draw_cards.append(draw_card)\n",
    "    deck.remove(draw_card)\n",
    "    score = sum(draw_cards)\n",
    "    max_score = 21  \n",
    "    x = max_score - score\n",
    "    # print(f'score on hand = {score}')\n",
    "    # print(f'distance to 21 = {x}')\n",
    "    # print(f'card draw: {draw_cards}')\n",
    "    # print(f'card remaining {deck}') \n",
    "\n",
    "idx = deck.index(x+1)\n",
    "\n",
    "count_card_less_than_x = len(deck[:idx])\n",
    "# print(f'less than x = {count_card_less_than_x}' )\n",
    "\n",
    "count_card_higher_than_x = len(deck[idx:])\n",
    "# print(f'more than x = {count_card_higher_than_x}')\n",
    "if score == max_score: \n",
    "    print(\"DOSTA\")\n",
    "elif count_card_higher_than_x >= count_card_less_than_x:\n",
    "    print(\"DOSTA\")\n",
    "else: \n",
    "    print(\"VUCI\") \n"
   ]
  },
  {
   "cell_type": "code",
   "execution_count": 49,
   "id": "9e03346b",
   "metadata": {},
   "outputs": [
    {
     "name": "stdout",
     "output_type": "stream",
     "text": [
      "score on hand = 2\n",
      "distance to 21 = 19\n",
      "card draw: [2]\n",
      "card remaining [0, 0, 3, 4, 4, 4, 4, 4, 4, 4, 16, 4]\n",
      "score on hand = 5\n",
      "distance to 21 = 16\n",
      "card draw: [2, 3]\n",
      "card remaining [0, 0, 3, 3, 4, 4, 4, 4, 4, 4, 16, 4]\n",
      "score on hand = 9\n",
      "distance to 21 = 12\n",
      "card draw: [2, 3, 4]\n",
      "card remaining [0, 0, 3, 3, 3, 4, 4, 4, 4, 4, 16, 4]\n"
     ]
    },
    {
     "ename": "ValueError",
     "evalue": "13 is not in list",
     "output_type": "error",
     "traceback": [
      "\u001b[1;31m---------------------------------------------------------------------------\u001b[0m",
      "\u001b[1;31mValueError\u001b[0m                                Traceback (most recent call last)",
      "Cell \u001b[1;32mIn[49], line 16\u001b[0m\n\u001b[0;32m     13\u001b[0m     \u001b[38;5;28mprint\u001b[39m(\u001b[38;5;124mf\u001b[39m\u001b[38;5;124m'\u001b[39m\u001b[38;5;124mcard draw: \u001b[39m\u001b[38;5;132;01m{\u001b[39;00mdraw_cards\u001b[38;5;132;01m}\u001b[39;00m\u001b[38;5;124m'\u001b[39m)\n\u001b[0;32m     14\u001b[0m     \u001b[38;5;28mprint\u001b[39m(\u001b[38;5;124mf\u001b[39m\u001b[38;5;124m'\u001b[39m\u001b[38;5;124mcard remaining \u001b[39m\u001b[38;5;132;01m{\u001b[39;00mdeck\u001b[38;5;132;01m}\u001b[39;00m\u001b[38;5;124m'\u001b[39m) \n\u001b[1;32m---> 16\u001b[0m idx \u001b[38;5;241m=\u001b[39m deck\u001b[38;5;241m.\u001b[39mindex(x\u001b[38;5;241m+\u001b[39m\u001b[38;5;241m1\u001b[39m)\n\u001b[0;32m     18\u001b[0m count_card_less_than_x \u001b[38;5;241m=\u001b[39m \u001b[38;5;28mlen\u001b[39m(deck[:idx])\n\u001b[0;32m     19\u001b[0m \u001b[38;5;28mprint\u001b[39m(\u001b[38;5;124mf\u001b[39m\u001b[38;5;124m'\u001b[39m\u001b[38;5;124mless than x = \u001b[39m\u001b[38;5;132;01m{\u001b[39;00mcount_card_less_than_x\u001b[38;5;132;01m}\u001b[39;00m\u001b[38;5;124m'\u001b[39m )\n",
      "\u001b[1;31mValueError\u001b[0m: 13 is not in list"
     ]
    }
   ],
   "source": [
    "deck = [0, 0, 4, 4, 4, 4, 4, 4, 4, 4, 16, 4]\n",
    "draws = int(input())\n",
    "draw_cards = []   \n",
    "for i in range(draws):\n",
    "    draw_card = int(input())\n",
    "    draw_cards.append(draw_card)\n",
    "    deck[draw_card] = deck[draw_card] -1 \n",
    "    score = sum(draw_cards)\n",
    "    max_score = 21  \n",
    "    x = max_score - score\n",
    "    print(f'score on hand = {score}')\n",
    "    print(f'distance to 21 = {x}')\n",
    "    print(f'card draw: {draw_cards}')\n",
    "    print(f'card remaining {deck}') \n",
    "\n",
    "idx = deck.index(x+1)\n",
    "\n",
    "count_card_less_than_x = len(deck[:idx])\n",
    "print(f'less than x = {count_card_less_than_x}' )\n",
    "\n",
    "count_card_higher_than_x = len(deck[idx:])\n",
    "print(f'more than x = {count_card_higher_than_x}')\n",
    "if score == max_score: \n",
    "    print(\"DOSTA\")\n",
    "elif count_card_higher_than_x >= count_card_less_than_x:\n",
    "    print(\"DOSTA\")\n",
    "else: \n",
    "    print(\"VUCI\") \n"
   ]
  },
  {
   "cell_type": "code",
   "execution_count": 50,
   "id": "c7bfa93b",
   "metadata": {},
   "outputs": [
    {
     "name": "stdout",
     "output_type": "stream",
     "text": [
      "DOSTA\n"
     ]
    }
   ],
   "source": [
    "cards_by_value = [0, 0, 4, 4, 4, 4, 4, 4, 4, 4, 16, 4]\n",
    "\n",
    "n = int(input())\n",
    "\n",
    "in_hand = 0\n",
    "\n",
    "for i in range(n):\n",
    "    card_val = int(input())\n",
    "    in_hand = in_hand + card_val\n",
    "    cards_by_value[card_val] = cards_by_value[card_val] - 1\n",
    "\n",
    "x = 21 - in_hand\n",
    "\n",
    "if sum(cards_by_value[x+1:]) >= sum(cards_by_value[:x+1]):\n",
    "    print('DOSTA')\n",
    "else:\n",
    "    print('VUCI')\n"
   ]
  },
  {
   "cell_type": "code",
   "execution_count": null,
   "id": "2b182000",
   "metadata": {},
   "outputs": [],
   "source": []
  }
 ],
 "metadata": {
  "kernelspec": {
   "display_name": "base",
   "language": "python",
   "name": "python3"
  },
  "language_info": {
   "codemirror_mode": {
    "name": "ipython",
    "version": 3
   },
   "file_extension": ".py",
   "mimetype": "text/x-python",
   "name": "python",
   "nbconvert_exporter": "python",
   "pygments_lexer": "ipython3",
   "version": "3.12.7"
  }
 },
 "nbformat": 4,
 "nbformat_minor": 5
}
