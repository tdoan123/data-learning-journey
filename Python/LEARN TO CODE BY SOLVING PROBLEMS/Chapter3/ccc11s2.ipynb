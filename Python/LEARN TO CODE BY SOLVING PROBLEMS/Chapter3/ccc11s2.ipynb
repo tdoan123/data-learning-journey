{
 "cells": [
  {
   "cell_type": "code",
   "execution_count": 4,
   "id": "8b391d7a",
   "metadata": {},
   "outputs": [
    {
     "name": "stdout",
     "output_type": "stream",
     "text": [
      "5\n",
      "avzxcasdfasdfs\n",
      "sssss\n"
     ]
    }
   ],
   "source": [
    "n = int(input())\n",
    "\n",
    "student = ''\n",
    "for i in range(n):\n",
    "    student = student + input() \n",
    "\n",
    "    answer = ''\n",
    "    for i in range(n): \n",
    "        answer = answer + input() \n",
    "    \n",
    "print(n)\n",
    "print(student)\n",
    "print(answer)"
   ]
  },
  {
   "cell_type": "code",
   "execution_count": null,
   "id": "04273443",
   "metadata": {},
   "outputs": [],
   "source": []
  }
 ],
 "metadata": {
  "kernelspec": {
   "display_name": "Python 3",
   "language": "python",
   "name": "python3"
  },
  "language_info": {
   "codemirror_mode": {
    "name": "ipython",
    "version": 3
   },
   "file_extension": ".py",
   "mimetype": "text/x-python",
   "name": "python",
   "nbconvert_exporter": "python",
   "pygments_lexer": "ipython3",
   "version": "3.11.9"
  }
 },
 "nbformat": 4,
 "nbformat_minor": 5
}
