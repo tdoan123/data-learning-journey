{
 "cells": [
  {
   "cell_type": "code",
   "execution_count": 19,
   "id": "8b391d7a",
   "metadata": {},
   "outputs": [
    {
     "name": "stdout",
     "output_type": "stream",
     "text": [
      "3\n"
     ]
    }
   ],
   "source": [
    "n = int(input())\n",
    "\n",
    "student = ''\n",
    "for i in range(n):\n",
    "    student = student + input()\n",
    "\n",
    "answer = ''\n",
    "for i in range(n): \n",
    "    answer = answer + input() \n",
    "\n",
    "score = 0 \n",
    "for i in range(n):\n",
    "    if student[i] == answer[i]:\n",
    "        score = score + 1 \n",
    "\n",
    "print(score)\n"
   ]
  },
  {
   "cell_type": "code",
   "execution_count": 11,
   "id": "04273443",
   "metadata": {},
   "outputs": [
    {
     "name": "stdout",
     "output_type": "stream",
     "text": [
      "0\n"
     ]
    }
   ],
   "source": [
    "n = int(input())\n",
    "\n",
    "student = ''\n",
    "for i in range(n):\n",
    "    student = student + input()\n",
    "\n",
    "    answer_key = ''\n",
    "for i in range(n):\n",
    "    answer_key = answer_key + input()\n",
    "\n",
    "correct = 0\n",
    "\n",
    "for i in range(n):\n",
    "    if student[i] == answer_key[i]:\n",
    "        correct = correct + 1\n",
    "\n",
    "print(correct)\n"
   ]
  },
  {
   "cell_type": "code",
   "execution_count": null,
   "id": "c8e15698",
   "metadata": {},
   "outputs": [],
   "source": []
  },
  {
   "cell_type": "code",
   "execution_count": null,
   "id": "69cb0a11",
   "metadata": {},
   "outputs": [],
   "source": []
  }
 ],
 "metadata": {
  "kernelspec": {
   "display_name": "Python 3",
   "language": "python",
   "name": "python3"
  },
  "language_info": {
   "codemirror_mode": {
    "name": "ipython",
    "version": 3
   },
   "file_extension": ".py",
   "mimetype": "text/x-python",
   "name": "python",
   "nbconvert_exporter": "python",
   "pygments_lexer": "ipython3",
   "version": "3.11.9"
  }
 },
 "nbformat": 4,
 "nbformat_minor": 5
}
