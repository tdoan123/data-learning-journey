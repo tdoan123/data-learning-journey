{
 "cells": [
  {
   "cell_type": "code",
   "execution_count": null,
   "id": "6941f4d0",
   "metadata": {},
   "outputs": [],
   "source": []
  },
  {
   "cell_type": "markdown",
   "id": "8c97c4d2",
   "metadata": {},
   "source": [
    "length: min 8 - max 12 \n",
    "\n",
    "lower case letters = min 3 \n",
    "\n",
    "upper case letter = min 2  \n",
    "\n",
    "digit = min 1  "
   ]
  },
  {
   "cell_type": "code",
   "execution_count": 32,
   "id": "d1a1d995",
   "metadata": {},
   "outputs": [
    {
     "name": "stdout",
     "output_type": "stream",
     "text": [
      "Invalid\n",
      "1 and 9 and 0 and 1\n"
     ]
    }
   ],
   "source": [
    "password = input()\n",
    "count_upper = 0 \n",
    "count_lower = 0\n",
    "count_digit = 0 \n",
    "count_space = 0 \n",
    "\n",
    "if len(password) < 8 or len(password) > 12: \n",
    "    print('Invalid')\n",
    "\n",
    "else: \n",
    "    for char in password:  \n",
    "        if char.isupper(): \n",
    "            count_upper = count_upper + 1  \n",
    "        if char.islower(): \n",
    "            count_lower = count_lower + 1 \n",
    "        if char.isdigit(): \n",
    "            count_digit = count_digit + 1\n",
    "        if char.isspace(): \n",
    "            count_space = count_space + 1       \n",
    "\n",
    "    if count_upper < 3 or count_lower < 2 or count_digit < 1 or count_space > 1: \n",
    "        print('Invalid')\n",
    "        print(f\"{count_upper} and {count_lower} and {count_digit} and {count_space}\")\n",
    "    else:\n",
    "        print('Valid')\n",
    "        print(f\"{count_upper} and {count_lower} and {count_digit} and {count_space}\")"
   ]
  },
  {
   "cell_type": "code",
   "execution_count": 18,
   "id": "eadd0ccb",
   "metadata": {},
   "outputs": [
    {
     "name": "stdout",
     "output_type": "stream",
     "text": [
      "Invalid\n",
      "1\n"
     ]
    }
   ],
   "source": [
    "password = input() \n",
    "count_upper = 0 \n",
    "\n",
    "for char in password:  \n",
    "    if char.isupper(): \n",
    "        count_upper = count_upper + 1   \n",
    "\n",
    "if count_upper <3: \n",
    "    print('Invalid')\n",
    "    print(count_upper)\n",
    "else:\n",
    "    print('Valid')\n",
    "    print(count_upper)\n"
   ]
  },
  {
   "cell_type": "code",
   "execution_count": 21,
   "id": "0cc95579",
   "metadata": {},
   "outputs": [
    {
     "name": "stdout",
     "output_type": "stream",
     "text": [
      "Valid\n",
      "3\n"
     ]
    }
   ],
   "source": [
    "password = input() \n",
    "count_digit = 0 \n",
    "\n",
    "for char in password:  \n",
    "    if char.isdigit(): \n",
    "        count_digit = count_digit + 1   \n",
    "\n",
    "if count_digit <1: \n",
    "    print('Invalid')\n",
    "    print(count_digit)\n",
    "else:\n",
    "    print('Valid')\n",
    "    print(count_digit)\n"
   ]
  },
  {
   "cell_type": "code",
   "execution_count": null,
   "id": "1c38ab78",
   "metadata": {},
   "outputs": [],
   "source": [
    "password = input()\n",
    "count_upper = 0 \n",
    "count_lower = 0\n",
    "count_digit = 0 \n",
    "\n",
    "if len(password) <= 7 or len(password) >= 13: \n",
    "    print('Invalid')\n",
    "\n",
    "else: \n",
    "    for char in password:  \n",
    "        if char.isupper(): \n",
    "            count_upper = count_upper + 1  \n",
    "        if char.islower(): \n",
    "            count_lower = count_lower + 1 \n",
    "        if char.isdigit(): \n",
    "            count_digit = count_digit + 1      \n",
    "\n",
    "    if count_upper < 3 or count_lower < 2 or count_digit < 1: \n",
    "        print('Invalid')\n",
    "    else:\n",
    "        print('Valid')"
   ]
  },
  {
   "cell_type": "code",
   "execution_count": 25,
   "id": "40092b40",
   "metadata": {},
   "outputs": [
    {
     "name": "stdout",
     "output_type": "stream",
     "text": [
      "2\n"
     ]
    }
   ],
   "source": [
    "password = input()\n",
    "count_space = 0 \n",
    "\n",
    "for char in password: \n",
    "    if char.isspace(): \n",
    "        count_space = count_space + 1 \n",
    "print(count_space)"
   ]
  },
  {
   "cell_type": "code",
   "execution_count": null,
   "id": "823e6086",
   "metadata": {},
   "outputs": [],
   "source": [
    "password = input()\n",
    "count_upper = 0 \n",
    "count_lower = 0\n",
    "count_digit = 0 \n",
    "count_space = 0 \n",
    "\n",
    "if len(password) <= 7 or len(password) >= 13: \n",
    "    print('Invalid')\n",
    "\n",
    "else: \n",
    "    for char in password:  \n",
    "        if char.isupper(): \n",
    "            count_upper = count_upper + 1  \n",
    "        if char.islower(): \n",
    "            count_lower = count_lower + 1 \n",
    "        if char.isdigit(): \n",
    "            count_digit = count_digit + 1\n",
    "        if char.isspace(): \n",
    "            count_space = count_space + 1       \n",
    "\n",
    "    if count_lower < 3 or count_upper < 2 or count_digit < 1 or count_space > 0: \n",
    "        print('Invalid')\n",
    "        # print(f\"{count_upper} and {count_lower} and {count_digit}\")\n",
    "    else:\n",
    "        print('Valid')\n",
    "        # print(f\"{count_upper} and {count_lower} and {count_digit}\")"
   ]
  },
  {
   "cell_type": "code",
   "execution_count": null,
   "id": "649f046b",
   "metadata": {},
   "outputs": [],
   "source": []
  }
 ],
 "metadata": {
  "kernelspec": {
   "display_name": "Python 3",
   "language": "python",
   "name": "python3"
  },
  "language_info": {
   "codemirror_mode": {
    "name": "ipython",
    "version": 3
   },
   "file_extension": ".py",
   "mimetype": "text/x-python",
   "name": "python",
   "nbconvert_exporter": "python",
   "pygments_lexer": "ipython3",
   "version": "3.11.9"
  }
 },
 "nbformat": 4,
 "nbformat_minor": 5
}
