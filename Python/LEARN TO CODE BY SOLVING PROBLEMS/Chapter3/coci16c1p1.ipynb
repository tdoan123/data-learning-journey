{
 "cells": [
  {
   "cell_type": "code",
   "execution_count": 1,
   "id": "a598cc06",
   "metadata": {},
   "outputs": [
    {
     "name": "stdout",
     "output_type": "stream",
     "text": [
      "34\n"
     ]
    }
   ],
   "source": [
    "monthly_mb = int(input())\n",
    "n = int(input())\n",
    "\n",
    "excess = 0\n",
    "\n",
    "for i in range(n):\n",
    "    used = int(input())\n",
    "    excess = excess +  monthly_mb - used \n",
    "\n",
    "print(excess + monthly_mb)"
   ]
  },
  {
   "cell_type": "code",
   "execution_count": 2,
   "id": "5a8511e8",
   "metadata": {},
   "outputs": [
    {
     "name": "stdout",
     "output_type": "stream",
     "text": [
      "37\n"
     ]
    }
   ],
   "source": [
    "monthly_mb = int(input())\n",
    "n = int(input())\n",
    "\n",
    "total_mb = monthly_mb * (n + 1)\n",
    "\n",
    "for i in range(n):\n",
    "    used = int(input())\n",
    "    total_mb = total_mb - used\n",
    "\n",
    "print(total_mb)"
   ]
  },
  {
   "cell_type": "code",
   "execution_count": null,
   "id": "f82c4d0f",
   "metadata": {},
   "outputs": [],
   "source": []
  }
 ],
 "metadata": {
  "kernelspec": {
   "display_name": "Python 3",
   "language": "python",
   "name": "python3"
  },
  "language_info": {
   "codemirror_mode": {
    "name": "ipython",
    "version": 3
   },
   "file_extension": ".py",
   "mimetype": "text/x-python",
   "name": "python",
   "nbconvert_exporter": "python",
   "pygments_lexer": "ipython3",
   "version": "3.11.9"
  }
 },
 "nbformat": 4,
 "nbformat_minor": 5
}
