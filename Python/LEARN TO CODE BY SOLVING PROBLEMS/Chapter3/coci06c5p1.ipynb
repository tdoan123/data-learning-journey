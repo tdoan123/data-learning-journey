{
 "cells": [
  {
   "cell_type": "code",
   "execution_count": 32,
   "id": "7e2a4dbd",
   "metadata": {},
   "outputs": [
    {
     "name": "stdout",
     "output_type": "stream",
     "text": [
      "1\n"
     ]
    }
   ],
   "source": [
    "swaps = input()\n",
    "ball_location = 1 \n",
    "\n",
    "for swap_type in swaps:  \n",
    "    if swap_type == 'A' and ball_location == 1: \n",
    "        ball_location = 2\n",
    "    elif swap_type == 'A' and ball_location == 2: \n",
    "        ball_location = 1\n",
    "    elif swap_type == 'B' and ball_location == 2:   \n",
    "        ball_location = 3 \n",
    "    elif swap_type == 'B' and ball_location == 3:   \n",
    "        ball_location = 2\n",
    "    elif swap_type == 'C' and ball_location == 1:   \n",
    "        ball_location = 3\n",
    "    elif swap_type == 'C' and ball_location == 3:   \n",
    "        ball_location = 1\n",
    "print(ball_location)\n",
    "\n",
    "    "
   ]
  },
  {
   "cell_type": "code",
   "execution_count": null,
   "id": "15cec31e",
   "metadata": {},
   "outputs": [],
   "source": []
  }
 ],
 "metadata": {
  "language_info": {
   "name": "python"
  }
 },
 "nbformat": 4,
 "nbformat_minor": 5
}
