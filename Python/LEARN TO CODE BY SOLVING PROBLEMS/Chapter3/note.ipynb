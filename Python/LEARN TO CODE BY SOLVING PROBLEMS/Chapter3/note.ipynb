{
 "cells": [
  {
   "cell_type": "code",
   "execution_count": 1,
   "id": "198e8687",
   "metadata": {},
   "outputs": [
    {
     "name": "stdout",
     "output_type": "stream",
     "text": [
      "Letter: o\n",
      "*\n",
      "Letter: l\n",
      "*\n",
      "Letter: i\n",
      "*\n",
      "Letter: v\n",
      "*\n",
      "Letter: e\n",
      "*\n"
     ]
    }
   ],
   "source": [
    "secret_word ='olive'\n",
    "for char in secret_word:\n",
    "    print('Letter: ' + char)\n",
    "    print('*')"
   ]
  },
  {
   "cell_type": "code",
   "execution_count": 2,
   "id": "5f32023d",
   "metadata": {},
   "outputs": [
    {
     "data": {
      "text/plain": [
       "5"
      ]
     },
     "execution_count": 2,
     "metadata": {},
     "output_type": "execute_result"
    }
   ],
   "source": [
    "len('olive')"
   ]
  },
  {
   "cell_type": "code",
   "execution_count": 12,
   "id": "04b8b1ee",
   "metadata": {},
   "outputs": [
    {
     "name": "stdout",
     "output_type": "stream",
     "text": [
      "10\n"
     ]
    }
   ],
   "source": [
    "s = 'garage'\n",
    "total = 0\n",
    "for char in s:\n",
    "    total = total + s.count(char)\n",
    "print (total)"
   ]
  },
  {
   "cell_type": "code",
   "execution_count": 17,
   "id": "34d708ca",
   "metadata": {},
   "outputs": [
    {
     "name": "stdout",
     "output_type": "stream",
     "text": [
      "T\n",
      "E\n"
     ]
    }
   ],
   "source": [
    "title = 'The Escape'\n",
    "for char in title: \n",
    "    if char.isupper():\n",
    "        print(char)"
   ]
  },
  {
   "cell_type": "code",
   "execution_count": 18,
   "id": "4b210565",
   "metadata": {},
   "outputs": [
    {
     "name": "stdout",
     "output_type": "stream",
     "text": [
      "H\n",
      "E\n"
     ]
    }
   ],
   "source": [
    "title = 'tHe Escape'\n",
    "for char in title: \n",
    "    if char.isupper():\n",
    "        print(char)"
   ]
  },
  {
   "cell_type": "code",
   "execution_count": 25,
   "id": "35e8ef6a",
   "metadata": {},
   "outputs": [
    {
     "name": "stdout",
     "output_type": "stream",
     "text": [
      "A1\n",
      "A2\n",
      "A3\n",
      "B1\n",
      "B2\n",
      "B3\n",
      "C1\n",
      "C2\n",
      "C3\n"
     ]
    }
   ],
   "source": [
    "letters = 'ABC'\n",
    "digits = '123'\n",
    "for letter in letters: \n",
    "    for digit in digits: \n",
    "        print(letter + digit)"
   ]
  },
  {
   "cell_type": "code",
   "execution_count": 29,
   "id": "d9bc6a9f",
   "metadata": {},
   "outputs": [
    {
     "name": "stdout",
     "output_type": "stream",
     "text": [
      "100\n"
     ]
    }
   ],
   "source": [
    "title = 'The Escape'\n",
    "total = 0 \n",
    "for char1 in title: \n",
    "    for char2 in title: \n",
    "        total = total + 1 \n",
    "print(total)"
   ]
  },
  {
   "cell_type": "code",
   "execution_count": null,
   "id": "284e047a",
   "metadata": {},
   "outputs": [],
   "source": []
  }
 ],
 "metadata": {
  "kernelspec": {
   "display_name": "Python 3",
   "language": "python",
   "name": "python3"
  },
  "language_info": {
   "codemirror_mode": {
    "name": "ipython",
    "version": 3
   },
   "file_extension": ".py",
   "mimetype": "text/x-python",
   "name": "python",
   "nbconvert_exporter": "python",
   "pygments_lexer": "ipython3",
   "version": "3.11.9"
  }
 },
 "nbformat": 4,
 "nbformat_minor": 5
}
