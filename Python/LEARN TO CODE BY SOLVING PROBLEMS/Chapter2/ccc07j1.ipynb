{
 "cells": [
  {
   "cell_type": "code",
   "execution_count": 2,
   "id": "c79bb3df",
   "metadata": {},
   "outputs": [
    {
     "name": "stdout",
     "output_type": "stream",
     "text": [
      "5\n"
     ]
    }
   ],
   "source": [
    "input1 = int(input())\n",
    "input2 = int(input())\n",
    "input3 = int(input())\n",
    "\n",
    "if input1 < input2 < input3: \n",
    "    print (input2)\n",
    "elif input3 < input2 < input1:\n",
    "    print (input2)\n",
    "elif input1 < input3 < input2:\n",
    "    print (input3)\n",
    "elif input2 < input3 < input1:\n",
    "    print (input3)\n",
    "elif input3 < input1 < input2: \n",
    "    print (input1)\n",
    "elif input2 < input1 < input3: \n",
    "    print (input1)"
   ]
  },
  {
   "cell_type": "code",
   "execution_count": 3,
   "id": "04ed4bbf",
   "metadata": {},
   "outputs": [
    {
     "name": "stdout",
     "output_type": "stream",
     "text": [
      "7\n"
     ]
    }
   ],
   "source": [
    "input1 = int(input())\n",
    "input2 = int(input())\n",
    "input3 = int(input())\n",
    "\n",
    "if input1 < input2 < input3 or input3 < input2 < input1: \n",
    "    print (input2)\n",
    "elif input1 < input3 < input2 or input2 < input3 < input1:\n",
    "    print (input3)\n",
    "elif input3 < input1 < input2 or input2 < input1 < input3 : \n",
    "    print (input1)"
   ]
  },
  {
   "cell_type": "code",
   "execution_count": null,
   "id": "f97a39cb",
   "metadata": {},
   "outputs": [],
   "source": []
  }
 ],
 "metadata": {
  "kernelspec": {
   "display_name": "Python 3",
   "language": "python",
   "name": "python3"
  },
  "language_info": {
   "codemirror_mode": {
    "name": "ipython",
    "version": 3
   },
   "file_extension": ".py",
   "mimetype": "text/x-python",
   "name": "python",
   "nbconvert_exporter": "python",
   "pygments_lexer": "ipython3",
   "version": "3.11.9"
  }
 },
 "nbformat": 4,
 "nbformat_minor": 5
}
