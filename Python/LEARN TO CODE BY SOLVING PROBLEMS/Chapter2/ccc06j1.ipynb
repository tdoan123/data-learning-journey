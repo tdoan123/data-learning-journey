{
 "cells": [
  {
   "cell_type": "code",
   "execution_count": 18,
   "id": "59624307",
   "metadata": {},
   "outputs": [
    {
     "name": "stdout",
     "output_type": "stream",
     "text": [
      "Your total Calorie count is 0.\n"
     ]
    }
   ],
   "source": [
    "burger = int(input())\n",
    "side = int(input()) \n",
    "drink = int(input())\n",
    "dessert = int(input())\n",
    "\n",
    "if burger == 1: \n",
    "    burger_score = 461 \n",
    "elif burger == 2: \n",
    "    burger_score = 431\n",
    "elif burger == 3:  \n",
    "    burger_score = 420\n",
    "else :\n",
    "    burger_score = 0\n",
    "\n",
    "if drink == 1: \n",
    "    drink_score = 130 \n",
    "elif drink == 2: \n",
    "    drink_score = 160\n",
    "elif drink == 3:  \n",
    "    drink_score = 118\n",
    "else :\n",
    "    drink_score = 0\n",
    "\n",
    "\n",
    "if side == 1: \n",
    "    side_score = 100 \n",
    "elif side == 2: \n",
    "    side_score = 57\n",
    "elif side == 3:  \n",
    "    side_score = 70\n",
    "else :\n",
    "    side_score = 0 \n",
    "\n",
    "if dessert == 1: \n",
    "    dessert_score = 167\n",
    "elif dessert == 2: \n",
    "    dessert_score = 266\n",
    "elif dessert == 3:  \n",
    "    dessert_score = 75\n",
    "else :\n",
    "    dessert_score = 0\n",
    "\n",
    "total = burger_score + drink_score + side_score + dessert_score \n",
    "\n",
    "print(f\"Your total Calorie count is {total}.\")"
   ]
  }
 ],
 "metadata": {
  "kernelspec": {
   "display_name": "Python 3",
   "language": "python",
   "name": "python3"
  },
  "language_info": {
   "codemirror_mode": {
    "name": "ipython",
    "version": 3
   },
   "file_extension": ".py",
   "mimetype": "text/x-python",
   "name": "python",
   "nbconvert_exporter": "python",
   "pygments_lexer": "ipython3",
   "version": "3.11.9"
  }
 },
 "nbformat": 4,
 "nbformat_minor": 5
}
