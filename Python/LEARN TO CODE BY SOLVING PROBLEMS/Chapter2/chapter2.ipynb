{
 "cells": [
  {
   "cell_type": "code",
   "execution_count": 1,
   "id": "65f2a9d1",
   "metadata": {},
   "outputs": [
    {
     "ename": "NameError",
     "evalue": "name 'python' is not defined",
     "output_type": "error",
     "traceback": [
      "\u001b[1;31m---------------------------------------------------------------------------\u001b[0m",
      "\u001b[1;31mNameError\u001b[0m                                 Traceback (most recent call last)",
      "Cell \u001b[1;32mIn[1], line 1\u001b[0m\n\u001b[1;32m----> 1\u001b[0m \u001b[43mpython\u001b[49m\n",
      "\u001b[1;31mNameError\u001b[0m: name 'python' is not defined"
     ]
    }
   ],
   "source": [
    "python"
   ]
  },
  {
   "cell_type": "code",
   "execution_count": 2,
   "id": "1ccb389f",
   "metadata": {},
   "outputs": [
    {
     "name": "stdout",
     "output_type": "stream",
     "text": [
      "hello world\n"
     ]
    }
   ],
   "source": [
    "print('hello world')"
   ]
  },
  {
   "cell_type": "code",
   "execution_count": 3,
   "id": "9193714b",
   "metadata": {},
   "outputs": [
    {
     "data": {
      "text/plain": [
       "int"
      ]
     },
     "execution_count": 3,
     "metadata": {},
     "output_type": "execute_result"
    }
   ],
   "source": [
    "type(12)"
   ]
  },
  {
   "cell_type": "code",
   "execution_count": 4,
   "id": "ef766433",
   "metadata": {},
   "outputs": [
    {
     "data": {
      "text/plain": [
       "float"
      ]
     },
     "execution_count": 4,
     "metadata": {},
     "output_type": "execute_result"
    }
   ],
   "source": [
    "type(9.5)"
   ]
  },
  {
   "cell_type": "code",
   "execution_count": 5,
   "id": "8c8fd7fb",
   "metadata": {},
   "outputs": [
    {
     "data": {
      "text/plain": [
       "str"
      ]
     },
     "execution_count": 5,
     "metadata": {},
     "output_type": "execute_result"
    }
   ],
   "source": [
    "type('hello')"
   ]
  },
  {
   "cell_type": "code",
   "execution_count": 6,
   "id": "f4c0eb6c",
   "metadata": {},
   "outputs": [
    {
     "data": {
      "text/plain": [
       "int"
      ]
     },
     "execution_count": 6,
     "metadata": {},
     "output_type": "execute_result"
    }
   ],
   "source": [
    "type(12 + 15)"
   ]
  },
  {
   "cell_type": "code",
   "execution_count": 7,
   "id": "23b15a27",
   "metadata": {},
   "outputs": [
    {
     "ename": "NameError",
     "evalue": "name 'true' is not defined",
     "output_type": "error",
     "traceback": [
      "\u001b[1;31m---------------------------------------------------------------------------\u001b[0m",
      "\u001b[1;31mNameError\u001b[0m                                 Traceback (most recent call last)",
      "Cell \u001b[1;32mIn[7], line 1\u001b[0m\n\u001b[1;32m----> 1\u001b[0m \u001b[43mtrue\u001b[49m\n",
      "\u001b[1;31mNameError\u001b[0m: name 'true' is not defined"
     ]
    }
   ],
   "source": [
    "true"
   ]
  },
  {
   "cell_type": "code",
   "execution_count": 8,
   "id": "6da1990a",
   "metadata": {},
   "outputs": [
    {
     "data": {
      "text/plain": [
       "True"
      ]
     },
     "execution_count": 8,
     "metadata": {},
     "output_type": "execute_result"
    }
   ],
   "source": [
    "True"
   ]
  },
  {
   "cell_type": "code",
   "execution_count": 9,
   "id": "2be73d9c",
   "metadata": {},
   "outputs": [
    {
     "data": {
      "text/plain": [
       "False"
      ]
     },
     "execution_count": 9,
     "metadata": {},
     "output_type": "execute_result"
    }
   ],
   "source": [
    "False"
   ]
  },
  {
   "cell_type": "code",
   "execution_count": 10,
   "id": "dea51179",
   "metadata": {},
   "outputs": [
    {
     "data": {
      "text/plain": [
       "bool"
      ]
     },
     "execution_count": 10,
     "metadata": {},
     "output_type": "execute_result"
    }
   ],
   "source": [
    "type(True)"
   ]
  },
  {
   "cell_type": "code",
   "execution_count": 11,
   "id": "a66dc427",
   "metadata": {},
   "outputs": [
    {
     "data": {
      "text/plain": [
       "bool"
      ]
     },
     "execution_count": 11,
     "metadata": {},
     "output_type": "execute_result"
    }
   ],
   "source": [
    "type(False)"
   ]
  },
  {
   "cell_type": "code",
   "execution_count": 12,
   "id": "222072d1",
   "metadata": {},
   "outputs": [
    {
     "data": {
      "text/plain": [
       "True"
      ]
     },
     "execution_count": 12,
     "metadata": {},
     "output_type": "execute_result"
    }
   ],
   "source": [
    "5 > 2"
   ]
  },
  {
   "cell_type": "code",
   "execution_count": 13,
   "id": "284f902f",
   "metadata": {},
   "outputs": [
    {
     "data": {
      "text/plain": [
       "False"
      ]
     },
     "execution_count": 13,
     "metadata": {},
     "output_type": "execute_result"
    }
   ],
   "source": [
    "9 > 10"
   ]
  },
  {
   "cell_type": "code",
   "execution_count": 14,
   "id": "aaaa8cbc",
   "metadata": {},
   "outputs": [],
   "source": [
    "a = 3"
   ]
  },
  {
   "cell_type": "code",
   "execution_count": 15,
   "id": "53ed9968",
   "metadata": {},
   "outputs": [],
   "source": [
    "b = (a!=3)"
   ]
  },
  {
   "cell_type": "code",
   "execution_count": 16,
   "id": "44b493bf",
   "metadata": {},
   "outputs": [
    {
     "name": "stdout",
     "output_type": "stream",
     "text": [
      "False\n"
     ]
    }
   ],
   "source": [
    "print(b)"
   ]
  },
  {
   "cell_type": "code",
   "execution_count": 17,
   "id": "cf3c45c6",
   "metadata": {},
   "outputs": [],
   "source": [
    "apple_total = 20"
   ]
  },
  {
   "cell_type": "code",
   "execution_count": 18,
   "id": "1d337bdd",
   "metadata": {},
   "outputs": [],
   "source": [
    "banana_total = 6"
   ]
  },
  {
   "cell_type": "code",
   "execution_count": 21,
   "id": "537c17ef",
   "metadata": {},
   "outputs": [
    {
     "name": "stdout",
     "output_type": "stream",
     "text": [
      "A\n"
     ]
    }
   ],
   "source": [
    "if apple_total > banana_total:\n",
    "    print('A') "
   ]
  },
  {
   "cell_type": "code",
   "execution_count": 22,
   "id": "1119573a",
   "metadata": {},
   "outputs": [],
   "source": [
    "\n",
    "apple_total = 6\n",
    "banana_total = 20"
   ]
  },
  {
   "cell_type": "code",
   "execution_count": 24,
   "id": "7bda7208",
   "metadata": {},
   "outputs": [],
   "source": [
    "if apple_total > banana_total:\n",
    "    print('A')"
   ]
  },
  {
   "cell_type": "code",
   "execution_count": 25,
   "id": "07880b5e",
   "metadata": {},
   "outputs": [],
   "source": [
    "\n",
    "apple_total = 6\n",
    "banana_total = 6\n"
   ]
  },
  {
   "cell_type": "code",
   "execution_count": 26,
   "id": "5db6b7cd",
   "metadata": {},
   "outputs": [
    {
     "name": "stdout",
     "output_type": "stream",
     "text": [
      "T\n"
     ]
    }
   ],
   "source": [
    "if apple_total == banana_total:\n",
    "    print('T')"
   ]
  },
  {
   "cell_type": "code",
   "execution_count": 27,
   "id": "a351a1ad",
   "metadata": {},
   "outputs": [
    {
     "name": "stdout",
     "output_type": "stream",
     "text": [
      "T\n"
     ]
    }
   ],
   "source": [
    "if apple_total > banana_total: \n",
    "    print('A')\n",
    "elif banana_total > apple_total: \n",
    "    print('B')\n",
    "else: \n",
    "    print(\"T\")"
   ]
  },
  {
   "cell_type": "code",
   "execution_count": 28,
   "id": "7ed01605",
   "metadata": {},
   "outputs": [],
   "source": [
    "a_3 = int(input())\n",
    "a_2 = int(input())\n",
    "a_1 = int(input())\n"
   ]
  },
  {
   "cell_type": "code",
   "execution_count": 29,
   "id": "97ca8147",
   "metadata": {},
   "outputs": [],
   "source": [
    "b_3 = int(input())\n",
    "b_2 = int(input())\n",
    "b_1 = int(input())\n"
   ]
  },
  {
   "cell_type": "code",
   "execution_count": 30,
   "id": "442f7fc7",
   "metadata": {},
   "outputs": [],
   "source": [
    "a_total = a_3 * 3 + a_2 * 2 + a_3*1"
   ]
  },
  {
   "cell_type": "code",
   "execution_count": null,
   "id": "8f088de4",
   "metadata": {},
   "outputs": [],
   "source": [
    "a_total = b_3 * 3 + b_2 * 2 + b_3*1"
   ]
  }
 ],
 "metadata": {
  "kernelspec": {
   "display_name": "Python 3",
   "language": "python",
   "name": "python3"
  },
  "language_info": {
   "codemirror_mode": {
    "name": "ipython",
    "version": 3
   },
   "file_extension": ".py",
   "mimetype": "text/x-python",
   "name": "python",
   "nbconvert_exporter": "python",
   "pygments_lexer": "ipython3",
   "version": "3.11.9"
  }
 },
 "nbformat": 4,
 "nbformat_minor": 5
}
