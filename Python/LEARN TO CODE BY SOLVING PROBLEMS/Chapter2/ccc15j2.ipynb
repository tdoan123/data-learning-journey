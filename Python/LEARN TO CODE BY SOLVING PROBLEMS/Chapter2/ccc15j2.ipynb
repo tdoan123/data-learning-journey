{
 "cells": [
  {
   "cell_type": "code",
   "execution_count": 23,
   "id": "f5c9b770",
   "metadata": {},
   "outputs": [],
   "source": [
    "text = \"How are you :-) doing :-( today :-)  :-( :-(?\""
   ]
  },
  {
   "cell_type": "code",
   "execution_count": 12,
   "id": "e6de9688",
   "metadata": {},
   "outputs": [],
   "source": [
    "happy = ':-)'"
   ]
  },
  {
   "cell_type": "code",
   "execution_count": 14,
   "id": "0826dee3",
   "metadata": {},
   "outputs": [],
   "source": [
    "sad = ':-('"
   ]
  },
  {
   "cell_type": "code",
   "execution_count": 25,
   "id": "dbf74d77",
   "metadata": {},
   "outputs": [],
   "source": [
    "happy_count = text.count(happy)"
   ]
  },
  {
   "cell_type": "code",
   "execution_count": 16,
   "id": "880f1bf1",
   "metadata": {},
   "outputs": [
    {
     "data": {
      "text/plain": [
       "2"
      ]
     },
     "execution_count": 16,
     "metadata": {},
     "output_type": "execute_result"
    }
   ],
   "source": [
    "happy_count"
   ]
  },
  {
   "cell_type": "code",
   "execution_count": 26,
   "id": "be0c9078",
   "metadata": {},
   "outputs": [],
   "source": [
    "sad_count = text.count(sad)"
   ]
  },
  {
   "cell_type": "code",
   "execution_count": 27,
   "id": "2d297d1d",
   "metadata": {},
   "outputs": [
    {
     "name": "stdout",
     "output_type": "stream",
     "text": [
      "sad\n"
     ]
    }
   ],
   "source": [
    "if happy_count == 0 and sad_count == 0:\n",
    "    print('none')\n",
    "elif happy_count == sad_count :\n",
    "    print('unsure')\n",
    "elif happy_count > sad_count:  \n",
    "    print('happy')\n",
    "else:\n",
    "    print('sad')"
   ]
  },
  {
   "cell_type": "code",
   "execution_count": null,
   "id": "2f2291df",
   "metadata": {},
   "outputs": [],
   "source": []
  }
 ],
 "metadata": {
  "kernelspec": {
   "display_name": "Python 3",
   "language": "python",
   "name": "python3"
  },
  "language_info": {
   "codemirror_mode": {
    "name": "ipython",
    "version": 3
   },
   "file_extension": ".py",
   "mimetype": "text/x-python",
   "name": "python",
   "nbconvert_exporter": "python",
   "pygments_lexer": "ipython3",
   "version": "3.11.9"
  }
 },
 "nbformat": 4,
 "nbformat_minor": 5
}
