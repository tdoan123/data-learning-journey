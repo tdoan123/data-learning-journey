{
 "cells": [
  {
   "cell_type": "markdown",
   "id": "2b217ce9",
   "metadata": {},
   "source": [
    "https://academy.datawrapper.de/category/178-example-charts-maps\n"
   ]
  },
  {
   "cell_type": "markdown",
   "id": "0644e2db",
   "metadata": {},
   "source": []
  }
 ],
 "metadata": {
  "language_info": {
   "name": "python"
  }
 },
 "nbformat": 4,
 "nbformat_minor": 5
}
