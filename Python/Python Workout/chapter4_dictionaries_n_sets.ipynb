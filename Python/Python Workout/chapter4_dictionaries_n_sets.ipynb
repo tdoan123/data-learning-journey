{
 "cells": [
  {
   "cell_type": "markdown",
   "id": "17f6bb52",
   "metadata": {},
   "source": [
    "# Note"
   ]
  },
  {
   "cell_type": "markdown",
   "id": "d2e32ef4",
   "metadata": {},
   "source": [
    "## Key concepts need to know"
   ]
  },
  {
   "cell_type": "code",
   "execution_count": null,
   "id": "9315c2d1",
   "metadata": {},
   "outputs": [],
   "source": [
    "# `input`: prompts the user to enter a string, and returns a string \n",
    "x = input('Enter your name')"
   ]
  },
  {
   "cell_type": "code",
   "execution_count": 3,
   "id": "06bd430d",
   "metadata": {},
   "outputs": [
    {
     "data": {
      "text/plain": [
       "'Hello'"
      ]
     },
     "execution_count": 3,
     "metadata": {},
     "output_type": "execute_result"
    }
   ],
   "source": [
    "x"
   ]
  },
  {
   "cell_type": "code",
   "execution_count": 13,
   "id": "a4e65b7a",
   "metadata": {},
   "outputs": [
    {
     "data": {
      "text/plain": [
       "{'a': 1, 'b': 2}"
      ]
     },
     "execution_count": 13,
     "metadata": {},
     "output_type": "execute_result"
    }
   ],
   "source": [
    "# dict: python's dict type for storing key-value pairs. `dict` can also be used to create a new dict \n",
    "## Use a comma-separated list of key: value pairs within braces:\n",
    "d = {'a':1, 'b':2}\n",
    "d"
   ]
  },
  {
   "cell_type": "code",
   "execution_count": 12,
   "id": "60ee3daf",
   "metadata": {},
   "outputs": [
    {
     "data": {
      "text/plain": [
       "1"
      ]
     },
     "execution_count": 12,
     "metadata": {},
     "output_type": "execute_result"
    }
   ],
   "source": [
    "d['a']"
   ]
  },
  {
   "cell_type": "code",
   "execution_count": 11,
   "id": "dd41385f",
   "metadata": {},
   "outputs": [
    {
     "data": {
      "text/plain": [
       "{'foo': 100, 'bar': 200}"
      ]
     },
     "execution_count": 11,
     "metadata": {},
     "output_type": "execute_result"
    }
   ],
   "source": [
    "## use type constructor: \n",
    "d1 = dict([('foo', 100),('bar',200)])\n",
    "d1"
   ]
  },
  {
   "cell_type": "code",
   "execution_count": 10,
   "id": "6b78c049",
   "metadata": {},
   "outputs": [
    {
     "data": {
      "text/plain": [
       "{0: 0, 1: 1, 2: 4, 3: 9, 4: 16, 5: 25, 6: 36, 7: 49, 8: 64, 9: 81}"
      ]
     },
     "execution_count": 10,
     "metadata": {},
     "output_type": "execute_result"
    }
   ],
   "source": [
    "## use a dict comprehension:\n",
    "d2 = {x: x ** 2 for x in range(10)}\n",
    "d2"
   ]
  },
  {
   "cell_type": "code",
   "execution_count": 16,
   "id": "51fdcfb3",
   "metadata": {},
   "outputs": [
    {
     "data": {
      "text/plain": [
       "1"
      ]
     },
     "execution_count": 16,
     "metadata": {},
     "output_type": "execute_result"
    }
   ],
   "source": [
    "# `dict.get` just like d[k] except that it return None(or the second, optional argument) if k isnnt in d  \n",
    "y = d.get('a')\n",
    "y"
   ]
  },
  {
   "cell_type": "code",
   "execution_count": 19,
   "id": "7e3bcd8d",
   "metadata": {},
   "outputs": [
    {
     "data": {
      "text/plain": [
       "2"
      ]
     },
     "execution_count": 19,
     "metadata": {},
     "output_type": "execute_result"
    }
   ],
   "source": [
    "y = d.get('b',10)\n",
    "y"
   ]
  },
  {
   "cell_type": "code",
   "execution_count": 22,
   "id": "995490a1",
   "metadata": {},
   "outputs": [
    {
     "name": "stdout",
     "output_type": "stream",
     "text": [
      "key = a\n",
      "value = 1\n",
      "key = b\n",
      "value = 2\n"
     ]
    }
   ],
   "source": [
    "# dict.items: return an iterator that return a key-value pair (as a tuple) with each iteration  \n",
    "for key, value in d.items():\n",
    "    print(f'key = {key}')\n",
    "    print(f'value = {value}')"
   ]
  },
  {
   "cell_type": "code",
   "execution_count": 27,
   "id": "d13883ad",
   "metadata": {},
   "outputs": [
    {
     "data": {
      "text/plain": [
       "{1, 2, 3}"
      ]
     },
     "execution_count": 27,
     "metadata": {},
     "output_type": "execute_result"
    }
   ],
   "source": [
    "# `set`: python's set type for storing unique, hashable items. `set` can also be used to create a new set  \n",
    "s = {1, 2, 3}\n",
    "s\n"
   ]
  },
  {
   "cell_type": "code",
   "execution_count": 28,
   "id": "5bbb550e",
   "metadata": {},
   "outputs": [
    {
     "data": {
      "text/plain": [
       "{1, 2, 3, 10}"
      ]
     },
     "execution_count": 28,
     "metadata": {},
     "output_type": "execute_result"
    }
   ],
   "source": [
    "# `set.add` to add one item to a set \n",
    "s.add(10)\n",
    "s"
   ]
  },
  {
   "cell_type": "code",
   "execution_count": 30,
   "id": "e75568f0",
   "metadata": {},
   "outputs": [
    {
     "data": {
      "text/plain": [
       "{1, 2, 3, 10, 20, 30, 40, 50}"
      ]
     },
     "execution_count": 30,
     "metadata": {},
     "output_type": "execute_result"
    }
   ],
   "source": [
    "# `set.update` to add one or more iterables to a set \n",
    "s.update([10, 20, 30, 40, 50])\n",
    "s"
   ]
  },
  {
   "cell_type": "code",
   "execution_count": 31,
   "id": "2f64dbc5",
   "metadata": {},
   "outputs": [],
   "source": [
    "menu = {'sandwich':10, 'tea':7, 'salad':9}"
   ]
  },
  {
   "cell_type": "code",
   "execution_count": 32,
   "id": "3dd1c12b",
   "metadata": {},
   "outputs": [
    {
     "name": "stdout",
     "output_type": "stream",
     "text": [
      "we are out of coffee\n",
      "we are out of bia\n",
      "salad is 9, total is 9\n",
      "salad is 9, total is 18\n",
      "tea is 7, total is 25\n",
      "Your total is 25\n"
     ]
    }
   ],
   "source": [
    "def restaurant():\n",
    "    total = 0 \n",
    "    while True:\n",
    "        order = input('Order: ').strip()\n",
    "        if not order:\n",
    "            break \n",
    "        if order in menu:\n",
    "            price = menu[order]\n",
    "            total += price\n",
    "            print(f'{order} is {price}, total is {total}')\n",
    "        else: \n",
    "            print(f'we are out of {order}')\n",
    "    print(f'Your total is {total}')\n",
    "\n",
    "restaurant()"
   ]
  },
  {
   "cell_type": "code",
   "execution_count": null,
   "id": "27242093",
   "metadata": {},
   "outputs": [],
   "source": []
  }
 ],
 "metadata": {
  "kernelspec": {
   "display_name": "Python 3",
   "language": "python",
   "name": "python3"
  },
  "language_info": {
   "codemirror_mode": {
    "name": "ipython",
    "version": 3
   },
   "file_extension": ".py",
   "mimetype": "text/x-python",
   "name": "python",
   "nbconvert_exporter": "python",
   "pygments_lexer": "ipython3",
   "version": "3.11.9"
  }
 },
 "nbformat": 4,
 "nbformat_minor": 5
}
