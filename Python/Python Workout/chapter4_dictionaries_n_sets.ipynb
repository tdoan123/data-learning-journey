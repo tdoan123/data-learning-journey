{
 "cells": [
  {
   "cell_type": "markdown",
   "id": "17f6bb52",
   "metadata": {},
   "source": [
    "# Note"
   ]
  },
  {
   "cell_type": "markdown",
   "id": "d2e32ef4",
   "metadata": {},
   "source": [
    "## Key concepts need to know"
   ]
  },
  {
   "cell_type": "code",
   "execution_count": null,
   "id": "9315c2d1",
   "metadata": {},
   "outputs": [],
   "source": [
    "# `input`: prompts the user to enter a string, and returns a string \n",
    "x = input('Enter your name')"
   ]
  },
  {
   "cell_type": "code",
   "execution_count": 3,
   "id": "06bd430d",
   "metadata": {},
   "outputs": [
    {
     "data": {
      "text/plain": [
       "'Hello'"
      ]
     },
     "execution_count": 3,
     "metadata": {},
     "output_type": "execute_result"
    }
   ],
   "source": [
    "x"
   ]
  },
  {
   "cell_type": "code",
   "execution_count": 13,
   "id": "a4e65b7a",
   "metadata": {},
   "outputs": [
    {
     "data": {
      "text/plain": [
       "{'a': 1, 'b': 2}"
      ]
     },
     "execution_count": 13,
     "metadata": {},
     "output_type": "execute_result"
    }
   ],
   "source": [
    "# dict: python's dict type for storing key-value pairs. `dict` can also be used to create a new dict \n",
    "## Use a comma-separated list of key: value pairs within braces:\n",
    "d = {'a':1, 'b':2}\n",
    "d"
   ]
  },
  {
   "cell_type": "code",
   "execution_count": 12,
   "id": "60ee3daf",
   "metadata": {},
   "outputs": [
    {
     "data": {
      "text/plain": [
       "1"
      ]
     },
     "execution_count": 12,
     "metadata": {},
     "output_type": "execute_result"
    }
   ],
   "source": [
    "d['a']"
   ]
  },
  {
   "cell_type": "code",
   "execution_count": 11,
   "id": "dd41385f",
   "metadata": {},
   "outputs": [
    {
     "data": {
      "text/plain": [
       "{'foo': 100, 'bar': 200}"
      ]
     },
     "execution_count": 11,
     "metadata": {},
     "output_type": "execute_result"
    }
   ],
   "source": [
    "## use type constructor: \n",
    "d1 = dict([('foo', 100),('bar',200)])\n",
    "d1"
   ]
  },
  {
   "cell_type": "code",
   "execution_count": 10,
   "id": "6b78c049",
   "metadata": {},
   "outputs": [
    {
     "data": {
      "text/plain": [
       "{0: 0, 1: 1, 2: 4, 3: 9, 4: 16, 5: 25, 6: 36, 7: 49, 8: 64, 9: 81}"
      ]
     },
     "execution_count": 10,
     "metadata": {},
     "output_type": "execute_result"
    }
   ],
   "source": [
    "## use a dict comprehension:\n",
    "d2 = {x: x ** 2 for x in range(10)}\n",
    "d2"
   ]
  },
  {
   "cell_type": "code",
   "execution_count": 16,
   "id": "51fdcfb3",
   "metadata": {},
   "outputs": [
    {
     "data": {
      "text/plain": [
       "1"
      ]
     },
     "execution_count": 16,
     "metadata": {},
     "output_type": "execute_result"
    }
   ],
   "source": [
    "# `dict.get` just like d[k] except that it return None(or the second, optional argument) if k isnnt in d  \n",
    "y = d.get('a')\n",
    "y"
   ]
  },
  {
   "cell_type": "code",
   "execution_count": 19,
   "id": "7e3bcd8d",
   "metadata": {},
   "outputs": [
    {
     "data": {
      "text/plain": [
       "2"
      ]
     },
     "execution_count": 19,
     "metadata": {},
     "output_type": "execute_result"
    }
   ],
   "source": [
    "y = d.get('b',10)\n",
    "y"
   ]
  },
  {
   "cell_type": "code",
   "execution_count": 22,
   "id": "995490a1",
   "metadata": {},
   "outputs": [
    {
     "name": "stdout",
     "output_type": "stream",
     "text": [
      "key = a\n",
      "value = 1\n",
      "key = b\n",
      "value = 2\n"
     ]
    }
   ],
   "source": [
    "# dict.items: return an iterator that return a key-value pair (as a tuple) with each iteration  \n",
    "for key, value in d.items():\n",
    "    print(f'key = {key}')\n",
    "    print(f'value = {value}')"
   ]
  },
  {
   "cell_type": "code",
   "execution_count": 27,
   "id": "d13883ad",
   "metadata": {},
   "outputs": [
    {
     "data": {
      "text/plain": [
       "{1, 2, 3}"
      ]
     },
     "execution_count": 27,
     "metadata": {},
     "output_type": "execute_result"
    }
   ],
   "source": [
    "# `set`: python's set type for storing unique, hashable items. `set` can also be used to create a new set  \n",
    "s = {1, 2, 3}\n",
    "s\n"
   ]
  },
  {
   "cell_type": "code",
   "execution_count": 28,
   "id": "5bbb550e",
   "metadata": {},
   "outputs": [
    {
     "data": {
      "text/plain": [
       "{1, 2, 3, 10}"
      ]
     },
     "execution_count": 28,
     "metadata": {},
     "output_type": "execute_result"
    }
   ],
   "source": [
    "# `set.add` to add one item to a set \n",
    "s.add(10)\n",
    "s"
   ]
  },
  {
   "cell_type": "code",
   "execution_count": 30,
   "id": "e75568f0",
   "metadata": {},
   "outputs": [
    {
     "data": {
      "text/plain": [
       "{1, 2, 3, 10, 20, 30, 40, 50}"
      ]
     },
     "execution_count": 30,
     "metadata": {},
     "output_type": "execute_result"
    }
   ],
   "source": [
    "# `set.update` to add one or more iterables to a set \n",
    "s.update([10, 20, 30, 40, 50])\n",
    "s"
   ]
  },
  {
   "cell_type": "code",
   "execution_count": 31,
   "id": "2f64dbc5",
   "metadata": {},
   "outputs": [],
   "source": [
    "menu = {'sandwich':10, 'tea':7, 'salad':9}"
   ]
  },
  {
   "cell_type": "code",
   "execution_count": 32,
   "id": "3dd1c12b",
   "metadata": {},
   "outputs": [
    {
     "name": "stdout",
     "output_type": "stream",
     "text": [
      "we are out of coffee\n",
      "we are out of bia\n",
      "salad is 9, total is 9\n",
      "salad is 9, total is 18\n",
      "tea is 7, total is 25\n",
      "Your total is 25\n"
     ]
    }
   ],
   "source": [
    "def restaurant():\n",
    "    total = 0 \n",
    "    while True:\n",
    "        order = input('Order: ').strip()\n",
    "        if not order:\n",
    "            break \n",
    "        if order in menu:\n",
    "            price = menu[order]\n",
    "            total += price\n",
    "            print(f'{order} is {price}, total is {total}')\n",
    "        else: \n",
    "            print(f'we are out of {order}')\n",
    "    print(f'Your total is {total}')\n",
    "\n",
    "restaurant()"
   ]
  },
  {
   "cell_type": "markdown",
   "id": "27242093",
   "metadata": {},
   "source": [
    "## Exercise 14.1 "
   ]
  },
  {
   "cell_type": "code",
   "execution_count": 1,
   "id": "84275ea8",
   "metadata": {},
   "outputs": [],
   "source": [
    "accounts = {'user1':'abc','user2':'bcd', 'user3':'cde'} # to create a dictionary content users and its associate password "
   ]
  },
  {
   "cell_type": "code",
   "execution_count": 2,
   "id": "a12b3682",
   "metadata": {},
   "outputs": [
    {
     "data": {
      "text/plain": [
       "{'user1': 'abc', 'user2': 'bcd', 'user3': 'cde'}"
      ]
     },
     "execution_count": 2,
     "metadata": {},
     "output_type": "execute_result"
    }
   ],
   "source": [
    "accounts"
   ]
  },
  {
   "cell_type": "code",
   "execution_count": 4,
   "id": "11c9be4a",
   "metadata": {},
   "outputs": [
    {
     "name": "stdout",
     "output_type": "stream",
     "text": [
      "Incorrect either password or username\n",
      "Incorrect either password or username\n"
     ]
    }
   ],
   "source": [
    "def log_in():\n",
    "    while True: \n",
    "        username = input('Username: ').strip()\n",
    "        if not username:\n",
    "            break\n",
    "        password = input('password: ').strip()\n",
    "        if username in accounts and password == accounts[username]:\n",
    "            print('Success')\n",
    "        else: \n",
    "            print('Incorrect either password or username')\n",
    "\n",
    "log_in()"
   ]
  },
  {
   "cell_type": "markdown",
   "id": "70628fde",
   "metadata": {},
   "source": [
    "## Exercise 14.2"
   ]
  },
  {
   "cell_type": "code",
   "execution_count": 5,
   "id": "537e6e97",
   "metadata": {},
   "outputs": [],
   "source": [
    "data = {'081325':23,'081425':26,'081525':25,'081625':24,'081725':26}"
   ]
  },
  {
   "cell_type": "code",
   "execution_count": 37,
   "id": "f73b2430",
   "metadata": {},
   "outputs": [
    {
     "name": "stdout",
     "output_type": "stream",
     "text": [
      "Yesterday temperature is 26 \n",
      "Today temperature is 26 \n",
      "Tomorrow temperature is 26 \n",
      "No record found\n",
      "Yesterday temperature is 25 \n",
      "Today temperature is 25 \n",
      "Tomorrow temperature is 25 \n"
     ]
    }
   ],
   "source": [
    "def get_temp():\n",
    "    while True: \n",
    "        request_date = input(\"Check date ('MMDDYY'): \")\n",
    "\n",
    "        if not request_date:\n",
    "            break\n",
    "\n",
    "        if request_date in data: \n",
    "            key_to_find = request_date \n",
    "            index = list(data.keys()).index(key_to_find)\n",
    "            yesterday_temperature = list(data.values())[index - 1]\n",
    "            today_temperature = list(data.values())[index]\n",
    "            tomorrow_temperature = list(data.values())[index + 1]\n",
    "            print(f'Yesterday temperature is {yesterday_temperature} ')\n",
    "            print(f'Today temperature is {yesterday_temperature} ')\n",
    "            print(f'Tomorrow temperature is {yesterday_temperature} ')\n",
    "        \n",
    "        else: \n",
    "            print('No record found')\n",
    "\n",
    "get_temp()\n"
   ]
  },
  {
   "cell_type": "code",
   "execution_count": 24,
   "id": "4d150bef",
   "metadata": {},
   "outputs": [
    {
     "data": {
      "text/plain": [
       "23"
      ]
     },
     "execution_count": 24,
     "metadata": {},
     "output_type": "execute_result"
    }
   ],
   "source": [
    "test = list(data.keys()).index('081325')\n",
    "print_test = list(data.values())[test]\n",
    "print_test"
   ]
  },
  {
   "cell_type": "code",
   "execution_count": 12,
   "id": "f1c9a14b",
   "metadata": {},
   "outputs": [
    {
     "data": {
      "text/plain": [
       "dict_keys(['081325', '081425', '081525', '081625', '081725'])"
      ]
     },
     "execution_count": 12,
     "metadata": {},
     "output_type": "execute_result"
    }
   ],
   "source": [
    "data.keys()"
   ]
  },
  {
   "cell_type": "code",
   "execution_count": null,
   "id": "08c113a6",
   "metadata": {},
   "outputs": [
    {
     "data": {
      "text/plain": [
       "2"
      ]
     },
     "execution_count": 14,
     "metadata": {},
     "output_type": "execute_result"
    }
   ],
   "source": [
    "key_to_find = '081525'\n",
    "index = list(data.keys()).index(key_to_find)\n",
    "index\n"
   ]
  },
  {
   "cell_type": "code",
   "execution_count": 17,
   "id": "51d7b544",
   "metadata": {},
   "outputs": [
    {
     "data": {
      "text/plain": [
       "24"
      ]
     },
     "execution_count": 17,
     "metadata": {},
     "output_type": "execute_result"
    }
   ],
   "source": [
    "result = list(data.values())[index + 1]\n",
    "result"
   ]
  },
  {
   "cell_type": "markdown",
   "id": "b48c2023",
   "metadata": {},
   "source": [
    "### lesson learn: \n",
    "- Dictionary in python does not have index posiion like `list` or `tuple`  \n",
    "- To get key and value position of an index: \n",
    "  - Assign either key and value into a list, then use list method to get the desire index position   "
   ]
  },
  {
   "cell_type": "markdown",
   "id": "2d33141f",
   "metadata": {},
   "source": [
    "## Exercise 15 - Rainfall:  \n",
    "- create an empty dictionary  \n",
    "- continue adding keys and values into the dictionary: \n",
    "  - If no existing record of key: \n",
    "    - add key then add value \n",
    "  - if there is existing record of the key: \n",
    "    - add value to the   available key  "
   ]
  },
  {
   "cell_type": "code",
   "execution_count": 42,
   "id": "5b32d34a",
   "metadata": {},
   "outputs": [
    {
     "name": "stdout",
     "output_type": "stream",
     "text": [
      "hcmc has 40 mm\n"
     ]
    }
   ],
   "source": [
    "def get_rainfall():\n",
    "    rainfall = {}\n",
    "    \n",
    "    while True: \n",
    "        city_name = input('Enter city name: ')\n",
    "        if not city_name:\n",
    "            break \n",
    "\n",
    "        mm_rain = input('Enter mm rain: ')\n",
    "        rainfall[city_name] = rainfall.get(city_name,0) + int(mm_rain) # assign value to a dictionary key: if their is existing city, this will call out the value and then add a new value. if not, it will return the value as 0 and then add the user input \n",
    "    \n",
    "    for city, rain in rainfall.items(): \n",
    "        print(f'{city} has {rain} mm')\n",
    "\n",
    "get_rainfall()\n"
   ]
  },
  {
   "cell_type": "markdown",
   "id": "5fa5fe62",
   "metadata": {},
   "source": [
    "## Exercise 16: Dictdiff"
   ]
  },
  {
   "cell_type": "code",
   "execution_count": 82,
   "id": "a8f7d2f9",
   "metadata": {},
   "outputs": [],
   "source": [
    "d1 = {'a':1,'b':2,'c':3}\n",
    "d2 = {'a':1,'b':2,'c':4, 'd':5}\n"
   ]
  },
  {
   "cell_type": "code",
   "execution_count": 46,
   "id": "31abb221",
   "metadata": {},
   "outputs": [
    {
     "data": {
      "text/plain": [
       "{'a': 1, 'b': 2, 'c': 3}"
      ]
     },
     "execution_count": 46,
     "metadata": {},
     "output_type": "execute_result"
    }
   ],
   "source": [
    "d1\n"
   ]
  },
  {
   "cell_type": "code",
   "execution_count": 59,
   "id": "45771cf6",
   "metadata": {},
   "outputs": [
    {
     "data": {
      "text/plain": [
       "{'a': 1, 'b': 2, 'c': 4}"
      ]
     },
     "execution_count": 59,
     "metadata": {},
     "output_type": "execute_result"
    }
   ],
   "source": [
    "d2"
   ]
  },
  {
   "cell_type": "code",
   "execution_count": 60,
   "id": "2a216cde",
   "metadata": {},
   "outputs": [
    {
     "data": {
      "text/plain": [
       "dict_keys(['a', 'b', 'c'])"
      ]
     },
     "execution_count": 60,
     "metadata": {},
     "output_type": "execute_result"
    }
   ],
   "source": [
    "d1.keys()"
   ]
  },
  {
   "cell_type": "code",
   "execution_count": 83,
   "id": "c08f42fa",
   "metadata": {},
   "outputs": [
    {
     "data": {
      "text/plain": [
       "dict_keys(['a', 'b', 'c', 'd'])"
      ]
     },
     "execution_count": 83,
     "metadata": {},
     "output_type": "execute_result"
    }
   ],
   "source": [
    "d2.keys()"
   ]
  },
  {
   "cell_type": "code",
   "execution_count": 84,
   "id": "5c8fc9a6",
   "metadata": {},
   "outputs": [
    {
     "data": {
      "text/plain": [
       "{'a', 'b', 'c', 'd'}"
      ]
     },
     "execution_count": 84,
     "metadata": {},
     "output_type": "execute_result"
    }
   ],
   "source": [
    "d1.keys() | d2.keys()"
   ]
  },
  {
   "cell_type": "code",
   "execution_count": 86,
   "id": "f6adb189",
   "metadata": {},
   "outputs": [
    {
     "name": "stdout",
     "output_type": "stream",
     "text": [
      "output = {'c': [3, 4], 'd': [None, 5]}\n"
     ]
    }
   ],
   "source": [
    "def dicdiff(first,second):\n",
    "    output = {}\n",
    "    all_keys = first.keys() | second.keys()\n",
    "\n",
    "    for key in all_keys:\n",
    "        if first.get(key) != second.get(key):\n",
    "            output[key] = [first.get(key),second.get(key)]\n",
    "    \n",
    "    print(f'output = {output}')  \n",
    "\n",
    "dicdiff(d1,d2)"
   ]
  },
  {
   "cell_type": "code",
   "execution_count": 74,
   "id": "a5c8ad7e",
   "metadata": {},
   "outputs": [
    {
     "data": {
      "text/plain": [
       "4"
      ]
     },
     "execution_count": 74,
     "metadata": {},
     "output_type": "execute_result"
    }
   ],
   "source": [
    "d2.get('c')"
   ]
  },
  {
   "cell_type": "markdown",
   "id": "366c3c0c",
   "metadata": {},
   "source": [
    "## Excerise 16.1 - 16.2 - 16.3: pending as asking for writing function that I am not prepared for  "
   ]
  },
  {
   "cell_type": "markdown",
   "id": "d387d0d6",
   "metadata": {},
   "source": [
    "## Exercise 17: \n",
    "- write a function, called `how_many_different_numbers` that takes a single list of integers and return the number of different intergers it contains"
   ]
  },
  {
   "cell_type": "code",
   "execution_count": 94,
   "id": "d45af000",
   "metadata": {},
   "outputs": [],
   "source": [
    "numbers = [1,2,3,1,2,3,4,1]"
   ]
  },
  {
   "cell_type": "code",
   "execution_count": 88,
   "id": "283f503b",
   "metadata": {},
   "outputs": [
    {
     "data": {
      "text/plain": [
       "8"
      ]
     },
     "execution_count": 88,
     "metadata": {},
     "output_type": "execute_result"
    }
   ],
   "source": [
    "len(number)"
   ]
  },
  {
   "cell_type": "code",
   "execution_count": 95,
   "id": "ce434325",
   "metadata": {},
   "outputs": [],
   "source": [
    "unique_numbers = set(numbers) # convert number variable from `list` to `set`"
   ]
  },
  {
   "cell_type": "code",
   "execution_count": 96,
   "id": "74a112c8",
   "metadata": {},
   "outputs": [
    {
     "data": {
      "text/plain": [
       "list"
      ]
     },
     "execution_count": 96,
     "metadata": {},
     "output_type": "execute_result"
    }
   ],
   "source": [
    "type(numbers)"
   ]
  },
  {
   "cell_type": "code",
   "execution_count": 93,
   "id": "d48544ff",
   "metadata": {},
   "outputs": [
    {
     "data": {
      "text/plain": [
       "set"
      ]
     },
     "execution_count": 93,
     "metadata": {},
     "output_type": "execute_result"
    }
   ],
   "source": [
    "type(unique_numbers)"
   ]
  },
  {
   "cell_type": "code",
   "execution_count": null,
   "id": "a2417d4c",
   "metadata": {},
   "outputs": [
    {
     "data": {
      "text/plain": [
       "{1, 2, 3, 4}"
      ]
     },
     "execution_count": 90,
     "metadata": {},
     "output_type": "execute_result"
    }
   ],
   "source": [
    "unique_numbers"
   ]
  },
  {
   "cell_type": "code",
   "execution_count": null,
   "id": "25939443",
   "metadata": {},
   "outputs": [
    {
     "name": "stdout",
     "output_type": "stream",
     "text": [
      "{1, 2, 3, 4}\n"
     ]
    }
   ],
   "source": [
    "unique_numbers = set()\n",
    "\n",
    "for number in numbers:\n",
    "    unique_numbers.add(number)\n",
    "\n",
    "print(unique_numbers)\n",
    "\n",
    "# this is similar to transfer list to set using set(numbers)\n"
   ]
  },
  {
   "cell_type": "code",
   "execution_count": 98,
   "id": "222797b7",
   "metadata": {},
   "outputs": [
    {
     "name": "stdout",
     "output_type": "stream",
     "text": [
      "{1, 2, 3, 4}\n"
     ]
    }
   ],
   "source": [
    "unique_numbers = set()\n",
    "unique_numbers.update(numbers)\n",
    "\n",
    "print(unique_numbers)\n",
    "# this is similar to transfer list to set using set(numbers)\n"
   ]
  },
  {
   "cell_type": "code",
   "execution_count": 99,
   "id": "b2db76d9",
   "metadata": {},
   "outputs": [],
   "source": [
    "def how_many_different_numbers(numbers):\n",
    "    unique_numbers = set(numbers)\n",
    "    return len(unique_numbers)\n"
   ]
  },
  {
   "cell_type": "code",
   "execution_count": 100,
   "id": "389ec0ae",
   "metadata": {},
   "outputs": [
    {
     "data": {
      "text/plain": [
       "8"
      ]
     },
     "execution_count": 100,
     "metadata": {},
     "output_type": "execute_result"
    }
   ],
   "source": [
    "how_many_different_numbers([1,2,3,3,4,5,6,6,7,7,7,8])"
   ]
  },
  {
   "cell_type": "code",
   "execution_count": 102,
   "id": "5d3de02b",
   "metadata": {},
   "outputs": [
    {
     "data": {
      "text/plain": [
       "1"
      ]
     },
     "execution_count": 102,
     "metadata": {},
     "output_type": "execute_result"
    }
   ],
   "source": [
    "how_many_different_numbers([1,1,1,1,1,1,1,1])"
   ]
  },
  {
   "cell_type": "code",
   "execution_count": null,
   "id": "eaa16e24",
   "metadata": {},
   "outputs": [],
   "source": []
  }
 ],
 "metadata": {
  "kernelspec": {
   "display_name": "Python 3",
   "language": "python",
   "name": "python3"
  },
  "language_info": {
   "codemirror_mode": {
    "name": "ipython",
    "version": 3
   },
   "file_extension": ".py",
   "mimetype": "text/x-python",
   "name": "python",
   "nbconvert_exporter": "python",
   "pygments_lexer": "ipython3",
   "version": "3.11.9"
  }
 },
 "nbformat": 4,
 "nbformat_minor": 5
}
