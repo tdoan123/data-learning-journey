{
 "cells": [
  {
   "cell_type": "code",
   "execution_count": 8,
   "id": "845dcb03",
   "metadata": {},
   "outputs": [],
   "source": [
    "def hello(name):\n",
    "    return f'hello, nice to meet you, {name}'\n"
   ]
  },
  {
   "cell_type": "code",
   "execution_count": 11,
   "id": "6c6e921e",
   "metadata": {},
   "outputs": [
    {
     "data": {
      "text/plain": [
       "'hello, nice to meet you, asd'"
      ]
     },
     "execution_count": 11,
     "metadata": {},
     "output_type": "execute_result"
    }
   ],
   "source": [
    "hello(name='asd')"
   ]
  },
  {
   "cell_type": "code",
   "execution_count": 12,
   "id": "54abe9b3",
   "metadata": {},
   "outputs": [],
   "source": [
    "def hello2(name = 'Pretty'):\n",
    "    return f'hello, nice to meet you, {name}'\n"
   ]
  },
  {
   "cell_type": "code",
   "execution_count": null,
   "id": "173f7efd",
   "metadata": {},
   "outputs": [
    {
     "data": {
      "text/plain": [
       "'hello, nice to meet you, Pretty'"
      ]
     },
     "execution_count": 15,
     "metadata": {},
     "output_type": "execute_result"
    }
   ],
   "source": [
    "hello2()"
   ]
  },
  {
   "cell_type": "markdown",
   "id": "5da8c067",
   "metadata": {},
   "source": [
    "## Exercise 25: XML generator"
   ]
  },
  {
   "cell_type": "code",
   "execution_count": null,
   "id": "3cea5266",
   "metadata": {},
   "outputs": [],
   "source": [
    "# step 1: create a function with only on argument `tagname`\n",
    "def myxml(tagname):\n",
    "    return f'<{tagname}></{tagname}>'"
   ]
  },
  {
   "cell_type": "code",
   "execution_count": 18,
   "id": "579a25c6",
   "metadata": {},
   "outputs": [
    {
     "data": {
      "text/plain": [
       "'<ddad></ddad>'"
      ]
     },
     "execution_count": 18,
     "metadata": {},
     "output_type": "execute_result"
    }
   ],
   "source": [
    "myxml('ddad')"
   ]
  },
  {
   "cell_type": "code",
   "execution_count": 30,
   "id": "d19d719c",
   "metadata": {},
   "outputs": [],
   "source": [
    "# step 2: add another argument for `content`. This structure allows the function to accept the second argument `content`, even if it is not inserted by users. \n",
    "def myxml(tagname, content=''):\n",
    "    return f'<{tagname}>{content}</{tagname}>'"
   ]
  },
  {
   "cell_type": "code",
   "execution_count": 21,
   "id": "2f515784",
   "metadata": {},
   "outputs": [
    {
     "data": {
      "text/plain": [
       "'<asdfas>btsre</asdfas>'"
      ]
     },
     "execution_count": 21,
     "metadata": {},
     "output_type": "execute_result"
    }
   ],
   "source": [
    "myxml('asdfas','btsre')"
   ]
  },
  {
   "cell_type": "code",
   "execution_count": 31,
   "id": "aec0ea41",
   "metadata": {},
   "outputs": [],
   "source": [
    "# step 3: add $kwargs for `n` value of attributes inside the content i.e. content can have as many attributes as the users want \n",
    "# step 4: create a variable to store all the attribute => then the output can return this variable \n",
    "def myxml(tagname, content='', **kwargs):\n",
    "    attrs = ''.join([f' {key}=\"{value}\"' for key, value in kwargs.items()])\n",
    "    return f'<{tagname}{attrs} > {content} </{tagname}>'"
   ]
  },
  {
   "cell_type": "code",
   "execution_count": 29,
   "id": "598712d7",
   "metadata": {},
   "outputs": [
    {
     "data": {
      "text/plain": [
       "'<tag a=\"1\" b=\"2\" c=\"12\" > hello </tag>'"
      ]
     },
     "execution_count": 29,
     "metadata": {},
     "output_type": "execute_result"
    }
   ],
   "source": [
    "myxml('tag','hello', a=1, b=2, c=12)"
   ]
  },
  {
   "cell_type": "code",
   "execution_count": 32,
   "id": "f1a0adf4",
   "metadata": {},
   "outputs": [],
   "source": [
    "number = (1,2,3)"
   ]
  },
  {
   "cell_type": "code",
   "execution_count": 33,
   "id": "3e25882a",
   "metadata": {},
   "outputs": [
    {
     "data": {
      "text/plain": [
       "tuple"
      ]
     },
     "execution_count": 33,
     "metadata": {},
     "output_type": "execute_result"
    }
   ],
   "source": [
    "type(number)"
   ]
  },
  {
   "cell_type": "code",
   "execution_count": null,
   "id": "23cca420",
   "metadata": {},
   "outputs": [
    {
     "name": "stdout",
     "output_type": "stream",
     "text": [
      "1 2 3\n"
     ]
    }
   ],
   "source": []
  },
  {
   "cell_type": "markdown",
   "id": "d30984e9",
   "metadata": {},
   "source": [
    "## Exercise 25.2: \n",
    "Write a 'factorial' function that take any number of numeric arguments and returns the result of multiplying them all by one another"
   ]
  },
  {
   "cell_type": "markdown",
   "id": "08aa4119",
   "metadata": {},
   "source": [
    "#### thinking: \n",
    "-  function name `factorial`  \n",
    "-  take any number of numeric arguments => *args \n",
    "-  unpack this number and to multiply them together => I need multiple function? "
   ]
  },
  {
   "cell_type": "code",
   "execution_count": 40,
   "id": "f17d6b41",
   "metadata": {},
   "outputs": [],
   "source": [
    "def factorial(*args):\n",
    "    return (args)"
   ]
  },
  {
   "cell_type": "code",
   "execution_count": 41,
   "id": "9a057035",
   "metadata": {},
   "outputs": [
    {
     "data": {
      "text/plain": [
       "(1, 2, 3, 4)"
      ]
     },
     "execution_count": 41,
     "metadata": {},
     "output_type": "execute_result"
    }
   ],
   "source": [
    "factorial(1,2,3,4)"
   ]
  },
  {
   "cell_type": "code",
   "execution_count": 42,
   "id": "ae26d4cc",
   "metadata": {},
   "outputs": [
    {
     "data": {
      "text/plain": [
       "function"
      ]
     },
     "execution_count": 42,
     "metadata": {},
     "output_type": "execute_result"
    }
   ],
   "source": [
    "type(factorial)"
   ]
  },
  {
   "cell_type": "code",
   "execution_count": null,
   "id": "80eb96a4",
   "metadata": {},
   "outputs": [],
   "source": []
  }
 ],
 "metadata": {
  "kernelspec": {
   "display_name": "Python 3",
   "language": "python",
   "name": "python3"
  },
  "language_info": {
   "codemirror_mode": {
    "name": "ipython",
    "version": 3
   },
   "file_extension": ".py",
   "mimetype": "text/x-python",
   "name": "python",
   "nbconvert_exporter": "python",
   "pygments_lexer": "ipython3",
   "version": "3.11.9"
  }
 },
 "nbformat": 4,
 "nbformat_minor": 5
}
