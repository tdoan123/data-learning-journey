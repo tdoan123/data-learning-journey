{
 "cells": [
  {
   "cell_type": "code",
   "execution_count": null,
   "id": "933d7313",
   "metadata": {},
   "outputs": [],
   "source": []
  },
  {
   "cell_type": "code",
   "execution_count": 1,
   "id": "9a2c694d",
   "metadata": {},
   "outputs": [],
   "source": [
    "class Shape:\n",
    "    def __init__(self,name):\n",
    "        self.name = name \n",
    "\n",
    "    def perimeter(self):\n",
    "        raise NotImplementedError('perimeter')\n",
    "    \n",
    "    def area(self):\n",
    "        raise NotImplementedError('area')"
   ]
  },
  {
   "cell_type": "code",
   "execution_count": null,
   "id": "6774c799",
   "metadata": {},
   "outputs": [],
   "source": [
    "class Square(Shape):  # to create a subclass of `Shape`\n",
    "    def __init__(self, name, side):``\n",
    "        super().__init__(name)\n",
    "        self.side = side \n",
    "\n",
    "    def perimeter(self): # to create the instance method of the `Square` class \n",
    "        return 4 * self.side\n",
    "    \n",
    "    def area(self):\n",
    "        return self.side ** 2 "
   ]
  },
  {
   "cell_type": "code",
   "execution_count": 3,
   "id": "164bfdfa",
   "metadata": {},
   "outputs": [],
   "source": [
    "class Circle(Shape):\n",
    "    def __init__(self, name, radius):\n",
    "        super().__init__(name)\n",
    "        self.radius = radius \n",
    "\n",
    "    def perimeter(self):\n",
    "        return 2 * math.pi * self.radius \n",
    "    \n",
    "    def area(self):\n",
    "        return math.pi * self.radius **2 "
   ]
  },
  {
   "cell_type": "code",
   "execution_count": 13,
   "id": "c739d21b",
   "metadata": {},
   "outputs": [],
   "source": [
    "import math as math"
   ]
  },
  {
   "cell_type": "code",
   "execution_count": 5,
   "id": "c3420a56",
   "metadata": {},
   "outputs": [
    {
     "name": "stdout",
     "output_type": "stream",
     "text": [
      "<__main__.Square object at 0x000001ADF73DA090>\n"
     ]
    }
   ],
   "source": [
    "print(Square('sq',3))"
   ]
  },
  {
   "cell_type": "code",
   "execution_count": 47,
   "id": "360e41a0",
   "metadata": {},
   "outputs": [
    {
     "name": "stdout",
     "output_type": "stream",
     "text": [
      " sq has perimenter 12.00 and area 9.00\n",
      " ci has perimenter 12.57 and area 12.57\n"
     ]
    }
   ],
   "source": [
    "examples1 = [Square('sq',3),Circle('ci',2)]\n",
    "for item in examples1:\n",
    "    n = item.name \n",
    "    p = item.perimeter() \n",
    "    a = item.area()  \n",
    "    print (f\" {n} has perimenter {p:.2f} and area {a:.2f}\")"
   ]
  },
  {
   "cell_type": "code",
   "execution_count": 17,
   "id": "e0acb4b6",
   "metadata": {},
   "outputs": [],
   "source": [
    "print_square = Square('sq', 10)"
   ]
  },
  {
   "cell_type": "code",
   "execution_count": 18,
   "id": "3a895d8a",
   "metadata": {},
   "outputs": [
    {
     "data": {
      "text/plain": [
       "<__main__.Square at 0x1adf7252090>"
      ]
     },
     "execution_count": 18,
     "metadata": {},
     "output_type": "execute_result"
    }
   ],
   "source": [
    "print_square"
   ]
  },
  {
   "cell_type": "code",
   "execution_count": 49,
   "id": "0b5fe5f5",
   "metadata": {},
   "outputs": [
    {
     "data": {
      "text/plain": [
       "[<__main__.Square at 0x1adf726ccd0>, <__main__.Circle at 0x1adf738c810>]"
      ]
     },
     "execution_count": 49,
     "metadata": {},
     "output_type": "execute_result"
    }
   ],
   "source": [
    "examples1\n",
    "\n",
    "# because Square (and Shape) doesn’t have a __str__ or __repr__ method defined. By default, Python prints the memory address of the object."
   ]
  },
  {
   "cell_type": "code",
   "execution_count": 53,
   "id": "42328ccf",
   "metadata": {},
   "outputs": [
    {
     "name": "stdout",
     "output_type": "stream",
     "text": [
      "12\n"
     ]
    }
   ],
   "source": [
    "print (examples1[0].perimeter())"
   ]
  },
  {
   "cell_type": "code",
   "execution_count": 55,
   "id": "4f679c05",
   "metadata": {},
   "outputs": [
    {
     "data": {
      "text/plain": [
       "__main__.Square"
      ]
     },
     "execution_count": 55,
     "metadata": {},
     "output_type": "execute_result"
    }
   ],
   "source": [
    "type(print_square)"
   ]
  },
  {
   "cell_type": "code",
   "execution_count": 56,
   "id": "c77e2695",
   "metadata": {},
   "outputs": [
    {
     "data": {
      "text/plain": [
       "list"
      ]
     },
     "execution_count": 56,
     "metadata": {},
     "output_type": "execute_result"
    }
   ],
   "source": [
    "type(examples1)"
   ]
  },
  {
   "cell_type": "code",
   "execution_count": 59,
   "id": "e9518c13",
   "metadata": {},
   "outputs": [
    {
     "name": "stdout",
     "output_type": "stream",
     "text": [
      "12\n"
     ]
    }
   ],
   "source": [
    "print(examples1[0].perimeter())"
   ]
  },
  {
   "cell_type": "code",
   "execution_count": 60,
   "id": "28f0232c",
   "metadata": {},
   "outputs": [
    {
     "name": "stdout",
     "output_type": "stream",
     "text": [
      "40\n"
     ]
    }
   ],
   "source": [
    "print(print_square.perimeter())"
   ]
  },
  {
   "cell_type": "code",
   "execution_count": 54,
   "id": "450d66ed",
   "metadata": {},
   "outputs": [
    {
     "name": "stdout",
     "output_type": "stream",
     "text": [
      "40\n"
     ]
    }
   ],
   "source": [
    "print(print_square.perimeter())"
   ]
  },
  {
   "cell_type": "code",
   "execution_count": null,
   "id": "ad31fcda",
   "metadata": {},
   "outputs": [],
   "source": [
    "# how to print out an object?  \n",
    "# what is Square() and Area()   \n"
   ]
  },
  {
   "cell_type": "markdown",
   "id": "eb00c3af",
   "metadata": {},
   "source": [
    "function is an object: \n",
    "- the bytes in a string represent characters \n",
    "- the bytes in an image represent pixels \n",
    "- the bytes in a function are instruction \n",
    "\n",
    "when python executes the code below, it creates an object in memory that contains the instructions to print a string and assigns that object to the variables "
   ]
  },
  {
   "cell_type": "code",
   "execution_count": 20,
   "id": "705ad04f",
   "metadata": {},
   "outputs": [],
   "source": [
    "def example():\n",
    "    print('print out example')\n"
   ]
  },
  {
   "cell_type": "code",
   "execution_count": 22,
   "id": "f14f15b7",
   "metadata": {},
   "outputs": [
    {
     "name": "stdout",
     "output_type": "stream",
     "text": [
      "print out example\n"
     ]
    }
   ],
   "source": [
    "example()"
   ]
  },
  {
   "cell_type": "code",
   "execution_count": 23,
   "id": "8549efef",
   "metadata": {},
   "outputs": [
    {
     "data": {
      "text/plain": [
       "<function __main__.example()>"
      ]
     },
     "execution_count": 23,
     "metadata": {},
     "output_type": "execute_result"
    }
   ],
   "source": [
    "example"
   ]
  },
  {
   "cell_type": "code",
   "execution_count": 27,
   "id": "c94e16dd",
   "metadata": {},
   "outputs": [],
   "source": [
    "alias = example"
   ]
  },
  {
   "cell_type": "code",
   "execution_count": 28,
   "id": "fefc128d",
   "metadata": {},
   "outputs": [
    {
     "name": "stdout",
     "output_type": "stream",
     "text": [
      "print out example\n"
     ]
    }
   ],
   "source": [
    "alias()"
   ]
  },
  {
   "cell_type": "markdown",
   "id": "6488e839",
   "metadata": {},
   "source": [
    "**mow**: the above code is similar to assign a variable to an existing variable. for instance x = 12, y = x => y = 12   "
   ]
  },
  {
   "cell_type": "code",
   "execution_count": null,
   "id": "a8b50abd",
   "metadata": {},
   "outputs": [
    {
     "data": {
      "text/plain": [
       "<__main__.Square at 0x1adf7255910>"
      ]
     },
     "execution_count": 26,
     "metadata": {},
     "output_type": "execute_result"
    }
   ],
   "source": [
    "Square('a',7) # how to execute this object "
   ]
  },
  {
   "cell_type": "markdown",
   "id": "be5b6580",
   "metadata": {},
   "source": [
    "# Functional / Dictionary Polymorphism"
   ]
  },
  {
   "cell_type": "markdown",
   "id": "95b25ca2",
   "metadata": {},
   "source": [
    "instead of using OOP, now using function and dictionary to execute the behaviour.  \n",
    "\n",
    "for each shape: there are three functions: \n",
    "- the first and second functions are to execute the math depending on the required calculation \n",
    "- the third function is to create a dictionary that content: 1) name of an object, 2) side (or) are, 3) calculation_1, 4) calculation_2  \n",
    "\n",
    "how python understand this behavior?  \n",
    "- when call function `square_new` with 2 arguments: `name` and `side`. a new object is created as a dictionary with 4 items in it (i.e. 'name', 'side', 'perimenter', 'area')\n",
    "- when call object['perimenter'](object) => python return the function `square_perimeter` and then execute the instruction for this function  \n",
    "  - what is the instruction? to take the stored value (information) in object['side]', multiply by 4     \n"
   ]
  },
  {
   "cell_type": "code",
   "execution_count": null,
   "id": "b1f11320",
   "metadata": {},
   "outputs": [],
   "source": [
    "def square_perimeter(thing):  # what does `thing` do here?   \n",
    "    return  4 * thing['side'] # why there is thing['side']\n",
    "\n",
    "def square_area(thing):\n",
    "    return thing['side'] ** 2 \n",
    "\n",
    "def square_new(name, side):\n",
    "    return {\n",
    "        'name': name, \n",
    "        'side': side,\n",
    "        'perimenter': square_perimeter,\n",
    "        'area': square_area\n",
    "    }"
   ]
  },
  {
   "cell_type": "code",
   "execution_count": 64,
   "id": "d7343111",
   "metadata": {},
   "outputs": [],
   "source": [
    "test = square_new('sq2', 3)"
   ]
  },
  {
   "cell_type": "code",
   "execution_count": 65,
   "id": "2c78e0fa",
   "metadata": {},
   "outputs": [
    {
     "data": {
      "text/plain": [
       "{'name': 'sq2',\n",
       " 'side': 3,\n",
       " 'perimenter': <function __main__.square_perimeter(thing)>,\n",
       " 'area': <function __main__.square_area(thing)>}"
      ]
     },
     "execution_count": 65,
     "metadata": {},
     "output_type": "execute_result"
    }
   ],
   "source": [
    "test"
   ]
  },
  {
   "cell_type": "code",
   "execution_count": 70,
   "id": "c4cc1461",
   "metadata": {},
   "outputs": [
    {
     "data": {
      "text/plain": [
       "function"
      ]
     },
     "execution_count": 70,
     "metadata": {},
     "output_type": "execute_result"
    }
   ],
   "source": [
    "type(test['perimenter'])"
   ]
  },
  {
   "cell_type": "code",
   "execution_count": 71,
   "id": "0953bac8",
   "metadata": {},
   "outputs": [
    {
     "data": {
      "text/plain": [
       "dict"
      ]
     },
     "execution_count": 71,
     "metadata": {},
     "output_type": "execute_result"
    }
   ],
   "source": [
    "type(test)"
   ]
  },
  {
   "cell_type": "code",
   "execution_count": 72,
   "id": "d321c756",
   "metadata": {},
   "outputs": [
    {
     "data": {
      "text/plain": [
       "str"
      ]
     },
     "execution_count": 72,
     "metadata": {},
     "output_type": "execute_result"
    }
   ],
   "source": [
    "type(test['name'])"
   ]
  },
  {
   "cell_type": "code",
   "execution_count": 73,
   "id": "5374cd79",
   "metadata": {},
   "outputs": [
    {
     "data": {
      "text/plain": [
       "int"
      ]
     },
     "execution_count": 73,
     "metadata": {},
     "output_type": "execute_result"
    }
   ],
   "source": [
    "type(test['side'])"
   ]
  },
  {
   "cell_type": "code",
   "execution_count": 74,
   "id": "7a5b0db5",
   "metadata": {},
   "outputs": [
    {
     "data": {
      "text/plain": [
       "int"
      ]
     },
     "execution_count": 74,
     "metadata": {},
     "output_type": "execute_result"
    }
   ],
   "source": [
    "type(test['perimenter'](test))"
   ]
  },
  {
   "cell_type": "code",
   "execution_count": 69,
   "id": "d5770458",
   "metadata": {},
   "outputs": [
    {
     "data": {
      "text/plain": [
       "12"
      ]
     },
     "execution_count": 69,
     "metadata": {},
     "output_type": "execute_result"
    }
   ],
   "source": [
    "test['perimenter'](test)"
   ]
  },
  {
   "cell_type": "code",
   "execution_count": 61,
   "id": "9c1a937f",
   "metadata": {},
   "outputs": [],
   "source": [
    "def circle_perimeter(thing):\n",
    "    return 2* math.pi * thing['radius']\n",
    "\n",
    "def circle_area(thing):\n",
    "    return math.pi * thing['radius'] ** 2 \n",
    "\n",
    "def circle_new(name, radius):\n",
    "    return {\n",
    "        'name':name, \n",
    "        'radius': radius,\n",
    "        'perimenter': circle_perimeter,\n",
    "        'area': circle_area\n",
    "    }"
   ]
  },
  {
   "cell_type": "code",
   "execution_count": 34,
   "id": "4a267834",
   "metadata": {},
   "outputs": [
    {
     "ename": "TypeError",
     "evalue": "'int' object is not subscriptable",
     "output_type": "error",
     "traceback": [
      "\u001b[1;31m---------------------------------------------------------------------------\u001b[0m",
      "\u001b[1;31mTypeError\u001b[0m                                 Traceback (most recent call last)",
      "Cell \u001b[1;32mIn[34], line 1\u001b[0m\n\u001b[1;32m----> 1\u001b[0m \u001b[43msquare_perimeter\u001b[49m\u001b[43m(\u001b[49m\u001b[38;5;241;43m2\u001b[39;49m\u001b[43m)\u001b[49m\n",
      "Cell \u001b[1;32mIn[33], line 2\u001b[0m, in \u001b[0;36msquare_perimeter\u001b[1;34m(thing)\u001b[0m\n\u001b[0;32m      1\u001b[0m \u001b[38;5;28;01mdef\u001b[39;00m \u001b[38;5;21msquare_perimeter\u001b[39m(thing):\n\u001b[1;32m----> 2\u001b[0m     \u001b[38;5;28;01mreturn\u001b[39;00m  \u001b[38;5;241m4\u001b[39m \u001b[38;5;241m*\u001b[39m \u001b[43mthing\u001b[49m\u001b[43m[\u001b[49m\u001b[38;5;124;43m'\u001b[39;49m\u001b[38;5;124;43mside\u001b[39;49m\u001b[38;5;124;43m'\u001b[39;49m\u001b[43m]\u001b[49m\n",
      "\u001b[1;31mTypeError\u001b[0m: 'int' object is not subscriptable"
     ]
    }
   ],
   "source": [
    "square_perimeter(2)"
   ]
  },
  {
   "cell_type": "code",
   "execution_count": 62,
   "id": "191ee2a1",
   "metadata": {},
   "outputs": [
    {
     "name": "stdout",
     "output_type": "stream",
     "text": [
      "sq - 40.00 - 100.00\n",
      "ci - 62.83 - 314.16\n"
     ]
    }
   ],
   "source": [
    "def call(thing, method_name):\n",
    "    return thing[method_name](thing)\n",
    "\n",
    "examples = [square_new('sq',10), circle_new('ci', 10)]\n",
    "for example in examples:\n",
    "    n = example['name']\n",
    "    p = call(example, 'perimenter')\n",
    "    a = call(example, 'area')\n",
    "    print(f'{n} - {p:.2f} - {a:.2f}')"
   ]
  },
  {
   "cell_type": "markdown",
   "id": "df1a0047",
   "metadata": {},
   "source": [
    "# what is the different between\n",
    "\n",
    "```\n",
    "examples = [Square('sq',3),Circle('ci',2)]\n",
    "for item in examples:\n",
    "    n = item.name \n",
    "    p = item.perimeter() \n",
    "    a = item.area()  \n",
    "    print (f\" {n} has perimenter {p:.2f} and area {a:.2f}\")\n",
    "\n",
    "```\n",
    "\n",
    "and  \n",
    "\n",
    "```\n",
    "def call(thing, method_name):\n",
    "    return thing[method_name](thing)\n",
    "\n",
    "examples = [square_new('sq',10), circle_new('ci', 10)]\n",
    "for example in examples:\n",
    "    n = example['name']\n",
    "    p = call(example, 'perimenter')\n",
    "    a = call(example, 'area')\n",
    "    print(f'{n} - {p:.2f} - {a:.2f}')\n",
    "```\n",
    "\n"
   ]
  },
  {
   "cell_type": "markdown",
   "id": "872689f1",
   "metadata": {},
   "source": [
    "# tip: https://chatgpt.com/s/t_68acd59c2c9c8191a7c8964765edb0c8"
   ]
  },
  {
   "cell_type": "markdown",
   "id": "5645d8ec",
   "metadata": {},
   "source": []
  }
 ],
 "metadata": {
  "kernelspec": {
   "display_name": "Python 3",
   "language": "python",
   "name": "python3"
  },
  "language_info": {
   "codemirror_mode": {
    "name": "ipython",
    "version": 3
   },
   "file_extension": ".py",
   "mimetype": "text/x-python",
   "name": "python",
   "nbconvert_exporter": "python",
   "pygments_lexer": "ipython3",
   "version": "3.11.9"
  }
 },
 "nbformat": 4,
 "nbformat_minor": 5
}
