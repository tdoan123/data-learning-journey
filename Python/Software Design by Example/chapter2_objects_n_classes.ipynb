{
 "cells": [
  {
   "cell_type": "markdown",
   "id": "933d7313",
   "metadata": {},
   "source": [
    "# Object Oriented Programming Polymorphism"
   ]
  },
  {
   "cell_type": "code",
   "execution_count": 75,
   "id": "9a2c694d",
   "metadata": {},
   "outputs": [],
   "source": [
    "# create a master class \n",
    "class Shape:\n",
    "    def __init__(self,name):\n",
    "        self.name = name \n",
    "\n",
    "    def perimeter(self):\n",
    "        raise NotImplementedError('perimeter')\n",
    "    \n",
    "    def area(self):\n",
    "        raise NotImplementedError('area')"
   ]
  },
  {
   "cell_type": "code",
   "execution_count": 13,
   "id": "c739d21b",
   "metadata": {},
   "outputs": [],
   "source": [
    "import math as math"
   ]
  },
  {
   "cell_type": "code",
   "execution_count": null,
   "id": "6774c799",
   "metadata": {},
   "outputs": [],
   "source": [
    "class Square(Shape):  # to create a subclass of `Shape`\n",
    "    def __init__(self, name, side):\n",
    "        super().__init__(name)\n",
    "        self.side = side \n",
    "\n",
    "    def perimeter(self): # to create the instance method of the `Square` class \n",
    "        return 4 * self.side\n",
    "    \n",
    "    def area(self):\n",
    "        return self.side ** 2 "
   ]
  },
  {
   "cell_type": "code",
   "execution_count": 76,
   "id": "164bfdfa",
   "metadata": {},
   "outputs": [],
   "source": [
    "class Circle(Shape): # to create a subclass of `Shape` called Circle  \n",
    "    def __init__(self, name, radius):\n",
    "        super().__init__(name)\n",
    "        self.radius = radius  \n",
    "\n",
    "    def perimeter(self):\n",
    "        return 2 * math.pi * self.radius \n",
    "    \n",
    "    def area(self):\n",
    "        return math.pi * self.radius **2 "
   ]
  },
  {
   "cell_type": "code",
   "execution_count": 77,
   "id": "c3420a56",
   "metadata": {},
   "outputs": [
    {
     "name": "stdout",
     "output_type": "stream",
     "text": [
      "<__main__.Square object at 0x000001ADF7223510>\n"
     ]
    }
   ],
   "source": [
    "print(Square('sq',3))  # there is  an object assigned to this sub_class  "
   ]
  },
  {
   "cell_type": "code",
   "execution_count": null,
   "id": "360e41a0",
   "metadata": {},
   "outputs": [
    {
     "name": "stdout",
     "output_type": "stream",
     "text": [
      " sq has perimenter 12.00 and area 9.00\n",
      " ci has perimenter 12.57 and area 12.57\n"
     ]
    }
   ],
   "source": [
    "# to unpack the   \n",
    "examples1 = [Square('sq',3),Circle('ci',2)]\n",
    "for item in examples1:\n",
    "    n = item.name \n",
    "    p = item.perimeter() \n",
    "    a = item.area()  \n",
    "    print (f\" {n} has perimenter {p:.2f} and area {a:.2f}\")"
   ]
  },
  {
   "cell_type": "code",
   "execution_count": 17,
   "id": "e0acb4b6",
   "metadata": {},
   "outputs": [],
   "source": [
    "print_square = Square('sq', 10)"
   ]
  },
  {
   "cell_type": "code",
   "execution_count": 18,
   "id": "3a895d8a",
   "metadata": {},
   "outputs": [
    {
     "data": {
      "text/plain": [
       "<__main__.Square at 0x1adf7252090>"
      ]
     },
     "execution_count": 18,
     "metadata": {},
     "output_type": "execute_result"
    }
   ],
   "source": [
    "print_square"
   ]
  },
  {
   "cell_type": "code",
   "execution_count": 49,
   "id": "0b5fe5f5",
   "metadata": {},
   "outputs": [
    {
     "data": {
      "text/plain": [
       "[<__main__.Square at 0x1adf726ccd0>, <__main__.Circle at 0x1adf738c810>]"
      ]
     },
     "execution_count": 49,
     "metadata": {},
     "output_type": "execute_result"
    }
   ],
   "source": [
    "examples1\n",
    "\n",
    "# because Square (and Shape) doesn’t have a __str__ or __repr__ method defined. By default, Python prints the memory address of the object."
   ]
  },
  {
   "cell_type": "code",
   "execution_count": 53,
   "id": "42328ccf",
   "metadata": {},
   "outputs": [
    {
     "name": "stdout",
     "output_type": "stream",
     "text": [
      "12\n"
     ]
    }
   ],
   "source": [
    "print (examples1[0].perimeter())"
   ]
  },
  {
   "cell_type": "code",
   "execution_count": 55,
   "id": "4f679c05",
   "metadata": {},
   "outputs": [
    {
     "data": {
      "text/plain": [
       "__main__.Square"
      ]
     },
     "execution_count": 55,
     "metadata": {},
     "output_type": "execute_result"
    }
   ],
   "source": [
    "type(print_square)"
   ]
  },
  {
   "cell_type": "code",
   "execution_count": 56,
   "id": "c77e2695",
   "metadata": {},
   "outputs": [
    {
     "data": {
      "text/plain": [
       "list"
      ]
     },
     "execution_count": 56,
     "metadata": {},
     "output_type": "execute_result"
    }
   ],
   "source": [
    "type(examples1)"
   ]
  },
  {
   "cell_type": "code",
   "execution_count": 59,
   "id": "e9518c13",
   "metadata": {},
   "outputs": [
    {
     "name": "stdout",
     "output_type": "stream",
     "text": [
      "12\n"
     ]
    }
   ],
   "source": [
    "print(examples1[0].perimeter())"
   ]
  },
  {
   "cell_type": "code",
   "execution_count": 60,
   "id": "28f0232c",
   "metadata": {},
   "outputs": [
    {
     "name": "stdout",
     "output_type": "stream",
     "text": [
      "40\n"
     ]
    }
   ],
   "source": [
    "print(print_square.perimeter())"
   ]
  },
  {
   "cell_type": "code",
   "execution_count": 54,
   "id": "450d66ed",
   "metadata": {},
   "outputs": [
    {
     "name": "stdout",
     "output_type": "stream",
     "text": [
      "40\n"
     ]
    }
   ],
   "source": [
    "print(print_square.perimeter())"
   ]
  },
  {
   "cell_type": "code",
   "execution_count": null,
   "id": "ad31fcda",
   "metadata": {},
   "outputs": [],
   "source": [
    "# how to print out an object?  \n",
    "# what is Square() and Area()   \n"
   ]
  },
  {
   "cell_type": "markdown",
   "id": "eb00c3af",
   "metadata": {},
   "source": [
    "function is an object: \n",
    "- the bytes in a string represent characters \n",
    "- the bytes in an image represent pixels \n",
    "- the bytes in a function are instruction \n",
    "\n",
    "when python executes the code below, it creates an object in memory that contains the instructions to print a string and assigns that object to the variables "
   ]
  },
  {
   "cell_type": "code",
   "execution_count": 20,
   "id": "705ad04f",
   "metadata": {},
   "outputs": [],
   "source": [
    "def example():\n",
    "    print('print out example')\n"
   ]
  },
  {
   "cell_type": "code",
   "execution_count": 22,
   "id": "f14f15b7",
   "metadata": {},
   "outputs": [
    {
     "name": "stdout",
     "output_type": "stream",
     "text": [
      "print out example\n"
     ]
    }
   ],
   "source": [
    "example()"
   ]
  },
  {
   "cell_type": "code",
   "execution_count": 23,
   "id": "8549efef",
   "metadata": {},
   "outputs": [
    {
     "data": {
      "text/plain": [
       "<function __main__.example()>"
      ]
     },
     "execution_count": 23,
     "metadata": {},
     "output_type": "execute_result"
    }
   ],
   "source": [
    "example"
   ]
  },
  {
   "cell_type": "code",
   "execution_count": 27,
   "id": "c94e16dd",
   "metadata": {},
   "outputs": [],
   "source": [
    "alias = example"
   ]
  },
  {
   "cell_type": "code",
   "execution_count": 28,
   "id": "fefc128d",
   "metadata": {},
   "outputs": [
    {
     "name": "stdout",
     "output_type": "stream",
     "text": [
      "print out example\n"
     ]
    }
   ],
   "source": [
    "alias()"
   ]
  },
  {
   "cell_type": "markdown",
   "id": "6488e839",
   "metadata": {},
   "source": [
    "**mow**: the above code is similar to assign a variable to an existing variable. for instance x = 12, y = x => y = 12   "
   ]
  },
  {
   "cell_type": "code",
   "execution_count": null,
   "id": "a8b50abd",
   "metadata": {},
   "outputs": [
    {
     "data": {
      "text/plain": [
       "<__main__.Square at 0x1adf7255910>"
      ]
     },
     "execution_count": 26,
     "metadata": {},
     "output_type": "execute_result"
    }
   ],
   "source": [
    "Square('a',7) # how to execute this object "
   ]
  },
  {
   "cell_type": "markdown",
   "id": "be5b6580",
   "metadata": {},
   "source": [
    "# Functional / Dictionary Polymorphism"
   ]
  },
  {
   "cell_type": "markdown",
   "id": "95b25ca2",
   "metadata": {},
   "source": [
    "instead of using OOP, now using function and dictionary to execute the behaviour.  \n",
    "\n",
    "for each shape: there are three functions: \n",
    "- the first and second functions are to execute the math depending on the required calculation \n",
    "- the third function is to create a dictionary that content: 1) name of an object, 2) side (or) are, 3) calculation_1, 4) calculation_2  \n",
    "\n",
    "how python understand this behavior?  \n",
    "- when call function `square_new` with 2 arguments: `name` and `side`. a new object is created as a dictionary with 4 items in it (i.e. 'name', 'side', 'perimenter', 'area')\n",
    "- when call object['perimenter'](object) => python return the function `square_perimeter` and then execute the instruction for this function  \n",
    "  - what is the instruction? to take the stored value (information) in object['side]', multiply by 4     \n"
   ]
  },
  {
   "cell_type": "code",
   "execution_count": null,
   "id": "b1f11320",
   "metadata": {},
   "outputs": [],
   "source": [
    "def square_perimeter(thing):  # what does `thing` do here?   \n",
    "    return  4 * thing['side'] # why there is thing['side']\n",
    "\n",
    "def square_area(thing):\n",
    "    return thing['side'] ** 2 \n",
    "\n",
    "def square_new(name, side):\n",
    "    return {\n",
    "        'name': name, \n",
    "        'side': side,\n",
    "        'perimenter': square_perimeter,\n",
    "        'area': square_area\n",
    "    }"
   ]
  },
  {
   "cell_type": "code",
   "execution_count": 64,
   "id": "d7343111",
   "metadata": {},
   "outputs": [],
   "source": [
    "test = square_new('sq2', 3)"
   ]
  },
  {
   "cell_type": "code",
   "execution_count": 65,
   "id": "2c78e0fa",
   "metadata": {},
   "outputs": [
    {
     "data": {
      "text/plain": [
       "{'name': 'sq2',\n",
       " 'side': 3,\n",
       " 'perimenter': <function __main__.square_perimeter(thing)>,\n",
       " 'area': <function __main__.square_area(thing)>}"
      ]
     },
     "execution_count": 65,
     "metadata": {},
     "output_type": "execute_result"
    }
   ],
   "source": [
    "test"
   ]
  },
  {
   "cell_type": "code",
   "execution_count": 70,
   "id": "c4cc1461",
   "metadata": {},
   "outputs": [
    {
     "data": {
      "text/plain": [
       "function"
      ]
     },
     "execution_count": 70,
     "metadata": {},
     "output_type": "execute_result"
    }
   ],
   "source": [
    "type(test['perimenter'])"
   ]
  },
  {
   "cell_type": "code",
   "execution_count": 71,
   "id": "0953bac8",
   "metadata": {},
   "outputs": [
    {
     "data": {
      "text/plain": [
       "dict"
      ]
     },
     "execution_count": 71,
     "metadata": {},
     "output_type": "execute_result"
    }
   ],
   "source": [
    "type(test)"
   ]
  },
  {
   "cell_type": "code",
   "execution_count": 72,
   "id": "d321c756",
   "metadata": {},
   "outputs": [
    {
     "data": {
      "text/plain": [
       "str"
      ]
     },
     "execution_count": 72,
     "metadata": {},
     "output_type": "execute_result"
    }
   ],
   "source": [
    "type(test['name'])"
   ]
  },
  {
   "cell_type": "code",
   "execution_count": 73,
   "id": "5374cd79",
   "metadata": {},
   "outputs": [
    {
     "data": {
      "text/plain": [
       "int"
      ]
     },
     "execution_count": 73,
     "metadata": {},
     "output_type": "execute_result"
    }
   ],
   "source": [
    "type(test['side'])"
   ]
  },
  {
   "cell_type": "code",
   "execution_count": 74,
   "id": "7a5b0db5",
   "metadata": {},
   "outputs": [
    {
     "data": {
      "text/plain": [
       "int"
      ]
     },
     "execution_count": 74,
     "metadata": {},
     "output_type": "execute_result"
    }
   ],
   "source": [
    "type(test['perimenter'](test))"
   ]
  },
  {
   "cell_type": "code",
   "execution_count": 69,
   "id": "d5770458",
   "metadata": {},
   "outputs": [
    {
     "data": {
      "text/plain": [
       "12"
      ]
     },
     "execution_count": 69,
     "metadata": {},
     "output_type": "execute_result"
    }
   ],
   "source": [
    "test['perimenter'](test)"
   ]
  },
  {
   "cell_type": "code",
   "execution_count": 61,
   "id": "9c1a937f",
   "metadata": {},
   "outputs": [],
   "source": [
    "def circle_perimeter(thing):\n",
    "    return 2* math.pi * thing['radius']\n",
    "\n",
    "def circle_area(thing):\n",
    "    return math.pi * thing['radius'] ** 2 \n",
    "\n",
    "def circle_new(name, radius):\n",
    "    return {\n",
    "        'name':name, \n",
    "        'radius': radius,\n",
    "        'perimenter': circle_perimeter,\n",
    "        'area': circle_area\n",
    "    }"
   ]
  },
  {
   "cell_type": "code",
   "execution_count": 34,
   "id": "4a267834",
   "metadata": {},
   "outputs": [
    {
     "ename": "TypeError",
     "evalue": "'int' object is not subscriptable",
     "output_type": "error",
     "traceback": [
      "\u001b[1;31m---------------------------------------------------------------------------\u001b[0m",
      "\u001b[1;31mTypeError\u001b[0m                                 Traceback (most recent call last)",
      "Cell \u001b[1;32mIn[34], line 1\u001b[0m\n\u001b[1;32m----> 1\u001b[0m \u001b[43msquare_perimeter\u001b[49m\u001b[43m(\u001b[49m\u001b[38;5;241;43m2\u001b[39;49m\u001b[43m)\u001b[49m\n",
      "Cell \u001b[1;32mIn[33], line 2\u001b[0m, in \u001b[0;36msquare_perimeter\u001b[1;34m(thing)\u001b[0m\n\u001b[0;32m      1\u001b[0m \u001b[38;5;28;01mdef\u001b[39;00m \u001b[38;5;21msquare_perimeter\u001b[39m(thing):\n\u001b[1;32m----> 2\u001b[0m     \u001b[38;5;28;01mreturn\u001b[39;00m  \u001b[38;5;241m4\u001b[39m \u001b[38;5;241m*\u001b[39m \u001b[43mthing\u001b[49m\u001b[43m[\u001b[49m\u001b[38;5;124;43m'\u001b[39;49m\u001b[38;5;124;43mside\u001b[39;49m\u001b[38;5;124;43m'\u001b[39;49m\u001b[43m]\u001b[49m\n",
      "\u001b[1;31mTypeError\u001b[0m: 'int' object is not subscriptable"
     ]
    }
   ],
   "source": [
    "square_perimeter(2)"
   ]
  },
  {
   "cell_type": "code",
   "execution_count": 62,
   "id": "191ee2a1",
   "metadata": {},
   "outputs": [
    {
     "name": "stdout",
     "output_type": "stream",
     "text": [
      "sq - 40.00 - 100.00\n",
      "ci - 62.83 - 314.16\n"
     ]
    }
   ],
   "source": [
    "def call(thing, method_name):\n",
    "    return thing[method_name](thing)\n",
    "\n",
    "examples = [square_new('sq',10), circle_new('ci', 10)]\n",
    "for example in examples:\n",
    "    n = example['name']\n",
    "    p = call(example, 'perimenter')\n",
    "    a = call(example, 'area')\n",
    "    print(f'{n} - {p:.2f} - {a:.2f}')"
   ]
  },
  {
   "cell_type": "markdown",
   "id": "df1a0047",
   "metadata": {},
   "source": [
    "# what is the different between\n",
    "\n",
    "```\n",
    "examples = [Square('sq',3),Circle('ci',2)]\n",
    "for item in examples:\n",
    "    n = item.name \n",
    "    p = item.perimeter() \n",
    "    a = item.area()  \n",
    "    print (f\" {n} has perimenter {p:.2f} and area {a:.2f}\")\n",
    "\n",
    "```\n",
    "\n",
    "and  \n",
    "\n",
    "```\n",
    "def call(thing, method_name):\n",
    "    return thing[method_name](thing)\n",
    "\n",
    "examples = [square_new('sq',10), circle_new('ci', 10)]\n",
    "for example in examples:\n",
    "    n = example['name']\n",
    "    p = call(example, 'perimenter')\n",
    "    a = call(example, 'area')\n",
    "    print(f'{n} - {p:.2f} - {a:.2f}')\n",
    "```\n",
    "\n"
   ]
  },
  {
   "cell_type": "markdown",
   "id": "872689f1",
   "metadata": {},
   "source": [
    "# tip: https://chatgpt.com/s/t_68acd59c2c9c8191a7c8964765edb0c8"
   ]
  },
  {
   "cell_type": "code",
   "execution_count": 1,
   "id": "5645d8ec",
   "metadata": {},
   "outputs": [
    {
     "name": "stdout",
     "output_type": "stream",
     "text": [
      "hello\n"
     ]
    }
   ],
   "source": [
    "print ('hello')"
   ]
  },
  {
   "cell_type": "markdown",
   "id": "ff2d7f24",
   "metadata": {},
   "source": [
    "## 2.2 Classes"
   ]
  },
  {
   "cell_type": "code",
   "execution_count": 6,
   "id": "7c449a6f",
   "metadata": {},
   "outputs": [],
   "source": [
    "def square_perimeter(thing):\n",
    "    return thing['side'] * 4 "
   ]
  },
  {
   "cell_type": "code",
   "execution_count": 7,
   "id": "fb5d6938",
   "metadata": {},
   "outputs": [],
   "source": [
    "def square_area(thing):\n",
    "    return thing['side'] ** 2 "
   ]
  },
  {
   "cell_type": "code",
   "execution_count": 8,
   "id": "e02290ec",
   "metadata": {},
   "outputs": [],
   "source": [
    "Square = {\n",
    "    'perimeter':square_perimeter, \n",
    "    'area':square_area, \n",
    "    '_classname':'Square'\n",
    "}"
   ]
  },
  {
   "cell_type": "code",
   "execution_count": 2,
   "id": "6413058f",
   "metadata": {},
   "outputs": [],
   "source": [
    "def square_new(name,side):\n",
    "    return {'name':name,\n",
    "            'side':side, \n",
    "            '_class':Square}\n"
   ]
  },
  {
   "cell_type": "code",
   "execution_count": 9,
   "id": "f7523569",
   "metadata": {},
   "outputs": [
    {
     "data": {
      "text/plain": [
       "{'name': 'abc',\n",
       " 'side': 3,\n",
       " '_class': {'perimeter': <function __main__.square_perimeter(thing)>,\n",
       "  'area': <function __main__.square_area(thing)>,\n",
       "  '_classname': 'Square'}}"
      ]
     },
     "execution_count": 9,
     "metadata": {},
     "output_type": "execute_result"
    }
   ],
   "source": [
    "square_new('abc', 3)"
   ]
  },
  {
   "cell_type": "markdown",
   "id": "f9df25ba",
   "metadata": {},
   "source": [
    "#### Note:  \n",
    "- when i assign a variable using `square_new()`, i will have 2 dictionaries. dictionary layer 1 has 3 keys: `name`, `side`, `class`. except `name` and `side` getting value from the arguments, `_class` will rettrived another dictionary called `Square`.\n",
    "\n",
    "- within Square dictionary, there are 3 keys: `perimeter`, `area`, and `_classname`   "
   ]
  },
  {
   "cell_type": "code",
   "execution_count": 10,
   "id": "586e1b42",
   "metadata": {},
   "outputs": [
    {
     "ename": "TypeError",
     "evalue": "'int' object is not subscriptable",
     "output_type": "error",
     "traceback": [
      "\u001b[1;31m---------------------------------------------------------------------------\u001b[0m",
      "\u001b[1;31mTypeError\u001b[0m                                 Traceback (most recent call last)",
      "Cell \u001b[1;32mIn[10], line 1\u001b[0m\n\u001b[1;32m----> 1\u001b[0m \u001b[43msquare_perimeter\u001b[49m\u001b[43m(\u001b[49m\u001b[38;5;241;43m3\u001b[39;49m\u001b[43m)\u001b[49m\n",
      "Cell \u001b[1;32mIn[6], line 2\u001b[0m, in \u001b[0;36msquare_perimeter\u001b[1;34m(thing)\u001b[0m\n\u001b[0;32m      1\u001b[0m \u001b[38;5;28;01mdef\u001b[39;00m \u001b[38;5;21msquare_perimeter\u001b[39m(thing):\n\u001b[1;32m----> 2\u001b[0m     \u001b[38;5;28;01mreturn\u001b[39;00m \u001b[43mthing\u001b[49m\u001b[43m[\u001b[49m\u001b[38;5;124;43m'\u001b[39;49m\u001b[38;5;124;43mside\u001b[39;49m\u001b[38;5;124;43m'\u001b[39;49m\u001b[43m]\u001b[49m \u001b[38;5;241m*\u001b[39m \u001b[38;5;241m4\u001b[39m\n",
      "\u001b[1;31mTypeError\u001b[0m: 'int' object is not subscriptable"
     ]
    }
   ],
   "source": [
    "square_perimeter(3)"
   ]
  },
  {
   "cell_type": "code",
   "execution_count": 11,
   "id": "cf9413ba",
   "metadata": {},
   "outputs": [],
   "source": [
    "a = square_new('abc',4)"
   ]
  },
  {
   "cell_type": "code",
   "execution_count": 12,
   "id": "1c5e1b7b",
   "metadata": {},
   "outputs": [
    {
     "data": {
      "text/plain": [
       "{'name': 'abc',\n",
       " 'side': 4,\n",
       " '_class': {'perimeter': <function __main__.square_perimeter(thing)>,\n",
       "  'area': <function __main__.square_area(thing)>,\n",
       "  '_classname': 'Square'}}"
      ]
     },
     "execution_count": 12,
     "metadata": {},
     "output_type": "execute_result"
    }
   ],
   "source": [
    "a"
   ]
  },
  {
   "cell_type": "code",
   "execution_count": 18,
   "id": "bcfdfa25",
   "metadata": {},
   "outputs": [
    {
     "data": {
      "text/plain": [
       "'abc'"
      ]
     },
     "execution_count": 18,
     "metadata": {},
     "output_type": "execute_result"
    }
   ],
   "source": [
    "n = a['name']\n",
    "n"
   ]
  },
  {
   "cell_type": "code",
   "execution_count": 15,
   "id": "734a9c81",
   "metadata": {},
   "outputs": [
    {
     "data": {
      "text/plain": [
       "4"
      ]
     },
     "execution_count": 15,
     "metadata": {},
     "output_type": "execute_result"
    }
   ],
   "source": [
    "s = a['side']\n",
    "s"
   ]
  },
  {
   "cell_type": "code",
   "execution_count": 16,
   "id": "afe3d82f",
   "metadata": {},
   "outputs": [],
   "source": [
    "def call(thing, method_name):\n",
    "    return thing['_class'][method_name](thing)"
   ]
  },
  {
   "cell_type": "code",
   "execution_count": 17,
   "id": "99980166",
   "metadata": {},
   "outputs": [
    {
     "ename": "TypeError",
     "evalue": "string indices must be integers, not 'str'",
     "output_type": "error",
     "traceback": [
      "\u001b[1;31m---------------------------------------------------------------------------\u001b[0m",
      "\u001b[1;31mTypeError\u001b[0m                                 Traceback (most recent call last)",
      "Cell \u001b[1;32mIn[17], line 1\u001b[0m\n\u001b[1;32m----> 1\u001b[0m \u001b[43mcall\u001b[49m\u001b[43m(\u001b[49m\u001b[43ma\u001b[49m\u001b[43m[\u001b[49m\u001b[38;5;124;43m'\u001b[39;49m\u001b[38;5;124;43mname\u001b[39;49m\u001b[38;5;124;43m'\u001b[39;49m\u001b[43m]\u001b[49m\u001b[43m,\u001b[49m\u001b[38;5;124;43m'\u001b[39;49m\u001b[38;5;124;43mperimeter\u001b[39;49m\u001b[38;5;124;43m'\u001b[39;49m\u001b[43m)\u001b[49m\n",
      "Cell \u001b[1;32mIn[16], line 2\u001b[0m, in \u001b[0;36mcall\u001b[1;34m(thing, method_name)\u001b[0m\n\u001b[0;32m      1\u001b[0m \u001b[38;5;28;01mdef\u001b[39;00m \u001b[38;5;21mcall\u001b[39m(thing, method_name):\n\u001b[1;32m----> 2\u001b[0m     \u001b[38;5;28;01mreturn\u001b[39;00m \u001b[43mthing\u001b[49m\u001b[43m[\u001b[49m\u001b[38;5;124;43m'\u001b[39;49m\u001b[38;5;124;43m_class\u001b[39;49m\u001b[38;5;124;43m'\u001b[39;49m\u001b[43m]\u001b[49m[method_name](thing)\n",
      "\u001b[1;31mTypeError\u001b[0m: string indices must be integers, not 'str'"
     ]
    }
   ],
   "source": [
    "call(a['name'],'perimeter')"
   ]
  },
  {
   "cell_type": "code",
   "execution_count": 19,
   "id": "494b7027",
   "metadata": {},
   "outputs": [],
   "source": [
    "testing = [square_new('cdf', 5), square_new('egfed', 8)]"
   ]
  },
  {
   "cell_type": "code",
   "execution_count": 20,
   "id": "e4d20c97",
   "metadata": {},
   "outputs": [
    {
     "data": {
      "text/plain": [
       "[{'name': 'cdf',\n",
       "  'side': 5,\n",
       "  '_class': {'perimeter': <function __main__.square_perimeter(thing)>,\n",
       "   'area': <function __main__.square_area(thing)>,\n",
       "   '_classname': 'Square'}},\n",
       " {'name': 'egfed',\n",
       "  'side': 8,\n",
       "  '_class': {'perimeter': <function __main__.square_perimeter(thing)>,\n",
       "   'area': <function __main__.square_area(thing)>,\n",
       "   '_classname': 'Square'}}]"
      ]
     },
     "execution_count": 20,
     "metadata": {},
     "output_type": "execute_result"
    }
   ],
   "source": [
    "testing"
   ]
  },
  {
   "cell_type": "code",
   "execution_count": 21,
   "id": "0e372e4a",
   "metadata": {},
   "outputs": [
    {
     "name": "stdout",
     "output_type": "stream",
     "text": [
      "{'name': 'cdf', 'side': 5, '_class': {'perimeter': <function square_perimeter at 0x000002525884FF60>, 'area': <function square_area at 0x0000025258899F80>, '_classname': 'Square'}}\n",
      "{'name': 'egfed', 'side': 8, '_class': {'perimeter': <function square_perimeter at 0x000002525884FF60>, 'area': <function square_area at 0x0000025258899F80>, '_classname': 'Square'}}\n"
     ]
    }
   ],
   "source": [
    "for t in testing: \n",
    "    print (t)"
   ]
  },
  {
   "cell_type": "code",
   "execution_count": 23,
   "id": "f80343c3",
   "metadata": {},
   "outputs": [
    {
     "name": "stdout",
     "output_type": "stream",
     "text": [
      "cdf is a Square: 20.00 and 25.00\n",
      "egfed is a Square: 32.00 and 64.00\n"
     ]
    }
   ],
   "source": [
    "for t in testing: \n",
    "    n = t['name']\n",
    "    p = call(t,'perimeter')\n",
    "    a = call(t,'area')\n",
    "    c = t['_class']['_classname']\n",
    "    print(f'{n} is a {c}: {p:.2f} and {a:.2f}')"
   ]
  },
  {
   "cell_type": "code",
   "execution_count": 25,
   "id": "c0c09ba2",
   "metadata": {},
   "outputs": [
    {
     "ename": "TypeError",
     "evalue": "unsupported format string passed to function.__format__",
     "output_type": "error",
     "traceback": [
      "\u001b[1;31m---------------------------------------------------------------------------\u001b[0m",
      "\u001b[1;31mTypeError\u001b[0m                                 Traceback (most recent call last)",
      "Cell \u001b[1;32mIn[25], line 5\u001b[0m\n\u001b[0;32m      3\u001b[0m c \u001b[38;5;241m=\u001b[39m t[\u001b[38;5;124m'\u001b[39m\u001b[38;5;124m_class\u001b[39m\u001b[38;5;124m'\u001b[39m][\u001b[38;5;124m'\u001b[39m\u001b[38;5;124m_classname\u001b[39m\u001b[38;5;124m'\u001b[39m]\n\u001b[0;32m      4\u001b[0m p \u001b[38;5;241m=\u001b[39m t[\u001b[38;5;124m'\u001b[39m\u001b[38;5;124m_class\u001b[39m\u001b[38;5;124m'\u001b[39m][\u001b[38;5;124m'\u001b[39m\u001b[38;5;124mperimeter\u001b[39m\u001b[38;5;124m'\u001b[39m]\n\u001b[1;32m----> 5\u001b[0m \u001b[38;5;28mprint\u001b[39m(\u001b[38;5;124mf\u001b[39m\u001b[38;5;124m'\u001b[39m\u001b[38;5;132;01m{\u001b[39;00mn\u001b[38;5;132;01m}\u001b[39;00m\u001b[38;5;124m is a \u001b[39m\u001b[38;5;132;01m{\u001b[39;00mc\u001b[38;5;132;01m}\u001b[39;00m\u001b[38;5;124m: \u001b[39m\u001b[38;5;132;01m{\u001b[39;00mp\u001b[38;5;132;01m:\u001b[39;00m\u001b[38;5;124m.2f\u001b[39m\u001b[38;5;132;01m}\u001b[39;00m\u001b[38;5;124m'\u001b[39m)\n",
      "\u001b[1;31mTypeError\u001b[0m: unsupported format string passed to function.__format__"
     ]
    }
   ],
   "source": [
    "for t in testing: \n",
    "    n = t['name']\n",
    "    c = t['_class']['_classname']\n",
    "    p = t['_class']['perimeter']\n",
    "    print(f'{n} is a {c}: {p:.2f}')"
   ]
  },
  {
   "cell_type": "code",
   "execution_count": 26,
   "id": "dee5c532",
   "metadata": {},
   "outputs": [
    {
     "ename": "TypeError",
     "evalue": "string indices must be integers, not 'str'",
     "output_type": "error",
     "traceback": [
      "\u001b[1;31m---------------------------------------------------------------------------\u001b[0m",
      "\u001b[1;31mTypeError\u001b[0m                                 Traceback (most recent call last)",
      "Cell \u001b[1;32mIn[26], line 1\u001b[0m\n\u001b[1;32m----> 1\u001b[0m \u001b[43msquare_area\u001b[49m\u001b[43m(\u001b[49m\u001b[38;5;124;43m'\u001b[39;49m\u001b[38;5;124;43macv\u001b[39;49m\u001b[38;5;124;43m'\u001b[39;49m\u001b[43m)\u001b[49m\n",
      "Cell \u001b[1;32mIn[7], line 2\u001b[0m, in \u001b[0;36msquare_area\u001b[1;34m(thing)\u001b[0m\n\u001b[0;32m      1\u001b[0m \u001b[38;5;28;01mdef\u001b[39;00m \u001b[38;5;21msquare_area\u001b[39m(thing):\n\u001b[1;32m----> 2\u001b[0m     \u001b[38;5;28;01mreturn\u001b[39;00m \u001b[43mthing\u001b[49m\u001b[43m[\u001b[49m\u001b[38;5;124;43m'\u001b[39;49m\u001b[38;5;124;43mside\u001b[39;49m\u001b[38;5;124;43m'\u001b[39;49m\u001b[43m]\u001b[49m \u001b[38;5;241m*\u001b[39m\u001b[38;5;241m*\u001b[39m \u001b[38;5;241m2\u001b[39m\n",
      "\u001b[1;31mTypeError\u001b[0m: string indices must be integers, not 'str'"
     ]
    }
   ],
   "source": [
    "square_area('acv')"
   ]
  },
  {
   "cell_type": "code",
   "execution_count": 28,
   "id": "aa81ad43",
   "metadata": {},
   "outputs": [
    {
     "data": {
      "text/plain": [
       "{'name': 'cdf',\n",
       " 'side': 5,\n",
       " '_class': {'perimeter': <function __main__.square_perimeter(thing)>,\n",
       "  'area': <function __main__.square_area(thing)>,\n",
       "  '_classname': 'Square'}}"
      ]
     },
     "execution_count": 28,
     "metadata": {},
     "output_type": "execute_result"
    }
   ],
   "source": [
    "testing[0]"
   ]
  },
  {
   "cell_type": "code",
   "execution_count": 41,
   "id": "d8f770ef",
   "metadata": {},
   "outputs": [
    {
     "data": {
      "text/plain": [
       "25"
      ]
     },
     "execution_count": 41,
     "metadata": {},
     "output_type": "execute_result"
    }
   ],
   "source": [
    "\n",
    "\n",
    "# def call(thing, method_name):\n",
    "#     return thing['_class'][method_name](thing)\n",
    "\n",
    "# def square_perimeter(thing):\n",
    "#     return thing['side'] * 4 \n",
    "\n",
    "call(testing[0],'perimeter')\n",
    "call(testing[0],'area')\n",
    "# call(testing[0],'_classname')\n",
    "\n",
    "\n",
    "\n",
    "\n"
   ]
  },
  {
   "cell_type": "code",
   "execution_count": 36,
   "id": "592c4d0a",
   "metadata": {},
   "outputs": [
    {
     "data": {
      "text/plain": [
       "{'perimeter': <function __main__.square_perimeter(thing)>,\n",
       " 'area': <function __main__.square_area(thing)>,\n",
       " '_classname': 'Square'}"
      ]
     },
     "execution_count": 36,
     "metadata": {},
     "output_type": "execute_result"
    }
   ],
   "source": [
    "Square"
   ]
  },
  {
   "cell_type": "code",
   "execution_count": 37,
   "id": "4a5f0670",
   "metadata": {},
   "outputs": [
    {
     "name": "stdout",
     "output_type": "stream",
     "text": [
      "perimeter <function square_perimeter at 0x000002525884FF60>\n"
     ]
    }
   ],
   "source": [
    "first_key, first_value = list(Square.items())[0]\n",
    "print(first_key, first_value)"
   ]
  },
  {
   "cell_type": "code",
   "execution_count": 38,
   "id": "61c482cd",
   "metadata": {},
   "outputs": [
    {
     "data": {
      "text/plain": [
       "<function __main__.square_perimeter(thing)>"
      ]
     },
     "execution_count": 38,
     "metadata": {},
     "output_type": "execute_result"
    }
   ],
   "source": [
    "first_value"
   ]
  },
  {
   "cell_type": "code",
   "execution_count": 39,
   "id": "6c012ab4",
   "metadata": {},
   "outputs": [
    {
     "data": {
      "text/plain": [
       "'perimeter'"
      ]
     },
     "execution_count": 39,
     "metadata": {},
     "output_type": "execute_result"
    }
   ],
   "source": [
    "first_key"
   ]
  },
  {
   "cell_type": "markdown",
   "id": "94dc63a0",
   "metadata": {},
   "source": [
    "### Assignment: \n",
    "Perfect 👌 let’s move away from geometry. I’ll give you a **fresh assignment idea** where you can reuse the same pattern of *dict-based pseudo-classes + dispatcher*, but in a **different domain**.\n",
    "\n",
    "---\n",
    "\n",
    "# Assignment: Mini RPG Character System\n",
    "\n",
    "### Core idea\n",
    "\n",
    "You’re going to build a tiny role-playing game (RPG) system where characters are implemented as dicts with attached methods (exactly like your `Square`), and `call(character, method_name, ...)` dispatches their behavior.\n",
    "\n",
    "---\n",
    "\n",
    "## Requirements\n",
    "\n",
    "### 1. Define “classes” (method tables)\n",
    "\n",
    "* Create at least **3 character types** (e.g., `Warrior`, `Mage`, `Healer`).\n",
    "* Each must implement:\n",
    "\n",
    "  * `'attack'` → returns the amount of damage dealt.\n",
    "  * `'defend'` → reduces damage taken.\n",
    "  * `'describe'` → returns a string summary (e.g., `\"Mage(name=Gandalf, mana=50)\"`).\n",
    "\n",
    "### 2. Constructors\n",
    "\n",
    "* `warrior_new(name, hp, strength)`\n",
    "* `mage_new(name, hp, mana)`\n",
    "* `healer_new(name, hp, spirit)`\n",
    "\n",
    "Each constructor should:\n",
    "\n",
    "* Validate numeric inputs (positive only).\n",
    "* Return a dict with stats (e.g., `'hp'`, `'mana'`, `'strength'`) and `'_class'` reference.\n",
    "\n",
    "### 3. Dispatcher\n",
    "\n",
    "* Implement `call(character, method_name, *args, **kwargs)` that looks up the method and calls it with the character.\n",
    "* Example: `call(w, 'attack')`.\n",
    "\n",
    "### 4. Gameplay function\n",
    "\n",
    "* Write `battle_round(attacker, defender)` that:\n",
    "\n",
    "  * Calls attacker’s `'attack'`.\n",
    "  * Passes damage to defender’s `'defend'`.\n",
    "  * Updates defender’s `'hp'`.\n",
    "  * Prints what happened.\n",
    "\n",
    "### 5. Acceptance tests\n",
    "\n",
    "Make sure:\n",
    "\n",
    "* Attacking reduces opponent’s HP.\n",
    "* Defend modifies how much HP is lost.\n",
    "* Characters’ `describe` works.\n",
    "\n",
    "---\n",
    "\n",
    "## Stretch goals (optional)\n",
    "\n",
    "* Add `'heal'` for Healer.\n",
    "* Add `'special'` moves with cooldowns.\n",
    "* Add a `Group` pseudo-class for parties of characters (team vs team battle).\n",
    "\n",
    "---\n",
    "\n",
    "## Deliverables\n",
    "\n",
    "* A `.py` file with:\n",
    "\n",
    "  * Character method tables.\n",
    "  * Constructors.\n",
    "  * Dispatcher.\n",
    "  * `battle_round`.\n",
    "* A small demo at the bottom where you create characters and make them fight.\n",
    "\n",
    "---\n",
    "\n",
    "👉 This assignment will let you practice:\n",
    "\n",
    "* First-class functions stored in dicts.\n",
    "* Dynamic dispatch via `call`.\n",
    "* Polymorphism (different characters, same method names).\n",
    "* State updates (`hp` going down).\n",
    "\n",
    "---\n",
    "\n",
    "Do you want me to also give you a **set of challenge questions** (like I did with geometry) that you can use to check your understanding while building this?\n"
   ]
  },
  {
   "cell_type": "markdown",
   "id": "6bd9219d",
   "metadata": {},
   "source": [
    "### Questions:\n",
    "Perfect 👌 — here’s a set of **challenge questions** you can use to test your understanding as you build the RPG assignment. They’re split into three categories: *basic behavior*, *robustness & edge cases*, and *design & extension*.\n",
    "\n",
    "---\n",
    "\n",
    "# ✅ Challenge Questions for Your RPG System\n",
    "\n",
    "## 1. Basic behavior\n",
    "\n",
    "1. What does `call(warrior_new(\"Conan\", 100, 20), 'attack')` return?\n",
    "\n",
    "   * Show the math behind it.\n",
    "2. If a Mage with `mana=50` defends against 10 damage, what happens to their HP?\n",
    "\n",
    "   * Explain the logic step by step.\n",
    "3. What does `call(character, 'describe')` output for a Healer named \"Luna\" with 80 HP and 30 spirit?\n",
    "4. Write the expected result after one `battle_round` where the Warrior attacks the Mage.\n",
    "\n",
    "   * Show both damage and updated HP.\n",
    "\n",
    "---\n",
    "\n",
    "## 2. Robustness & edge cases\n",
    "\n",
    "5. What happens if you try `call(mage_new(\"Merlin\", 90, 50), 'heal')` but `'heal'` isn’t in Mage’s method table?\n",
    "\n",
    "   * What exception is raised? Why?\n",
    "6. What happens if you create a Warrior with negative HP: `warrior_new(\"Buggy\", -10, 15)`?\n",
    "\n",
    "   * What should your constructor do?\n",
    "7. If you run `battle_round` where the attacker has 0 HP, what should logically happen?\n",
    "\n",
    "   * Should they still attack, or should the function block it?\n",
    "8. If the defender’s HP goes below 0 after an attack, should it stay negative, or should it stop at 0? Why?\n",
    "\n",
    "---\n",
    "\n",
    "## 3. Design & extension\n",
    "\n",
    "9. How could you implement a **healing spell** for the Healer so that:\n",
    "\n",
    "   * It increases HP of an ally, but not beyond their max HP?\n",
    "   * It costs some resource (like `spirit`) per cast?\n",
    "10. How would you modify the `battle_round` function so that it can handle a **team vs team** fight?\n",
    "11. Imagine adding a `'special'` move for Mage that costs 20 mana but deals 3× damage.\n",
    "\n",
    "* How would you add this new method without touching the dispatcher code?\n",
    "\n",
    "12. Compare this dict-based design to writing real Python classes (`class Warrior:` etc.).\n",
    "\n",
    "* What are the pros and cons?\n",
    "\n",
    "13. Right now, the dispatcher always expects a string method name.\n",
    "\n",
    "* What are the trade-offs of using string keys vs directly storing callable functions in the character dict?\n",
    "\n",
    "---\n",
    "\n",
    "👉 I recommend you **write your answers in comments** directly in your `.py` file as you build, and then test them with real code to see if your reasoning holds.\n",
    "\n",
    "Would you like me to also design a **mini test script** (like a checklist of code you can run after you finish Stage 1 of RPG) so you can immediately verify your implementation?\n"
   ]
  }
 ],
 "metadata": {
  "kernelspec": {
   "display_name": "Python 3",
   "language": "python",
   "name": "python3"
  },
  "language_info": {
   "codemirror_mode": {
    "name": "ipython",
    "version": 3
   },
   "file_extension": ".py",
   "mimetype": "text/x-python",
   "name": "python",
   "nbconvert_exporter": "python",
   "pygments_lexer": "ipython3",
   "version": "3.11.9"
  }
 },
 "nbformat": 4,
 "nbformat_minor": 5
}
