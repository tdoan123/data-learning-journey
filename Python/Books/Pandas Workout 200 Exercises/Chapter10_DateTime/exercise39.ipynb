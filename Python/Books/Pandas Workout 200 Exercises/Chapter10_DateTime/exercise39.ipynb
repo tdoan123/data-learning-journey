{
 "cells": [
  {
   "cell_type": "code",
   "execution_count": 24,
   "metadata": {},
   "outputs": [],
   "source": [
    "import pandas as pd\n",
    "import numpy as np\n",
    "from pandas import Series\n",
    "from pandas import DataFrame"
   ]
  },
  {
   "cell_type": "code",
   "execution_count": 2,
   "metadata": {},
   "outputs": [
    {
     "data": {
      "text/plain": [
       "Timestamp('2025-01-06 22:49:33.419411')"
      ]
     },
     "execution_count": 2,
     "metadata": {},
     "output_type": "execute_result"
    }
   ],
   "source": [
    "pd.to_datetime('now')"
   ]
  },
  {
   "cell_type": "code",
   "execution_count": 9,
   "metadata": {},
   "outputs": [
    {
     "data": {
      "text/plain": [
       "0    1970-07-14\n",
       "1    1972-03-01\n",
       "2    2000-12-16\n",
       "3    2002-12-17\n",
       "4    2005-10-31\n",
       "dtype: object"
      ]
     },
     "execution_count": 9,
     "metadata": {},
     "output_type": "execute_result"
    }
   ],
   "source": [
    "s = Series(['1970-07-14', '1972-03-01', '2000-12-16',\n",
    "    '2002-12-17', '2005-10-31'])\n",
    "s"
   ]
  },
  {
   "cell_type": "code",
   "execution_count": 10,
   "metadata": {},
   "outputs": [
    {
     "data": {
      "text/plain": [
       "0   1970-07-14\n",
       "1   1972-03-01\n",
       "2   2000-12-16\n",
       "3   2002-12-17\n",
       "4   2005-10-31\n",
       "dtype: datetime64[ns]"
      ]
     },
     "execution_count": 10,
     "metadata": {},
     "output_type": "execute_result"
    }
   ],
   "source": [
    "pd.to_datetime(s)"
   ]
  },
  {
   "cell_type": "code",
   "execution_count": 11,
   "metadata": {},
   "outputs": [
    {
     "data": {
      "text/plain": [
       "0   1970-07-14\n",
       "1   1972-03-01\n",
       "2   2000-12-16\n",
       "3   2002-12-17\n",
       "4   2005-10-31\n",
       "dtype: datetime64[ns]"
      ]
     },
     "execution_count": 11,
     "metadata": {},
     "output_type": "execute_result"
    }
   ],
   "source": [
    "s = Series(['1970-Jul-14', '1972-Mar-01', '2000-Dec-16',\n",
    "    '2002-Dec-17', '2005-Oct-31'])\n",
    "pd.to_datetime(s)"
   ]
  },
  {
   "cell_type": "code",
   "execution_count": 12,
   "metadata": {},
   "outputs": [
    {
     "data": {
      "text/plain": [
       "0   1970-07-14\n",
       "1   1972-03-01\n",
       "2   2000-12-16\n",
       "3   2002-12-17\n",
       "4   2005-10-31\n",
       "dtype: datetime64[ns]"
      ]
     },
     "execution_count": 12,
     "metadata": {},
     "output_type": "execute_result"
    }
   ],
   "source": [
    "s = Series(['14-Jul-1970', '01-Mar-1972', '16-Dec-2000',\n",
    "    '17-Dec-2002', '31-Oct-2005'])\n",
    "pd.to_datetime(s)"
   ]
  },
  {
   "cell_type": "code",
   "execution_count": 13,
   "metadata": {},
   "outputs": [
    {
     "name": "stderr",
     "output_type": "stream",
     "text": [
      "C:\\Users\\dqthi\\AppData\\Local\\Temp\\ipykernel_10936\\1653053148.py:3: UserWarning: Parsing dates in %d-%m-%Y format when dayfirst=False (the default) was specified. Pass `dayfirst=True` or specify a format to silence this warning.\n",
      "  pd.to_datetime(s)\n"
     ]
    },
    {
     "data": {
      "text/plain": [
       "0   1970-07-14\n",
       "1   1972-03-01\n",
       "2   2000-12-16\n",
       "3   2002-12-17\n",
       "4   2005-10-31\n",
       "dtype: datetime64[ns]"
      ]
     },
     "execution_count": 13,
     "metadata": {},
     "output_type": "execute_result"
    }
   ],
   "source": [
    "s = Series(['14-07-1970', '01-03-1972', '16-12-2000',\n",
    "    '17-12-2002', '31-10-2005'])\n",
    "pd.to_datetime(s)"
   ]
  },
  {
   "cell_type": "code",
   "execution_count": 14,
   "metadata": {},
   "outputs": [
    {
     "data": {
      "text/plain": [
       "0   1972-01-03\n",
       "1   1995-05-12\n",
       "dtype: datetime64[ns]"
      ]
     },
     "execution_count": 14,
     "metadata": {},
     "output_type": "execute_result"
    }
   ],
   "source": [
    "s = Series(['01/03/1972', '05/12/1995'])\n",
    "pd.to_datetime(s)\n"
   ]
  },
  {
   "cell_type": "code",
   "execution_count": 19,
   "metadata": {},
   "outputs": [
    {
     "data": {
      "text/plain": [
       "0   1972-01-03\n",
       "1   1995-05-12\n",
       "dtype: datetime64[ns]"
      ]
     },
     "execution_count": 19,
     "metadata": {},
     "output_type": "execute_result"
    }
   ],
   "source": [
    "s = Series(['01/03/1972', '05/12/1995'])\n",
    "pd.to_datetime(s, dayfirst=False)"
   ]
  },
  {
   "cell_type": "code",
   "execution_count": 20,
   "metadata": {},
   "outputs": [
    {
     "data": {
      "text/plain": [
       "0   1972-03-01\n",
       "1   1995-12-05\n",
       "dtype: datetime64[ns]"
      ]
     },
     "execution_count": 20,
     "metadata": {},
     "output_type": "execute_result"
    }
   ],
   "source": [
    "s = Series(['01/03/1972', '05/12/1995'])\n",
    "pd.to_datetime(s, dayfirst=True)"
   ]
  },
  {
   "cell_type": "code",
   "execution_count": 22,
   "metadata": {},
   "outputs": [
    {
     "data": {
      "text/plain": [
       "0   1970-07-14 08:00:00\n",
       "1   1972-03-01 22:00:00\n",
       "2   2000-12-16 12:15:28\n",
       "3   2002-12-17 18:17:00\n",
       "4   2005-10-31 23:51:00\n",
       "dtype: datetime64[ns]"
      ]
     },
     "execution_count": 22,
     "metadata": {},
     "output_type": "execute_result"
    }
   ],
   "source": [
    "s = Series(['1970-07-14 8:00', '1972-03-01 10:00 pm',\n",
    "    '2000-12-16 12:15:28', '2002-12-17 18:17', '2005-10-31 23:51'])\n",
    "pd.to_datetime(s, format='mixed')"
   ]
  },
  {
   "cell_type": "code",
   "execution_count": 25,
   "metadata": {},
   "outputs": [
    {
     "data": {
      "text/plain": [
       "0   1970-07-14\n",
       "1   1971-03-01\n",
       "2   2000-12-16\n",
       "3   2002-12-17\n",
       "4   2005-10-31\n",
       "dtype: datetime64[ns]"
      ]
     },
     "execution_count": 25,
     "metadata": {},
     "output_type": "execute_result"
    }
   ],
   "source": [
    "df = DataFrame([s.split('-')\n",
    "                for s in ['14-07-1970', '01-03-1971',\n",
    "                   '16-12-2000', '17-12-2002',\n",
    "                   '31-10-2005']],\n",
    "          columns='day month year'.split())\n",
    "pd.to_datetime(df[['year', 'month', 'day']])"
   ]
  },
  {
   "cell_type": "code",
   "execution_count": 27,
   "metadata": {},
   "outputs": [
    {
     "data": {
      "text/plain": [
       "0   18614 days 16:00:00\n",
       "1   18018 days 02:00:00\n",
       "2    7501 days 11:44:32\n",
       "3    6770 days 05:43:00\n",
       "4    5721 days 00:09:00\n",
       "dtype: timedelta64[ns]"
      ]
     },
     "execution_count": 27,
     "metadata": {},
     "output_type": "execute_result"
    }
   ],
   "source": [
    "s = Series(['1970-07-14 8:00', '1972-03-01 10:00 pm',\n",
    "            '2000-12-16 12:15:28', '2002-12-17 18:17',\n",
    "            '2005-10-31 23:51'])\n",
    "s = pd.to_datetime(s, format='mixed')\n",
    "pd.to_datetime('2021-July-01') - s"
   ]
  },
  {
   "cell_type": "code",
   "execution_count": 28,
   "metadata": {},
   "outputs": [
    {
     "data": {
      "text/plain": [
       "Components(days=2, hours=3, minutes=20, seconds=10, milliseconds=0, microseconds=0, nanoseconds=0)"
      ]
     },
     "execution_count": 28,
     "metadata": {},
     "output_type": "execute_result"
    }
   ],
   "source": [
    "pd.to_timedelta('2 days 3:20:10').components"
   ]
  },
  {
   "cell_type": "code",
   "execution_count": 33,
   "metadata": {},
   "outputs": [],
   "source": [
    "filepath = r\"C:\\Users\\dqthi\\Downloads\\pandas-workout-data\\data\\nyc_taxi_2019-07.csv\"\n",
    "\n",
    "df = pd.read_csv(filepath,\n",
    "                 usecols=['tpep_pickup_datetime', 'tpep_dropoff_datetime', 'passenger_count', 'trip_distance','total_amount'],\n",
    "                 parse_dates=['tpep_pickup_datetime', 'tpep_dropoff_datetime'])\n",
    "                 "
   ]
  },
  {
   "cell_type": "code",
   "execution_count": 34,
   "metadata": {},
   "outputs": [
    {
     "data": {
      "text/html": [
       "<div>\n",
       "<style scoped>\n",
       "    .dataframe tbody tr th:only-of-type {\n",
       "        vertical-align: middle;\n",
       "    }\n",
       "\n",
       "    .dataframe tbody tr th {\n",
       "        vertical-align: top;\n",
       "    }\n",
       "\n",
       "    .dataframe thead th {\n",
       "        text-align: right;\n",
       "    }\n",
       "</style>\n",
       "<table border=\"1\" class=\"dataframe\">\n",
       "  <thead>\n",
       "    <tr style=\"text-align: right;\">\n",
       "      <th></th>\n",
       "      <th>tpep_pickup_datetime</th>\n",
       "      <th>tpep_dropoff_datetime</th>\n",
       "      <th>passenger_count</th>\n",
       "      <th>trip_distance</th>\n",
       "      <th>total_amount</th>\n",
       "    </tr>\n",
       "  </thead>\n",
       "  <tbody>\n",
       "    <tr>\n",
       "      <th>0</th>\n",
       "      <td>2019-07-01 00:51:04</td>\n",
       "      <td>2019-07-01 00:51:33</td>\n",
       "      <td>1.0</td>\n",
       "      <td>0.00</td>\n",
       "      <td>4.94</td>\n",
       "    </tr>\n",
       "    <tr>\n",
       "      <th>1</th>\n",
       "      <td>2019-07-01 00:46:04</td>\n",
       "      <td>2019-07-01 01:05:46</td>\n",
       "      <td>1.0</td>\n",
       "      <td>4.16</td>\n",
       "      <td>20.30</td>\n",
       "    </tr>\n",
       "    <tr>\n",
       "      <th>2</th>\n",
       "      <td>2019-07-01 00:25:09</td>\n",
       "      <td>2019-07-01 01:00:56</td>\n",
       "      <td>1.0</td>\n",
       "      <td>18.80</td>\n",
       "      <td>70.67</td>\n",
       "    </tr>\n",
       "    <tr>\n",
       "      <th>3</th>\n",
       "      <td>2019-07-01 00:33:32</td>\n",
       "      <td>2019-07-01 01:15:27</td>\n",
       "      <td>1.0</td>\n",
       "      <td>18.46</td>\n",
       "      <td>66.36</td>\n",
       "    </tr>\n",
       "    <tr>\n",
       "      <th>4</th>\n",
       "      <td>2019-07-01 00:00:55</td>\n",
       "      <td>2019-07-01 00:13:05</td>\n",
       "      <td>0.0</td>\n",
       "      <td>1.70</td>\n",
       "      <td>15.30</td>\n",
       "    </tr>\n",
       "    <tr>\n",
       "      <th>...</th>\n",
       "      <td>...</td>\n",
       "      <td>...</td>\n",
       "      <td>...</td>\n",
       "      <td>...</td>\n",
       "      <td>...</td>\n",
       "    </tr>\n",
       "    <tr>\n",
       "      <th>6310414</th>\n",
       "      <td>2019-07-29 16:34:53</td>\n",
       "      <td>2019-07-29 16:53:20</td>\n",
       "      <td>NaN</td>\n",
       "      <td>3.86</td>\n",
       "      <td>29.00</td>\n",
       "    </tr>\n",
       "    <tr>\n",
       "      <th>6310415</th>\n",
       "      <td>2019-07-29 16:07:57</td>\n",
       "      <td>2019-07-29 17:26:41</td>\n",
       "      <td>NaN</td>\n",
       "      <td>15.48</td>\n",
       "      <td>54.43</td>\n",
       "    </tr>\n",
       "    <tr>\n",
       "      <th>6310416</th>\n",
       "      <td>2019-07-29 16:01:31</td>\n",
       "      <td>2019-07-29 17:15:38</td>\n",
       "      <td>NaN</td>\n",
       "      <td>12.92</td>\n",
       "      <td>65.40</td>\n",
       "    </tr>\n",
       "    <tr>\n",
       "      <th>6310417</th>\n",
       "      <td>2019-07-29 16:58:00</td>\n",
       "      <td>2019-07-29 17:42:00</td>\n",
       "      <td>NaN</td>\n",
       "      <td>7.12</td>\n",
       "      <td>43.00</td>\n",
       "    </tr>\n",
       "    <tr>\n",
       "      <th>6310418</th>\n",
       "      <td>2019-07-29 16:16:00</td>\n",
       "      <td>2019-07-29 16:33:00</td>\n",
       "      <td>NaN</td>\n",
       "      <td>1.77</td>\n",
       "      <td>22.15</td>\n",
       "    </tr>\n",
       "  </tbody>\n",
       "</table>\n",
       "<p>6310419 rows × 5 columns</p>\n",
       "</div>"
      ],
      "text/plain": [
       "        tpep_pickup_datetime tpep_dropoff_datetime  passenger_count  \\\n",
       "0        2019-07-01 00:51:04   2019-07-01 00:51:33              1.0   \n",
       "1        2019-07-01 00:46:04   2019-07-01 01:05:46              1.0   \n",
       "2        2019-07-01 00:25:09   2019-07-01 01:00:56              1.0   \n",
       "3        2019-07-01 00:33:32   2019-07-01 01:15:27              1.0   \n",
       "4        2019-07-01 00:00:55   2019-07-01 00:13:05              0.0   \n",
       "...                      ...                   ...              ...   \n",
       "6310414  2019-07-29 16:34:53   2019-07-29 16:53:20              NaN   \n",
       "6310415  2019-07-29 16:07:57   2019-07-29 17:26:41              NaN   \n",
       "6310416  2019-07-29 16:01:31   2019-07-29 17:15:38              NaN   \n",
       "6310417  2019-07-29 16:58:00   2019-07-29 17:42:00              NaN   \n",
       "6310418  2019-07-29 16:16:00   2019-07-29 16:33:00              NaN   \n",
       "\n",
       "         trip_distance  total_amount  \n",
       "0                 0.00          4.94  \n",
       "1                 4.16         20.30  \n",
       "2                18.80         70.67  \n",
       "3                18.46         66.36  \n",
       "4                 1.70         15.30  \n",
       "...                ...           ...  \n",
       "6310414           3.86         29.00  \n",
       "6310415          15.48         54.43  \n",
       "6310416          12.92         65.40  \n",
       "6310417           7.12         43.00  \n",
       "6310418           1.77         22.15  \n",
       "\n",
       "[6310419 rows x 5 columns]"
      ]
     },
     "execution_count": 34,
     "metadata": {},
     "output_type": "execute_result"
    }
   ],
   "source": [
    "df"
   ]
  },
  {
   "cell_type": "code",
   "execution_count": 36,
   "metadata": {},
   "outputs": [
    {
     "name": "stdout",
     "output_type": "stream",
     "text": [
      "<class 'pandas.core.frame.DataFrame'>\n",
      "RangeIndex: 6310419 entries, 0 to 6310418\n",
      "Data columns (total 5 columns):\n",
      " #   Column                 Dtype         \n",
      "---  ------                 -----         \n",
      " 0   tpep_pickup_datetime   datetime64[ns]\n",
      " 1   tpep_dropoff_datetime  datetime64[ns]\n",
      " 2   passenger_count        float64       \n",
      " 3   trip_distance          float64       \n",
      " 4   total_amount           float64       \n",
      "dtypes: datetime64[ns](2), float64(3)\n",
      "memory usage: 240.7 MB\n"
     ]
    }
   ],
   "source": [
    "df.info()"
   ]
  },
  {
   "cell_type": "code",
   "execution_count": 39,
   "metadata": {},
   "outputs": [],
   "source": [
    "df['trip_time'] = df['tpep_dropoff_datetime'] - df['tpep_pickup_datetime']"
   ]
  },
  {
   "cell_type": "code",
   "execution_count": 40,
   "metadata": {},
   "outputs": [
    {
     "data": {
      "text/html": [
       "<div>\n",
       "<style scoped>\n",
       "    .dataframe tbody tr th:only-of-type {\n",
       "        vertical-align: middle;\n",
       "    }\n",
       "\n",
       "    .dataframe tbody tr th {\n",
       "        vertical-align: top;\n",
       "    }\n",
       "\n",
       "    .dataframe thead th {\n",
       "        text-align: right;\n",
       "    }\n",
       "</style>\n",
       "<table border=\"1\" class=\"dataframe\">\n",
       "  <thead>\n",
       "    <tr style=\"text-align: right;\">\n",
       "      <th></th>\n",
       "      <th>tpep_pickup_datetime</th>\n",
       "      <th>tpep_dropoff_datetime</th>\n",
       "      <th>passenger_count</th>\n",
       "      <th>trip_distance</th>\n",
       "      <th>total_amount</th>\n",
       "      <th>trip_time</th>\n",
       "    </tr>\n",
       "  </thead>\n",
       "  <tbody>\n",
       "    <tr>\n",
       "      <th>0</th>\n",
       "      <td>2019-07-01 00:51:04</td>\n",
       "      <td>2019-07-01 00:51:33</td>\n",
       "      <td>1.0</td>\n",
       "      <td>0.00</td>\n",
       "      <td>4.94</td>\n",
       "      <td>0 days 00:00:29</td>\n",
       "    </tr>\n",
       "    <tr>\n",
       "      <th>1</th>\n",
       "      <td>2019-07-01 00:46:04</td>\n",
       "      <td>2019-07-01 01:05:46</td>\n",
       "      <td>1.0</td>\n",
       "      <td>4.16</td>\n",
       "      <td>20.30</td>\n",
       "      <td>0 days 00:19:42</td>\n",
       "    </tr>\n",
       "    <tr>\n",
       "      <th>2</th>\n",
       "      <td>2019-07-01 00:25:09</td>\n",
       "      <td>2019-07-01 01:00:56</td>\n",
       "      <td>1.0</td>\n",
       "      <td>18.80</td>\n",
       "      <td>70.67</td>\n",
       "      <td>0 days 00:35:47</td>\n",
       "    </tr>\n",
       "    <tr>\n",
       "      <th>3</th>\n",
       "      <td>2019-07-01 00:33:32</td>\n",
       "      <td>2019-07-01 01:15:27</td>\n",
       "      <td>1.0</td>\n",
       "      <td>18.46</td>\n",
       "      <td>66.36</td>\n",
       "      <td>0 days 00:41:55</td>\n",
       "    </tr>\n",
       "    <tr>\n",
       "      <th>4</th>\n",
       "      <td>2019-07-01 00:00:55</td>\n",
       "      <td>2019-07-01 00:13:05</td>\n",
       "      <td>0.0</td>\n",
       "      <td>1.70</td>\n",
       "      <td>15.30</td>\n",
       "      <td>0 days 00:12:10</td>\n",
       "    </tr>\n",
       "    <tr>\n",
       "      <th>...</th>\n",
       "      <td>...</td>\n",
       "      <td>...</td>\n",
       "      <td>...</td>\n",
       "      <td>...</td>\n",
       "      <td>...</td>\n",
       "      <td>...</td>\n",
       "    </tr>\n",
       "    <tr>\n",
       "      <th>6310414</th>\n",
       "      <td>2019-07-29 16:34:53</td>\n",
       "      <td>2019-07-29 16:53:20</td>\n",
       "      <td>NaN</td>\n",
       "      <td>3.86</td>\n",
       "      <td>29.00</td>\n",
       "      <td>0 days 00:18:27</td>\n",
       "    </tr>\n",
       "    <tr>\n",
       "      <th>6310415</th>\n",
       "      <td>2019-07-29 16:07:57</td>\n",
       "      <td>2019-07-29 17:26:41</td>\n",
       "      <td>NaN</td>\n",
       "      <td>15.48</td>\n",
       "      <td>54.43</td>\n",
       "      <td>0 days 01:18:44</td>\n",
       "    </tr>\n",
       "    <tr>\n",
       "      <th>6310416</th>\n",
       "      <td>2019-07-29 16:01:31</td>\n",
       "      <td>2019-07-29 17:15:38</td>\n",
       "      <td>NaN</td>\n",
       "      <td>12.92</td>\n",
       "      <td>65.40</td>\n",
       "      <td>0 days 01:14:07</td>\n",
       "    </tr>\n",
       "    <tr>\n",
       "      <th>6310417</th>\n",
       "      <td>2019-07-29 16:58:00</td>\n",
       "      <td>2019-07-29 17:42:00</td>\n",
       "      <td>NaN</td>\n",
       "      <td>7.12</td>\n",
       "      <td>43.00</td>\n",
       "      <td>0 days 00:44:00</td>\n",
       "    </tr>\n",
       "    <tr>\n",
       "      <th>6310418</th>\n",
       "      <td>2019-07-29 16:16:00</td>\n",
       "      <td>2019-07-29 16:33:00</td>\n",
       "      <td>NaN</td>\n",
       "      <td>1.77</td>\n",
       "      <td>22.15</td>\n",
       "      <td>0 days 00:17:00</td>\n",
       "    </tr>\n",
       "  </tbody>\n",
       "</table>\n",
       "<p>6310419 rows × 6 columns</p>\n",
       "</div>"
      ],
      "text/plain": [
       "        tpep_pickup_datetime tpep_dropoff_datetime  passenger_count  \\\n",
       "0        2019-07-01 00:51:04   2019-07-01 00:51:33              1.0   \n",
       "1        2019-07-01 00:46:04   2019-07-01 01:05:46              1.0   \n",
       "2        2019-07-01 00:25:09   2019-07-01 01:00:56              1.0   \n",
       "3        2019-07-01 00:33:32   2019-07-01 01:15:27              1.0   \n",
       "4        2019-07-01 00:00:55   2019-07-01 00:13:05              0.0   \n",
       "...                      ...                   ...              ...   \n",
       "6310414  2019-07-29 16:34:53   2019-07-29 16:53:20              NaN   \n",
       "6310415  2019-07-29 16:07:57   2019-07-29 17:26:41              NaN   \n",
       "6310416  2019-07-29 16:01:31   2019-07-29 17:15:38              NaN   \n",
       "6310417  2019-07-29 16:58:00   2019-07-29 17:42:00              NaN   \n",
       "6310418  2019-07-29 16:16:00   2019-07-29 16:33:00              NaN   \n",
       "\n",
       "         trip_distance  total_amount       trip_time  \n",
       "0                 0.00          4.94 0 days 00:00:29  \n",
       "1                 4.16         20.30 0 days 00:19:42  \n",
       "2                18.80         70.67 0 days 00:35:47  \n",
       "3                18.46         66.36 0 days 00:41:55  \n",
       "4                 1.70         15.30 0 days 00:12:10  \n",
       "...                ...           ...             ...  \n",
       "6310414           3.86         29.00 0 days 00:18:27  \n",
       "6310415          15.48         54.43 0 days 01:18:44  \n",
       "6310416          12.92         65.40 0 days 01:14:07  \n",
       "6310417           7.12         43.00 0 days 00:44:00  \n",
       "6310418           1.77         22.15 0 days 00:17:00  \n",
       "\n",
       "[6310419 rows x 6 columns]"
      ]
     },
     "execution_count": 40,
     "metadata": {},
     "output_type": "execute_result"
    }
   ],
   "source": [
    "df"
   ]
  },
  {
   "cell_type": "code",
   "execution_count": 54,
   "metadata": {},
   "outputs": [],
   "source": [
    "condition = pd.to_timedelta('0 days :1 :00')"
   ]
  },
  {
   "cell_type": "code",
   "execution_count": 42,
   "metadata": {},
   "outputs": [
    {
     "data": {
      "text/plain": [
       "Components(days=0, hours=0, minutes=1, seconds=0, milliseconds=0, microseconds=0, nanoseconds=0)"
      ]
     },
     "execution_count": 42,
     "metadata": {},
     "output_type": "execute_result"
    }
   ],
   "source": [
    "condition.components"
   ]
  },
  {
   "cell_type": "code",
   "execution_count": 51,
   "metadata": {},
   "outputs": [
    {
     "data": {
      "text/plain": [
       "1.1126361022936828"
      ]
     },
     "execution_count": 51,
     "metadata": {},
     "output_type": "execute_result"
    }
   ],
   "source": [
    "df['trip_time'][df['trip_time'] < condition].count() / df['trip_time'].count() *100"
   ]
  },
  {
   "cell_type": "code",
   "execution_count": 52,
   "metadata": {},
   "outputs": [
    {
     "name": "stdout",
     "output_type": "stream",
     "text": [
      "<class 'pandas.core.frame.DataFrame'>\n",
      "RangeIndex: 6310419 entries, 0 to 6310418\n",
      "Data columns (total 6 columns):\n",
      " #   Column                 Dtype          \n",
      "---  ------                 -----          \n",
      " 0   tpep_pickup_datetime   datetime64[ns] \n",
      " 1   tpep_dropoff_datetime  datetime64[ns] \n",
      " 2   passenger_count        float64        \n",
      " 3   trip_distance          float64        \n",
      " 4   total_amount           float64        \n",
      " 5   trip_time              timedelta64[ns]\n",
      "dtypes: datetime64[ns](2), float64(3), timedelta64[ns](1)\n",
      "memory usage: 288.9 MB\n"
     ]
    }
   ],
   "source": [
    "df.info()"
   ]
  },
  {
   "cell_type": "code",
   "execution_count": 53,
   "metadata": {},
   "outputs": [
    {
     "data": {
      "text/plain": [
       "30.397584031219733"
      ]
     },
     "execution_count": 53,
     "metadata": {},
     "output_type": "execute_result"
    }
   ],
   "source": [
    "df['total_amount'][df['trip_time'] < condition].mean()"
   ]
  },
  {
   "cell_type": "code",
   "execution_count": 55,
   "metadata": {},
   "outputs": [],
   "source": [
    "condition2 = pd.to_timedelta('0 days 10:00:00')"
   ]
  },
  {
   "cell_type": "code",
   "execution_count": 56,
   "metadata": {},
   "outputs": [
    {
     "data": {
      "text/plain": [
       "Components(days=0, hours=10, minutes=0, seconds=0, milliseconds=0, microseconds=0, nanoseconds=0)"
      ]
     },
     "execution_count": 56,
     "metadata": {},
     "output_type": "execute_result"
    }
   ],
   "source": [
    "condition2.components"
   ]
  },
  {
   "cell_type": "code",
   "execution_count": 59,
   "metadata": {},
   "outputs": [
    {
     "data": {
      "text/plain": [
       "16698"
      ]
     },
     "execution_count": 59,
     "metadata": {},
     "output_type": "execute_result"
    }
   ],
   "source": [
    "df['trip_time'][df['trip_time'] > condition2].count()"
   ]
  },
  {
   "cell_type": "code",
   "execution_count": 61,
   "metadata": {},
   "outputs": [
    {
     "data": {
      "text/plain": [
       "0.2646100045020782"
      ]
     },
     "execution_count": 61,
     "metadata": {},
     "output_type": "execute_result"
    }
   ],
   "source": [
    "df['trip_time'][df['trip_time'] > condition2].count() / df['trip_time'].count() * 100"
   ]
  },
  {
   "cell_type": "code",
   "execution_count": 62,
   "metadata": {},
   "outputs": [
    {
     "data": {
      "text/plain": [
       "70212"
      ]
     },
     "execution_count": 62,
     "metadata": {},
     "output_type": "execute_result"
    }
   ],
   "source": [
    "df.loc[\n",
    "    df['trip_time'] < '1 minute',\n",
    "    'trip_time'\n",
    "    ].count()\n"
   ]
  },
  {
   "cell_type": "code",
   "execution_count": 63,
   "metadata": {},
   "outputs": [
    {
     "data": {
      "text/plain": [
       "30.397584031219733"
      ]
     },
     "execution_count": 63,
     "metadata": {},
     "output_type": "execute_result"
    }
   ],
   "source": [
    "df.loc[\n",
    "    df['trip_time'] < '1 minute',\n",
    "    'total_amount'\n",
    "    ].mean()"
   ]
  },
  {
   "cell_type": "code",
   "execution_count": 64,
   "metadata": {},
   "outputs": [],
   "source": [
    "df['trip_time_group'] = (\n",
    "    pd.cut(\n",
    "           df['trip_time'],\n",
    "           bins=[pd.to_timedelta(arg)\n",
    "                 for arg in ['0 seconds',\n",
    "                             '10 minutes',\n",
    "                             '1 hour',\n",
    "                             '100 hours']],\n",
    "          labels=['short', 'medium', 'long'])\n",
    ")"
   ]
  },
  {
   "cell_type": "code",
   "execution_count": 65,
   "metadata": {},
   "outputs": [
    {
     "data": {
      "text/plain": [
       "0           short\n",
       "1          medium\n",
       "2          medium\n",
       "3          medium\n",
       "4          medium\n",
       "            ...  \n",
       "6310414    medium\n",
       "6310415      long\n",
       "6310416      long\n",
       "6310417    medium\n",
       "6310418    medium\n",
       "Name: trip_time_group, Length: 6310419, dtype: category\n",
       "Categories (3, object): ['short' < 'medium' < 'long']"
      ]
     },
     "execution_count": 65,
     "metadata": {},
     "output_type": "execute_result"
    }
   ],
   "source": [
    "df['trip_time_group']"
   ]
  },
  {
   "cell_type": "code",
   "execution_count": 66,
   "metadata": {},
   "outputs": [
    {
     "name": "stderr",
     "output_type": "stream",
     "text": [
      "C:\\Users\\dqthi\\AppData\\Local\\Temp\\ipykernel_10936\\1308424108.py:1: FutureWarning: The default of observed=False is deprecated and will be changed to True in a future version of pandas. Pass observed=False to retain current behavior or observed=True to adopt the future default and silence this warning.\n",
      "  df.groupby('trip_time_group')['passenger_count'].mean()\n"
     ]
    },
    {
     "data": {
      "text/plain": [
       "trip_time_group\n",
       "short     1.552411\n",
       "medium    1.585806\n",
       "long      1.700859\n",
       "Name: passenger_count, dtype: float64"
      ]
     },
     "execution_count": 66,
     "metadata": {},
     "output_type": "execute_result"
    }
   ],
   "source": [
    "df.groupby('trip_time_group')['passenger_count'].mean() "
   ]
  },
  {
   "cell_type": "code",
   "execution_count": null,
   "metadata": {},
   "outputs": [],
   "source": []
  }
 ],
 "metadata": {
  "kernelspec": {
   "display_name": "fresh_env",
   "language": "python",
   "name": "python3"
  },
  "language_info": {
   "codemirror_mode": {
    "name": "ipython",
    "version": 3
   },
   "file_extension": ".py",
   "mimetype": "text/x-python",
   "name": "python",
   "nbconvert_exporter": "python",
   "pygments_lexer": "ipython3",
   "version": "3.10.15"
  }
 },
 "nbformat": 4,
 "nbformat_minor": 2
}
