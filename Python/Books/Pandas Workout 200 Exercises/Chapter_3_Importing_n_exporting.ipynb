{
 "cells": [
  {
   "cell_type": "code",
   "execution_count": 1,
   "metadata": {},
   "outputs": [],
   "source": [
    "import pandas as pd\n",
    "import numpy as np\n",
    "# import matplotlib.pyplot as plt\n",
    "from pandas import DataFrame"
   ]
  },
  {
   "cell_type": "markdown",
   "metadata": {},
   "source": [
    "# Key concept to know \n",
    "`pd.read_cs`           - df = pd.read_csv('myfile.csv')\n",
    "`df.to_csv`            - df.to_csv('myfile.csv')\n",
    "`pd.read_json`         - df = pd.read_json('myfile.json')\n",
    "`df.corr`              - df.corr()\n",
    "`df.dropna`            - df.dropna()\n",
    "`df.loc`               - df.loc[df['trip_distance'] > 10, 'passenger_count'] \n",
    "`pd.read_html`         - df = df.read.html('https://a-site.)\n",
    "`s.value_counts`       - s.value_counts() \n",
    "`s.round`              - s.round(2)     \n",
    "`df.memory_usage`      - df.memory_usage()\n",
    "`pd.Series.idxmin`     - s.idxmin()\n",
    "`pd.Series.idxmax`     - s.idxmax()\n",
    "`pd.DatFrame.agg`      - df.idmax(['min','max'])"
   ]
  },
  {
   "cell_type": "code",
   "execution_count": 2,
   "metadata": {
    "vscode": {
     "languageId": "markdown"
    }
   },
   "outputs": [],
   "source": [
    "# arguments `pd.read_csv` & `df.to_csv`: \n",
    "# `sep`the field separator \n",
    "# `header` whether ther are headers sescribing column names and on which line of the file they appear\n",
    "# `index_col` which column, if any, should be set to be the index of our data frame\n",
    "# `usecols` which column from the file should be included in the data frame  \n"
   ]
  },
  {
   "cell_type": "markdown",
   "metadata": {},
   "source": [
    "# Exercise 15: Weird taxi rides\n"
   ]
  },
  {
   "cell_type": "code",
   "execution_count": 3,
   "metadata": {},
   "outputs": [],
   "source": [
    "ex15 = pd.read_csv(r\"C:\\Users\\dqthi\\Downloads\\pandas-workout-data\\data\\nyc_taxi_2019-01.csv\",\n",
    "                     usecols = ['passenger_count', 'trip_distance', 'payment_type', 'total_amount'])"
   ]
  },
  {
   "cell_type": "code",
   "execution_count": 4,
   "metadata": {},
   "outputs": [
    {
     "name": "stdout",
     "output_type": "stream",
     "text": [
      "<class 'pandas.core.frame.DataFrame'>\n",
      "RangeIndex: 7667792 entries, 0 to 7667791\n",
      "Data columns (total 4 columns):\n",
      " #   Column           Dtype  \n",
      "---  ------           -----  \n",
      " 0   passenger_count  int64  \n",
      " 1   trip_distance    float64\n",
      " 2   payment_type     int64  \n",
      " 3   total_amount     float64\n",
      "dtypes: float64(2), int64(2)\n",
      "memory usage: 234.0 MB\n"
     ]
    }
   ],
   "source": [
    "ex15.info()"
   ]
  },
  {
   "cell_type": "code",
   "execution_count": 5,
   "metadata": {},
   "outputs": [],
   "source": [
    "# passenger_count—The number of passengers who took that taxi ride.\n",
    "\n",
    "# trip_distance—The distance traveled in miles.\n",
    "\n",
    "# total_amount—The total owed to the driver, including the fare, tolls, taxes, and tip.\n",
    "\n",
    "# payment_type—An integer number describing how the passenger paid for the trip. The most important values are 1 (credit card) and 2 (cash)."
   ]
  },
  {
   "cell_type": "code",
   "execution_count": 6,
   "metadata": {},
   "outputs": [
    {
     "data": {
      "text/plain": [
       "(7667792, 4)"
      ]
     },
     "execution_count": 6,
     "metadata": {},
     "output_type": "execute_result"
    }
   ],
   "source": [
    "ex15.shape "
   ]
  },
  {
   "cell_type": "code",
   "execution_count": 7,
   "metadata": {},
   "outputs": [],
   "source": [
    "# there are 7.6 million rows in the dataset. this is massive. i think this is the first time I am processing the data with this amount of rows. ``"
   ]
  },
  {
   "cell_type": "code",
   "execution_count": 8,
   "metadata": {},
   "outputs": [
    {
     "data": {
      "text/html": [
       "<div>\n",
       "<style scoped>\n",
       "    .dataframe tbody tr th:only-of-type {\n",
       "        vertical-align: middle;\n",
       "    }\n",
       "\n",
       "    .dataframe tbody tr th {\n",
       "        vertical-align: top;\n",
       "    }\n",
       "\n",
       "    .dataframe thead th {\n",
       "        text-align: right;\n",
       "    }\n",
       "</style>\n",
       "<table border=\"1\" class=\"dataframe\">\n",
       "  <thead>\n",
       "    <tr style=\"text-align: right;\">\n",
       "      <th></th>\n",
       "      <th>passenger_count</th>\n",
       "      <th>trip_distance</th>\n",
       "      <th>payment_type</th>\n",
       "      <th>total_amount</th>\n",
       "    </tr>\n",
       "  </thead>\n",
       "  <tbody>\n",
       "    <tr>\n",
       "      <th>count</th>\n",
       "      <td>7.667792e+06</td>\n",
       "      <td>7.667792e+06</td>\n",
       "      <td>7.667792e+06</td>\n",
       "      <td>7.667792e+06</td>\n",
       "    </tr>\n",
       "    <tr>\n",
       "      <th>mean</th>\n",
       "      <td>1.567078e+00</td>\n",
       "      <td>2.801084e+00</td>\n",
       "      <td>1.291776e+00</td>\n",
       "      <td>1.568222e+01</td>\n",
       "    </tr>\n",
       "    <tr>\n",
       "      <th>std</th>\n",
       "      <td>1.224431e+00</td>\n",
       "      <td>3.737529e+00</td>\n",
       "      <td>4.733229e-01</td>\n",
       "      <td>2.622932e+02</td>\n",
       "    </tr>\n",
       "    <tr>\n",
       "      <th>min</th>\n",
       "      <td>0.000000e+00</td>\n",
       "      <td>0.000000e+00</td>\n",
       "      <td>1.000000e+00</td>\n",
       "      <td>-3.628000e+02</td>\n",
       "    </tr>\n",
       "    <tr>\n",
       "      <th>25%</th>\n",
       "      <td>1.000000e+00</td>\n",
       "      <td>9.000000e-01</td>\n",
       "      <td>1.000000e+00</td>\n",
       "      <td>8.190000e+00</td>\n",
       "    </tr>\n",
       "    <tr>\n",
       "      <th>50%</th>\n",
       "      <td>1.000000e+00</td>\n",
       "      <td>1.530000e+00</td>\n",
       "      <td>1.000000e+00</td>\n",
       "      <td>1.127000e+01</td>\n",
       "    </tr>\n",
       "    <tr>\n",
       "      <th>75%</th>\n",
       "      <td>2.000000e+00</td>\n",
       "      <td>2.800000e+00</td>\n",
       "      <td>2.000000e+00</td>\n",
       "      <td>1.656000e+01</td>\n",
       "    </tr>\n",
       "    <tr>\n",
       "      <th>max</th>\n",
       "      <td>9.000000e+00</td>\n",
       "      <td>8.318000e+02</td>\n",
       "      <td>4.000000e+00</td>\n",
       "      <td>6.232617e+05</td>\n",
       "    </tr>\n",
       "  </tbody>\n",
       "</table>\n",
       "</div>"
      ],
      "text/plain": [
       "       passenger_count  trip_distance  payment_type  total_amount\n",
       "count     7.667792e+06   7.667792e+06  7.667792e+06  7.667792e+06\n",
       "mean      1.567078e+00   2.801084e+00  1.291776e+00  1.568222e+01\n",
       "std       1.224431e+00   3.737529e+00  4.733229e-01  2.622932e+02\n",
       "min       0.000000e+00   0.000000e+00  1.000000e+00 -3.628000e+02\n",
       "25%       1.000000e+00   9.000000e-01  1.000000e+00  8.190000e+00\n",
       "50%       1.000000e+00   1.530000e+00  1.000000e+00  1.127000e+01\n",
       "75%       2.000000e+00   2.800000e+00  2.000000e+00  1.656000e+01\n",
       "max       9.000000e+00   8.318000e+02  4.000000e+00  6.232617e+05"
      ]
     },
     "execution_count": 8,
     "metadata": {},
     "output_type": "execute_result"
    }
   ],
   "source": [
    "ex15.describe()"
   ]
  },
  {
   "cell_type": "code",
   "execution_count": 9,
   "metadata": {},
   "outputs": [],
   "source": [
    "# Q: How many taxi rides had more than eight passengers?\n",
    "# A: Out 7.67 million rides, only 9 rides are more than 8 passengers "
   ]
  },
  {
   "cell_type": "code",
   "execution_count": 10,
   "metadata": {},
   "outputs": [
    {
     "data": {
      "text/plain": [
       "(9, 4)"
      ]
     },
     "execution_count": 10,
     "metadata": {},
     "output_type": "execute_result"
    }
   ],
   "source": [
    "ex15.loc[ex15['passenger_count'] > 8 ].shape"
   ]
  },
  {
   "cell_type": "code",
   "execution_count": 11,
   "metadata": {},
   "outputs": [],
   "source": [
    "# Q: How many taxi rides had zero passengers?\n",
    "# A: out of 7.67million rides, there is 117k that has no passenger "
   ]
  },
  {
   "cell_type": "code",
   "execution_count": 12,
   "metadata": {},
   "outputs": [
    {
     "data": {
      "text/plain": [
       "(117381, 4)"
      ]
     },
     "execution_count": 12,
     "metadata": {},
     "output_type": "execute_result"
    }
   ],
   "source": [
    "ex15.loc[ex15['passenger_count'] == 0].shape"
   ]
  },
  {
   "cell_type": "code",
   "execution_count": 13,
   "metadata": {},
   "outputs": [],
   "source": [
    "# Q: How many taxi rides were paid for in cash and cost over $1,000?\n",
    "# A: Out of 7.67 miilion rides, there are 5 rides that paid in cash with the amount over $1,000  "
   ]
  },
  {
   "cell_type": "code",
   "execution_count": 14,
   "metadata": {},
   "outputs": [
    {
     "name": "stdout",
     "output_type": "stream",
     "text": [
      "<class 'pandas.core.frame.DataFrame'>\n",
      "Index: 5 entries, 478791 to 6827160\n",
      "Data columns (total 4 columns):\n",
      " #   Column           Non-Null Count  Dtype  \n",
      "---  ------           --------------  -----  \n",
      " 0   passenger_count  5 non-null      int64  \n",
      " 1   trip_distance    5 non-null      float64\n",
      " 2   payment_type     5 non-null      int64  \n",
      " 3   total_amount     5 non-null      float64\n",
      "dtypes: float64(2), int64(2)\n",
      "memory usage: 200.0 bytes\n"
     ]
    }
   ],
   "source": [
    "ex15.loc[(ex15['payment_type'] == 2) & (ex15['total_amount'] > 1000)].info() "
   ]
  },
  {
   "cell_type": "code",
   "execution_count": 15,
   "metadata": {},
   "outputs": [],
   "source": [
    "# Q: How many rides cost less than $0?  \n",
    "# A: There are 7131 rides that cost less than $0 "
   ]
  },
  {
   "cell_type": "code",
   "execution_count": 16,
   "metadata": {},
   "outputs": [
    {
     "data": {
      "text/plain": [
       "(7131, 4)"
      ]
     },
     "execution_count": 16,
     "metadata": {},
     "output_type": "execute_result"
    }
   ],
   "source": [
    "ex15.loc[ex15['total_amount'] < 0].shape"
   ]
  },
  {
   "cell_type": "code",
   "execution_count": 17,
   "metadata": {},
   "outputs": [],
   "source": [
    "# Q: How many rides traveled a below-average distance but cost an above-average amount?\n",
    "# A: 411,255 rides that are below-average distance and cost an above-average amount "
   ]
  },
  {
   "cell_type": "code",
   "execution_count": 18,
   "metadata": {},
   "outputs": [
    {
     "data": {
      "text/plain": [
       "15.68222215991253"
      ]
     },
     "execution_count": 18,
     "metadata": {},
     "output_type": "execute_result"
    }
   ],
   "source": [
    "ex15['total_amount'].mean()"
   ]
  },
  {
   "cell_type": "code",
   "execution_count": 19,
   "metadata": {},
   "outputs": [
    {
     "data": {
      "text/plain": [
       "2.8010838491706607"
      ]
     },
     "execution_count": 19,
     "metadata": {},
     "output_type": "execute_result"
    }
   ],
   "source": [
    "ex15['trip_distance'].mean()"
   ]
  },
  {
   "cell_type": "code",
   "execution_count": 20,
   "metadata": {},
   "outputs": [
    {
     "name": "stdout",
     "output_type": "stream",
     "text": [
      "<class 'pandas.core.frame.DataFrame'>\n",
      "Index: 411255 entries, 1 to 7667754\n",
      "Data columns (total 4 columns):\n",
      " #   Column           Non-Null Count   Dtype  \n",
      "---  ------           --------------   -----  \n",
      " 0   passenger_count  411255 non-null  int64  \n",
      " 1   trip_distance    411255 non-null  float64\n",
      " 2   payment_type     411255 non-null  int64  \n",
      " 3   total_amount     411255 non-null  float64\n",
      "dtypes: float64(2), int64(2)\n",
      "memory usage: 15.7 MB\n"
     ]
    }
   ],
   "source": [
    "ex15.loc[(ex15['trip_distance'] < ex15['trip_distance'].mean()) & ( ex15['total_amount'] > ex15['total_amount'].mean())].info()"
   ]
  },
  {
   "cell_type": "code",
   "execution_count": 21,
   "metadata": {},
   "outputs": [],
   "source": [
    "# bte: \n",
    "# Repeat this exercise using the query method rather than a boolean index and loc.\n"
   ]
  },
  {
   "cell_type": "code",
   "execution_count": 22,
   "metadata": {},
   "outputs": [
    {
     "data": {
      "text/plain": [
       "passenger_count    9\n",
       "trip_distance      9\n",
       "payment_type       9\n",
       "total_amount       9\n",
       "dtype: int64"
      ]
     },
     "execution_count": 22,
     "metadata": {},
     "output_type": "execute_result"
    }
   ],
   "source": [
    "ex15.query('passenger_count > 8').count()"
   ]
  },
  {
   "cell_type": "code",
   "execution_count": 23,
   "metadata": {},
   "outputs": [
    {
     "data": {
      "text/plain": [
       "passenger_count    117381\n",
       "trip_distance      117381\n",
       "payment_type       117381\n",
       "total_amount       117381\n",
       "dtype: int64"
      ]
     },
     "execution_count": 23,
     "metadata": {},
     "output_type": "execute_result"
    }
   ],
   "source": [
    "ex15.query('passenger_count == 0').count()"
   ]
  },
  {
   "cell_type": "code",
   "execution_count": 24,
   "metadata": {},
   "outputs": [
    {
     "data": {
      "text/plain": [
       "passenger_count    5\n",
       "trip_distance      5\n",
       "payment_type       5\n",
       "total_amount       5\n",
       "dtype: int64"
      ]
     },
     "execution_count": 24,
     "metadata": {},
     "output_type": "execute_result"
    }
   ],
   "source": [
    "ex15.query('(payment_type == 2) & (total_amount > 1000)').count()"
   ]
  },
  {
   "cell_type": "code",
   "execution_count": 25,
   "metadata": {},
   "outputs": [
    {
     "data": {
      "text/plain": [
       "passenger_count    7131\n",
       "trip_distance      7131\n",
       "payment_type       7131\n",
       "total_amount       7131\n",
       "dtype: int64"
      ]
     },
     "execution_count": 25,
     "metadata": {},
     "output_type": "execute_result"
    }
   ],
   "source": [
    "ex15.query('total_amount < 0').count()"
   ]
  },
  {
   "cell_type": "code",
   "execution_count": 26,
   "metadata": {},
   "outputs": [
    {
     "data": {
      "text/plain": [
       "passenger_count    411255\n",
       "trip_distance      411255\n",
       "payment_type       411255\n",
       "total_amount       411255\n",
       "dtype: int64"
      ]
     },
     "execution_count": 26,
     "metadata": {},
     "output_type": "execute_result"
    }
   ],
   "source": [
    "ex15.query('(trip_distance < trip_distance.mean()) & (total_amount > total_amount.mean())').count()"
   ]
  },
  {
   "cell_type": "code",
   "execution_count": 27,
   "metadata": {},
   "outputs": [],
   "source": [
    "# bte: \n",
    "# How many rides that cost less than $0 involved either \n",
    "# a dispute (payment_type of 4) or a voided trip (payment_type of 6)?\n",
    "# Answer: 2666 rides that had payment type are either dispute or voided with the total costs less than 0$0"
   ]
  },
  {
   "cell_type": "code",
   "execution_count": 28,
   "metadata": {},
   "outputs": [
    {
     "data": {
      "text/plain": [
       "(2666, 4)"
      ]
     },
     "execution_count": 28,
     "metadata": {},
     "output_type": "execute_result"
    }
   ],
   "source": [
    "ex15.loc[(ex15['total_amount'] < 0) & ((ex15['payment_type'] == 4) | (ex15['payment_type'] == 6))].shape"
   ]
  },
  {
   "cell_type": "code",
   "execution_count": 29,
   "metadata": {},
   "outputs": [],
   "source": [
    "# bte: \n",
    "# Q: show rides with payments as credit cards and then calculate the percentage of payments by credit cards over total rides"
   ]
  },
  {
   "cell_type": "code",
   "execution_count": 30,
   "metadata": {},
   "outputs": [
    {
     "data": {
      "text/plain": [
       "71.54637214989661"
      ]
     },
     "execution_count": 30,
     "metadata": {},
     "output_type": "execute_result"
    }
   ],
   "source": [
    "ex15.loc[ex15['payment_type'] == 1]['payment_type'].sum() / ex15['payment_type'].count() * 100"
   ]
  },
  {
   "cell_type": "code",
   "execution_count": 31,
   "metadata": {},
   "outputs": [
    {
     "data": {
      "text/html": [
       "<div>\n",
       "<style scoped>\n",
       "    .dataframe tbody tr th:only-of-type {\n",
       "        vertical-align: middle;\n",
       "    }\n",
       "\n",
       "    .dataframe tbody tr th {\n",
       "        vertical-align: top;\n",
       "    }\n",
       "\n",
       "    .dataframe thead th {\n",
       "        text-align: right;\n",
       "    }\n",
       "</style>\n",
       "<table border=\"1\" class=\"dataframe\">\n",
       "  <thead>\n",
       "    <tr style=\"text-align: right;\">\n",
       "      <th>payment_type</th>\n",
       "      <th>1</th>\n",
       "      <th>2</th>\n",
       "      <th>3</th>\n",
       "      <th>4</th>\n",
       "    </tr>\n",
       "  </thead>\n",
       "  <tbody>\n",
       "    <tr>\n",
       "      <th>passenger_count</th>\n",
       "      <td>5486027</td>\n",
       "      <td>2137415</td>\n",
       "      <td>33186</td>\n",
       "      <td>11164</td>\n",
       "    </tr>\n",
       "    <tr>\n",
       "      <th>total_amount</th>\n",
       "      <td>5486027</td>\n",
       "      <td>2137415</td>\n",
       "      <td>33186</td>\n",
       "      <td>11164</td>\n",
       "    </tr>\n",
       "    <tr>\n",
       "      <th>trip_distance</th>\n",
       "      <td>5486027</td>\n",
       "      <td>2137415</td>\n",
       "      <td>33186</td>\n",
       "      <td>11164</td>\n",
       "    </tr>\n",
       "  </tbody>\n",
       "</table>\n",
       "</div>"
      ],
      "text/plain": [
       "payment_type           1        2      3      4\n",
       "passenger_count  5486027  2137415  33186  11164\n",
       "total_amount     5486027  2137415  33186  11164\n",
       "trip_distance    5486027  2137415  33186  11164"
      ]
     },
     "execution_count": 31,
     "metadata": {},
     "output_type": "execute_result"
    }
   ],
   "source": [
    "payment_type_table = ex15.pivot_table(ex15, columns=['payment_type'],aggfunc='count')\n",
    "payment_type_table"
   ]
  },
  {
   "cell_type": "code",
   "execution_count": 32,
   "metadata": {},
   "outputs": [
    {
     "data": {
      "text/html": [
       "<div>\n",
       "<style scoped>\n",
       "    .dataframe tbody tr th:only-of-type {\n",
       "        vertical-align: middle;\n",
       "    }\n",
       "\n",
       "    .dataframe tbody tr th {\n",
       "        vertical-align: top;\n",
       "    }\n",
       "\n",
       "    .dataframe thead th {\n",
       "        text-align: right;\n",
       "    }\n",
       "</style>\n",
       "<table border=\"1\" class=\"dataframe\">\n",
       "  <thead>\n",
       "    <tr style=\"text-align: right;\">\n",
       "      <th></th>\n",
       "      <th>passenger_count</th>\n",
       "      <th>total_amount</th>\n",
       "      <th>trip_distance</th>\n",
       "    </tr>\n",
       "    <tr>\n",
       "      <th>payment_type</th>\n",
       "      <th></th>\n",
       "      <th></th>\n",
       "      <th></th>\n",
       "    </tr>\n",
       "  </thead>\n",
       "  <tbody>\n",
       "    <tr>\n",
       "      <th>1</th>\n",
       "      <td>5486027</td>\n",
       "      <td>5486027</td>\n",
       "      <td>5486027</td>\n",
       "    </tr>\n",
       "    <tr>\n",
       "      <th>2</th>\n",
       "      <td>2137415</td>\n",
       "      <td>2137415</td>\n",
       "      <td>2137415</td>\n",
       "    </tr>\n",
       "    <tr>\n",
       "      <th>3</th>\n",
       "      <td>33186</td>\n",
       "      <td>33186</td>\n",
       "      <td>33186</td>\n",
       "    </tr>\n",
       "    <tr>\n",
       "      <th>4</th>\n",
       "      <td>11164</td>\n",
       "      <td>11164</td>\n",
       "      <td>11164</td>\n",
       "    </tr>\n",
       "  </tbody>\n",
       "</table>\n",
       "</div>"
      ],
      "text/plain": [
       "              passenger_count  total_amount  trip_distance\n",
       "payment_type                                              \n",
       "1                     5486027       5486027        5486027\n",
       "2                     2137415       2137415        2137415\n",
       "3                       33186         33186          33186\n",
       "4                       11164         11164          11164"
      ]
     },
     "execution_count": 32,
     "metadata": {},
     "output_type": "execute_result"
    }
   ],
   "source": [
    "payment_type_table2 = ex15.pivot_table(ex15, index=['payment_type'], aggfunc='count')\n",
    "payment_type_table2"
   ]
  },
  {
   "cell_type": "markdown",
   "metadata": {},
   "source": [
    "# Exercise 16: Pandemic taxis "
   ]
  },
  {
   "cell_type": "code",
   "execution_count": 33,
   "metadata": {},
   "outputs": [],
   "source": [
    "# Questions:\n",
    "# How many rides were taken in 2019 and 2020, and what is the difference between these two figures?\n",
    "\n",
    "# How much money (in total) was collected in 2019 and 2020, and what was the difference between these two figures?\n",
    "\n",
    "# Did the proportion of trips with more than one passenger change dramatically?\n",
    "\n",
    "# Did people use cash (i.e., payment_type of 2) less in 2020 than in 2019?"
   ]
  },
  {
   "cell_type": "code",
   "execution_count": 34,
   "metadata": {},
   "outputs": [],
   "source": [
    "df_2019_jul = pd.read_csv(r\"C:\\Users\\dqthi\\Downloads\\pandas-workout-data\\data\\nyc_taxi_2019-07.csv\",\n",
    "                            usecols=['passenger_count', 'total_amount', 'payment_type'])"
   ]
  },
  {
   "cell_type": "code",
   "execution_count": 35,
   "metadata": {},
   "outputs": [
    {
     "name": "stdout",
     "output_type": "stream",
     "text": [
      "<class 'pandas.core.frame.DataFrame'>\n",
      "RangeIndex: 6310419 entries, 0 to 6310418\n",
      "Data columns (total 3 columns):\n",
      " #   Column           Dtype  \n",
      "---  ------           -----  \n",
      " 0   passenger_count  float64\n",
      " 1   payment_type     float64\n",
      " 2   total_amount     float64\n",
      "dtypes: float64(3)\n",
      "memory usage: 144.4 MB\n"
     ]
    }
   ],
   "source": [
    "df_2019_jul.info()"
   ]
  },
  {
   "cell_type": "code",
   "execution_count": 36,
   "metadata": {},
   "outputs": [],
   "source": [
    "df_2020_jul = pd.read_csv(r\"C:\\Users\\dqthi\\Downloads\\pandas-workout-data\\data\\nyc_taxi_2020-07.csv\",\n",
    "                          usecols = ['passenger_count', 'total_amount', 'payment_type'])"
   ]
  },
  {
   "cell_type": "code",
   "execution_count": 37,
   "metadata": {},
   "outputs": [
    {
     "name": "stdout",
     "output_type": "stream",
     "text": [
      "<class 'pandas.core.frame.DataFrame'>\n",
      "RangeIndex: 800412 entries, 0 to 800411\n",
      "Data columns (total 3 columns):\n",
      " #   Column           Non-Null Count   Dtype  \n",
      "---  ------           --------------   -----  \n",
      " 0   passenger_count  737565 non-null  float64\n",
      " 1   payment_type     737565 non-null  float64\n",
      " 2   total_amount     800412 non-null  float64\n",
      "dtypes: float64(3)\n",
      "memory usage: 18.3 MB\n"
     ]
    }
   ],
   "source": [
    "df_2020_jul.info()"
   ]
  },
  {
   "cell_type": "code",
   "execution_count": 38,
   "metadata": {},
   "outputs": [],
   "source": [
    "ex16 = pd.concat([df_2019_jul, df_2020_jul])"
   ]
  },
  {
   "cell_type": "code",
   "execution_count": 39,
   "metadata": {},
   "outputs": [
    {
     "data": {
      "text/html": [
       "<div>\n",
       "<style scoped>\n",
       "    .dataframe tbody tr th:only-of-type {\n",
       "        vertical-align: middle;\n",
       "    }\n",
       "\n",
       "    .dataframe tbody tr th {\n",
       "        vertical-align: top;\n",
       "    }\n",
       "\n",
       "    .dataframe thead th {\n",
       "        text-align: right;\n",
       "    }\n",
       "</style>\n",
       "<table border=\"1\" class=\"dataframe\">\n",
       "  <thead>\n",
       "    <tr style=\"text-align: right;\">\n",
       "      <th></th>\n",
       "      <th>passenger_count</th>\n",
       "      <th>payment_type</th>\n",
       "      <th>total_amount</th>\n",
       "    </tr>\n",
       "  </thead>\n",
       "  <tbody>\n",
       "    <tr>\n",
       "      <th>0</th>\n",
       "      <td>1.0</td>\n",
       "      <td>1.0</td>\n",
       "      <td>4.94</td>\n",
       "    </tr>\n",
       "    <tr>\n",
       "      <th>1</th>\n",
       "      <td>1.0</td>\n",
       "      <td>2.0</td>\n",
       "      <td>20.30</td>\n",
       "    </tr>\n",
       "    <tr>\n",
       "      <th>2</th>\n",
       "      <td>1.0</td>\n",
       "      <td>1.0</td>\n",
       "      <td>70.67</td>\n",
       "    </tr>\n",
       "    <tr>\n",
       "      <th>3</th>\n",
       "      <td>1.0</td>\n",
       "      <td>1.0</td>\n",
       "      <td>66.36</td>\n",
       "    </tr>\n",
       "    <tr>\n",
       "      <th>4</th>\n",
       "      <td>0.0</td>\n",
       "      <td>1.0</td>\n",
       "      <td>15.30</td>\n",
       "    </tr>\n",
       "    <tr>\n",
       "      <th>...</th>\n",
       "      <td>...</td>\n",
       "      <td>...</td>\n",
       "      <td>...</td>\n",
       "    </tr>\n",
       "    <tr>\n",
       "      <th>800407</th>\n",
       "      <td>NaN</td>\n",
       "      <td>NaN</td>\n",
       "      <td>83.50</td>\n",
       "    </tr>\n",
       "    <tr>\n",
       "      <th>800408</th>\n",
       "      <td>NaN</td>\n",
       "      <td>NaN</td>\n",
       "      <td>19.78</td>\n",
       "    </tr>\n",
       "    <tr>\n",
       "      <th>800409</th>\n",
       "      <td>NaN</td>\n",
       "      <td>NaN</td>\n",
       "      <td>38.45</td>\n",
       "    </tr>\n",
       "    <tr>\n",
       "      <th>800410</th>\n",
       "      <td>NaN</td>\n",
       "      <td>NaN</td>\n",
       "      <td>29.77</td>\n",
       "    </tr>\n",
       "    <tr>\n",
       "      <th>800411</th>\n",
       "      <td>NaN</td>\n",
       "      <td>NaN</td>\n",
       "      <td>51.90</td>\n",
       "    </tr>\n",
       "  </tbody>\n",
       "</table>\n",
       "<p>7110831 rows × 3 columns</p>\n",
       "</div>"
      ],
      "text/plain": [
       "        passenger_count  payment_type  total_amount\n",
       "0                   1.0           1.0          4.94\n",
       "1                   1.0           2.0         20.30\n",
       "2                   1.0           1.0         70.67\n",
       "3                   1.0           1.0         66.36\n",
       "4                   0.0           1.0         15.30\n",
       "...                 ...           ...           ...\n",
       "800407              NaN           NaN         83.50\n",
       "800408              NaN           NaN         19.78\n",
       "800409              NaN           NaN         38.45\n",
       "800410              NaN           NaN         29.77\n",
       "800411              NaN           NaN         51.90\n",
       "\n",
       "[7110831 rows x 3 columns]"
      ]
     },
     "execution_count": 39,
     "metadata": {},
     "output_type": "execute_result"
    }
   ],
   "source": [
    "ex16"
   ]
  },
  {
   "cell_type": "code",
   "execution_count": 40,
   "metadata": {},
   "outputs": [
    {
     "name": "stdout",
     "output_type": "stream",
     "text": [
      "<class 'pandas.core.frame.DataFrame'>\n",
      "Index: 7110831 entries, 0 to 800411\n",
      "Data columns (total 3 columns):\n",
      " #   Column           Dtype  \n",
      "---  ------           -----  \n",
      " 0   passenger_count  float64\n",
      " 1   payment_type     float64\n",
      " 2   total_amount     float64\n",
      "dtypes: float64(3)\n",
      "memory usage: 217.0 MB\n"
     ]
    }
   ],
   "source": [
    "ex16.info()"
   ]
  },
  {
   "cell_type": "code",
   "execution_count": 41,
   "metadata": {},
   "outputs": [],
   "source": [
    "df_2019_jul['year'] = 2019"
   ]
  },
  {
   "cell_type": "code",
   "execution_count": 42,
   "metadata": {},
   "outputs": [],
   "source": [
    "df_2020_jul['year'] = 2020"
   ]
  },
  {
   "cell_type": "code",
   "execution_count": 43,
   "metadata": {},
   "outputs": [
    {
     "name": "stdout",
     "output_type": "stream",
     "text": [
      "<class 'pandas.core.frame.DataFrame'>\n",
      "RangeIndex: 6310419 entries, 0 to 6310418\n",
      "Data columns (total 4 columns):\n",
      " #   Column           Dtype  \n",
      "---  ------           -----  \n",
      " 0   passenger_count  float64\n",
      " 1   payment_type     float64\n",
      " 2   total_amount     float64\n",
      " 3   year             int64  \n",
      "dtypes: float64(3), int64(1)\n",
      "memory usage: 192.6 MB\n"
     ]
    }
   ],
   "source": [
    "df_2019_jul.info()"
   ]
  },
  {
   "cell_type": "code",
   "execution_count": 44,
   "metadata": {},
   "outputs": [
    {
     "name": "stdout",
     "output_type": "stream",
     "text": [
      "<class 'pandas.core.frame.DataFrame'>\n",
      "RangeIndex: 800412 entries, 0 to 800411\n",
      "Data columns (total 4 columns):\n",
      " #   Column           Non-Null Count   Dtype  \n",
      "---  ------           --------------   -----  \n",
      " 0   passenger_count  737565 non-null  float64\n",
      " 1   payment_type     737565 non-null  float64\n",
      " 2   total_amount     800412 non-null  float64\n",
      " 3   year             800412 non-null  int64  \n",
      "dtypes: float64(3), int64(1)\n",
      "memory usage: 24.4 MB\n"
     ]
    }
   ],
   "source": [
    "df_2020_jul.info()"
   ]
  },
  {
   "cell_type": "code",
   "execution_count": 45,
   "metadata": {},
   "outputs": [
    {
     "data": {
      "text/html": [
       "<div>\n",
       "<style scoped>\n",
       "    .dataframe tbody tr th:only-of-type {\n",
       "        vertical-align: middle;\n",
       "    }\n",
       "\n",
       "    .dataframe tbody tr th {\n",
       "        vertical-align: top;\n",
       "    }\n",
       "\n",
       "    .dataframe thead th {\n",
       "        text-align: right;\n",
       "    }\n",
       "</style>\n",
       "<table border=\"1\" class=\"dataframe\">\n",
       "  <thead>\n",
       "    <tr style=\"text-align: right;\">\n",
       "      <th></th>\n",
       "      <th>passenger_count</th>\n",
       "      <th>payment_type</th>\n",
       "      <th>total_amount</th>\n",
       "      <th>year</th>\n",
       "    </tr>\n",
       "  </thead>\n",
       "  <tbody>\n",
       "    <tr>\n",
       "      <th>0</th>\n",
       "      <td>1.0</td>\n",
       "      <td>1.0</td>\n",
       "      <td>4.94</td>\n",
       "      <td>2019</td>\n",
       "    </tr>\n",
       "    <tr>\n",
       "      <th>1</th>\n",
       "      <td>1.0</td>\n",
       "      <td>2.0</td>\n",
       "      <td>20.30</td>\n",
       "      <td>2019</td>\n",
       "    </tr>\n",
       "    <tr>\n",
       "      <th>2</th>\n",
       "      <td>1.0</td>\n",
       "      <td>1.0</td>\n",
       "      <td>70.67</td>\n",
       "      <td>2019</td>\n",
       "    </tr>\n",
       "    <tr>\n",
       "      <th>3</th>\n",
       "      <td>1.0</td>\n",
       "      <td>1.0</td>\n",
       "      <td>66.36</td>\n",
       "      <td>2019</td>\n",
       "    </tr>\n",
       "    <tr>\n",
       "      <th>4</th>\n",
       "      <td>0.0</td>\n",
       "      <td>1.0</td>\n",
       "      <td>15.30</td>\n",
       "      <td>2019</td>\n",
       "    </tr>\n",
       "    <tr>\n",
       "      <th>...</th>\n",
       "      <td>...</td>\n",
       "      <td>...</td>\n",
       "      <td>...</td>\n",
       "      <td>...</td>\n",
       "    </tr>\n",
       "    <tr>\n",
       "      <th>800407</th>\n",
       "      <td>NaN</td>\n",
       "      <td>NaN</td>\n",
       "      <td>83.50</td>\n",
       "      <td>2020</td>\n",
       "    </tr>\n",
       "    <tr>\n",
       "      <th>800408</th>\n",
       "      <td>NaN</td>\n",
       "      <td>NaN</td>\n",
       "      <td>19.78</td>\n",
       "      <td>2020</td>\n",
       "    </tr>\n",
       "    <tr>\n",
       "      <th>800409</th>\n",
       "      <td>NaN</td>\n",
       "      <td>NaN</td>\n",
       "      <td>38.45</td>\n",
       "      <td>2020</td>\n",
       "    </tr>\n",
       "    <tr>\n",
       "      <th>800410</th>\n",
       "      <td>NaN</td>\n",
       "      <td>NaN</td>\n",
       "      <td>29.77</td>\n",
       "      <td>2020</td>\n",
       "    </tr>\n",
       "    <tr>\n",
       "      <th>800411</th>\n",
       "      <td>NaN</td>\n",
       "      <td>NaN</td>\n",
       "      <td>51.90</td>\n",
       "      <td>2020</td>\n",
       "    </tr>\n",
       "  </tbody>\n",
       "</table>\n",
       "<p>7110831 rows × 4 columns</p>\n",
       "</div>"
      ],
      "text/plain": [
       "        passenger_count  payment_type  total_amount  year\n",
       "0                   1.0           1.0          4.94  2019\n",
       "1                   1.0           2.0         20.30  2019\n",
       "2                   1.0           1.0         70.67  2019\n",
       "3                   1.0           1.0         66.36  2019\n",
       "4                   0.0           1.0         15.30  2019\n",
       "...                 ...           ...           ...   ...\n",
       "800407              NaN           NaN         83.50  2020\n",
       "800408              NaN           NaN         19.78  2020\n",
       "800409              NaN           NaN         38.45  2020\n",
       "800410              NaN           NaN         29.77  2020\n",
       "800411              NaN           NaN         51.90  2020\n",
       "\n",
       "[7110831 rows x 4 columns]"
      ]
     },
     "execution_count": 45,
     "metadata": {},
     "output_type": "execute_result"
    }
   ],
   "source": [
    "ex16 = pd.concat([df_2019_jul, df_2020_jul])\n",
    "ex16"
   ]
  },
  {
   "cell_type": "code",
   "execution_count": 46,
   "metadata": {},
   "outputs": [
    {
     "data": {
      "text/html": [
       "<div>\n",
       "<style scoped>\n",
       "    .dataframe tbody tr th:only-of-type {\n",
       "        vertical-align: middle;\n",
       "    }\n",
       "\n",
       "    .dataframe tbody tr th {\n",
       "        vertical-align: top;\n",
       "    }\n",
       "\n",
       "    .dataframe thead th {\n",
       "        text-align: right;\n",
       "    }\n",
       "</style>\n",
       "<table border=\"1\" class=\"dataframe\">\n",
       "  <thead>\n",
       "    <tr style=\"text-align: right;\">\n",
       "      <th></th>\n",
       "      <th>passenger_count</th>\n",
       "      <th>payment_type</th>\n",
       "      <th>total_amount</th>\n",
       "      <th>year</th>\n",
       "    </tr>\n",
       "  </thead>\n",
       "  <tbody>\n",
       "    <tr>\n",
       "      <th>0</th>\n",
       "      <td>1.0</td>\n",
       "      <td>2.0</td>\n",
       "      <td>9.30</td>\n",
       "      <td>2020</td>\n",
       "    </tr>\n",
       "    <tr>\n",
       "      <th>1</th>\n",
       "      <td>1.0</td>\n",
       "      <td>1.0</td>\n",
       "      <td>27.80</td>\n",
       "      <td>2020</td>\n",
       "    </tr>\n",
       "    <tr>\n",
       "      <th>2</th>\n",
       "      <td>1.0</td>\n",
       "      <td>2.0</td>\n",
       "      <td>22.30</td>\n",
       "      <td>2020</td>\n",
       "    </tr>\n",
       "    <tr>\n",
       "      <th>3</th>\n",
       "      <td>1.0</td>\n",
       "      <td>1.0</td>\n",
       "      <td>14.16</td>\n",
       "      <td>2020</td>\n",
       "    </tr>\n",
       "    <tr>\n",
       "      <th>4</th>\n",
       "      <td>1.0</td>\n",
       "      <td>2.0</td>\n",
       "      <td>7.80</td>\n",
       "      <td>2020</td>\n",
       "    </tr>\n",
       "    <tr>\n",
       "      <th>...</th>\n",
       "      <td>...</td>\n",
       "      <td>...</td>\n",
       "      <td>...</td>\n",
       "      <td>...</td>\n",
       "    </tr>\n",
       "    <tr>\n",
       "      <th>800407</th>\n",
       "      <td>NaN</td>\n",
       "      <td>NaN</td>\n",
       "      <td>83.50</td>\n",
       "      <td>2020</td>\n",
       "    </tr>\n",
       "    <tr>\n",
       "      <th>800408</th>\n",
       "      <td>NaN</td>\n",
       "      <td>NaN</td>\n",
       "      <td>19.78</td>\n",
       "      <td>2020</td>\n",
       "    </tr>\n",
       "    <tr>\n",
       "      <th>800409</th>\n",
       "      <td>NaN</td>\n",
       "      <td>NaN</td>\n",
       "      <td>38.45</td>\n",
       "      <td>2020</td>\n",
       "    </tr>\n",
       "    <tr>\n",
       "      <th>800410</th>\n",
       "      <td>NaN</td>\n",
       "      <td>NaN</td>\n",
       "      <td>29.77</td>\n",
       "      <td>2020</td>\n",
       "    </tr>\n",
       "    <tr>\n",
       "      <th>800411</th>\n",
       "      <td>NaN</td>\n",
       "      <td>NaN</td>\n",
       "      <td>51.90</td>\n",
       "      <td>2020</td>\n",
       "    </tr>\n",
       "  </tbody>\n",
       "</table>\n",
       "<p>800412 rows × 4 columns</p>\n",
       "</div>"
      ],
      "text/plain": [
       "        passenger_count  payment_type  total_amount  year\n",
       "0                   1.0           2.0          9.30  2020\n",
       "1                   1.0           1.0         27.80  2020\n",
       "2                   1.0           2.0         22.30  2020\n",
       "3                   1.0           1.0         14.16  2020\n",
       "4                   1.0           2.0          7.80  2020\n",
       "...                 ...           ...           ...   ...\n",
       "800407              NaN           NaN         83.50  2020\n",
       "800408              NaN           NaN         19.78  2020\n",
       "800409              NaN           NaN         38.45  2020\n",
       "800410              NaN           NaN         29.77  2020\n",
       "800411              NaN           NaN         51.90  2020\n",
       "\n",
       "[800412 rows x 4 columns]"
      ]
     },
     "execution_count": 46,
     "metadata": {},
     "output_type": "execute_result"
    }
   ],
   "source": [
    "ex16.loc[ex16['year'] == 2020] "
   ]
  },
  {
   "cell_type": "code",
   "execution_count": 47,
   "metadata": {},
   "outputs": [
    {
     "data": {
      "text/html": [
       "<div>\n",
       "<style scoped>\n",
       "    .dataframe tbody tr th:only-of-type {\n",
       "        vertical-align: middle;\n",
       "    }\n",
       "\n",
       "    .dataframe tbody tr th {\n",
       "        vertical-align: top;\n",
       "    }\n",
       "\n",
       "    .dataframe thead th {\n",
       "        text-align: right;\n",
       "    }\n",
       "</style>\n",
       "<table border=\"1\" class=\"dataframe\">\n",
       "  <thead>\n",
       "    <tr style=\"text-align: right;\">\n",
       "      <th></th>\n",
       "      <th>passenger_count</th>\n",
       "      <th>payment_type</th>\n",
       "      <th>total_amount</th>\n",
       "      <th>year</th>\n",
       "    </tr>\n",
       "  </thead>\n",
       "  <tbody>\n",
       "    <tr>\n",
       "      <th>0</th>\n",
       "      <td>1.0</td>\n",
       "      <td>1.0</td>\n",
       "      <td>4.94</td>\n",
       "      <td>2019</td>\n",
       "    </tr>\n",
       "    <tr>\n",
       "      <th>1</th>\n",
       "      <td>1.0</td>\n",
       "      <td>2.0</td>\n",
       "      <td>20.30</td>\n",
       "      <td>2019</td>\n",
       "    </tr>\n",
       "    <tr>\n",
       "      <th>2</th>\n",
       "      <td>1.0</td>\n",
       "      <td>1.0</td>\n",
       "      <td>70.67</td>\n",
       "      <td>2019</td>\n",
       "    </tr>\n",
       "    <tr>\n",
       "      <th>3</th>\n",
       "      <td>1.0</td>\n",
       "      <td>1.0</td>\n",
       "      <td>66.36</td>\n",
       "      <td>2019</td>\n",
       "    </tr>\n",
       "    <tr>\n",
       "      <th>4</th>\n",
       "      <td>0.0</td>\n",
       "      <td>1.0</td>\n",
       "      <td>15.30</td>\n",
       "      <td>2019</td>\n",
       "    </tr>\n",
       "    <tr>\n",
       "      <th>...</th>\n",
       "      <td>...</td>\n",
       "      <td>...</td>\n",
       "      <td>...</td>\n",
       "      <td>...</td>\n",
       "    </tr>\n",
       "    <tr>\n",
       "      <th>6310414</th>\n",
       "      <td>NaN</td>\n",
       "      <td>NaN</td>\n",
       "      <td>29.00</td>\n",
       "      <td>2019</td>\n",
       "    </tr>\n",
       "    <tr>\n",
       "      <th>6310415</th>\n",
       "      <td>NaN</td>\n",
       "      <td>NaN</td>\n",
       "      <td>54.43</td>\n",
       "      <td>2019</td>\n",
       "    </tr>\n",
       "    <tr>\n",
       "      <th>6310416</th>\n",
       "      <td>NaN</td>\n",
       "      <td>NaN</td>\n",
       "      <td>65.40</td>\n",
       "      <td>2019</td>\n",
       "    </tr>\n",
       "    <tr>\n",
       "      <th>6310417</th>\n",
       "      <td>NaN</td>\n",
       "      <td>NaN</td>\n",
       "      <td>43.00</td>\n",
       "      <td>2019</td>\n",
       "    </tr>\n",
       "    <tr>\n",
       "      <th>6310418</th>\n",
       "      <td>NaN</td>\n",
       "      <td>NaN</td>\n",
       "      <td>22.15</td>\n",
       "      <td>2019</td>\n",
       "    </tr>\n",
       "  </tbody>\n",
       "</table>\n",
       "<p>6310419 rows × 4 columns</p>\n",
       "</div>"
      ],
      "text/plain": [
       "         passenger_count  payment_type  total_amount  year\n",
       "0                    1.0           1.0          4.94  2019\n",
       "1                    1.0           2.0         20.30  2019\n",
       "2                    1.0           1.0         70.67  2019\n",
       "3                    1.0           1.0         66.36  2019\n",
       "4                    0.0           1.0         15.30  2019\n",
       "...                  ...           ...           ...   ...\n",
       "6310414              NaN           NaN         29.00  2019\n",
       "6310415              NaN           NaN         54.43  2019\n",
       "6310416              NaN           NaN         65.40  2019\n",
       "6310417              NaN           NaN         43.00  2019\n",
       "6310418              NaN           NaN         22.15  2019\n",
       "\n",
       "[6310419 rows x 4 columns]"
      ]
     },
     "execution_count": 47,
     "metadata": {},
     "output_type": "execute_result"
    }
   ],
   "source": [
    "ex16.loc[ex16['year'] == 2019] "
   ]
  },
  {
   "cell_type": "code",
   "execution_count": 48,
   "metadata": {},
   "outputs": [
    {
     "data": {
      "text/plain": [
       "5510007"
      ]
     },
     "execution_count": 48,
     "metadata": {},
     "output_type": "execute_result"
    }
   ],
   "source": [
    "(\n",
    "    ex16.loc[ex16['year'] == 2019, 'total_amount'].count() - \n",
    "    ex16.loc[ex16['year'] == 2020, 'total_amount'].count()\n",
    ")"
   ]
  },
  {
   "cell_type": "code",
   "execution_count": 49,
   "metadata": {},
   "outputs": [],
   "source": [
    "diff_2019_2020 = (\n",
    "    ex16.loc[ex16['year'] == 2019, 'total_amount'].count() - \n",
    "    ex16.loc[ex16['year'] == 2020, 'total_amount'].count()\n",
    ")"
   ]
  },
  {
   "cell_type": "code",
   "execution_count": 50,
   "metadata": {},
   "outputs": [
    {
     "data": {
      "text/plain": [
       "5510007"
      ]
     },
     "execution_count": 50,
     "metadata": {},
     "output_type": "execute_result"
    }
   ],
   "source": [
    "diff_2019_2020"
   ]
  },
  {
   "cell_type": "code",
   "execution_count": 51,
   "metadata": {},
   "outputs": [
    {
     "data": {
      "text/html": [
       "<div>\n",
       "<style scoped>\n",
       "    .dataframe tbody tr th:only-of-type {\n",
       "        vertical-align: middle;\n",
       "    }\n",
       "\n",
       "    .dataframe tbody tr th {\n",
       "        vertical-align: top;\n",
       "    }\n",
       "\n",
       "    .dataframe thead th {\n",
       "        text-align: right;\n",
       "    }\n",
       "</style>\n",
       "<table border=\"1\" class=\"dataframe\">\n",
       "  <thead>\n",
       "    <tr style=\"text-align: right;\">\n",
       "      <th></th>\n",
       "      <th>total_amount</th>\n",
       "      <th>passenger_count</th>\n",
       "    </tr>\n",
       "  </thead>\n",
       "  <tbody>\n",
       "    <tr>\n",
       "      <th>0</th>\n",
       "      <td>4.94</td>\n",
       "      <td>1.0</td>\n",
       "    </tr>\n",
       "    <tr>\n",
       "      <th>1</th>\n",
       "      <td>20.30</td>\n",
       "      <td>1.0</td>\n",
       "    </tr>\n",
       "    <tr>\n",
       "      <th>2</th>\n",
       "      <td>70.67</td>\n",
       "      <td>1.0</td>\n",
       "    </tr>\n",
       "    <tr>\n",
       "      <th>3</th>\n",
       "      <td>66.36</td>\n",
       "      <td>1.0</td>\n",
       "    </tr>\n",
       "    <tr>\n",
       "      <th>4</th>\n",
       "      <td>15.30</td>\n",
       "      <td>0.0</td>\n",
       "    </tr>\n",
       "    <tr>\n",
       "      <th>...</th>\n",
       "      <td>...</td>\n",
       "      <td>...</td>\n",
       "    </tr>\n",
       "    <tr>\n",
       "      <th>6310414</th>\n",
       "      <td>29.00</td>\n",
       "      <td>NaN</td>\n",
       "    </tr>\n",
       "    <tr>\n",
       "      <th>6310415</th>\n",
       "      <td>54.43</td>\n",
       "      <td>NaN</td>\n",
       "    </tr>\n",
       "    <tr>\n",
       "      <th>6310416</th>\n",
       "      <td>65.40</td>\n",
       "      <td>NaN</td>\n",
       "    </tr>\n",
       "    <tr>\n",
       "      <th>6310417</th>\n",
       "      <td>43.00</td>\n",
       "      <td>NaN</td>\n",
       "    </tr>\n",
       "    <tr>\n",
       "      <th>6310418</th>\n",
       "      <td>22.15</td>\n",
       "      <td>NaN</td>\n",
       "    </tr>\n",
       "  </tbody>\n",
       "</table>\n",
       "<p>6310419 rows × 2 columns</p>\n",
       "</div>"
      ],
      "text/plain": [
       "         total_amount  passenger_count\n",
       "0                4.94              1.0\n",
       "1               20.30              1.0\n",
       "2               70.67              1.0\n",
       "3               66.36              1.0\n",
       "4               15.30              0.0\n",
       "...               ...              ...\n",
       "6310414         29.00              NaN\n",
       "6310415         54.43              NaN\n",
       "6310416         65.40              NaN\n",
       "6310417         43.00              NaN\n",
       "6310418         22.15              NaN\n",
       "\n",
       "[6310419 rows x 2 columns]"
      ]
     },
     "execution_count": 51,
     "metadata": {},
     "output_type": "execute_result"
    }
   ],
   "source": [
    "ex16.loc[ex16['year'] == 2019, ['total_amount', 'passenger_count']]"
   ]
  },
  {
   "cell_type": "code",
   "execution_count": 52,
   "metadata": {},
   "outputs": [
    {
     "data": {
      "text/html": [
       "<div>\n",
       "<style scoped>\n",
       "    .dataframe tbody tr th:only-of-type {\n",
       "        vertical-align: middle;\n",
       "    }\n",
       "\n",
       "    .dataframe tbody tr th {\n",
       "        vertical-align: top;\n",
       "    }\n",
       "\n",
       "    .dataframe thead th {\n",
       "        text-align: right;\n",
       "    }\n",
       "</style>\n",
       "<table border=\"1\" class=\"dataframe\">\n",
       "  <thead>\n",
       "    <tr style=\"text-align: right;\">\n",
       "      <th></th>\n",
       "      <th>total_amount</th>\n",
       "      <th>passenger_count</th>\n",
       "    </tr>\n",
       "  </thead>\n",
       "  <tbody>\n",
       "    <tr>\n",
       "      <th>0</th>\n",
       "      <td>4.94</td>\n",
       "      <td>1.0</td>\n",
       "    </tr>\n",
       "    <tr>\n",
       "      <th>1</th>\n",
       "      <td>20.30</td>\n",
       "      <td>1.0</td>\n",
       "    </tr>\n",
       "    <tr>\n",
       "      <th>2</th>\n",
       "      <td>70.67</td>\n",
       "      <td>1.0</td>\n",
       "    </tr>\n",
       "    <tr>\n",
       "      <th>3</th>\n",
       "      <td>66.36</td>\n",
       "      <td>1.0</td>\n",
       "    </tr>\n",
       "    <tr>\n",
       "      <th>4</th>\n",
       "      <td>15.30</td>\n",
       "      <td>0.0</td>\n",
       "    </tr>\n",
       "    <tr>\n",
       "      <th>...</th>\n",
       "      <td>...</td>\n",
       "      <td>...</td>\n",
       "    </tr>\n",
       "    <tr>\n",
       "      <th>6310414</th>\n",
       "      <td>29.00</td>\n",
       "      <td>NaN</td>\n",
       "    </tr>\n",
       "    <tr>\n",
       "      <th>6310415</th>\n",
       "      <td>54.43</td>\n",
       "      <td>NaN</td>\n",
       "    </tr>\n",
       "    <tr>\n",
       "      <th>6310416</th>\n",
       "      <td>65.40</td>\n",
       "      <td>NaN</td>\n",
       "    </tr>\n",
       "    <tr>\n",
       "      <th>6310417</th>\n",
       "      <td>43.00</td>\n",
       "      <td>NaN</td>\n",
       "    </tr>\n",
       "    <tr>\n",
       "      <th>6310418</th>\n",
       "      <td>22.15</td>\n",
       "      <td>NaN</td>\n",
       "    </tr>\n",
       "  </tbody>\n",
       "</table>\n",
       "<p>6310419 rows × 2 columns</p>\n",
       "</div>"
      ],
      "text/plain": [
       "         total_amount  passenger_count\n",
       "0                4.94              1.0\n",
       "1               20.30              1.0\n",
       "2               70.67              1.0\n",
       "3               66.36              1.0\n",
       "4               15.30              0.0\n",
       "...               ...              ...\n",
       "6310414         29.00              NaN\n",
       "6310415         54.43              NaN\n",
       "6310416         65.40              NaN\n",
       "6310417         43.00              NaN\n",
       "6310418         22.15              NaN\n",
       "\n",
       "[6310419 rows x 2 columns]"
      ]
     },
     "execution_count": 52,
     "metadata": {},
     "output_type": "execute_result"
    }
   ],
   "source": [
    "ex16.loc[ex16['year'] == 2019][['total_amount','passenger_count']]"
   ]
  },
  {
   "cell_type": "code",
   "execution_count": 53,
   "metadata": {},
   "outputs": [
    {
     "data": {
      "text/html": [
       "<div>\n",
       "<style scoped>\n",
       "    .dataframe tbody tr th:only-of-type {\n",
       "        vertical-align: middle;\n",
       "    }\n",
       "\n",
       "    .dataframe tbody tr th {\n",
       "        vertical-align: top;\n",
       "    }\n",
       "\n",
       "    .dataframe thead th {\n",
       "        text-align: right;\n",
       "    }\n",
       "</style>\n",
       "<table border=\"1\" class=\"dataframe\">\n",
       "  <thead>\n",
       "    <tr style=\"text-align: right;\">\n",
       "      <th></th>\n",
       "      <th>total_amount</th>\n",
       "      <th>passenger_count</th>\n",
       "    </tr>\n",
       "  </thead>\n",
       "  <tbody>\n",
       "    <tr>\n",
       "      <th>0</th>\n",
       "      <td>4.94</td>\n",
       "      <td>1.0</td>\n",
       "    </tr>\n",
       "    <tr>\n",
       "      <th>1</th>\n",
       "      <td>20.30</td>\n",
       "      <td>1.0</td>\n",
       "    </tr>\n",
       "    <tr>\n",
       "      <th>2</th>\n",
       "      <td>70.67</td>\n",
       "      <td>1.0</td>\n",
       "    </tr>\n",
       "    <tr>\n",
       "      <th>3</th>\n",
       "      <td>66.36</td>\n",
       "      <td>1.0</td>\n",
       "    </tr>\n",
       "    <tr>\n",
       "      <th>4</th>\n",
       "      <td>15.30</td>\n",
       "      <td>0.0</td>\n",
       "    </tr>\n",
       "    <tr>\n",
       "      <th>...</th>\n",
       "      <td>...</td>\n",
       "      <td>...</td>\n",
       "    </tr>\n",
       "    <tr>\n",
       "      <th>6310414</th>\n",
       "      <td>29.00</td>\n",
       "      <td>NaN</td>\n",
       "    </tr>\n",
       "    <tr>\n",
       "      <th>6310415</th>\n",
       "      <td>54.43</td>\n",
       "      <td>NaN</td>\n",
       "    </tr>\n",
       "    <tr>\n",
       "      <th>6310416</th>\n",
       "      <td>65.40</td>\n",
       "      <td>NaN</td>\n",
       "    </tr>\n",
       "    <tr>\n",
       "      <th>6310417</th>\n",
       "      <td>43.00</td>\n",
       "      <td>NaN</td>\n",
       "    </tr>\n",
       "    <tr>\n",
       "      <th>6310418</th>\n",
       "      <td>22.15</td>\n",
       "      <td>NaN</td>\n",
       "    </tr>\n",
       "  </tbody>\n",
       "</table>\n",
       "<p>6310419 rows × 2 columns</p>\n",
       "</div>"
      ],
      "text/plain": [
       "         total_amount  passenger_count\n",
       "0                4.94              1.0\n",
       "1               20.30              1.0\n",
       "2               70.67              1.0\n",
       "3               66.36              1.0\n",
       "4               15.30              0.0\n",
       "...               ...              ...\n",
       "6310414         29.00              NaN\n",
       "6310415         54.43              NaN\n",
       "6310416         65.40              NaN\n",
       "6310417         43.00              NaN\n",
       "6310418         22.15              NaN\n",
       "\n",
       "[6310419 rows x 2 columns]"
      ]
     },
     "execution_count": 53,
     "metadata": {},
     "output_type": "execute_result"
    }
   ],
   "source": [
    "ex16[ex16['year'] == 2019][['total_amount','passenger_count']]"
   ]
  },
  {
   "cell_type": "code",
   "execution_count": 54,
   "metadata": {},
   "outputs": [
    {
     "data": {
      "text/plain": [
       "1929529"
      ]
     },
     "execution_count": 54,
     "metadata": {},
     "output_type": "execute_result"
    }
   ],
   "source": [
    "ex16.loc[(ex16['year'] == 2019) & (ex16['passenger_count'] != 1)]['year'].count()"
   ]
  },
  {
   "cell_type": "code",
   "execution_count": 55,
   "metadata": {},
   "outputs": [
    {
     "data": {
      "text/plain": [
       "234403"
      ]
     },
     "execution_count": 55,
     "metadata": {},
     "output_type": "execute_result"
    }
   ],
   "source": [
    "ex16.loc[(ex16['year'] == 2020) & (ex16['passenger_count'] != 1)]['year'].count()"
   ]
  },
  {
   "cell_type": "code",
   "execution_count": 56,
   "metadata": {},
   "outputs": [],
   "source": [
    "pass_more_than_1_diff = (ex16.loc[(ex16['year'] == 2019) & (ex16['passenger_count'] != 1)]['year'].count() - \n",
    "                        ex16.loc[(ex16['year'] == 2020) & (ex16['passenger_count'] != 1)]['year'].count())"
   ]
  },
  {
   "cell_type": "code",
   "execution_count": 57,
   "metadata": {},
   "outputs": [
    {
     "data": {
      "text/plain": [
       "1695126"
      ]
     },
     "execution_count": 57,
     "metadata": {},
     "output_type": "execute_result"
    }
   ],
   "source": [
    "pass_more_than_1_diff"
   ]
  },
  {
   "cell_type": "code",
   "execution_count": 58,
   "metadata": {},
   "outputs": [
    {
     "data": {
      "text/plain": [
       "28.339000009559527"
      ]
     },
     "execution_count": 58,
     "metadata": {},
     "output_type": "execute_result"
    }
   ],
   "source": [
    "(ex16.loc[(ex16['year'] == 2019) & (ex16['passenger_count'] > 1)]['passenger_count'].count()) / (ex16.loc[(ex16['year'] == 2019)]['passenger_count'].count()) * 100"
   ]
  },
  {
   "cell_type": "code",
   "execution_count": 59,
   "metadata": {},
   "outputs": [
    {
     "data": {
      "text/plain": [
       "20.61513222563435"
      ]
     },
     "execution_count": 59,
     "metadata": {},
     "output_type": "execute_result"
    }
   ],
   "source": [
    "(ex16.loc[(ex16['year'] == 2020) & (ex16['passenger_count'] > 1)]['passenger_count'].count()) / (ex16.loc[(ex16['year'] == 2020)]['passenger_count'].count()) * 100"
   ]
  },
  {
   "cell_type": "code",
   "execution_count": 60,
   "metadata": {},
   "outputs": [
    {
     "data": {
      "text/plain": [
       "28.705958454287927"
      ]
     },
     "execution_count": 60,
     "metadata": {},
     "output_type": "execute_result"
    }
   ],
   "source": [
    "(ex16.loc[(ex16['year'] == 2019) & (ex16['payment_type'] == 2)]['payment_type'].count()) / (ex16.loc[(ex16['year'] == 2019)]['payment_type'].count()) * 100"
   ]
  },
  {
   "cell_type": "code",
   "execution_count": 61,
   "metadata": {},
   "outputs": [
    {
     "data": {
      "text/plain": [
       "32.0558865998251"
      ]
     },
     "execution_count": 61,
     "metadata": {},
     "output_type": "execute_result"
    }
   ],
   "source": [
    "(ex16.loc[(ex16['year'] == 2020) & (ex16['payment_type'] == 2)]['payment_type'].count()) / (ex16.loc[(ex16['year'] == 2020)]['payment_type'].count()) * 100"
   ]
  },
  {
   "cell_type": "code",
   "execution_count": 62,
   "metadata": {},
   "outputs": [
    {
     "data": {
      "text/html": [
       "<div>\n",
       "<style scoped>\n",
       "    .dataframe tbody tr th:only-of-type {\n",
       "        vertical-align: middle;\n",
       "    }\n",
       "\n",
       "    .dataframe tbody tr th {\n",
       "        vertical-align: top;\n",
       "    }\n",
       "\n",
       "    .dataframe thead th {\n",
       "        text-align: right;\n",
       "    }\n",
       "</style>\n",
       "<table border=\"1\" class=\"dataframe\">\n",
       "  <thead>\n",
       "    <tr style=\"text-align: right;\">\n",
       "      <th></th>\n",
       "      <th>passenger_count</th>\n",
       "      <th>payment_type</th>\n",
       "      <th>total_amount</th>\n",
       "      <th>year</th>\n",
       "    </tr>\n",
       "  </thead>\n",
       "  <tbody>\n",
       "    <tr>\n",
       "      <th>passenger_count</th>\n",
       "      <td>1.000000</td>\n",
       "      <td>0.016410</td>\n",
       "      <td>0.014943</td>\n",
       "      <td>-0.049558</td>\n",
       "    </tr>\n",
       "    <tr>\n",
       "      <th>payment_type</th>\n",
       "      <td>0.016410</td>\n",
       "      <td>1.000000</td>\n",
       "      <td>-0.138561</td>\n",
       "      <td>0.029277</td>\n",
       "    </tr>\n",
       "    <tr>\n",
       "      <th>total_amount</th>\n",
       "      <td>0.014943</td>\n",
       "      <td>-0.138561</td>\n",
       "      <td>1.000000</td>\n",
       "      <td>-0.019706</td>\n",
       "    </tr>\n",
       "    <tr>\n",
       "      <th>year</th>\n",
       "      <td>-0.049558</td>\n",
       "      <td>0.029277</td>\n",
       "      <td>-0.019706</td>\n",
       "      <td>1.000000</td>\n",
       "    </tr>\n",
       "  </tbody>\n",
       "</table>\n",
       "</div>"
      ],
      "text/plain": [
       "                 passenger_count  payment_type  total_amount      year\n",
       "passenger_count         1.000000      0.016410      0.014943 -0.049558\n",
       "payment_type            0.016410      1.000000     -0.138561  0.029277\n",
       "total_amount            0.014943     -0.138561      1.000000 -0.019706\n",
       "year                   -0.049558      0.029277     -0.019706  1.000000"
      ]
     },
     "execution_count": 62,
     "metadata": {},
     "output_type": "execute_result"
    }
   ],
   "source": [
    "ex16.corr()"
   ]
  },
  {
   "cell_type": "code",
   "execution_count": 63,
   "metadata": {},
   "outputs": [
    {
     "data": {
      "text/plain": [
       "count    6310419.00\n",
       "mean          19.61\n",
       "std           15.81\n",
       "min         -450.80\n",
       "25%           11.30\n",
       "50%           14.76\n",
       "75%           21.30\n",
       "max         6667.45\n",
       "Name: total_amount, dtype: float64"
      ]
     },
     "execution_count": 63,
     "metadata": {},
     "output_type": "execute_result"
    }
   ],
   "source": [
    "ex16.loc[ex16['year'] == 2019, 'total_amount'].describe().round(2)"
   ]
  },
  {
   "cell_type": "code",
   "execution_count": 64,
   "metadata": {},
   "outputs": [
    {
     "data": {
      "text/plain": [
       "count    800412.00\n",
       "mean         18.63\n",
       "std          15.06\n",
       "min        -397.60\n",
       "25%          10.80\n",
       "50%          14.16\n",
       "75%          20.55\n",
       "max        1995.00\n",
       "Name: total_amount, dtype: float64"
      ]
     },
     "execution_count": 64,
     "metadata": {},
     "output_type": "execute_result"
    }
   ],
   "source": [
    "ex16.loc[ex16['year'] == 2020, 'total_amount'].describe().round(2)"
   ]
  },
  {
   "cell_type": "code",
   "execution_count": 65,
   "metadata": {},
   "outputs": [
    {
     "data": {
      "text/plain": [
       "count    0.0\n",
       "mean     NaN\n",
       "std      NaN\n",
       "min      NaN\n",
       "25%      NaN\n",
       "50%      NaN\n",
       "75%      NaN\n",
       "max      NaN\n",
       "Name: total_amount, dtype: float64"
      ]
     },
     "execution_count": 65,
     "metadata": {},
     "output_type": "execute_result"
    }
   ],
   "source": [
    "ex16.loc[ex16['passenger_count'] == 2019,   'total_amount'].describe().round(2)"
   ]
  },
  {
   "cell_type": "markdown",
   "metadata": {},
   "source": [
    "# Exercise 17: Setting column types "
   ]
  },
  {
   "cell_type": "markdown",
   "metadata": {},
   "source": [
    "### Specify the dtype for each column as you read it in."
   ]
  },
  {
   "cell_type": "code",
   "execution_count": 66,
   "metadata": {},
   "outputs": [
    {
     "name": "stderr",
     "output_type": "stream",
     "text": [
      "C:\\Users\\dqthi\\AppData\\Local\\Temp\\ipykernel_50028\\1989683883.py:3: DtypeWarning: Columns (6) have mixed types. Specify dtype option on import or set low_memory=False.\n",
      "  ex17_df = pd.read_csv(filepath)\n"
     ]
    }
   ],
   "source": [
    "filepath = r\"C:\\Users\\dqthi\\Downloads\\pandas-workout-data\\data\\nyc_taxi_2020-01.csv\"\n",
    "\n",
    "ex17_df = pd.read_csv(filepath)"
   ]
  },
  {
   "cell_type": "code",
   "execution_count": 67,
   "metadata": {},
   "outputs": [
    {
     "name": "stdout",
     "output_type": "stream",
     "text": [
      "<class 'pandas.core.frame.DataFrame'>\n",
      "RangeIndex: 6405008 entries, 0 to 6405007\n",
      "Data columns (total 18 columns):\n",
      " #   Column                 Dtype  \n",
      "---  ------                 -----  \n",
      " 0   VendorID               float64\n",
      " 1   tpep_pickup_datetime   object \n",
      " 2   tpep_dropoff_datetime  object \n",
      " 3   passenger_count        float64\n",
      " 4   trip_distance          float64\n",
      " 5   RatecodeID             float64\n",
      " 6   store_and_fwd_flag     object \n",
      " 7   PULocationID           int64  \n",
      " 8   DOLocationID           int64  \n",
      " 9   payment_type           float64\n",
      " 10  fare_amount            float64\n",
      " 11  extra                  float64\n",
      " 12  mta_tax                float64\n",
      " 13  tip_amount             float64\n",
      " 14  tolls_amount           float64\n",
      " 15  improvement_surcharge  float64\n",
      " 16  total_amount           float64\n",
      " 17  congestion_surcharge   float64\n",
      "dtypes: float64(13), int64(2), object(3)\n",
      "memory usage: 879.6+ MB\n"
     ]
    }
   ],
   "source": [
    "ex17_df.info()"
   ]
  },
  {
   "cell_type": "markdown",
   "metadata": {},
   "source": [
    "#### Observation: \n",
    "- memory usage takes upto 879.6 mb to load the file  \n",
    "- receive a error message \"C:\\Users\\dqthi\\AppData\\Local\\Temp\\ipykernel_60784\\1989683883.py:3: DtypeWarning: Columns (6) have mixed types. Specify dtype option on import or set low_memory=False.\n",
    "  ex17_df = pd.read_csv(filepath)\"  \n",
    "      - *how do I know if which columns are having mixed types*"
   ]
  },
  {
   "cell_type": "code",
   "execution_count": 68,
   "metadata": {},
   "outputs": [],
   "source": [
    "filepath = r\"C:\\Users\\dqthi\\Downloads\\pandas-workout-data\\data\\nyc_taxi_2020-01.csv\"\n",
    "\n",
    "ex17b_df = pd.read_csv(filepath, \n",
    "                       usecols =['passenger_count', 'payment_type', 'total_amount'],\n",
    "                       dtype={'passenger_count':np.float32, 'total_amount':np.float32, 'payment_type':np.float32}\n",
    "                        )"
   ]
  },
  {
   "cell_type": "code",
   "execution_count": 69,
   "metadata": {},
   "outputs": [
    {
     "name": "stdout",
     "output_type": "stream",
     "text": [
      "<class 'pandas.core.frame.DataFrame'>\n",
      "RangeIndex: 6405008 entries, 0 to 6405007\n",
      "Data columns (total 3 columns):\n",
      " #   Column           Dtype  \n",
      "---  ------           -----  \n",
      " 0   passenger_count  float32\n",
      " 1   payment_type     float32\n",
      " 2   total_amount     float32\n",
      "dtypes: float32(3)\n",
      "memory usage: 73.3 MB\n"
     ]
    }
   ],
   "source": [
    "ex17b_df.info()"
   ]
  },
  {
   "cell_type": "markdown",
   "metadata": {},
   "source": [
    "\n",
    "### Identify rows containing NaN values. Which columns are NaN, and why?"
   ]
  },
  {
   "cell_type": "markdown",
   "metadata": {},
   "source": [
    "\n",
    "\n",
    "\n",
    "\n",
    "Remove any rows containing any NaN values.\n",
    "\n",
    "Set the dtype for each column to the smallest, most appropriate value."
   ]
  },
  {
   "cell_type": "code",
   "execution_count": 70,
   "metadata": {},
   "outputs": [
    {
     "data": {
      "text/plain": [
       "passenger_count    65441\n",
       "payment_type       65441\n",
       "total_amount           0\n",
       "dtype: int64"
      ]
     },
     "execution_count": 70,
     "metadata": {},
     "output_type": "execute_result"
    }
   ],
   "source": [
    "ex17b_df.isnull().sum()"
   ]
  },
  {
   "cell_type": "code",
   "execution_count": 71,
   "metadata": {},
   "outputs": [],
   "source": [
    "ex17b_df_clean = ex17b_df.dropna().copy()"
   ]
  },
  {
   "cell_type": "code",
   "execution_count": 72,
   "metadata": {},
   "outputs": [
    {
     "data": {
      "text/html": [
       "<div>\n",
       "<style scoped>\n",
       "    .dataframe tbody tr th:only-of-type {\n",
       "        vertical-align: middle;\n",
       "    }\n",
       "\n",
       "    .dataframe tbody tr th {\n",
       "        vertical-align: top;\n",
       "    }\n",
       "\n",
       "    .dataframe thead th {\n",
       "        text-align: right;\n",
       "    }\n",
       "</style>\n",
       "<table border=\"1\" class=\"dataframe\">\n",
       "  <thead>\n",
       "    <tr style=\"text-align: right;\">\n",
       "      <th></th>\n",
       "      <th>passenger_count</th>\n",
       "      <th>payment_type</th>\n",
       "      <th>total_amount</th>\n",
       "    </tr>\n",
       "  </thead>\n",
       "  <tbody>\n",
       "    <tr>\n",
       "      <th>0</th>\n",
       "      <td>1.0</td>\n",
       "      <td>1.0</td>\n",
       "      <td>11.270000</td>\n",
       "    </tr>\n",
       "    <tr>\n",
       "      <th>1</th>\n",
       "      <td>1.0</td>\n",
       "      <td>1.0</td>\n",
       "      <td>12.300000</td>\n",
       "    </tr>\n",
       "    <tr>\n",
       "      <th>2</th>\n",
       "      <td>1.0</td>\n",
       "      <td>1.0</td>\n",
       "      <td>10.800000</td>\n",
       "    </tr>\n",
       "    <tr>\n",
       "      <th>3</th>\n",
       "      <td>1.0</td>\n",
       "      <td>1.0</td>\n",
       "      <td>8.160000</td>\n",
       "    </tr>\n",
       "    <tr>\n",
       "      <th>4</th>\n",
       "      <td>1.0</td>\n",
       "      <td>2.0</td>\n",
       "      <td>4.800000</td>\n",
       "    </tr>\n",
       "    <tr>\n",
       "      <th>...</th>\n",
       "      <td>...</td>\n",
       "      <td>...</td>\n",
       "      <td>...</td>\n",
       "    </tr>\n",
       "    <tr>\n",
       "      <th>6339562</th>\n",
       "      <td>1.0</td>\n",
       "      <td>1.0</td>\n",
       "      <td>17.760000</td>\n",
       "    </tr>\n",
       "    <tr>\n",
       "      <th>6339563</th>\n",
       "      <td>1.0</td>\n",
       "      <td>1.0</td>\n",
       "      <td>20.160000</td>\n",
       "    </tr>\n",
       "    <tr>\n",
       "      <th>6339564</th>\n",
       "      <td>1.0</td>\n",
       "      <td>1.0</td>\n",
       "      <td>19.559999</td>\n",
       "    </tr>\n",
       "    <tr>\n",
       "      <th>6339565</th>\n",
       "      <td>1.0</td>\n",
       "      <td>2.0</td>\n",
       "      <td>12.300000</td>\n",
       "    </tr>\n",
       "    <tr>\n",
       "      <th>6339566</th>\n",
       "      <td>1.0</td>\n",
       "      <td>1.0</td>\n",
       "      <td>0.000000</td>\n",
       "    </tr>\n",
       "  </tbody>\n",
       "</table>\n",
       "<p>6339567 rows × 3 columns</p>\n",
       "</div>"
      ],
      "text/plain": [
       "         passenger_count  payment_type  total_amount\n",
       "0                    1.0           1.0     11.270000\n",
       "1                    1.0           1.0     12.300000\n",
       "2                    1.0           1.0     10.800000\n",
       "3                    1.0           1.0      8.160000\n",
       "4                    1.0           2.0      4.800000\n",
       "...                  ...           ...           ...\n",
       "6339562              1.0           1.0     17.760000\n",
       "6339563              1.0           1.0     20.160000\n",
       "6339564              1.0           1.0     19.559999\n",
       "6339565              1.0           2.0     12.300000\n",
       "6339566              1.0           1.0      0.000000\n",
       "\n",
       "[6339567 rows x 3 columns]"
      ]
     },
     "execution_count": 72,
     "metadata": {},
     "output_type": "execute_result"
    }
   ],
   "source": [
    "ex17b_df_clean"
   ]
  },
  {
   "cell_type": "code",
   "execution_count": 73,
   "metadata": {},
   "outputs": [
    {
     "data": {
      "text/html": [
       "<div>\n",
       "<style scoped>\n",
       "    .dataframe tbody tr th:only-of-type {\n",
       "        vertical-align: middle;\n",
       "    }\n",
       "\n",
       "    .dataframe tbody tr th {\n",
       "        vertical-align: top;\n",
       "    }\n",
       "\n",
       "    .dataframe thead th {\n",
       "        text-align: right;\n",
       "    }\n",
       "</style>\n",
       "<table border=\"1\" class=\"dataframe\">\n",
       "  <thead>\n",
       "    <tr style=\"text-align: right;\">\n",
       "      <th></th>\n",
       "      <th>passenger_count</th>\n",
       "      <th>payment_type</th>\n",
       "      <th>total_amount</th>\n",
       "    </tr>\n",
       "  </thead>\n",
       "  <tbody>\n",
       "    <tr>\n",
       "      <th>0</th>\n",
       "      <td>1</td>\n",
       "      <td>1.0</td>\n",
       "      <td>11.270000</td>\n",
       "    </tr>\n",
       "    <tr>\n",
       "      <th>1</th>\n",
       "      <td>1</td>\n",
       "      <td>1.0</td>\n",
       "      <td>12.300000</td>\n",
       "    </tr>\n",
       "    <tr>\n",
       "      <th>2</th>\n",
       "      <td>1</td>\n",
       "      <td>1.0</td>\n",
       "      <td>10.800000</td>\n",
       "    </tr>\n",
       "    <tr>\n",
       "      <th>3</th>\n",
       "      <td>1</td>\n",
       "      <td>1.0</td>\n",
       "      <td>8.160000</td>\n",
       "    </tr>\n",
       "    <tr>\n",
       "      <th>4</th>\n",
       "      <td>1</td>\n",
       "      <td>2.0</td>\n",
       "      <td>4.800000</td>\n",
       "    </tr>\n",
       "    <tr>\n",
       "      <th>...</th>\n",
       "      <td>...</td>\n",
       "      <td>...</td>\n",
       "      <td>...</td>\n",
       "    </tr>\n",
       "    <tr>\n",
       "      <th>6339562</th>\n",
       "      <td>1</td>\n",
       "      <td>1.0</td>\n",
       "      <td>17.760000</td>\n",
       "    </tr>\n",
       "    <tr>\n",
       "      <th>6339563</th>\n",
       "      <td>1</td>\n",
       "      <td>1.0</td>\n",
       "      <td>20.160000</td>\n",
       "    </tr>\n",
       "    <tr>\n",
       "      <th>6339564</th>\n",
       "      <td>1</td>\n",
       "      <td>1.0</td>\n",
       "      <td>19.559999</td>\n",
       "    </tr>\n",
       "    <tr>\n",
       "      <th>6339565</th>\n",
       "      <td>1</td>\n",
       "      <td>2.0</td>\n",
       "      <td>12.300000</td>\n",
       "    </tr>\n",
       "    <tr>\n",
       "      <th>6339566</th>\n",
       "      <td>1</td>\n",
       "      <td>1.0</td>\n",
       "      <td>0.000000</td>\n",
       "    </tr>\n",
       "  </tbody>\n",
       "</table>\n",
       "<p>6339567 rows × 3 columns</p>\n",
       "</div>"
      ],
      "text/plain": [
       "         passenger_count  payment_type  total_amount\n",
       "0                      1           1.0     11.270000\n",
       "1                      1           1.0     12.300000\n",
       "2                      1           1.0     10.800000\n",
       "3                      1           1.0      8.160000\n",
       "4                      1           2.0      4.800000\n",
       "...                  ...           ...           ...\n",
       "6339562                1           1.0     17.760000\n",
       "6339563                1           1.0     20.160000\n",
       "6339564                1           1.0     19.559999\n",
       "6339565                1           2.0     12.300000\n",
       "6339566                1           1.0      0.000000\n",
       "\n",
       "[6339567 rows x 3 columns]"
      ]
     },
     "execution_count": 73,
     "metadata": {},
     "output_type": "execute_result"
    }
   ],
   "source": [
    "ex17b_df_clean['passenger_count'] = ex17b_df_clean['passenger_count'].astype(np.int8)\n",
    "ex17b_df_clean"
   ]
  },
  {
   "cell_type": "code",
   "execution_count": null,
   "metadata": {},
   "outputs": [
    {
     "name": "stdout",
     "output_type": "stream",
     "text": [
      "<class 'pandas.core.series.Series'>\n",
      "Index: 6339567 entries, 0 to 6339566\n",
      "Series name: passenger_count\n",
      "Non-Null Count    Dtype\n",
      "--------------    -----\n",
      "6339567 non-null  int8 \n",
      "dtypes: int8(1)\n",
      "memory usage: 54.4 MB\n"
     ]
    }
   ],
   "source": [
    "ex17b_df_clean['passenger_count'].info() "
   ]
  },
  {
   "cell_type": "code",
   "execution_count": null,
   "metadata": {},
   "outputs": [
    {
     "name": "stdout",
     "output_type": "stream",
     "text": [
      "<class 'pandas.core.series.Series'>\n",
      "Index: 6339567 entries, 0 to 6339566\n",
      "Series name: payment_type\n",
      "Non-Null Count    Dtype  \n",
      "--------------    -----  \n",
      "6339567 non-null  float32\n",
      "dtypes: float32(1)\n",
      "memory usage: 72.6 MB\n"
     ]
    }
   ],
   "source": [
    "ex17b_df_clean['payment_type'].info()"
   ]
  },
  {
   "cell_type": "code",
   "execution_count": null,
   "metadata": {},
   "outputs": [
    {
     "name": "stdout",
     "output_type": "stream",
     "text": [
      "<class 'pandas.core.series.Series'>\n",
      "Index: 6339567 entries, 0 to 6339566\n",
      "Series name: payment_type\n",
      "Non-Null Count    Dtype\n",
      "--------------    -----\n",
      "6339567 non-null  int8 \n",
      "dtypes: int8(1)\n",
      "memory usage: 54.4 MB\n"
     ]
    }
   ],
   "source": [
    "ex17b_df_clean['payment_type'] = ex17b_df_clean['payment_type'].astype(np.int8)\n",
    "ex17b_df_clean['payment_type'].info()"
   ]
  },
  {
   "cell_type": "markdown",
   "metadata": {},
   "source": [
    "### btx: \n",
    "Create a data frame from four other columns (VendorID, trip_distance, tip_amount, and total_amount), specifying the dtype for each. What types are most appropriate? Can you use them directly, or must you first clean the data?"
   ]
  },
  {
   "cell_type": "code",
   "execution_count": 77,
   "metadata": {},
   "outputs": [
    {
     "data": {
      "text/html": [
       "<div>\n",
       "<style scoped>\n",
       "    .dataframe tbody tr th:only-of-type {\n",
       "        vertical-align: middle;\n",
       "    }\n",
       "\n",
       "    .dataframe tbody tr th {\n",
       "        vertical-align: top;\n",
       "    }\n",
       "\n",
       "    .dataframe thead th {\n",
       "        text-align: right;\n",
       "    }\n",
       "</style>\n",
       "<table border=\"1\" class=\"dataframe\">\n",
       "  <thead>\n",
       "    <tr style=\"text-align: right;\">\n",
       "      <th></th>\n",
       "      <th>VendorID</th>\n",
       "      <th>trip_distance</th>\n",
       "      <th>payment_type</th>\n",
       "      <th>tip_amount</th>\n",
       "      <th>total_amount</th>\n",
       "    </tr>\n",
       "  </thead>\n",
       "  <tbody>\n",
       "    <tr>\n",
       "      <th>0</th>\n",
       "      <td>1.0</td>\n",
       "      <td>1.20</td>\n",
       "      <td>1.0</td>\n",
       "      <td>1.47</td>\n",
       "      <td>11.27</td>\n",
       "    </tr>\n",
       "    <tr>\n",
       "      <th>1</th>\n",
       "      <td>1.0</td>\n",
       "      <td>1.20</td>\n",
       "      <td>1.0</td>\n",
       "      <td>1.50</td>\n",
       "      <td>12.30</td>\n",
       "    </tr>\n",
       "    <tr>\n",
       "      <th>2</th>\n",
       "      <td>1.0</td>\n",
       "      <td>0.60</td>\n",
       "      <td>1.0</td>\n",
       "      <td>1.00</td>\n",
       "      <td>10.80</td>\n",
       "    </tr>\n",
       "    <tr>\n",
       "      <th>3</th>\n",
       "      <td>1.0</td>\n",
       "      <td>0.80</td>\n",
       "      <td>1.0</td>\n",
       "      <td>1.36</td>\n",
       "      <td>8.16</td>\n",
       "    </tr>\n",
       "    <tr>\n",
       "      <th>4</th>\n",
       "      <td>2.0</td>\n",
       "      <td>0.00</td>\n",
       "      <td>2.0</td>\n",
       "      <td>0.00</td>\n",
       "      <td>4.80</td>\n",
       "    </tr>\n",
       "    <tr>\n",
       "      <th>...</th>\n",
       "      <td>...</td>\n",
       "      <td>...</td>\n",
       "      <td>...</td>\n",
       "      <td>...</td>\n",
       "      <td>...</td>\n",
       "    </tr>\n",
       "    <tr>\n",
       "      <th>6405003</th>\n",
       "      <td>NaN</td>\n",
       "      <td>3.24</td>\n",
       "      <td>NaN</td>\n",
       "      <td>0.00</td>\n",
       "      <td>21.14</td>\n",
       "    </tr>\n",
       "    <tr>\n",
       "      <th>6405004</th>\n",
       "      <td>NaN</td>\n",
       "      <td>22.13</td>\n",
       "      <td>NaN</td>\n",
       "      <td>0.00</td>\n",
       "      <td>62.46</td>\n",
       "    </tr>\n",
       "    <tr>\n",
       "      <th>6405005</th>\n",
       "      <td>NaN</td>\n",
       "      <td>10.51</td>\n",
       "      <td>NaN</td>\n",
       "      <td>0.00</td>\n",
       "      <td>51.90</td>\n",
       "    </tr>\n",
       "    <tr>\n",
       "      <th>6405006</th>\n",
       "      <td>NaN</td>\n",
       "      <td>5.49</td>\n",
       "      <td>NaN</td>\n",
       "      <td>0.00</td>\n",
       "      <td>30.22</td>\n",
       "    </tr>\n",
       "    <tr>\n",
       "      <th>6405007</th>\n",
       "      <td>NaN</td>\n",
       "      <td>11.60</td>\n",
       "      <td>NaN</td>\n",
       "      <td>0.00</td>\n",
       "      <td>58.11</td>\n",
       "    </tr>\n",
       "  </tbody>\n",
       "</table>\n",
       "<p>6405008 rows × 5 columns</p>\n",
       "</div>"
      ],
      "text/plain": [
       "         VendorID  trip_distance  payment_type  tip_amount  total_amount\n",
       "0             1.0           1.20           1.0        1.47         11.27\n",
       "1             1.0           1.20           1.0        1.50         12.30\n",
       "2             1.0           0.60           1.0        1.00         10.80\n",
       "3             1.0           0.80           1.0        1.36          8.16\n",
       "4             2.0           0.00           2.0        0.00          4.80\n",
       "...           ...            ...           ...         ...           ...\n",
       "6405003       NaN           3.24           NaN        0.00         21.14\n",
       "6405004       NaN          22.13           NaN        0.00         62.46\n",
       "6405005       NaN          10.51           NaN        0.00         51.90\n",
       "6405006       NaN           5.49           NaN        0.00         30.22\n",
       "6405007       NaN          11.60           NaN        0.00         58.11\n",
       "\n",
       "[6405008 rows x 5 columns]"
      ]
     },
     "execution_count": 77,
     "metadata": {},
     "output_type": "execute_result"
    }
   ],
   "source": [
    "ex17_1_df = pd.read_csv(filepath, \n",
    "                        usecols=['VendorID', 'trip_distance', 'tip_amount', 'total_amount', 'payment_type'],\n",
    "                        # dtype={'VendorID':np.int8, 'trip_distance':np.float32, 'tip_amount':np.float32, 'total_amount':np.float32},\n",
    "#                        na_values=['NA', '']\n",
    "                        )\n",
    "ex17_1_df "
   ]
  },
  {
   "cell_type": "code",
   "execution_count": 78,
   "metadata": {},
   "outputs": [],
   "source": [
    "# note: \n",
    "# apparently I cannt set the dtypes of a column if there is missing value, so what is the solution? \n",
    "# solution 1: \n",
    "    # load the data itself then remove the 'NaN' value, then set the type \n",
    "\n",
    "# solution 2: \n",
    "    # Dont know yet "
   ]
  },
  {
   "cell_type": "code",
   "execution_count": 79,
   "metadata": {},
   "outputs": [
    {
     "name": "stdout",
     "output_type": "stream",
     "text": [
      "<class 'pandas.core.frame.DataFrame'>\n",
      "RangeIndex: 6405008 entries, 0 to 6405007\n",
      "Data columns (total 5 columns):\n",
      " #   Column         Dtype  \n",
      "---  ------         -----  \n",
      " 0   VendorID       float64\n",
      " 1   trip_distance  float64\n",
      " 2   payment_type   float64\n",
      " 3   tip_amount     float64\n",
      " 4   total_amount   float64\n",
      "dtypes: float64(5)\n",
      "memory usage: 244.3 MB\n"
     ]
    }
   ],
   "source": [
    "ex17_1_df.info()"
   ]
  },
  {
   "cell_type": "code",
   "execution_count": 80,
   "metadata": {},
   "outputs": [
    {
     "data": {
      "text/plain": [
       "VendorID         65441\n",
       "trip_distance        0\n",
       "payment_type     65441\n",
       "tip_amount           0\n",
       "total_amount         0\n",
       "dtype: int64"
      ]
     },
     "execution_count": 80,
     "metadata": {},
     "output_type": "execute_result"
    }
   ],
   "source": [
    "ex17_1_df.isnull().sum() "
   ]
  },
  {
   "cell_type": "code",
   "execution_count": 81,
   "metadata": {},
   "outputs": [],
   "source": [
    "ex17_1b_df = ex17_1_df.dropna()"
   ]
  },
  {
   "cell_type": "code",
   "execution_count": 82,
   "metadata": {},
   "outputs": [
    {
     "name": "stdout",
     "output_type": "stream",
     "text": [
      "<class 'pandas.core.frame.DataFrame'>\n",
      "Index: 6339567 entries, 0 to 6339566\n",
      "Data columns (total 5 columns):\n",
      " #   Column         Dtype  \n",
      "---  ------         -----  \n",
      " 0   VendorID       float64\n",
      " 1   trip_distance  float64\n",
      " 2   payment_type   float64\n",
      " 3   tip_amount     float64\n",
      " 4   total_amount   float64\n",
      "dtypes: float64(5)\n",
      "memory usage: 290.2 MB\n"
     ]
    }
   ],
   "source": [
    "ex17_1b_df.info()"
   ]
  },
  {
   "cell_type": "code",
   "execution_count": 83,
   "metadata": {},
   "outputs": [
    {
     "name": "stderr",
     "output_type": "stream",
     "text": [
      "C:\\Users\\dqthi\\AppData\\Local\\Temp\\ipykernel_50028\\1588491516.py:1: SettingWithCopyWarning: \n",
      "A value is trying to be set on a copy of a slice from a DataFrame.\n",
      "Try using .loc[row_indexer,col_indexer] = value instead\n",
      "\n",
      "See the caveats in the documentation: https://pandas.pydata.org/pandas-docs/stable/user_guide/indexing.html#returning-a-view-versus-a-copy\n",
      "  ex17_1b_df['VendorID'] = ex17_1b_df['VendorID'].astype(np.int8)\n",
      "C:\\Users\\dqthi\\AppData\\Local\\Temp\\ipykernel_50028\\1588491516.py:2: SettingWithCopyWarning: \n",
      "A value is trying to be set on a copy of a slice from a DataFrame.\n",
      "Try using .loc[row_indexer,col_indexer] = value instead\n",
      "\n",
      "See the caveats in the documentation: https://pandas.pydata.org/pandas-docs/stable/user_guide/indexing.html#returning-a-view-versus-a-copy\n",
      "  ex17_1b_df['payment_type'] = ex17_1b_df['payment_type'].astype(np.int8)\n"
     ]
    }
   ],
   "source": [
    "ex17_1b_df['VendorID'] = ex17_1b_df['VendorID'].astype(np.int8) \n",
    "ex17_1b_df['payment_type'] = ex17_1b_df['payment_type'].astype(np.int8) "
   ]
  },
  {
   "cell_type": "code",
   "execution_count": 84,
   "metadata": {},
   "outputs": [
    {
     "name": "stdout",
     "output_type": "stream",
     "text": [
      "<class 'pandas.core.frame.DataFrame'>\n",
      "Index: 6339567 entries, 0 to 6339566\n",
      "Data columns (total 5 columns):\n",
      " #   Column         Dtype  \n",
      "---  ------         -----  \n",
      " 0   VendorID       int8   \n",
      " 1   trip_distance  float64\n",
      " 2   payment_type   int8   \n",
      " 3   tip_amount     float64\n",
      " 4   total_amount   float64\n",
      "dtypes: float64(3), int8(2)\n",
      "memory usage: 205.6 MB\n"
     ]
    }
   ],
   "source": [
    "ex17_1b_df.info()"
   ]
  },
  {
   "cell_type": "code",
   "execution_count": 85,
   "metadata": {},
   "outputs": [],
   "source": [
    "# by changing the datatype of 2 columns `VendorID` and `payment_type`, the memory usage consumstion went downt to 205.6MB from 290.2MB "
   ]
  },
  {
   "cell_type": "markdown",
   "metadata": {},
   "source": [
    "# Exercise 18: passwd to df "
   ]
  },
  {
   "cell_type": "code",
   "execution_count": 86,
   "metadata": {},
   "outputs": [],
   "source": [
    "filepath_ex18 = r\"C:\\Users\\dqthi\\Downloads\\pandas-workout-data\\data\\linux-etc-passwd.txt\"\n",
    "\n",
    "ex18_df = pd.read_csv(filepath_ex18,\n",
    "                sep = ':',\n",
    "                comment= '#',\n",
    "                header = None, \n",
    "                names=['username', 'password', 'userid', 'groupid', 'name',\n",
    "                'homedir', 'shell'])"
   ]
  },
  {
   "cell_type": "code",
   "execution_count": 87,
   "metadata": {},
   "outputs": [
    {
     "data": {
      "text/html": [
       "<div>\n",
       "<style scoped>\n",
       "    .dataframe tbody tr th:only-of-type {\n",
       "        vertical-align: middle;\n",
       "    }\n",
       "\n",
       "    .dataframe tbody tr th {\n",
       "        vertical-align: top;\n",
       "    }\n",
       "\n",
       "    .dataframe thead th {\n",
       "        text-align: right;\n",
       "    }\n",
       "</style>\n",
       "<table border=\"1\" class=\"dataframe\">\n",
       "  <thead>\n",
       "    <tr style=\"text-align: right;\">\n",
       "      <th></th>\n",
       "      <th>username</th>\n",
       "      <th>password</th>\n",
       "      <th>userid</th>\n",
       "      <th>groupid</th>\n",
       "      <th>name</th>\n",
       "      <th>homedir</th>\n",
       "      <th>shell</th>\n",
       "    </tr>\n",
       "  </thead>\n",
       "  <tbody>\n",
       "    <tr>\n",
       "      <th>0</th>\n",
       "      <td>root</td>\n",
       "      <td>x</td>\n",
       "      <td>0</td>\n",
       "      <td>0</td>\n",
       "      <td>root</td>\n",
       "      <td>/root</td>\n",
       "      <td>/bin/bash</td>\n",
       "    </tr>\n",
       "    <tr>\n",
       "      <th>1</th>\n",
       "      <td>daemon</td>\n",
       "      <td>x</td>\n",
       "      <td>1</td>\n",
       "      <td>1</td>\n",
       "      <td>daemon</td>\n",
       "      <td>/usr/sbin</td>\n",
       "      <td>/usr/sbin/nologin</td>\n",
       "    </tr>\n",
       "    <tr>\n",
       "      <th>2</th>\n",
       "      <td>bin</td>\n",
       "      <td>x</td>\n",
       "      <td>2</td>\n",
       "      <td>2</td>\n",
       "      <td>bin</td>\n",
       "      <td>/bin</td>\n",
       "      <td>/usr/sbin/nologin</td>\n",
       "    </tr>\n",
       "    <tr>\n",
       "      <th>3</th>\n",
       "      <td>sys</td>\n",
       "      <td>x</td>\n",
       "      <td>3</td>\n",
       "      <td>3</td>\n",
       "      <td>sys</td>\n",
       "      <td>/dev</td>\n",
       "      <td>/usr/sbin/nologin</td>\n",
       "    </tr>\n",
       "    <tr>\n",
       "      <th>4</th>\n",
       "      <td>sync</td>\n",
       "      <td>x</td>\n",
       "      <td>4</td>\n",
       "      <td>65534</td>\n",
       "      <td>sync</td>\n",
       "      <td>/bin</td>\n",
       "      <td>/bin/sync</td>\n",
       "    </tr>\n",
       "    <tr>\n",
       "      <th>5</th>\n",
       "      <td>games</td>\n",
       "      <td>x</td>\n",
       "      <td>5</td>\n",
       "      <td>60</td>\n",
       "      <td>games</td>\n",
       "      <td>/usr/games</td>\n",
       "      <td>/usr/sbin/nologin</td>\n",
       "    </tr>\n",
       "    <tr>\n",
       "      <th>6</th>\n",
       "      <td>man</td>\n",
       "      <td>x</td>\n",
       "      <td>6</td>\n",
       "      <td>12</td>\n",
       "      <td>man</td>\n",
       "      <td>/var/cache/man</td>\n",
       "      <td>/usr/sbin/nologin</td>\n",
       "    </tr>\n",
       "    <tr>\n",
       "      <th>7</th>\n",
       "      <td>lp</td>\n",
       "      <td>x</td>\n",
       "      <td>7</td>\n",
       "      <td>7</td>\n",
       "      <td>lp</td>\n",
       "      <td>/var/spool/lpd</td>\n",
       "      <td>/usr/sbin/nologin</td>\n",
       "    </tr>\n",
       "    <tr>\n",
       "      <th>8</th>\n",
       "      <td>mail</td>\n",
       "      <td>x</td>\n",
       "      <td>8</td>\n",
       "      <td>8</td>\n",
       "      <td>mail</td>\n",
       "      <td>/var/mail</td>\n",
       "      <td>/usr/sbin/nologin</td>\n",
       "    </tr>\n",
       "    <tr>\n",
       "      <th>9</th>\n",
       "      <td>news</td>\n",
       "      <td>x</td>\n",
       "      <td>9</td>\n",
       "      <td>9</td>\n",
       "      <td>news</td>\n",
       "      <td>/var/spool/news</td>\n",
       "      <td>/usr/sbin/nologin</td>\n",
       "    </tr>\n",
       "    <tr>\n",
       "      <th>10</th>\n",
       "      <td>uucp</td>\n",
       "      <td>x</td>\n",
       "      <td>10</td>\n",
       "      <td>10</td>\n",
       "      <td>uucp</td>\n",
       "      <td>/var/spool/uucp</td>\n",
       "      <td>/usr/sbin/nologin</td>\n",
       "    </tr>\n",
       "    <tr>\n",
       "      <th>11</th>\n",
       "      <td>proxy</td>\n",
       "      <td>x</td>\n",
       "      <td>13</td>\n",
       "      <td>13</td>\n",
       "      <td>proxy</td>\n",
       "      <td>/bin</td>\n",
       "      <td>/usr/sbin/nologin</td>\n",
       "    </tr>\n",
       "    <tr>\n",
       "      <th>12</th>\n",
       "      <td>www-data</td>\n",
       "      <td>x</td>\n",
       "      <td>33</td>\n",
       "      <td>33</td>\n",
       "      <td>www-data</td>\n",
       "      <td>/var/www</td>\n",
       "      <td>/usr/sbin/nologin</td>\n",
       "    </tr>\n",
       "    <tr>\n",
       "      <th>13</th>\n",
       "      <td>backup</td>\n",
       "      <td>x</td>\n",
       "      <td>34</td>\n",
       "      <td>34</td>\n",
       "      <td>backup</td>\n",
       "      <td>/var/backups</td>\n",
       "      <td>/usr/sbin/nologin</td>\n",
       "    </tr>\n",
       "    <tr>\n",
       "      <th>14</th>\n",
       "      <td>list</td>\n",
       "      <td>x</td>\n",
       "      <td>38</td>\n",
       "      <td>38</td>\n",
       "      <td>Mailing List Manager</td>\n",
       "      <td>/var/list</td>\n",
       "      <td>/usr/sbin/nologin</td>\n",
       "    </tr>\n",
       "    <tr>\n",
       "      <th>15</th>\n",
       "      <td>irc</td>\n",
       "      <td>x</td>\n",
       "      <td>39</td>\n",
       "      <td>39</td>\n",
       "      <td>ircd</td>\n",
       "      <td>/var/run/ircd</td>\n",
       "      <td>/usr/sbin/nologin</td>\n",
       "    </tr>\n",
       "    <tr>\n",
       "      <th>16</th>\n",
       "      <td>gnats</td>\n",
       "      <td>x</td>\n",
       "      <td>41</td>\n",
       "      <td>41</td>\n",
       "      <td>Gnats Bug-Reporting System (admin)</td>\n",
       "      <td>/var/lib/gnats</td>\n",
       "      <td>/usr/sbin/nologin</td>\n",
       "    </tr>\n",
       "    <tr>\n",
       "      <th>17</th>\n",
       "      <td>nobody</td>\n",
       "      <td>x</td>\n",
       "      <td>65534</td>\n",
       "      <td>65534</td>\n",
       "      <td>nobody</td>\n",
       "      <td>/nonexistent</td>\n",
       "      <td>/usr/sbin/nologin</td>\n",
       "    </tr>\n",
       "    <tr>\n",
       "      <th>18</th>\n",
       "      <td>syslog</td>\n",
       "      <td>x</td>\n",
       "      <td>101</td>\n",
       "      <td>104</td>\n",
       "      <td>NaN</td>\n",
       "      <td>/home/syslog</td>\n",
       "      <td>/bin/false</td>\n",
       "    </tr>\n",
       "    <tr>\n",
       "      <th>19</th>\n",
       "      <td>messagebus</td>\n",
       "      <td>x</td>\n",
       "      <td>102</td>\n",
       "      <td>106</td>\n",
       "      <td>NaN</td>\n",
       "      <td>/var/run/dbus</td>\n",
       "      <td>/bin/false</td>\n",
       "    </tr>\n",
       "    <tr>\n",
       "      <th>20</th>\n",
       "      <td>landscape</td>\n",
       "      <td>x</td>\n",
       "      <td>103</td>\n",
       "      <td>109</td>\n",
       "      <td>NaN</td>\n",
       "      <td>/var/lib/landscape</td>\n",
       "      <td>/bin/false</td>\n",
       "    </tr>\n",
       "    <tr>\n",
       "      <th>21</th>\n",
       "      <td>jci</td>\n",
       "      <td>x</td>\n",
       "      <td>955</td>\n",
       "      <td>955</td>\n",
       "      <td>NaN</td>\n",
       "      <td>/home/jci</td>\n",
       "      <td>/bin/bash</td>\n",
       "    </tr>\n",
       "    <tr>\n",
       "      <th>22</th>\n",
       "      <td>sshd</td>\n",
       "      <td>x</td>\n",
       "      <td>104</td>\n",
       "      <td>65534</td>\n",
       "      <td>NaN</td>\n",
       "      <td>/var/run/sshd</td>\n",
       "      <td>/usr/sbin/nologin</td>\n",
       "    </tr>\n",
       "    <tr>\n",
       "      <th>23</th>\n",
       "      <td>user</td>\n",
       "      <td>x</td>\n",
       "      <td>1000</td>\n",
       "      <td>1000</td>\n",
       "      <td>user,,,</td>\n",
       "      <td>/home/user</td>\n",
       "      <td>/bin/bash</td>\n",
       "    </tr>\n",
       "    <tr>\n",
       "      <th>24</th>\n",
       "      <td>reuven</td>\n",
       "      <td>x</td>\n",
       "      <td>1001</td>\n",
       "      <td>1001</td>\n",
       "      <td>Reuven M. Lerner,,,</td>\n",
       "      <td>/home/reuven</td>\n",
       "      <td>/bin/bash</td>\n",
       "    </tr>\n",
       "    <tr>\n",
       "      <th>25</th>\n",
       "      <td>postfix</td>\n",
       "      <td>x</td>\n",
       "      <td>105</td>\n",
       "      <td>113</td>\n",
       "      <td>NaN</td>\n",
       "      <td>/var/spool/postfix</td>\n",
       "      <td>/bin/false</td>\n",
       "    </tr>\n",
       "    <tr>\n",
       "      <th>26</th>\n",
       "      <td>colord</td>\n",
       "      <td>x</td>\n",
       "      <td>106</td>\n",
       "      <td>116</td>\n",
       "      <td>colord colour management daemon,,,</td>\n",
       "      <td>/var/lib/colord</td>\n",
       "      <td>/bin/false</td>\n",
       "    </tr>\n",
       "    <tr>\n",
       "      <th>27</th>\n",
       "      <td>postgres</td>\n",
       "      <td>x</td>\n",
       "      <td>107</td>\n",
       "      <td>117</td>\n",
       "      <td>PostgreSQL administrator,,,</td>\n",
       "      <td>/var/lib/postgresql</td>\n",
       "      <td>/bin/bash</td>\n",
       "    </tr>\n",
       "    <tr>\n",
       "      <th>28</th>\n",
       "      <td>dovecot</td>\n",
       "      <td>x</td>\n",
       "      <td>108</td>\n",
       "      <td>119</td>\n",
       "      <td>Dovecot mail server,,,</td>\n",
       "      <td>/usr/lib/dovecot</td>\n",
       "      <td>/bin/false</td>\n",
       "    </tr>\n",
       "    <tr>\n",
       "      <th>29</th>\n",
       "      <td>dovenull</td>\n",
       "      <td>x</td>\n",
       "      <td>109</td>\n",
       "      <td>120</td>\n",
       "      <td>Dovecot login user,,,</td>\n",
       "      <td>/nonexistent</td>\n",
       "      <td>/bin/false</td>\n",
       "    </tr>\n",
       "    <tr>\n",
       "      <th>30</th>\n",
       "      <td>postgrey</td>\n",
       "      <td>x</td>\n",
       "      <td>110</td>\n",
       "      <td>121</td>\n",
       "      <td>NaN</td>\n",
       "      <td>/var/lib/postgrey</td>\n",
       "      <td>/bin/false</td>\n",
       "    </tr>\n",
       "    <tr>\n",
       "      <th>31</th>\n",
       "      <td>debian-spamd</td>\n",
       "      <td>x</td>\n",
       "      <td>111</td>\n",
       "      <td>122</td>\n",
       "      <td>NaN</td>\n",
       "      <td>/var/lib/spamassassin</td>\n",
       "      <td>/bin/sh</td>\n",
       "    </tr>\n",
       "    <tr>\n",
       "      <th>32</th>\n",
       "      <td>memcache</td>\n",
       "      <td>x</td>\n",
       "      <td>113</td>\n",
       "      <td>124</td>\n",
       "      <td>Memcached,,,</td>\n",
       "      <td>/nonexistent</td>\n",
       "      <td>/bin/false</td>\n",
       "    </tr>\n",
       "    <tr>\n",
       "      <th>33</th>\n",
       "      <td>genadi</td>\n",
       "      <td>x</td>\n",
       "      <td>1002</td>\n",
       "      <td>1003</td>\n",
       "      <td>Genadi Reznichenko,,,</td>\n",
       "      <td>/home/genadi</td>\n",
       "      <td>/bin/bash</td>\n",
       "    </tr>\n",
       "    <tr>\n",
       "      <th>34</th>\n",
       "      <td>shira</td>\n",
       "      <td>x</td>\n",
       "      <td>1003</td>\n",
       "      <td>1004</td>\n",
       "      <td>Shira Friedman,,,</td>\n",
       "      <td>/home/shira</td>\n",
       "      <td>/bin/bash</td>\n",
       "    </tr>\n",
       "    <tr>\n",
       "      <th>35</th>\n",
       "      <td>atara</td>\n",
       "      <td>x</td>\n",
       "      <td>1004</td>\n",
       "      <td>1005</td>\n",
       "      <td>Atara Lerner-Friedman,,,</td>\n",
       "      <td>/home/atara</td>\n",
       "      <td>/bin/bash</td>\n",
       "    </tr>\n",
       "    <tr>\n",
       "      <th>36</th>\n",
       "      <td>shikma</td>\n",
       "      <td>x</td>\n",
       "      <td>1005</td>\n",
       "      <td>1006</td>\n",
       "      <td>Shikma Lerner-Friedman,,,</td>\n",
       "      <td>/home/shikma</td>\n",
       "      <td>/bin/bash</td>\n",
       "    </tr>\n",
       "    <tr>\n",
       "      <th>37</th>\n",
       "      <td>amotz</td>\n",
       "      <td>x</td>\n",
       "      <td>1006</td>\n",
       "      <td>1007</td>\n",
       "      <td>Amotz Lerner-Friedman,,,</td>\n",
       "      <td>/home/amotz</td>\n",
       "      <td>/bin/bash</td>\n",
       "    </tr>\n",
       "    <tr>\n",
       "      <th>38</th>\n",
       "      <td>mysql</td>\n",
       "      <td>x</td>\n",
       "      <td>114</td>\n",
       "      <td>125</td>\n",
       "      <td>MySQL Server,,,</td>\n",
       "      <td>/nonexistent</td>\n",
       "      <td>/bin/false</td>\n",
       "    </tr>\n",
       "    <tr>\n",
       "      <th>39</th>\n",
       "      <td>clamav</td>\n",
       "      <td>x</td>\n",
       "      <td>115</td>\n",
       "      <td>126</td>\n",
       "      <td>NaN</td>\n",
       "      <td>/var/lib/clamav</td>\n",
       "      <td>/bin/false</td>\n",
       "    </tr>\n",
       "    <tr>\n",
       "      <th>40</th>\n",
       "      <td>amavis</td>\n",
       "      <td>x</td>\n",
       "      <td>116</td>\n",
       "      <td>127</td>\n",
       "      <td>AMaViS system user,,,</td>\n",
       "      <td>/var/lib/amavis</td>\n",
       "      <td>/bin/sh</td>\n",
       "    </tr>\n",
       "    <tr>\n",
       "      <th>41</th>\n",
       "      <td>opendkim</td>\n",
       "      <td>x</td>\n",
       "      <td>117</td>\n",
       "      <td>128</td>\n",
       "      <td>NaN</td>\n",
       "      <td>/var/run/opendkim</td>\n",
       "      <td>/bin/false</td>\n",
       "    </tr>\n",
       "    <tr>\n",
       "      <th>42</th>\n",
       "      <td>gitlab-redis</td>\n",
       "      <td>x</td>\n",
       "      <td>999</td>\n",
       "      <td>1009</td>\n",
       "      <td>NaN</td>\n",
       "      <td>/var/opt/gitlab/redis</td>\n",
       "      <td>/bin/nologin</td>\n",
       "    </tr>\n",
       "    <tr>\n",
       "      <th>43</th>\n",
       "      <td>gitlab-psql</td>\n",
       "      <td>x</td>\n",
       "      <td>998</td>\n",
       "      <td>1010</td>\n",
       "      <td>NaN</td>\n",
       "      <td>/var/opt/gitlab/postgresql</td>\n",
       "      <td>/bin/sh</td>\n",
       "    </tr>\n",
       "    <tr>\n",
       "      <th>44</th>\n",
       "      <td>git</td>\n",
       "      <td>x</td>\n",
       "      <td>1007</td>\n",
       "      <td>1008</td>\n",
       "      <td>GitLab,,,</td>\n",
       "      <td>/home/git</td>\n",
       "      <td>/bin/bash</td>\n",
       "    </tr>\n",
       "    <tr>\n",
       "      <th>45</th>\n",
       "      <td>opendmarc</td>\n",
       "      <td>x</td>\n",
       "      <td>118</td>\n",
       "      <td>129</td>\n",
       "      <td>NaN</td>\n",
       "      <td>/var/run/opendmarc</td>\n",
       "      <td>/bin/false</td>\n",
       "    </tr>\n",
       "    <tr>\n",
       "      <th>46</th>\n",
       "      <td>dkim-milter-python</td>\n",
       "      <td>x</td>\n",
       "      <td>119</td>\n",
       "      <td>130</td>\n",
       "      <td>NaN</td>\n",
       "      <td>/var/run/dkim-milter-python</td>\n",
       "      <td>/bin/false</td>\n",
       "    </tr>\n",
       "    <tr>\n",
       "      <th>47</th>\n",
       "      <td>deploy</td>\n",
       "      <td>x</td>\n",
       "      <td>1008</td>\n",
       "      <td>1011</td>\n",
       "      <td>Deploy,,,</td>\n",
       "      <td>/home/deploy</td>\n",
       "      <td>/bin/bash</td>\n",
       "    </tr>\n",
       "    <tr>\n",
       "      <th>48</th>\n",
       "      <td>redis</td>\n",
       "      <td>x</td>\n",
       "      <td>112</td>\n",
       "      <td>123</td>\n",
       "      <td>redis server,,,</td>\n",
       "      <td>/var/lib/redis</td>\n",
       "      <td>/bin/false</td>\n",
       "    </tr>\n",
       "  </tbody>\n",
       "</table>\n",
       "</div>"
      ],
      "text/plain": [
       "              username password  userid  groupid  \\\n",
       "0                 root        x       0        0   \n",
       "1               daemon        x       1        1   \n",
       "2                  bin        x       2        2   \n",
       "3                  sys        x       3        3   \n",
       "4                 sync        x       4    65534   \n",
       "5                games        x       5       60   \n",
       "6                  man        x       6       12   \n",
       "7                   lp        x       7        7   \n",
       "8                 mail        x       8        8   \n",
       "9                 news        x       9        9   \n",
       "10                uucp        x      10       10   \n",
       "11               proxy        x      13       13   \n",
       "12            www-data        x      33       33   \n",
       "13              backup        x      34       34   \n",
       "14                list        x      38       38   \n",
       "15                 irc        x      39       39   \n",
       "16               gnats        x      41       41   \n",
       "17              nobody        x   65534    65534   \n",
       "18              syslog        x     101      104   \n",
       "19          messagebus        x     102      106   \n",
       "20           landscape        x     103      109   \n",
       "21                 jci        x     955      955   \n",
       "22                sshd        x     104    65534   \n",
       "23                user        x    1000     1000   \n",
       "24              reuven        x    1001     1001   \n",
       "25             postfix        x     105      113   \n",
       "26              colord        x     106      116   \n",
       "27            postgres        x     107      117   \n",
       "28             dovecot        x     108      119   \n",
       "29            dovenull        x     109      120   \n",
       "30            postgrey        x     110      121   \n",
       "31        debian-spamd        x     111      122   \n",
       "32            memcache        x     113      124   \n",
       "33              genadi        x    1002     1003   \n",
       "34               shira        x    1003     1004   \n",
       "35               atara        x    1004     1005   \n",
       "36              shikma        x    1005     1006   \n",
       "37               amotz        x    1006     1007   \n",
       "38               mysql        x     114      125   \n",
       "39              clamav        x     115      126   \n",
       "40              amavis        x     116      127   \n",
       "41            opendkim        x     117      128   \n",
       "42        gitlab-redis        x     999     1009   \n",
       "43         gitlab-psql        x     998     1010   \n",
       "44                 git        x    1007     1008   \n",
       "45           opendmarc        x     118      129   \n",
       "46  dkim-milter-python        x     119      130   \n",
       "47              deploy        x    1008     1011   \n",
       "48               redis        x     112      123   \n",
       "\n",
       "                                  name                      homedir  \\\n",
       "0                                 root                        /root   \n",
       "1                               daemon                    /usr/sbin   \n",
       "2                                  bin                         /bin   \n",
       "3                                  sys                         /dev   \n",
       "4                                 sync                         /bin   \n",
       "5                                games                   /usr/games   \n",
       "6                                  man               /var/cache/man   \n",
       "7                                   lp               /var/spool/lpd   \n",
       "8                                 mail                    /var/mail   \n",
       "9                                 news              /var/spool/news   \n",
       "10                                uucp              /var/spool/uucp   \n",
       "11                               proxy                         /bin   \n",
       "12                            www-data                     /var/www   \n",
       "13                              backup                 /var/backups   \n",
       "14                Mailing List Manager                    /var/list   \n",
       "15                                ircd                /var/run/ircd   \n",
       "16  Gnats Bug-Reporting System (admin)               /var/lib/gnats   \n",
       "17                              nobody                 /nonexistent   \n",
       "18                                 NaN                 /home/syslog   \n",
       "19                                 NaN                /var/run/dbus   \n",
       "20                                 NaN           /var/lib/landscape   \n",
       "21                                 NaN                    /home/jci   \n",
       "22                                 NaN                /var/run/sshd   \n",
       "23                             user,,,                   /home/user   \n",
       "24                 Reuven M. Lerner,,,                 /home/reuven   \n",
       "25                                 NaN           /var/spool/postfix   \n",
       "26  colord colour management daemon,,,              /var/lib/colord   \n",
       "27         PostgreSQL administrator,,,          /var/lib/postgresql   \n",
       "28              Dovecot mail server,,,             /usr/lib/dovecot   \n",
       "29               Dovecot login user,,,                 /nonexistent   \n",
       "30                                 NaN            /var/lib/postgrey   \n",
       "31                                 NaN        /var/lib/spamassassin   \n",
       "32                        Memcached,,,                 /nonexistent   \n",
       "33               Genadi Reznichenko,,,                 /home/genadi   \n",
       "34                   Shira Friedman,,,                  /home/shira   \n",
       "35            Atara Lerner-Friedman,,,                  /home/atara   \n",
       "36           Shikma Lerner-Friedman,,,                 /home/shikma   \n",
       "37            Amotz Lerner-Friedman,,,                  /home/amotz   \n",
       "38                     MySQL Server,,,                 /nonexistent   \n",
       "39                                 NaN              /var/lib/clamav   \n",
       "40               AMaViS system user,,,              /var/lib/amavis   \n",
       "41                                 NaN            /var/run/opendkim   \n",
       "42                                 NaN        /var/opt/gitlab/redis   \n",
       "43                                 NaN   /var/opt/gitlab/postgresql   \n",
       "44                           GitLab,,,                    /home/git   \n",
       "45                                 NaN           /var/run/opendmarc   \n",
       "46                                 NaN  /var/run/dkim-milter-python   \n",
       "47                           Deploy,,,                 /home/deploy   \n",
       "48                     redis server,,,               /var/lib/redis   \n",
       "\n",
       "                shell  \n",
       "0           /bin/bash  \n",
       "1   /usr/sbin/nologin  \n",
       "2   /usr/sbin/nologin  \n",
       "3   /usr/sbin/nologin  \n",
       "4           /bin/sync  \n",
       "5   /usr/sbin/nologin  \n",
       "6   /usr/sbin/nologin  \n",
       "7   /usr/sbin/nologin  \n",
       "8   /usr/sbin/nologin  \n",
       "9   /usr/sbin/nologin  \n",
       "10  /usr/sbin/nologin  \n",
       "11  /usr/sbin/nologin  \n",
       "12  /usr/sbin/nologin  \n",
       "13  /usr/sbin/nologin  \n",
       "14  /usr/sbin/nologin  \n",
       "15  /usr/sbin/nologin  \n",
       "16  /usr/sbin/nologin  \n",
       "17  /usr/sbin/nologin  \n",
       "18         /bin/false  \n",
       "19         /bin/false  \n",
       "20         /bin/false  \n",
       "21          /bin/bash  \n",
       "22  /usr/sbin/nologin  \n",
       "23          /bin/bash  \n",
       "24          /bin/bash  \n",
       "25         /bin/false  \n",
       "26         /bin/false  \n",
       "27          /bin/bash  \n",
       "28         /bin/false  \n",
       "29         /bin/false  \n",
       "30         /bin/false  \n",
       "31            /bin/sh  \n",
       "32         /bin/false  \n",
       "33          /bin/bash  \n",
       "34          /bin/bash  \n",
       "35          /bin/bash  \n",
       "36          /bin/bash  \n",
       "37          /bin/bash  \n",
       "38         /bin/false  \n",
       "39         /bin/false  \n",
       "40            /bin/sh  \n",
       "41         /bin/false  \n",
       "42       /bin/nologin  \n",
       "43            /bin/sh  \n",
       "44          /bin/bash  \n",
       "45         /bin/false  \n",
       "46         /bin/false  \n",
       "47          /bin/bash  \n",
       "48         /bin/false  "
      ]
     },
     "execution_count": 87,
     "metadata": {},
     "output_type": "execute_result"
    }
   ],
   "source": [
    "ex18_df"
   ]
  },
  {
   "cell_type": "code",
   "execution_count": 88,
   "metadata": {},
   "outputs": [
    {
     "name": "stdout",
     "output_type": "stream",
     "text": [
      "<class 'pandas.core.frame.DataFrame'>\n",
      "RangeIndex: 49 entries, 0 to 48\n",
      "Data columns (total 7 columns):\n",
      " #   Column    Non-Null Count  Dtype \n",
      "---  ------    --------------  ----- \n",
      " 0   username  49 non-null     object\n",
      " 1   password  49 non-null     object\n",
      " 2   userid    49 non-null     int64 \n",
      " 3   groupid   49 non-null     int64 \n",
      " 4   name      35 non-null     object\n",
      " 5   homedir   49 non-null     object\n",
      " 6   shell     49 non-null     object\n",
      "dtypes: int64(2), object(5)\n",
      "memory usage: 2.8+ KB\n"
     ]
    }
   ],
   "source": [
    "ex18_df.info()"
   ]
  },
  {
   "cell_type": "markdown",
   "metadata": {},
   "source": [
    "# Exercise 19: Bitcoin values  "
   ]
  },
  {
   "cell_type": "markdown",
   "metadata": {},
   "source": [
    "The closing price for the most recent trading day\n",
    "\n",
    "The lowest historical price and the date of that price\n",
    "\n",
    "The highest historical price and the date of that price"
   ]
  },
  {
   "cell_type": "code",
   "execution_count": 89,
   "metadata": {},
   "outputs": [
    {
     "data": {
      "text/html": [
       "<div>\n",
       "<style scoped>\n",
       "    .dataframe tbody tr th:only-of-type {\n",
       "        vertical-align: middle;\n",
       "    }\n",
       "\n",
       "    .dataframe tbody tr th {\n",
       "        vertical-align: top;\n",
       "    }\n",
       "\n",
       "    .dataframe thead th {\n",
       "        text-align: right;\n",
       "    }\n",
       "</style>\n",
       "<table border=\"1\" class=\"dataframe\">\n",
       "  <thead>\n",
       "    <tr style=\"text-align: right;\">\n",
       "      <th></th>\n",
       "      <th>dates</th>\n",
       "      <th>value</th>\n",
       "    </tr>\n",
       "  </thead>\n",
       "  <tbody>\n",
       "    <tr>\n",
       "      <th>0</th>\n",
       "      <td>2023-10-25 00:00:00</td>\n",
       "      <td>33902.65</td>\n",
       "    </tr>\n",
       "    <tr>\n",
       "      <th>1</th>\n",
       "      <td>2023-10-26 00:00:00</td>\n",
       "      <td>34493.19</td>\n",
       "    </tr>\n",
       "    <tr>\n",
       "      <th>2</th>\n",
       "      <td>2023-10-27 00:00:00</td>\n",
       "      <td>34157.79</td>\n",
       "    </tr>\n",
       "    <tr>\n",
       "      <th>3</th>\n",
       "      <td>2023-10-28 00:00:00</td>\n",
       "      <td>33911.08</td>\n",
       "    </tr>\n",
       "    <tr>\n",
       "      <th>4</th>\n",
       "      <td>2023-10-29 00:00:00</td>\n",
       "      <td>34090.68</td>\n",
       "    </tr>\n",
       "    <tr>\n",
       "      <th>...</th>\n",
       "      <td>...</td>\n",
       "      <td>...</td>\n",
       "    </tr>\n",
       "    <tr>\n",
       "      <th>361</th>\n",
       "      <td>2024-10-20 00:00:00</td>\n",
       "      <td>68365.74</td>\n",
       "    </tr>\n",
       "    <tr>\n",
       "      <th>362</th>\n",
       "      <td>2024-10-21 00:00:00</td>\n",
       "      <td>69012.04</td>\n",
       "    </tr>\n",
       "    <tr>\n",
       "      <th>363</th>\n",
       "      <td>2024-10-22 00:00:00</td>\n",
       "      <td>67363.26</td>\n",
       "    </tr>\n",
       "    <tr>\n",
       "      <th>364</th>\n",
       "      <td>2024-10-23 00:00:00</td>\n",
       "      <td>67368.20</td>\n",
       "    </tr>\n",
       "    <tr>\n",
       "      <th>365</th>\n",
       "      <td>2024-10-24 00:00:00</td>\n",
       "      <td>66655.68</td>\n",
       "    </tr>\n",
       "  </tbody>\n",
       "</table>\n",
       "<p>366 rows × 2 columns</p>\n",
       "</div>"
      ],
      "text/plain": [
       "                   dates     value\n",
       "0    2023-10-25 00:00:00  33902.65\n",
       "1    2023-10-26 00:00:00  34493.19\n",
       "2    2023-10-27 00:00:00  34157.79\n",
       "3    2023-10-28 00:00:00  33911.08\n",
       "4    2023-10-29 00:00:00  34090.68\n",
       "..                   ...       ...\n",
       "361  2024-10-20 00:00:00  68365.74\n",
       "362  2024-10-21 00:00:00  69012.04\n",
       "363  2024-10-22 00:00:00  67363.26\n",
       "364  2024-10-23 00:00:00  67368.20\n",
       "365  2024-10-24 00:00:00  66655.68\n",
       "\n",
       "[366 rows x 2 columns]"
      ]
     },
     "execution_count": 89,
     "metadata": {},
     "output_type": "execute_result"
    }
   ],
   "source": [
    "ex19_df = pd.read_csv('https://api.blockchain.info/charts/market-price?format=csv', \n",
    "                      header=None, \n",
    "                      names=['dates', 'value'])\n",
    "\n",
    "ex19_df"
   ]
  },
  {
   "cell_type": "code",
   "execution_count": 90,
   "metadata": {},
   "outputs": [
    {
     "data": {
      "text/plain": [
       "dates    2024-10-24 00:00:00\n",
       "value               73094.37\n",
       "dtype: object"
      ]
     },
     "execution_count": 90,
     "metadata": {},
     "output_type": "execute_result"
    }
   ],
   "source": [
    "ex19_df.max() # this code will generate the latest date from column `dates`"
   ]
  },
  {
   "cell_type": "code",
   "execution_count": 91,
   "metadata": {},
   "outputs": [
    {
     "data": {
      "text/plain": [
       "dates    2023-10-25 00:00:00\n",
       "value               33902.65\n",
       "dtype: object"
      ]
     },
     "execution_count": 91,
     "metadata": {},
     "output_type": "execute_result"
    }
   ],
   "source": [
    "ex19_df.min() # this code will generate the oldest date from column `dates`"
   ]
  },
  {
   "cell_type": "code",
   "execution_count": 92,
   "metadata": {},
   "outputs": [
    {
     "data": {
      "text/html": [
       "<div>\n",
       "<style scoped>\n",
       "    .dataframe tbody tr th:only-of-type {\n",
       "        vertical-align: middle;\n",
       "    }\n",
       "\n",
       "    .dataframe tbody tr th {\n",
       "        vertical-align: top;\n",
       "    }\n",
       "\n",
       "    .dataframe thead th {\n",
       "        text-align: right;\n",
       "    }\n",
       "</style>\n",
       "<table border=\"1\" class=\"dataframe\">\n",
       "  <thead>\n",
       "    <tr style=\"text-align: right;\">\n",
       "      <th></th>\n",
       "      <th>dates</th>\n",
       "      <th>value</th>\n",
       "    </tr>\n",
       "  </thead>\n",
       "  <tbody>\n",
       "    <tr>\n",
       "      <th>0</th>\n",
       "      <td>2023-10-25 00:00:00</td>\n",
       "      <td>33902.65</td>\n",
       "    </tr>\n",
       "  </tbody>\n",
       "</table>\n",
       "</div>"
      ],
      "text/plain": [
       "                 dates     value\n",
       "0  2023-10-25 00:00:00  33902.65"
      ]
     },
     "execution_count": 92,
     "metadata": {},
     "output_type": "execute_result"
    }
   ],
   "source": [
    "ex19_df.loc[ex19_df['value'] == ex19_df['value'].min(), ['dates','value']]"
   ]
  },
  {
   "cell_type": "code",
   "execution_count": 93,
   "metadata": {},
   "outputs": [
    {
     "data": {
      "text/html": [
       "<div>\n",
       "<style scoped>\n",
       "    .dataframe tbody tr th:only-of-type {\n",
       "        vertical-align: middle;\n",
       "    }\n",
       "\n",
       "    .dataframe tbody tr th {\n",
       "        vertical-align: top;\n",
       "    }\n",
       "\n",
       "    .dataframe thead th {\n",
       "        text-align: right;\n",
       "    }\n",
       "</style>\n",
       "<table border=\"1\" class=\"dataframe\">\n",
       "  <thead>\n",
       "    <tr style=\"text-align: right;\">\n",
       "      <th></th>\n",
       "      <th>dates</th>\n",
       "      <th>value</th>\n",
       "    </tr>\n",
       "  </thead>\n",
       "  <tbody>\n",
       "    <tr>\n",
       "      <th>141</th>\n",
       "      <td>2024-03-14 00:00:00</td>\n",
       "      <td>73094.37</td>\n",
       "    </tr>\n",
       "  </tbody>\n",
       "</table>\n",
       "</div>"
      ],
      "text/plain": [
       "                   dates     value\n",
       "141  2024-03-14 00:00:00  73094.37"
      ]
     },
     "execution_count": 93,
     "metadata": {},
     "output_type": "execute_result"
    }
   ],
   "source": [
    "ex19_df.loc[ex19_df['value'] == ex19_df['value'].max(), ['dates','value']]"
   ]
  },
  {
   "cell_type": "code",
   "execution_count": 94,
   "metadata": {},
   "outputs": [
    {
     "data": {
      "text/html": [
       "<div>\n",
       "<style scoped>\n",
       "    .dataframe tbody tr th:only-of-type {\n",
       "        vertical-align: middle;\n",
       "    }\n",
       "\n",
       "    .dataframe tbody tr th {\n",
       "        vertical-align: top;\n",
       "    }\n",
       "\n",
       "    .dataframe thead th {\n",
       "        text-align: right;\n",
       "    }\n",
       "</style>\n",
       "<table border=\"1\" class=\"dataframe\">\n",
       "  <thead>\n",
       "    <tr style=\"text-align: right;\">\n",
       "      <th></th>\n",
       "      <th>dates</th>\n",
       "      <th>value</th>\n",
       "    </tr>\n",
       "  </thead>\n",
       "  <tbody>\n",
       "    <tr>\n",
       "      <th>0</th>\n",
       "      <td>2023-10-25 00:00:00</td>\n",
       "      <td>33902.65</td>\n",
       "    </tr>\n",
       "  </tbody>\n",
       "</table>\n",
       "</div>"
      ],
      "text/plain": [
       "                 dates     value\n",
       "0  2023-10-25 00:00:00  33902.65"
      ]
     },
     "execution_count": 94,
     "metadata": {},
     "output_type": "execute_result"
    }
   ],
   "source": [
    "ex19_df.head(1)"
   ]
  },
  {
   "cell_type": "code",
   "execution_count": 95,
   "metadata": {},
   "outputs": [
    {
     "data": {
      "text/html": [
       "<div>\n",
       "<style scoped>\n",
       "    .dataframe tbody tr th:only-of-type {\n",
       "        vertical-align: middle;\n",
       "    }\n",
       "\n",
       "    .dataframe tbody tr th {\n",
       "        vertical-align: top;\n",
       "    }\n",
       "\n",
       "    .dataframe thead th {\n",
       "        text-align: right;\n",
       "    }\n",
       "</style>\n",
       "<table border=\"1\" class=\"dataframe\">\n",
       "  <thead>\n",
       "    <tr style=\"text-align: right;\">\n",
       "      <th></th>\n",
       "      <th>dates</th>\n",
       "      <th>value</th>\n",
       "    </tr>\n",
       "  </thead>\n",
       "  <tbody>\n",
       "    <tr>\n",
       "      <th>365</th>\n",
       "      <td>2024-10-24 00:00:00</td>\n",
       "      <td>66655.68</td>\n",
       "    </tr>\n",
       "  </tbody>\n",
       "</table>\n",
       "</div>"
      ],
      "text/plain": [
       "                   dates     value\n",
       "365  2024-10-24 00:00:00  66655.68"
      ]
     },
     "execution_count": 95,
     "metadata": {},
     "output_type": "execute_result"
    }
   ],
   "source": [
    "ex19_df.tail(1)"
   ]
  },
  {
   "cell_type": "code",
   "execution_count": 96,
   "metadata": {},
   "outputs": [
    {
     "data": {
      "text/plain": [
       "value    2023-10-25 00:00:00\n",
       "dtype: object"
      ]
     },
     "execution_count": 96,
     "metadata": {},
     "output_type": "execute_result"
    }
   ],
   "source": [
    "ex19_df.set_index('dates').idxmin()"
   ]
  },
  {
   "cell_type": "code",
   "execution_count": 97,
   "metadata": {},
   "outputs": [
    {
     "data": {
      "text/plain": [
       "value    2024-03-14 00:00:00\n",
       "dtype: object"
      ]
     },
     "execution_count": 97,
     "metadata": {},
     "output_type": "execute_result"
    }
   ],
   "source": [
    "ex19_df.set_index('dates').idxmax()"
   ]
  },
  {
   "cell_type": "code",
   "execution_count": 98,
   "metadata": {},
   "outputs": [
    {
     "data": {
      "text/html": [
       "<div>\n",
       "<style scoped>\n",
       "    .dataframe tbody tr th:only-of-type {\n",
       "        vertical-align: middle;\n",
       "    }\n",
       "\n",
       "    .dataframe tbody tr th {\n",
       "        vertical-align: top;\n",
       "    }\n",
       "\n",
       "    .dataframe thead th {\n",
       "        text-align: right;\n",
       "    }\n",
       "</style>\n",
       "<table border=\"1\" class=\"dataframe\">\n",
       "  <thead>\n",
       "    <tr style=\"text-align: right;\">\n",
       "      <th></th>\n",
       "      <th>value</th>\n",
       "    </tr>\n",
       "  </thead>\n",
       "  <tbody>\n",
       "    <tr>\n",
       "      <th>idxmin</th>\n",
       "      <td>2023-10-25 00:00:00</td>\n",
       "    </tr>\n",
       "    <tr>\n",
       "      <th>idxmax</th>\n",
       "      <td>2024-03-14 00:00:00</td>\n",
       "    </tr>\n",
       "  </tbody>\n",
       "</table>\n",
       "</div>"
      ],
      "text/plain": [
       "                      value\n",
       "idxmin  2023-10-25 00:00:00\n",
       "idxmax  2024-03-14 00:00:00"
      ]
     },
     "execution_count": 98,
     "metadata": {},
     "output_type": "execute_result"
    }
   ],
   "source": [
    "ex19_df.set_index('dates').agg(['idxmin', 'idxmax'])"
   ]
  },
  {
   "cell_type": "markdown",
   "metadata": {},
   "source": [
    "### Beyong the exercise \n",
    "Pandas is full of amazing functionality that lets us retrieve data from the internet in various formats. Here are a few additional exercises for you to try to see how this works and how you can integrate it into your workflow:\n",
    "\n",
    "In this exercise, you downloaded the information into a data frame and then performed calculations on it. Without assigning the downloaded data to an interim variable, can you return the current value? Your solution should consist of a single line of code that includes the download, selection, and calculation.\n",
    "\n",
    "The pd.read_html function, like pd.read_csv, takes a file-like object or a URL. It assumes that it will encounter HTML-formatted text containing at least one table. It turns each table into a data frame and then returns a list of those data frames. With this in mind, retrieve one year of historical S&P 500 data from Yahoo Finance (https://finance.yahoo.com/quote/%5EGSPC/history?p=%5EGSPC), looking only at the Date, Close, and Volume columns. Show the date and volume of the days with the highest and lowest Close values. Note that Yahoo seems to look at the User-Agent header in the HTTP request, which cannot be set in read_html. So you’ll need to use requests to retrieve the data, setting User-Agent to a string equal to 'Mozilla 5.0'. Turn the content of the result into a StringIO, and then feed that to read_html and retrieve the data.\n",
    "\n",
    "Create a two-row data frame with the highest and lowest closing prices for the S&P 500. Use the to_csv function to write this data to a new CSV file."
   ]
  },
  {
   "cell_type": "markdown",
   "metadata": {},
   "source": [
    "# Exercise 20: Big Cities \n"
   ]
  },
  {
   "cell_type": "markdown",
   "metadata": {},
   "source": [
    "### Reading a JSON file "
   ]
  },
  {
   "cell_type": "code",
   "execution_count": 99,
   "metadata": {},
   "outputs": [],
   "source": [
    "filepath20 = r\"C:\\Users\\dqthi\\Downloads\\pandas-workout-data\\data\\cities.json\""
   ]
  },
  {
   "cell_type": "code",
   "execution_count": 100,
   "metadata": {},
   "outputs": [],
   "source": [
    "ex20_df = pd.read_json(filepath20)"
   ]
  },
  {
   "cell_type": "code",
   "execution_count": 101,
   "metadata": {},
   "outputs": [
    {
     "data": {
      "text/html": [
       "<div>\n",
       "<style scoped>\n",
       "    .dataframe tbody tr th:only-of-type {\n",
       "        vertical-align: middle;\n",
       "    }\n",
       "\n",
       "    .dataframe tbody tr th {\n",
       "        vertical-align: top;\n",
       "    }\n",
       "\n",
       "    .dataframe thead th {\n",
       "        text-align: right;\n",
       "    }\n",
       "</style>\n",
       "<table border=\"1\" class=\"dataframe\">\n",
       "  <thead>\n",
       "    <tr style=\"text-align: right;\">\n",
       "      <th></th>\n",
       "      <th>city</th>\n",
       "      <th>growth_from_2000_to_2013</th>\n",
       "      <th>latitude</th>\n",
       "      <th>longitude</th>\n",
       "      <th>population</th>\n",
       "      <th>rank</th>\n",
       "      <th>state</th>\n",
       "    </tr>\n",
       "  </thead>\n",
       "  <tbody>\n",
       "    <tr>\n",
       "      <th>0</th>\n",
       "      <td>New York</td>\n",
       "      <td>4.8%</td>\n",
       "      <td>40.712784</td>\n",
       "      <td>-74.005941</td>\n",
       "      <td>8405837</td>\n",
       "      <td>1</td>\n",
       "      <td>New York</td>\n",
       "    </tr>\n",
       "    <tr>\n",
       "      <th>1</th>\n",
       "      <td>Los Angeles</td>\n",
       "      <td>4.8%</td>\n",
       "      <td>34.052234</td>\n",
       "      <td>-118.243685</td>\n",
       "      <td>3884307</td>\n",
       "      <td>2</td>\n",
       "      <td>California</td>\n",
       "    </tr>\n",
       "    <tr>\n",
       "      <th>2</th>\n",
       "      <td>Chicago</td>\n",
       "      <td>-6.1%</td>\n",
       "      <td>41.878114</td>\n",
       "      <td>-87.629798</td>\n",
       "      <td>2718782</td>\n",
       "      <td>3</td>\n",
       "      <td>Illinois</td>\n",
       "    </tr>\n",
       "    <tr>\n",
       "      <th>3</th>\n",
       "      <td>Houston</td>\n",
       "      <td>11.0%</td>\n",
       "      <td>29.760427</td>\n",
       "      <td>-95.369803</td>\n",
       "      <td>2195914</td>\n",
       "      <td>4</td>\n",
       "      <td>Texas</td>\n",
       "    </tr>\n",
       "    <tr>\n",
       "      <th>4</th>\n",
       "      <td>Philadelphia</td>\n",
       "      <td>2.6%</td>\n",
       "      <td>39.952584</td>\n",
       "      <td>-75.165222</td>\n",
       "      <td>1553165</td>\n",
       "      <td>5</td>\n",
       "      <td>Pennsylvania</td>\n",
       "    </tr>\n",
       "    <tr>\n",
       "      <th>...</th>\n",
       "      <td>...</td>\n",
       "      <td>...</td>\n",
       "      <td>...</td>\n",
       "      <td>...</td>\n",
       "      <td>...</td>\n",
       "      <td>...</td>\n",
       "      <td>...</td>\n",
       "    </tr>\n",
       "    <tr>\n",
       "      <th>995</th>\n",
       "      <td>Weslaco</td>\n",
       "      <td>28.8%</td>\n",
       "      <td>26.159519</td>\n",
       "      <td>-97.990837</td>\n",
       "      <td>37093</td>\n",
       "      <td>996</td>\n",
       "      <td>Texas</td>\n",
       "    </tr>\n",
       "    <tr>\n",
       "      <th>996</th>\n",
       "      <td>Keizer</td>\n",
       "      <td>14.4%</td>\n",
       "      <td>44.990119</td>\n",
       "      <td>-123.026208</td>\n",
       "      <td>37064</td>\n",
       "      <td>997</td>\n",
       "      <td>Oregon</td>\n",
       "    </tr>\n",
       "    <tr>\n",
       "      <th>997</th>\n",
       "      <td>Spanish Fork</td>\n",
       "      <td>78.1%</td>\n",
       "      <td>40.114955</td>\n",
       "      <td>-111.654923</td>\n",
       "      <td>36956</td>\n",
       "      <td>998</td>\n",
       "      <td>Utah</td>\n",
       "    </tr>\n",
       "    <tr>\n",
       "      <th>998</th>\n",
       "      <td>Beloit</td>\n",
       "      <td>2.9%</td>\n",
       "      <td>42.508348</td>\n",
       "      <td>-89.031776</td>\n",
       "      <td>36888</td>\n",
       "      <td>999</td>\n",
       "      <td>Wisconsin</td>\n",
       "    </tr>\n",
       "    <tr>\n",
       "      <th>999</th>\n",
       "      <td>Panama City</td>\n",
       "      <td>0.1%</td>\n",
       "      <td>30.158813</td>\n",
       "      <td>-85.660206</td>\n",
       "      <td>36877</td>\n",
       "      <td>1000</td>\n",
       "      <td>Florida</td>\n",
       "    </tr>\n",
       "  </tbody>\n",
       "</table>\n",
       "<p>1000 rows × 7 columns</p>\n",
       "</div>"
      ],
      "text/plain": [
       "             city growth_from_2000_to_2013   latitude   longitude  population  \\\n",
       "0        New York                     4.8%  40.712784  -74.005941     8405837   \n",
       "1     Los Angeles                     4.8%  34.052234 -118.243685     3884307   \n",
       "2         Chicago                    -6.1%  41.878114  -87.629798     2718782   \n",
       "3         Houston                    11.0%  29.760427  -95.369803     2195914   \n",
       "4    Philadelphia                     2.6%  39.952584  -75.165222     1553165   \n",
       "..            ...                      ...        ...         ...         ...   \n",
       "995       Weslaco                    28.8%  26.159519  -97.990837       37093   \n",
       "996        Keizer                    14.4%  44.990119 -123.026208       37064   \n",
       "997  Spanish Fork                    78.1%  40.114955 -111.654923       36956   \n",
       "998        Beloit                     2.9%  42.508348  -89.031776       36888   \n",
       "999   Panama City                     0.1%  30.158813  -85.660206       36877   \n",
       "\n",
       "     rank         state  \n",
       "0       1      New York  \n",
       "1       2    California  \n",
       "2       3      Illinois  \n",
       "3       4         Texas  \n",
       "4       5  Pennsylvania  \n",
       "..    ...           ...  \n",
       "995   996         Texas  \n",
       "996   997        Oregon  \n",
       "997   998          Utah  \n",
       "998   999     Wisconsin  \n",
       "999  1000       Florida  \n",
       "\n",
       "[1000 rows x 7 columns]"
      ]
     },
     "execution_count": 101,
     "metadata": {},
     "output_type": "execute_result"
    }
   ],
   "source": [
    "ex20_df"
   ]
  },
  {
   "cell_type": "code",
   "execution_count": 102,
   "metadata": {},
   "outputs": [
    {
     "name": "stdout",
     "output_type": "stream",
     "text": [
      "<class 'pandas.core.frame.DataFrame'>\n",
      "RangeIndex: 1000 entries, 0 to 999\n",
      "Data columns (total 7 columns):\n",
      " #   Column                    Non-Null Count  Dtype  \n",
      "---  ------                    --------------  -----  \n",
      " 0   city                      1000 non-null   object \n",
      " 1   growth_from_2000_to_2013  1000 non-null   object \n",
      " 2   latitude                  1000 non-null   float64\n",
      " 3   longitude                 1000 non-null   float64\n",
      " 4   population                1000 non-null   int64  \n",
      " 5   rank                      1000 non-null   int64  \n",
      " 6   state                     1000 non-null   object \n",
      "dtypes: float64(2), int64(2), object(3)\n",
      "memory usage: 54.8+ KB\n"
     ]
    }
   ],
   "source": [
    "ex20_df.info()"
   ]
  },
  {
   "cell_type": "code",
   "execution_count": 103,
   "metadata": {},
   "outputs": [
    {
     "data": {
      "text/plain": [
       "mean    131132.443\n",
       "50%      68207.000\n",
       "Name: population, dtype: float64"
      ]
     },
     "execution_count": 103,
     "metadata": {},
     "output_type": "execute_result"
    }
   ],
   "source": [
    "ex20_df['population'].describe()[['mean', '50%']]"
   ]
  },
  {
   "cell_type": "code",
   "execution_count": 104,
   "metadata": {},
   "outputs": [
    {
     "data": {
      "text/plain": [
       "mean    87027.387368\n",
       "50%     65796.000000\n",
       "Name: population, dtype: float64"
      ]
     },
     "execution_count": 104,
     "metadata": {},
     "output_type": "execute_result"
    }
   ],
   "source": [
    "ex20_df.loc[50:, 'population'].describe()[['mean', '50%']]"
   ]
  },
  {
   "cell_type": "code",
   "execution_count": 105,
   "metadata": {},
   "outputs": [
    {
     "data": {
      "text/html": [
       "<div>\n",
       "<style scoped>\n",
       "    .dataframe tbody tr th:only-of-type {\n",
       "        vertical-align: middle;\n",
       "    }\n",
       "\n",
       "    .dataframe tbody tr th {\n",
       "        vertical-align: top;\n",
       "    }\n",
       "\n",
       "    .dataframe thead th {\n",
       "        text-align: right;\n",
       "    }\n",
       "</style>\n",
       "<table border=\"1\" class=\"dataframe\">\n",
       "  <thead>\n",
       "    <tr style=\"text-align: right;\">\n",
       "      <th></th>\n",
       "      <th>city</th>\n",
       "      <th>state</th>\n",
       "      <th>rank</th>\n",
       "    </tr>\n",
       "  </thead>\n",
       "  <tbody>\n",
       "    <tr>\n",
       "      <th>62</th>\n",
       "      <td>Anchorage</td>\n",
       "      <td>Alaska</td>\n",
       "      <td>63</td>\n",
       "    </tr>\n",
       "  </tbody>\n",
       "</table>\n",
       "</div>"
      ],
      "text/plain": [
       "         city   state  rank\n",
       "62  Anchorage  Alaska    63"
      ]
     },
     "execution_count": 105,
     "metadata": {},
     "output_type": "execute_result"
    }
   ],
   "source": [
    "ex20_df.loc[ex20_df['latitude'] == ex20_df['latitude'].max(), ['city', 'state', 'rank' ]]"
   ]
  },
  {
   "cell_type": "code",
   "execution_count": 106,
   "metadata": {},
   "outputs": [
    {
     "data": {
      "text/plain": [
       "state\n",
       "California    212\n",
       "Name: count, dtype: int64"
      ]
     },
     "execution_count": 106,
     "metadata": {},
     "output_type": "execute_result"
    }
   ],
   "source": [
    "ex20_df['state'].value_counts().head(1) "
   ]
  },
  {
   "cell_type": "code",
   "execution_count": 107,
   "metadata": {},
   "outputs": [
    {
     "data": {
      "text/plain": [
       "state\n",
       "Alaska                  1\n",
       "Hawaii                  1\n",
       "District of Columbia    1\n",
       "Maine                   1\n",
       "Vermont                 1\n",
       "Name: count, dtype: int64"
      ]
     },
     "execution_count": 107,
     "metadata": {},
     "output_type": "execute_result"
    }
   ],
   "source": [
    "ex20_df['state'].value_counts().tail(5)"
   ]
  },
  {
   "cell_type": "markdown",
   "metadata": {},
   "source": [
    "### Beyond the exercise\n",
    "Convert the growth_from_2000_to_2013 column into a floating-point number. Then find the mean and median changes in city size between 2000 and 2013. If a city has no recorded growth, set it to 0.\n",
    "\n",
    "How many cities had positive growth in this period, and how many had negative growth?\n",
    "\n",
    "Find the city or cities with latitudes more than two standard deviations from the mean."
   ]
  },
  {
   "cell_type": "code",
   "execution_count": 108,
   "metadata": {},
   "outputs": [],
   "source": [
    "ex20_df['growth_in_float'] = ex20_df['growth_from_2000_to_2013'].str.strip('%')"
   ]
  },
  {
   "cell_type": "code",
   "execution_count": 109,
   "metadata": {},
   "outputs": [
    {
     "ename": "ValueError",
     "evalue": "could not convert string to float: ''",
     "output_type": "error",
     "traceback": [
      "\u001b[1;31m---------------------------------------------------------------------------\u001b[0m",
      "\u001b[1;31mValueError\u001b[0m                                Traceback (most recent call last)",
      "Cell \u001b[1;32mIn[109], line 1\u001b[0m\n\u001b[1;32m----> 1\u001b[0m ex20_df[\u001b[38;5;124m'\u001b[39m\u001b[38;5;124mgrowth_in_float\u001b[39m\u001b[38;5;124m'\u001b[39m] \u001b[38;5;241m=\u001b[39m \u001b[43mex20_df\u001b[49m\u001b[43m[\u001b[49m\u001b[38;5;124;43m'\u001b[39;49m\u001b[38;5;124;43mgrowth_in_float\u001b[39;49m\u001b[38;5;124;43m'\u001b[39;49m\u001b[43m]\u001b[49m\u001b[38;5;241;43m.\u001b[39;49m\u001b[43mastype\u001b[49m\u001b[43m(\u001b[49m\u001b[38;5;28;43mfloat\u001b[39;49m\u001b[43m)\u001b[49m \n",
      "File \u001b[1;32mc:\\Users\\dqthi\\anaconda3\\envs\\fresh_env\\lib\\site-packages\\pandas\\core\\generic.py:6643\u001b[0m, in \u001b[0;36mNDFrame.astype\u001b[1;34m(self, dtype, copy, errors)\u001b[0m\n\u001b[0;32m   6637\u001b[0m     results \u001b[38;5;241m=\u001b[39m [\n\u001b[0;32m   6638\u001b[0m         ser\u001b[38;5;241m.\u001b[39mastype(dtype, copy\u001b[38;5;241m=\u001b[39mcopy, errors\u001b[38;5;241m=\u001b[39merrors) \u001b[38;5;28;01mfor\u001b[39;00m _, ser \u001b[38;5;129;01min\u001b[39;00m \u001b[38;5;28mself\u001b[39m\u001b[38;5;241m.\u001b[39mitems()\n\u001b[0;32m   6639\u001b[0m     ]\n\u001b[0;32m   6641\u001b[0m \u001b[38;5;28;01melse\u001b[39;00m:\n\u001b[0;32m   6642\u001b[0m     \u001b[38;5;66;03m# else, only a single dtype is given\u001b[39;00m\n\u001b[1;32m-> 6643\u001b[0m     new_data \u001b[38;5;241m=\u001b[39m \u001b[38;5;28;43mself\u001b[39;49m\u001b[38;5;241;43m.\u001b[39;49m\u001b[43m_mgr\u001b[49m\u001b[38;5;241;43m.\u001b[39;49m\u001b[43mastype\u001b[49m\u001b[43m(\u001b[49m\u001b[43mdtype\u001b[49m\u001b[38;5;241;43m=\u001b[39;49m\u001b[43mdtype\u001b[49m\u001b[43m,\u001b[49m\u001b[43m \u001b[49m\u001b[43mcopy\u001b[49m\u001b[38;5;241;43m=\u001b[39;49m\u001b[43mcopy\u001b[49m\u001b[43m,\u001b[49m\u001b[43m \u001b[49m\u001b[43merrors\u001b[49m\u001b[38;5;241;43m=\u001b[39;49m\u001b[43merrors\u001b[49m\u001b[43m)\u001b[49m\n\u001b[0;32m   6644\u001b[0m     res \u001b[38;5;241m=\u001b[39m \u001b[38;5;28mself\u001b[39m\u001b[38;5;241m.\u001b[39m_constructor_from_mgr(new_data, axes\u001b[38;5;241m=\u001b[39mnew_data\u001b[38;5;241m.\u001b[39maxes)\n\u001b[0;32m   6645\u001b[0m     \u001b[38;5;28;01mreturn\u001b[39;00m res\u001b[38;5;241m.\u001b[39m__finalize__(\u001b[38;5;28mself\u001b[39m, method\u001b[38;5;241m=\u001b[39m\u001b[38;5;124m\"\u001b[39m\u001b[38;5;124mastype\u001b[39m\u001b[38;5;124m\"\u001b[39m)\n",
      "File \u001b[1;32mc:\\Users\\dqthi\\anaconda3\\envs\\fresh_env\\lib\\site-packages\\pandas\\core\\internals\\managers.py:430\u001b[0m, in \u001b[0;36mBaseBlockManager.astype\u001b[1;34m(self, dtype, copy, errors)\u001b[0m\n\u001b[0;32m    427\u001b[0m \u001b[38;5;28;01melif\u001b[39;00m using_copy_on_write():\n\u001b[0;32m    428\u001b[0m     copy \u001b[38;5;241m=\u001b[39m \u001b[38;5;28;01mFalse\u001b[39;00m\n\u001b[1;32m--> 430\u001b[0m \u001b[38;5;28;01mreturn\u001b[39;00m \u001b[38;5;28;43mself\u001b[39;49m\u001b[38;5;241;43m.\u001b[39;49m\u001b[43mapply\u001b[49m\u001b[43m(\u001b[49m\n\u001b[0;32m    431\u001b[0m \u001b[43m    \u001b[49m\u001b[38;5;124;43m\"\u001b[39;49m\u001b[38;5;124;43mastype\u001b[39;49m\u001b[38;5;124;43m\"\u001b[39;49m\u001b[43m,\u001b[49m\n\u001b[0;32m    432\u001b[0m \u001b[43m    \u001b[49m\u001b[43mdtype\u001b[49m\u001b[38;5;241;43m=\u001b[39;49m\u001b[43mdtype\u001b[49m\u001b[43m,\u001b[49m\n\u001b[0;32m    433\u001b[0m \u001b[43m    \u001b[49m\u001b[43mcopy\u001b[49m\u001b[38;5;241;43m=\u001b[39;49m\u001b[43mcopy\u001b[49m\u001b[43m,\u001b[49m\n\u001b[0;32m    434\u001b[0m \u001b[43m    \u001b[49m\u001b[43merrors\u001b[49m\u001b[38;5;241;43m=\u001b[39;49m\u001b[43merrors\u001b[49m\u001b[43m,\u001b[49m\n\u001b[0;32m    435\u001b[0m \u001b[43m    \u001b[49m\u001b[43musing_cow\u001b[49m\u001b[38;5;241;43m=\u001b[39;49m\u001b[43musing_copy_on_write\u001b[49m\u001b[43m(\u001b[49m\u001b[43m)\u001b[49m\u001b[43m,\u001b[49m\n\u001b[0;32m    436\u001b[0m \u001b[43m\u001b[49m\u001b[43m)\u001b[49m\n",
      "File \u001b[1;32mc:\\Users\\dqthi\\anaconda3\\envs\\fresh_env\\lib\\site-packages\\pandas\\core\\internals\\managers.py:363\u001b[0m, in \u001b[0;36mBaseBlockManager.apply\u001b[1;34m(self, f, align_keys, **kwargs)\u001b[0m\n\u001b[0;32m    361\u001b[0m         applied \u001b[38;5;241m=\u001b[39m b\u001b[38;5;241m.\u001b[39mapply(f, \u001b[38;5;241m*\u001b[39m\u001b[38;5;241m*\u001b[39mkwargs)\n\u001b[0;32m    362\u001b[0m     \u001b[38;5;28;01melse\u001b[39;00m:\n\u001b[1;32m--> 363\u001b[0m         applied \u001b[38;5;241m=\u001b[39m \u001b[38;5;28mgetattr\u001b[39m(b, f)(\u001b[38;5;241m*\u001b[39m\u001b[38;5;241m*\u001b[39mkwargs)\n\u001b[0;32m    364\u001b[0m     result_blocks \u001b[38;5;241m=\u001b[39m extend_blocks(applied, result_blocks)\n\u001b[0;32m    366\u001b[0m out \u001b[38;5;241m=\u001b[39m \u001b[38;5;28mtype\u001b[39m(\u001b[38;5;28mself\u001b[39m)\u001b[38;5;241m.\u001b[39mfrom_blocks(result_blocks, \u001b[38;5;28mself\u001b[39m\u001b[38;5;241m.\u001b[39maxes)\n",
      "File \u001b[1;32mc:\\Users\\dqthi\\anaconda3\\envs\\fresh_env\\lib\\site-packages\\pandas\\core\\internals\\blocks.py:758\u001b[0m, in \u001b[0;36mBlock.astype\u001b[1;34m(self, dtype, copy, errors, using_cow, squeeze)\u001b[0m\n\u001b[0;32m    755\u001b[0m         \u001b[38;5;28;01mraise\u001b[39;00m \u001b[38;5;167;01mValueError\u001b[39;00m(\u001b[38;5;124m\"\u001b[39m\u001b[38;5;124mCan not squeeze with more than one column.\u001b[39m\u001b[38;5;124m\"\u001b[39m)\n\u001b[0;32m    756\u001b[0m     values \u001b[38;5;241m=\u001b[39m values[\u001b[38;5;241m0\u001b[39m, :]  \u001b[38;5;66;03m# type: ignore[call-overload]\u001b[39;00m\n\u001b[1;32m--> 758\u001b[0m new_values \u001b[38;5;241m=\u001b[39m \u001b[43mastype_array_safe\u001b[49m\u001b[43m(\u001b[49m\u001b[43mvalues\u001b[49m\u001b[43m,\u001b[49m\u001b[43m \u001b[49m\u001b[43mdtype\u001b[49m\u001b[43m,\u001b[49m\u001b[43m \u001b[49m\u001b[43mcopy\u001b[49m\u001b[38;5;241;43m=\u001b[39;49m\u001b[43mcopy\u001b[49m\u001b[43m,\u001b[49m\u001b[43m \u001b[49m\u001b[43merrors\u001b[49m\u001b[38;5;241;43m=\u001b[39;49m\u001b[43merrors\u001b[49m\u001b[43m)\u001b[49m\n\u001b[0;32m    760\u001b[0m new_values \u001b[38;5;241m=\u001b[39m maybe_coerce_values(new_values)\n\u001b[0;32m    762\u001b[0m refs \u001b[38;5;241m=\u001b[39m \u001b[38;5;28;01mNone\u001b[39;00m\n",
      "File \u001b[1;32mc:\\Users\\dqthi\\anaconda3\\envs\\fresh_env\\lib\\site-packages\\pandas\\core\\dtypes\\astype.py:237\u001b[0m, in \u001b[0;36mastype_array_safe\u001b[1;34m(values, dtype, copy, errors)\u001b[0m\n\u001b[0;32m    234\u001b[0m     dtype \u001b[38;5;241m=\u001b[39m dtype\u001b[38;5;241m.\u001b[39mnumpy_dtype\n\u001b[0;32m    236\u001b[0m \u001b[38;5;28;01mtry\u001b[39;00m:\n\u001b[1;32m--> 237\u001b[0m     new_values \u001b[38;5;241m=\u001b[39m \u001b[43mastype_array\u001b[49m\u001b[43m(\u001b[49m\u001b[43mvalues\u001b[49m\u001b[43m,\u001b[49m\u001b[43m \u001b[49m\u001b[43mdtype\u001b[49m\u001b[43m,\u001b[49m\u001b[43m \u001b[49m\u001b[43mcopy\u001b[49m\u001b[38;5;241;43m=\u001b[39;49m\u001b[43mcopy\u001b[49m\u001b[43m)\u001b[49m\n\u001b[0;32m    238\u001b[0m \u001b[38;5;28;01mexcept\u001b[39;00m (\u001b[38;5;167;01mValueError\u001b[39;00m, \u001b[38;5;167;01mTypeError\u001b[39;00m):\n\u001b[0;32m    239\u001b[0m     \u001b[38;5;66;03m# e.g. _astype_nansafe can fail on object-dtype of strings\u001b[39;00m\n\u001b[0;32m    240\u001b[0m     \u001b[38;5;66;03m#  trying to convert to float\u001b[39;00m\n\u001b[0;32m    241\u001b[0m     \u001b[38;5;28;01mif\u001b[39;00m errors \u001b[38;5;241m==\u001b[39m \u001b[38;5;124m\"\u001b[39m\u001b[38;5;124mignore\u001b[39m\u001b[38;5;124m\"\u001b[39m:\n",
      "File \u001b[1;32mc:\\Users\\dqthi\\anaconda3\\envs\\fresh_env\\lib\\site-packages\\pandas\\core\\dtypes\\astype.py:182\u001b[0m, in \u001b[0;36mastype_array\u001b[1;34m(values, dtype, copy)\u001b[0m\n\u001b[0;32m    179\u001b[0m     values \u001b[38;5;241m=\u001b[39m values\u001b[38;5;241m.\u001b[39mastype(dtype, copy\u001b[38;5;241m=\u001b[39mcopy)\n\u001b[0;32m    181\u001b[0m \u001b[38;5;28;01melse\u001b[39;00m:\n\u001b[1;32m--> 182\u001b[0m     values \u001b[38;5;241m=\u001b[39m \u001b[43m_astype_nansafe\u001b[49m\u001b[43m(\u001b[49m\u001b[43mvalues\u001b[49m\u001b[43m,\u001b[49m\u001b[43m \u001b[49m\u001b[43mdtype\u001b[49m\u001b[43m,\u001b[49m\u001b[43m \u001b[49m\u001b[43mcopy\u001b[49m\u001b[38;5;241;43m=\u001b[39;49m\u001b[43mcopy\u001b[49m\u001b[43m)\u001b[49m\n\u001b[0;32m    184\u001b[0m \u001b[38;5;66;03m# in pandas we don't store numpy str dtypes, so convert to object\u001b[39;00m\n\u001b[0;32m    185\u001b[0m \u001b[38;5;28;01mif\u001b[39;00m \u001b[38;5;28misinstance\u001b[39m(dtype, np\u001b[38;5;241m.\u001b[39mdtype) \u001b[38;5;129;01mand\u001b[39;00m \u001b[38;5;28missubclass\u001b[39m(values\u001b[38;5;241m.\u001b[39mdtype\u001b[38;5;241m.\u001b[39mtype, \u001b[38;5;28mstr\u001b[39m):\n",
      "File \u001b[1;32mc:\\Users\\dqthi\\anaconda3\\envs\\fresh_env\\lib\\site-packages\\pandas\\core\\dtypes\\astype.py:133\u001b[0m, in \u001b[0;36m_astype_nansafe\u001b[1;34m(arr, dtype, copy, skipna)\u001b[0m\n\u001b[0;32m    129\u001b[0m     \u001b[38;5;28;01mraise\u001b[39;00m \u001b[38;5;167;01mValueError\u001b[39;00m(msg)\n\u001b[0;32m    131\u001b[0m \u001b[38;5;28;01mif\u001b[39;00m copy \u001b[38;5;129;01mor\u001b[39;00m arr\u001b[38;5;241m.\u001b[39mdtype \u001b[38;5;241m==\u001b[39m \u001b[38;5;28mobject\u001b[39m \u001b[38;5;129;01mor\u001b[39;00m dtype \u001b[38;5;241m==\u001b[39m \u001b[38;5;28mobject\u001b[39m:\n\u001b[0;32m    132\u001b[0m     \u001b[38;5;66;03m# Explicit copy, or required since NumPy can't view from / to object.\u001b[39;00m\n\u001b[1;32m--> 133\u001b[0m     \u001b[38;5;28;01mreturn\u001b[39;00m \u001b[43marr\u001b[49m\u001b[38;5;241;43m.\u001b[39;49m\u001b[43mastype\u001b[49m\u001b[43m(\u001b[49m\u001b[43mdtype\u001b[49m\u001b[43m,\u001b[49m\u001b[43m \u001b[49m\u001b[43mcopy\u001b[49m\u001b[38;5;241;43m=\u001b[39;49m\u001b[38;5;28;43;01mTrue\u001b[39;49;00m\u001b[43m)\u001b[49m\n\u001b[0;32m    135\u001b[0m \u001b[38;5;28;01mreturn\u001b[39;00m arr\u001b[38;5;241m.\u001b[39mastype(dtype, copy\u001b[38;5;241m=\u001b[39mcopy)\n",
      "\u001b[1;31mValueError\u001b[0m: could not convert string to float: ''"
     ]
    }
   ],
   "source": [
    "ex20_df['growth_in_float'] = ex20_df['growth_in_float'].astype(float) "
   ]
  },
  {
   "cell_type": "code",
   "execution_count": 110,
   "metadata": {},
   "outputs": [
    {
     "name": "stdout",
     "output_type": "stream",
     "text": [
      "                  city growth_from_2000_to_2013   latitude   longitude  \\\n",
      "299      Jurupa Valley                           33.997197 -117.485480   \n",
      "656      Weymouth Town                           42.218072  -70.941036   \n",
      "659           Eastvale                           33.952463 -117.584802   \n",
      "728         Brookhaven                           33.865103  -84.336592   \n",
      "783           Dunwoody                           33.946213  -84.334647   \n",
      "922  Peachtree Corners                           33.969893  -84.221455   \n",
      "\n",
      "     population  rank          state growth_in_float  \n",
      "299       98030   300     California                  \n",
      "656       55419   657  Massachusetts                  \n",
      "659       55191   660     California                  \n",
      "728       50603   729        Georgia                  \n",
      "783       47591   784        Georgia                  \n",
      "922       40059   923        Georgia                  \n"
     ]
    }
   ],
   "source": [
    "print(ex20_df[ex20_df['growth_from_2000_to_2013'] == ''])"
   ]
  },
  {
   "cell_type": "code",
   "execution_count": 112,
   "metadata": {},
   "outputs": [
    {
     "data": {
      "text/plain": [
       "city                        0\n",
       "growth_from_2000_to_2013    0\n",
       "latitude                    0\n",
       "longitude                   0\n",
       "population                  0\n",
       "rank                        0\n",
       "state                       0\n",
       "growth_in_float             0\n",
       "dtype: int64"
      ]
     },
     "execution_count": 112,
     "metadata": {},
     "output_type": "execute_result"
    }
   ],
   "source": [
    "ex20_df.isna().sum()"
   ]
  },
  {
   "cell_type": "code",
   "execution_count": 117,
   "metadata": {},
   "outputs": [],
   "source": [
    "to_drop_row = ex20_df[ex20_df['growth_from_2000_to_2013'] =='']"
   ]
  },
  {
   "cell_type": "code",
   "execution_count": 119,
   "metadata": {},
   "outputs": [
    {
     "data": {
      "text/html": [
       "<div>\n",
       "<style scoped>\n",
       "    .dataframe tbody tr th:only-of-type {\n",
       "        vertical-align: middle;\n",
       "    }\n",
       "\n",
       "    .dataframe tbody tr th {\n",
       "        vertical-align: top;\n",
       "    }\n",
       "\n",
       "    .dataframe thead th {\n",
       "        text-align: right;\n",
       "    }\n",
       "</style>\n",
       "<table border=\"1\" class=\"dataframe\">\n",
       "  <thead>\n",
       "    <tr style=\"text-align: right;\">\n",
       "      <th></th>\n",
       "      <th>city</th>\n",
       "      <th>growth_from_2000_to_2013</th>\n",
       "      <th>latitude</th>\n",
       "      <th>longitude</th>\n",
       "      <th>population</th>\n",
       "      <th>rank</th>\n",
       "      <th>state</th>\n",
       "      <th>growth_in_float</th>\n",
       "    </tr>\n",
       "  </thead>\n",
       "  <tbody>\n",
       "    <tr>\n",
       "      <th>299</th>\n",
       "      <td>Jurupa Valley</td>\n",
       "      <td></td>\n",
       "      <td>33.997197</td>\n",
       "      <td>-117.485480</td>\n",
       "      <td>98030</td>\n",
       "      <td>300</td>\n",
       "      <td>California</td>\n",
       "      <td></td>\n",
       "    </tr>\n",
       "    <tr>\n",
       "      <th>656</th>\n",
       "      <td>Weymouth Town</td>\n",
       "      <td></td>\n",
       "      <td>42.218072</td>\n",
       "      <td>-70.941036</td>\n",
       "      <td>55419</td>\n",
       "      <td>657</td>\n",
       "      <td>Massachusetts</td>\n",
       "      <td></td>\n",
       "    </tr>\n",
       "    <tr>\n",
       "      <th>659</th>\n",
       "      <td>Eastvale</td>\n",
       "      <td></td>\n",
       "      <td>33.952463</td>\n",
       "      <td>-117.584802</td>\n",
       "      <td>55191</td>\n",
       "      <td>660</td>\n",
       "      <td>California</td>\n",
       "      <td></td>\n",
       "    </tr>\n",
       "    <tr>\n",
       "      <th>728</th>\n",
       "      <td>Brookhaven</td>\n",
       "      <td></td>\n",
       "      <td>33.865103</td>\n",
       "      <td>-84.336592</td>\n",
       "      <td>50603</td>\n",
       "      <td>729</td>\n",
       "      <td>Georgia</td>\n",
       "      <td></td>\n",
       "    </tr>\n",
       "    <tr>\n",
       "      <th>783</th>\n",
       "      <td>Dunwoody</td>\n",
       "      <td></td>\n",
       "      <td>33.946213</td>\n",
       "      <td>-84.334647</td>\n",
       "      <td>47591</td>\n",
       "      <td>784</td>\n",
       "      <td>Georgia</td>\n",
       "      <td></td>\n",
       "    </tr>\n",
       "    <tr>\n",
       "      <th>922</th>\n",
       "      <td>Peachtree Corners</td>\n",
       "      <td></td>\n",
       "      <td>33.969893</td>\n",
       "      <td>-84.221455</td>\n",
       "      <td>40059</td>\n",
       "      <td>923</td>\n",
       "      <td>Georgia</td>\n",
       "      <td></td>\n",
       "    </tr>\n",
       "  </tbody>\n",
       "</table>\n",
       "</div>"
      ],
      "text/plain": [
       "                  city growth_from_2000_to_2013   latitude   longitude  \\\n",
       "299      Jurupa Valley                           33.997197 -117.485480   \n",
       "656      Weymouth Town                           42.218072  -70.941036   \n",
       "659           Eastvale                           33.952463 -117.584802   \n",
       "728         Brookhaven                           33.865103  -84.336592   \n",
       "783           Dunwoody                           33.946213  -84.334647   \n",
       "922  Peachtree Corners                           33.969893  -84.221455   \n",
       "\n",
       "     population  rank          state growth_in_float  \n",
       "299       98030   300     California                  \n",
       "656       55419   657  Massachusetts                  \n",
       "659       55191   660     California                  \n",
       "728       50603   729        Georgia                  \n",
       "783       47591   784        Georgia                  \n",
       "922       40059   923        Georgia                  "
      ]
     },
     "execution_count": 119,
     "metadata": {},
     "output_type": "execute_result"
    }
   ],
   "source": [
    "to_drop_row"
   ]
  },
  {
   "cell_type": "code",
   "execution_count": 132,
   "metadata": {},
   "outputs": [],
   "source": [
    "ex20b_df = ex20_df.drop(index=[299, 656, 659, 728, 783, 922])"
   ]
  },
  {
   "cell_type": "code",
   "execution_count": 133,
   "metadata": {},
   "outputs": [],
   "source": [
    "ex20b_df = ex20b_df['growth_in_float'].astype(np.float16)"
   ]
  },
  {
   "cell_type": "code",
   "execution_count": 134,
   "metadata": {},
   "outputs": [
    {
     "data": {
      "text/plain": [
       "0       4.800781\n",
       "1       4.800781\n",
       "2      -6.101562\n",
       "3      11.000000\n",
       "4       2.599609\n",
       "         ...    \n",
       "995    28.796875\n",
       "996    14.398438\n",
       "997    78.125000\n",
       "998     2.900391\n",
       "999     0.099976\n",
       "Name: growth_in_float, Length: 994, dtype: float16"
      ]
     },
     "execution_count": 134,
     "metadata": {},
     "output_type": "execute_result"
    }
   ],
   "source": [
    "ex20b_df"
   ]
  },
  {
   "cell_type": "code",
   "execution_count": 140,
   "metadata": {},
   "outputs": [],
   "source": [
    "ex20_df[ex20_df['growth_from_2000_to_2013'] == ''] = 0"
   ]
  },
  {
   "cell_type": "code",
   "execution_count": 146,
   "metadata": {},
   "outputs": [],
   "source": [
    "ex20_df['growth_in_float'] = ex20_df['growth_in_float'].astype(float)"
   ]
  },
  {
   "cell_type": "code",
   "execution_count": 147,
   "metadata": {},
   "outputs": [
    {
     "name": "stdout",
     "output_type": "stream",
     "text": [
      "<class 'pandas.core.frame.DataFrame'>\n",
      "RangeIndex: 1000 entries, 0 to 999\n",
      "Data columns (total 8 columns):\n",
      " #   Column                    Non-Null Count  Dtype  \n",
      "---  ------                    --------------  -----  \n",
      " 0   city                      1000 non-null   object \n",
      " 1   growth_from_2000_to_2013  1000 non-null   object \n",
      " 2   latitude                  1000 non-null   float64\n",
      " 3   longitude                 1000 non-null   float64\n",
      " 4   population                1000 non-null   int64  \n",
      " 5   rank                      1000 non-null   int64  \n",
      " 6   state                     1000 non-null   object \n",
      " 7   growth_in_float           1000 non-null   float64\n",
      "dtypes: float64(3), int64(2), object(3)\n",
      "memory usage: 62.6+ KB\n"
     ]
    }
   ],
   "source": [
    "ex20_df.info()"
   ]
  },
  {
   "cell_type": "code",
   "execution_count": 148,
   "metadata": {},
   "outputs": [
    {
     "data": {
      "text/plain": [
       "count    1000.000000\n",
       "mean       22.936000\n",
       "std        86.662216\n",
       "min       -27.100000\n",
       "25%         2.800000\n",
       "50%         9.650000\n",
       "75%        24.525000\n",
       "max      2503.400000\n",
       "Name: growth_in_float, dtype: float64"
      ]
     },
     "execution_count": 148,
     "metadata": {},
     "output_type": "execute_result"
    }
   ],
   "source": [
    "ex20_df['growth_in_float'].describe()"
   ]
  },
  {
   "cell_type": "code",
   "execution_count": 154,
   "metadata": {},
   "outputs": [
    {
     "data": {
      "text/plain": [
       "847"
      ]
     },
     "execution_count": 154,
     "metadata": {},
     "output_type": "execute_result"
    }
   ],
   "source": [
    "ex20_df.loc[ex20_df['growth_in_float'] > 0, 'city'].count()"
   ]
  },
  {
   "cell_type": "code",
   "execution_count": 153,
   "metadata": {},
   "outputs": [
    {
     "data": {
      "text/plain": [
       "142"
      ]
     },
     "execution_count": 153,
     "metadata": {},
     "output_type": "execute_result"
    }
   ],
   "source": [
    "ex20_df.loc[ex20_df['growth_in_float'] < 0, 'city'].count()"
   ]
  },
  {
   "cell_type": "code",
   "execution_count": null,
   "metadata": {},
   "outputs": [],
   "source": [
    "\n"
   ]
  }
 ],
 "metadata": {
  "kernelspec": {
   "display_name": "fresh_env",
   "language": "python",
   "name": "python3"
  },
  "language_info": {
   "codemirror_mode": {
    "name": "ipython",
    "version": 3
   },
   "file_extension": ".py",
   "mimetype": "text/x-python",
   "name": "python",
   "nbconvert_exporter": "python",
   "pygments_lexer": "ipython3",
   "version": "3.10.15"
  }
 },
 "nbformat": 4,
 "nbformat_minor": 2
}
