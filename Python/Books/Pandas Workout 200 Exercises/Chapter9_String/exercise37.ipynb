{
 "cells": [
  {
   "cell_type": "code",
   "execution_count": 1,
   "metadata": {},
   "outputs": [],
   "source": [
    "import pandas as pd\n",
    "import numpy as np"
   ]
  },
  {
   "cell_type": "code",
   "execution_count": 2,
   "metadata": {},
   "outputs": [],
   "source": [
    "filepath = r\"C:\\Users\\dqthi\\Downloads\\pandas-workout-data\\data\\winemag-150k-reviews.csv\"\n",
    "\n",
    "df = pd.read_csv(filepath, usecols=['country', 'province', 'description', 'variety'])"
   ]
  },
  {
   "cell_type": "code",
   "execution_count": 5,
   "metadata": {},
   "outputs": [
    {
     "name": "stdout",
     "output_type": "stream",
     "text": [
      "<class 'pandas.core.frame.DataFrame'>\n",
      "RangeIndex: 150930 entries, 0 to 150929\n",
      "Data columns (total 4 columns):\n",
      " #   Column       Non-Null Count   Dtype \n",
      "---  ------       --------------   ----- \n",
      " 0   country      150925 non-null  object\n",
      " 1   description  150930 non-null  object\n",
      " 2   province     150925 non-null  object\n",
      " 3   variety      150930 non-null  object\n",
      "dtypes: object(4)\n",
      "memory usage: 4.6+ MB\n"
     ]
    }
   ],
   "source": [
    "df.info()"
   ]
  },
  {
   "cell_type": "code",
   "execution_count": 6,
   "metadata": {},
   "outputs": [
    {
     "data": {
      "text/html": [
       "<div>\n",
       "<style scoped>\n",
       "    .dataframe tbody tr th:only-of-type {\n",
       "        vertical-align: middle;\n",
       "    }\n",
       "\n",
       "    .dataframe tbody tr th {\n",
       "        vertical-align: top;\n",
       "    }\n",
       "\n",
       "    .dataframe thead th {\n",
       "        text-align: right;\n",
       "    }\n",
       "</style>\n",
       "<table border=\"1\" class=\"dataframe\">\n",
       "  <thead>\n",
       "    <tr style=\"text-align: right;\">\n",
       "      <th></th>\n",
       "      <th>country</th>\n",
       "      <th>description</th>\n",
       "      <th>province</th>\n",
       "      <th>variety</th>\n",
       "    </tr>\n",
       "  </thead>\n",
       "  <tbody>\n",
       "    <tr>\n",
       "      <th>0</th>\n",
       "      <td>US</td>\n",
       "      <td>This tremendous 100% varietal wine hails from ...</td>\n",
       "      <td>California</td>\n",
       "      <td>Cabernet Sauvignon</td>\n",
       "    </tr>\n",
       "    <tr>\n",
       "      <th>1</th>\n",
       "      <td>Spain</td>\n",
       "      <td>Ripe aromas of fig, blackberry and cassis are ...</td>\n",
       "      <td>Northern Spain</td>\n",
       "      <td>Tinta de Toro</td>\n",
       "    </tr>\n",
       "    <tr>\n",
       "      <th>2</th>\n",
       "      <td>US</td>\n",
       "      <td>Mac Watson honors the memory of a wine once ma...</td>\n",
       "      <td>California</td>\n",
       "      <td>Sauvignon Blanc</td>\n",
       "    </tr>\n",
       "    <tr>\n",
       "      <th>3</th>\n",
       "      <td>US</td>\n",
       "      <td>This spent 20 months in 30% new French oak, an...</td>\n",
       "      <td>Oregon</td>\n",
       "      <td>Pinot Noir</td>\n",
       "    </tr>\n",
       "    <tr>\n",
       "      <th>4</th>\n",
       "      <td>France</td>\n",
       "      <td>This is the top wine from La Bégude, named aft...</td>\n",
       "      <td>Provence</td>\n",
       "      <td>Provence red blend</td>\n",
       "    </tr>\n",
       "  </tbody>\n",
       "</table>\n",
       "</div>"
      ],
      "text/plain": [
       "  country                                        description        province  \\\n",
       "0      US  This tremendous 100% varietal wine hails from ...      California   \n",
       "1   Spain  Ripe aromas of fig, blackberry and cassis are ...  Northern Spain   \n",
       "2      US  Mac Watson honors the memory of a wine once ma...      California   \n",
       "3      US  This spent 20 months in 30% new French oak, an...          Oregon   \n",
       "4  France  This is the top wine from La Bégude, named aft...        Provence   \n",
       "\n",
       "              variety  \n",
       "0  Cabernet Sauvignon  \n",
       "1       Tinta de Toro  \n",
       "2     Sauvignon Blanc  \n",
       "3          Pinot Noir  \n",
       "4  Provence red blend  "
      ]
     },
     "execution_count": 6,
     "metadata": {},
     "output_type": "execute_result"
    }
   ],
   "source": [
    "df.head(5)"
   ]
  },
  {
   "cell_type": "markdown",
   "metadata": {},
   "source": [
    "# What are the 10 most common words containing five or more letters in the wine descriptions? Turn all words into lowercase and remove all punctuation and symbols at the start or end of each word for easier comparison. Also remove the words flavors, aromas, finish, palate, and drink."
   ]
  },
  {
   "cell_type": "code",
   "execution_count": 7,
   "metadata": {},
   "outputs": [
    {
     "ename": "NameError",
     "evalue": "name 's' is not defined",
     "output_type": "error",
     "traceback": [
      "\u001b[1;31m---------------------------------------------------------------------------\u001b[0m",
      "\u001b[1;31mNameError\u001b[0m                                 Traceback (most recent call last)",
      "Cell \u001b[1;32mIn[7], line 2\u001b[0m\n\u001b[0;32m      1\u001b[0m words \u001b[38;5;241m=\u001b[39m (\n\u001b[1;32m----> 2\u001b[0m    \u001b[43ms\u001b[49m\n\u001b[0;32m      3\u001b[0m    \u001b[38;5;241m.\u001b[39mstr\n\u001b[0;32m      4\u001b[0m    \u001b[38;5;241m.\u001b[39mlower() \n\u001b[0;32m      5\u001b[0m )\n",
      "\u001b[1;31mNameError\u001b[0m: name 's' is not defined"
     ]
    }
   ],
   "source": [
    "words = (\n",
    "   s\n",
    "   .str\n",
    "   .lower()\n",
    "   .str\n",
    "   .split()\n",
    "   .explode()\n",
    "   .str\n",
    "   .strip(',$.?!$%')\n",
    ")"
   ]
  },
  {
   "cell_type": "code",
   "execution_count": 8,
   "metadata": {},
   "outputs": [
    {
     "ename": "NameError",
     "evalue": "name 'words' is not defined",
     "output_type": "error",
     "traceback": [
      "\u001b[1;31m---------------------------------------------------------------------------\u001b[0m",
      "\u001b[1;31mNameError\u001b[0m                                 Traceback (most recent call last)",
      "Cell \u001b[1;32mIn[8], line 2\u001b[0m\n\u001b[0;32m      1\u001b[0m common_wine_words \u001b[38;5;241m=\u001b[39m [\u001b[38;5;124m'\u001b[39m\u001b[38;5;124mflavors\u001b[39m\u001b[38;5;124m'\u001b[39m, \u001b[38;5;124m'\u001b[39m\u001b[38;5;124maromas\u001b[39m\u001b[38;5;124m'\u001b[39m, \u001b[38;5;124m'\u001b[39m\u001b[38;5;124mfinish\u001b[39m\u001b[38;5;124m'\u001b[39m, \u001b[38;5;124m'\u001b[39m\u001b[38;5;124mdrink\u001b[39m\u001b[38;5;124m'\u001b[39m, \u001b[38;5;124m'\u001b[39m\u001b[38;5;124mpalate\u001b[39m\u001b[38;5;124m'\u001b[39m]\n\u001b[1;32m----> 2\u001b[0m \u001b[38;5;241m~\u001b[39m\u001b[43mwords\u001b[49m\u001b[38;5;241m.\u001b[39misin(common_wine_words)\n",
      "\u001b[1;31mNameError\u001b[0m: name 'words' is not defined"
     ]
    }
   ],
   "source": [
    "common_wine_words = ['flavors', 'aromas', 'finish', 'drink', 'palate']\n",
    "~words.isin(common_wine_words)"
   ]
  },
  {
   "cell_type": "code",
   "execution_count": null,
   "metadata": {},
   "outputs": [],
   "source": [
    "(\n",
    "    words\n",
    "    .loc[(words.str.len()>=5) &\n",
    "         (~words.isin(common_wine_words))]\n",
    ")"
   ]
  },
  {
   "cell_type": "code",
   "execution_count": 9,
   "metadata": {},
   "outputs": [],
   "source": [
    "def top_10_words(s):\n",
    "    common_wine_words = ['flavors', 'aromas',\n",
    "            'finish', 'drink', 'palate']\n",
    "\n",
    "    words = s.str.lower().str.split(\n",
    "        ).explode().str.strip(',$.?!$%')\n",
    "\n",
    "    return (\n",
    "        words\n",
    "        .loc[(words.str.len()>=5) &\n",
    "             (~words.isin(common_wine_words))]\n",
    "        .value_counts()\n",
    "        .head(10)\n",
    "    )"
   ]
  },
  {
   "cell_type": "code",
   "execution_count": 10,
   "metadata": {},
   "outputs": [
    {
     "data": {
      "text/plain": [
       "description\n",
       "fruit      56327\n",
       "acidity    32536\n",
       "tannins    32098\n",
       "cherry     30639\n",
       "black      24568\n",
       "spice      22601\n",
       "sweet      21243\n",
       "notes      19581\n",
       "fresh      17641\n",
       "berry      17083\n",
       "Name: count, dtype: int64"
      ]
     },
     "execution_count": 10,
     "metadata": {},
     "output_type": "execute_result"
    }
   ],
   "source": [
    "top_10_words(df['description'])"
   ]
  },
  {
   "cell_type": "code",
   "execution_count": 11,
   "metadata": {},
   "outputs": [
    {
     "data": {
      "text/plain": [
       "4         This is the top wine from La Bégude, named aft...\n",
       "13        This wine is in peak condition. The tannins an...\n",
       "18        Coming from a seven-acre vineyard named after ...\n",
       "33        Pale in color, this is nutty in character, wit...\n",
       "36        Gingery spice notes accent fresh pear and melo...\n",
       "                                ...                        \n",
       "150921    Shows some older notes: a bouquet of toasted w...\n",
       "150923    Rich and toasty, with tiny bubbles. The bouque...\n",
       "150924    Really fine for a low-acid vintage, there's an...\n",
       "150926    Offers an intriguing nose with ginger, lime an...\n",
       "150928    A perfect salmon shade, with scents of peaches...\n",
       "Name: description, Length: 21098, dtype: object"
      ]
     },
     "execution_count": 11,
     "metadata": {},
     "output_type": "execute_result"
    }
   ],
   "source": [
    "df.loc[df['country'] == 'France', 'description']"
   ]
  },
  {
   "cell_type": "code",
   "execution_count": 12,
   "metadata": {},
   "outputs": [
    {
     "data": {
      "text/plain": [
       "description\n",
       "fruit        8688\n",
       "acidity      8632\n",
       "tannins      6491\n",
       "fruits       5449\n",
       "fresh        4213\n",
       "character    3494\n",
       "black        3119\n",
       "texture      3069\n",
       "years        2880\n",
       "crisp        2875\n",
       "Name: count, dtype: int64"
      ]
     },
     "execution_count": 12,
     "metadata": {},
     "output_type": "execute_result"
    }
   ],
   "source": [
    "top_10_words(\n",
    "    df\n",
    "    .loc[df['country'] == 'France',\n",
    "         'description']\n",
    "         )"
   ]
  },
  {
   "cell_type": "code",
   "execution_count": null,
   "metadata": {},
   "outputs": [
    {
     "data": {
      "text/plain": [
       "description\n",
       "fruit         9133\n",
       "acidity       8346\n",
       "apple         5879\n",
       "citrus        5368\n",
       "crisp         4903\n",
       "chardonnay    4871\n",
       "green         4177\n",
       "notes         4021\n",
       "sweet         3850\n",
       "pineapple     3847\n",
       "Name: count, dtype: int64"
      ]
     },
     "execution_count": 16,
     "metadata": {},
     "output_type": "execute_result"
    }
   ],
   "source": [
    "top_10_words(\n",
    "    df.loc[df['variety']\n",
    "           .isin(['Chardonnay',\n",
    "                  'Sauvignon Blanc',\n",
    "                  'Riesling']),\n",
    "           'description'])"
   ]
  },
  {
   "cell_type": "code",
   "execution_count": 14,
   "metadata": {},
   "outputs": [
    {
     "data": {
      "text/plain": [
       "description\n",
       "fruit         15011\n",
       "cherry        14024\n",
       "tannins       13138\n",
       "black          9535\n",
       "blackberry     6764\n",
       "acidity        6338\n",
       "pinot          6326\n",
       "sweet          5982\n",
       "cherries       5370\n",
       "shows          5337\n",
       "Name: count, dtype: int64"
      ]
     },
     "execution_count": 14,
     "metadata": {},
     "output_type": "execute_result"
    }
   ],
   "source": [
    "top_10_words(\n",
    "    df.loc[df['variety']\n",
    "           .isin(['Pinot Noir',\n",
    "                  'Cabernet Sauvignon',\n",
    "                  'Syrah', 'Merlot',\n",
    "                  'Zinfandel']),\n",
    "          'description'])"
   ]
  },
  {
   "cell_type": "code",
   "execution_count": 15,
   "metadata": {},
   "outputs": [
    {
     "data": {
      "text/plain": [
       "description\n",
       "acidity       1135\n",
       "fruit          696\n",
       "crisp          669\n",
       "fresh          622\n",
       "strawberry     534\n",
       "light          514\n",
       "raspberry      509\n",
       "cherry         469\n",
       "fruity         428\n",
       "fruits         419\n",
       "Name: count, dtype: int64"
      ]
     },
     "execution_count": 15,
     "metadata": {},
     "output_type": "execute_result"
    }
   ],
   "source": [
    "top_10_words(\n",
    "    df.loc[df['variety'] == 'Rosé',\n",
    "           'description'])"
   ]
  },
  {
   "cell_type": "code",
   "execution_count": 17,
   "metadata": {},
   "outputs": [
    {
     "data": {
      "text/plain": [
       "Index(['Chardonnay', 'Pinot Noir', 'Cabernet Sauvignon', 'Red Blend',\n",
       "       'Bordeaux-style Red Blend'],\n",
       "      dtype='object', name='variety')"
      ]
     },
     "execution_count": 17,
     "metadata": {},
     "output_type": "execute_result"
    }
   ],
   "source": [
    "(\n",
    "    df['variety']\n",
    "    .value_counts()\n",
    "    .head(5)\n",
    "    .index\n",
    ")"
   ]
  },
  {
   "cell_type": "code",
   "execution_count": 18,
   "metadata": {},
   "outputs": [
    {
     "data": {
      "text/plain": [
       "description\n",
       "fruit       22784\n",
       "tannins     15968\n",
       "cherry      13974\n",
       "acidity     12496\n",
       "black       11219\n",
       "cabernet     9433\n",
       "spice        7890\n",
       "sweet        7873\n",
       "blend        7563\n",
       "shows        7264\n",
       "Name: count, dtype: int64"
      ]
     },
     "execution_count": 18,
     "metadata": {},
     "output_type": "execute_result"
    }
   ],
   "source": [
    "top_10_words(\n",
    "    df\n",
    "    .loc[df['variety']\n",
    "         .isin(df['variety']\n",
    "               .value_counts()\n",
    "               .head(5)\n",
    "               .index),\n",
    "    'description']\n",
    ")"
   ]
  },
  {
   "cell_type": "code",
   "execution_count": null,
   "metadata": {},
   "outputs": [],
   "source": []
  }
 ],
 "metadata": {
  "kernelspec": {
   "display_name": "fresh_env",
   "language": "python",
   "name": "python3"
  },
  "language_info": {
   "codemirror_mode": {
    "name": "ipython",
    "version": 3
   },
   "file_extension": ".py",
   "mimetype": "text/x-python",
   "name": "python",
   "nbconvert_exporter": "python",
   "pygments_lexer": "ipython3",
   "version": "3.10.15"
  }
 },
 "nbformat": 4,
 "nbformat_minor": 2
}
