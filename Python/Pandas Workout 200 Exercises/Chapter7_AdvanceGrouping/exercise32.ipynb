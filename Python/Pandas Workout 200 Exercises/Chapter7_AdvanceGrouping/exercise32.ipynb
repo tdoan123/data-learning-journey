{
 "cells": [
  {
   "cell_type": "code",
   "execution_count": 5,
   "metadata": {},
   "outputs": [],
   "source": [
    "import pandas as pd\n",
    "from pandas import DataFrame\n",
    "import glob\n",
    "from pathlib import Path"
   ]
  },
  {
   "cell_type": "markdown",
   "metadata": {},
   "source": [
    "Take the eight CSV files I’ve provided, containing weather data from eight different cities (spanning four states), and turn them into a data frame. The files are san+francisco,ca.csv, new+york,ny.csv, springfield,ma.csv, boston,ma.csv, springfield,il.csv, albany,ny.csv, los+angeles,ca.csv, and chicago,il.csv."
   ]
  },
  {
   "cell_type": "markdown",
   "metadata": {},
   "source": [
    "We are only interested in the first three columns from each CSV file: the date and time, the max temperature, and the min temperature."
   ]
  },
  {
   "cell_type": "markdown",
   "metadata": {},
   "source": [
    "Add city and state columns that contain the city and state from the filename and allow us to distinguish between rows.\n"
   ]
  },
  {
   "cell_type": "code",
   "execution_count": 6,
   "metadata": {},
   "outputs": [],
   "source": [
    "all_dfs = []\n",
    "\n",
    "glob_path = Path(r\"C:\\Users\\dqthi\\Downloads\\pandas-workout-data\\data\\ex31\")\n",
    "files = glob.glob(str(glob_path) + '.csv')\n",
    "\n",
    "# print(files)\n",
    "\n",
    "for one_filename in files :\n",
    "    # print(f'Loading {one_filename}...')\n",
    "    city, state = (\n",
    "        one_filename\n",
    "        .removeprefix('../data/')\n",
    "        .removesuffix('.csv')\n",
    "        .split(',')\n",
    "    )\n",
    "\n",
    "    print (city)\n",
    "    print (state)\n",
    "\n",
    "    # one_df = (\n",
    "    #     pd\n",
    "    #     .read_csv(one_filename,\n",
    "    #               usecols=[0, 1, 2],\n",
    "    #               names=['date_time', 'max_temp',\n",
    "    #                      'min_temp'],\n",
    "    #               header=0)\n",
    "    #     .assign(city=city.replace('+', ' ').title(),\n",
    "    #             state=state.upper())\n",
    "    # )\n",
    "\n",
    "    # all_dfs.append(one_df)"
   ]
  },
  {
   "cell_type": "code",
   "execution_count": 7,
   "metadata": {},
   "outputs": [],
   "source": [
    "import os"
   ]
  },
  {
   "cell_type": "code",
   "execution_count": 8,
   "metadata": {},
   "outputs": [
    {
     "ename": "NameError",
     "evalue": "name 'one_filename' is not defined",
     "output_type": "error",
     "traceback": [
      "\u001b[1;31m---------------------------------------------------------------------------\u001b[0m",
      "\u001b[1;31mNameError\u001b[0m                                 Traceback (most recent call last)",
      "Cell \u001b[1;32mIn[8], line 6\u001b[0m\n\u001b[0;32m      2\u001b[0m files \u001b[38;5;241m=\u001b[39m os\u001b[38;5;241m.\u001b[39mlistdir(folder_path)\n\u001b[0;32m      4\u001b[0m \u001b[38;5;28;01mfor\u001b[39;00m one_file \u001b[38;5;129;01min\u001b[39;00m files:\n\u001b[0;32m      5\u001b[0m     city, state \u001b[38;5;241m=\u001b[39m (\n\u001b[1;32m----> 6\u001b[0m         \u001b[43mone_filename\u001b[49m\n\u001b[0;32m      7\u001b[0m         \u001b[38;5;241m.\u001b[39mremoveprefix(\u001b[38;5;124m'\u001b[39m\u001b[38;5;124m../data/\u001b[39m\u001b[38;5;124m'\u001b[39m)\n\u001b[0;32m      8\u001b[0m         \u001b[38;5;241m.\u001b[39mremovesuffix(\u001b[38;5;124m'\u001b[39m\u001b[38;5;124m.csv\u001b[39m\u001b[38;5;124m'\u001b[39m)\n\u001b[0;32m      9\u001b[0m         \u001b[38;5;241m.\u001b[39msplit(\u001b[38;5;124m'\u001b[39m\u001b[38;5;124m,\u001b[39m\u001b[38;5;124m'\u001b[39m)\n\u001b[0;32m     10\u001b[0m     )\n\u001b[0;32m     11\u001b[0m     \u001b[38;5;28mprint\u001b[39m (city)\n\u001b[0;32m     12\u001b[0m     \u001b[38;5;28mprint\u001b[39m (state)\n",
      "\u001b[1;31mNameError\u001b[0m: name 'one_filename' is not defined"
     ]
    }
   ],
   "source": [
    "folder_path = r\"C:\\Users\\dqthi\\Downloads\\pandas-workout-data\\data\\ex31\"\n",
    "files = os.listdir(folder_path)\n",
    "\n",
    "for one_file in files:\n",
    "    city, state = (\n",
    "        one_filename\n",
    "        .removeprefix('../data/')\n",
    "        .removesuffix('.csv')\n",
    "        .split(',')\n",
    "    )\n",
    "    print (city)\n",
    "    print (state)"
   ]
  },
  {
   "cell_type": "code",
   "execution_count": 9,
   "metadata": {},
   "outputs": [
    {
     "name": "stdout",
     "output_type": "stream",
     "text": [
      "Processed albany, ny\n",
      "Processed boston, ma\n",
      "Processed chicago, il\n",
      "Processed los+angeles, ca\n",
      "Processed new+york, ny\n",
      "Processed san+francisco, ca\n",
      "Processed springfield, il\n",
      "Processed springfield, ma\n",
      "\n",
      "Final dataframe shape: (5824, 5)\n",
      "\n",
      "First few rows:\n",
      "             date_time  max_temp  min_temp    city state\n",
      "0  2018-12-11 00:00:00        -2        -8  Albany    NY\n",
      "1  2018-12-11 03:00:00        -2        -8  Albany    NY\n",
      "2  2018-12-11 06:00:00        -2        -8  Albany    NY\n",
      "3  2018-12-11 09:00:00        -2        -8  Albany    NY\n",
      "4  2018-12-11 12:00:00        -2        -8  Albany    NY\n"
     ]
    }
   ],
   "source": [
    "import os\n",
    "import pandas as pd\n",
    "\n",
    "folder_path = r\"C:\\Users\\dqthi\\Downloads\\pandas-workout-data\\data\\ex31\"\n",
    "files = os.listdir(folder_path)\n",
    "\n",
    "# Initialize list to store all dataframes\n",
    "all_dfs = []\n",
    "\n",
    "# Process each file\n",
    "for one_file in files:\n",
    "    if one_file.endswith('.csv'):\n",
    "        # Create full file path\n",
    "        full_file_path = os.path.join(folder_path, one_file)\n",
    "        \n",
    "        # Get city and state from filename\n",
    "        name_part = one_file.removesuffix('.csv')\n",
    "        if ',' in name_part:\n",
    "            city, state = name_part.split(',')\n",
    "            \n",
    "            # Read the CSV file\n",
    "            one_df = (\n",
    "                pd.read_csv(\n",
    "                    full_file_path,\n",
    "                    usecols=[0, 1, 2],\n",
    "                    names=['date_time', 'max_temp', 'min_temp'],\n",
    "                    header=0\n",
    "                )\n",
    "                .assign(\n",
    "                    city=city.replace('+', ' ').title(),\n",
    "                    state=state.upper()\n",
    "                )\n",
    "            )\n",
    "            \n",
    "            all_dfs.append(one_df)\n",
    "            print(f\"Processed {city}, {state}\")\n",
    "        else:\n",
    "            print(f\"Warning: Skipping file with invalid name format: {one_file}\")\n",
    "\n",
    "# Combine all dataframes\n",
    "if all_dfs:\n",
    "    final_df = pd.concat(all_dfs, ignore_index=True)\n",
    "    print(\"\\nFinal dataframe shape:\", final_df.shape)\n",
    "    print(\"\\nFirst few rows:\")\n",
    "    print(final_df.head())\n",
    "else:\n",
    "    print(\"No valid files were processed\")"
   ]
  },
  {
   "cell_type": "code",
   "execution_count": 10,
   "metadata": {},
   "outputs": [
    {
     "name": "stdout",
     "output_type": "stream",
     "text": [
      "C:\\Users\\dqthi\\Downloads\\pandas-workout-data\\data\\ex31\n",
      "albany,ny.csv\n",
      "C:\\Users\\dqthi\\Downloads\\pandas-workout-data\\data\\ex31\\albany,ny.csv\n",
      "C:\\Users\\dqthi\\Downloads\\pandas-workout-data\\data\\ex31\n",
      "boston,ma.csv\n",
      "C:\\Users\\dqthi\\Downloads\\pandas-workout-data\\data\\ex31\\boston,ma.csv\n",
      "C:\\Users\\dqthi\\Downloads\\pandas-workout-data\\data\\ex31\n",
      "chicago,il.csv\n",
      "C:\\Users\\dqthi\\Downloads\\pandas-workout-data\\data\\ex31\\chicago,il.csv\n",
      "C:\\Users\\dqthi\\Downloads\\pandas-workout-data\\data\\ex31\n",
      "los+angeles,ca.csv\n",
      "C:\\Users\\dqthi\\Downloads\\pandas-workout-data\\data\\ex31\\los+angeles,ca.csv\n",
      "C:\\Users\\dqthi\\Downloads\\pandas-workout-data\\data\\ex31\n",
      "new+york,ny.csv\n",
      "C:\\Users\\dqthi\\Downloads\\pandas-workout-data\\data\\ex31\\new+york,ny.csv\n",
      "C:\\Users\\dqthi\\Downloads\\pandas-workout-data\\data\\ex31\n",
      "san+francisco,ca.csv\n",
      "C:\\Users\\dqthi\\Downloads\\pandas-workout-data\\data\\ex31\\san+francisco,ca.csv\n",
      "C:\\Users\\dqthi\\Downloads\\pandas-workout-data\\data\\ex31\n",
      "springfield,il.csv\n",
      "C:\\Users\\dqthi\\Downloads\\pandas-workout-data\\data\\ex31\\springfield,il.csv\n",
      "C:\\Users\\dqthi\\Downloads\\pandas-workout-data\\data\\ex31\n",
      "springfield,ma.csv\n",
      "C:\\Users\\dqthi\\Downloads\\pandas-workout-data\\data\\ex31\\springfield,ma.csv\n"
     ]
    }
   ],
   "source": [
    "for one_file in files:\n",
    "    if one_file.endswith('.csv'):\n",
    "        # Create full file path\n",
    "        full_file_path = os.path.join(folder_path, one_file)\n",
    "        print (folder_path)\n",
    "        print (one_file)\n",
    "        print (full_file_path)\n"
   ]
  },
  {
   "cell_type": "code",
   "execution_count": 11,
   "metadata": {},
   "outputs": [
    {
     "name": "stdout",
     "output_type": "stream",
     "text": [
      "<class 'pandas.core.frame.DataFrame'>\n",
      "RangeIndex: 5824 entries, 0 to 5823\n",
      "Data columns (total 5 columns):\n",
      " #   Column     Non-Null Count  Dtype \n",
      "---  ------     --------------  ----- \n",
      " 0   date_time  5824 non-null   object\n",
      " 1   max_temp   5824 non-null   int64 \n",
      " 2   min_temp   5824 non-null   int64 \n",
      " 3   city       5824 non-null   object\n",
      " 4   state      5824 non-null   object\n",
      "dtypes: int64(2), object(3)\n",
      "memory usage: 227.6+ KB\n"
     ]
    }
   ],
   "source": [
    "final_df.info()"
   ]
  },
  {
   "cell_type": "markdown",
   "metadata": {},
   "source": [
    "note:  \n",
    "- review the process of making this file \n",
    "\n",
    "# load the necessary library  \n",
    "\n",
    "# Initialize list to store all dataframes\n",
    "\n",
    "# Process each file\n",
    "\n",
    "# Combine all dataframes"
   ]
  },
  {
   "cell_type": "markdown",
   "metadata": {},
   "source": [
    "whether the data for each city and state starts at roughly the same time. How can we know such a thing\n"
   ]
  },
  {
   "cell_type": "markdown",
   "metadata": {},
   "source": [
    "persudo: \n",
    "- using pivot table to load the index `data_time` value, having the columns as `city`  "
   ]
  },
  {
   "cell_type": "code",
   "execution_count": 12,
   "metadata": {},
   "outputs": [
    {
     "data": {
      "text/plain": [
       "state  city         \n",
       "CA     Los Angeles      2018-12-11 00:00:00\n",
       "       San Francisco    2018-12-11 00:00:00\n",
       "IL     Chicago          2018-12-11 00:00:00\n",
       "       Springfield      2018-12-11 00:00:00\n",
       "MA     Boston           2018-12-11 00:00:00\n",
       "       Springfield      2018-12-11 00:00:00\n",
       "NY     Albany           2018-12-11 00:00:00\n",
       "       New York         2018-12-11 00:00:00\n",
       "Name: date_time, dtype: object"
      ]
     },
     "execution_count": 12,
     "metadata": {},
     "output_type": "execute_result"
    }
   ],
   "source": [
    "(\n",
    "    final_df.groupby(['state', 'city'])['date_time'].min()\n",
    "    .sort_values()\n",
    ")"
   ]
  },
  {
   "cell_type": "code",
   "execution_count": null,
   "metadata": {},
   "outputs": [],
   "source": [
    "# the code above get the minimum value of `data_time` for each distinct combination of `state` and `city`"
   ]
  },
  {
   "cell_type": "code",
   "execution_count": 13,
   "metadata": {
    "vscode": {
     "languageId": "javascript"
    }
   },
   "outputs": [
    {
     "data": {
      "text/plain": [
       "state  city         \n",
       "CA     Los Angeles      2019-03-11 21:00:00\n",
       "       San Francisco    2019-03-11 21:00:00\n",
       "IL     Chicago          2019-03-11 21:00:00\n",
       "       Springfield      2019-03-11 21:00:00\n",
       "MA     Boston           2019-03-11 21:00:00\n",
       "       Springfield      2019-03-11 21:00:00\n",
       "NY     Albany           2019-03-11 21:00:00\n",
       "       New York         2019-03-11 21:00:00\n",
       "Name: date_time, dtype: object"
      ]
     },
     "execution_count": 13,
     "metadata": {},
     "output_type": "execute_result"
    }
   ],
   "source": [
    "(\n",
    "    final_df.groupby(['state', 'city'])['date_time'].max()\n",
    "    .sort_values()\n",
    ")"
   ]
  },
  {
   "cell_type": "code",
   "execution_count": 21,
   "metadata": {
    "vscode": {
     "languageId": "javascript"
    }
   },
   "outputs": [
    {
     "data": {
      "text/html": [
       "<div>\n",
       "<style scoped>\n",
       "    .dataframe tbody tr th:only-of-type {\n",
       "        vertical-align: middle;\n",
       "    }\n",
       "\n",
       "    .dataframe tbody tr th {\n",
       "        vertical-align: top;\n",
       "    }\n",
       "\n",
       "    .dataframe thead th {\n",
       "        text-align: right;\n",
       "    }\n",
       "</style>\n",
       "<table border=\"1\" class=\"dataframe\">\n",
       "  <thead>\n",
       "    <tr style=\"text-align: right;\">\n",
       "      <th></th>\n",
       "      <th></th>\n",
       "      <th>min</th>\n",
       "      <th>max</th>\n",
       "    </tr>\n",
       "    <tr>\n",
       "      <th>state</th>\n",
       "      <th>city</th>\n",
       "      <th></th>\n",
       "      <th></th>\n",
       "    </tr>\n",
       "  </thead>\n",
       "  <tbody>\n",
       "    <tr>\n",
       "      <th rowspan=\"2\" valign=\"top\">CA</th>\n",
       "      <th>Los Angeles</th>\n",
       "      <td>2018-12-11 00:00:00</td>\n",
       "      <td>2019-03-11 21:00:00</td>\n",
       "    </tr>\n",
       "    <tr>\n",
       "      <th>San Francisco</th>\n",
       "      <td>2018-12-11 00:00:00</td>\n",
       "      <td>2019-03-11 21:00:00</td>\n",
       "    </tr>\n",
       "    <tr>\n",
       "      <th rowspan=\"2\" valign=\"top\">IL</th>\n",
       "      <th>Chicago</th>\n",
       "      <td>2018-12-11 00:00:00</td>\n",
       "      <td>2019-03-11 21:00:00</td>\n",
       "    </tr>\n",
       "    <tr>\n",
       "      <th>Springfield</th>\n",
       "      <td>2018-12-11 00:00:00</td>\n",
       "      <td>2019-03-11 21:00:00</td>\n",
       "    </tr>\n",
       "    <tr>\n",
       "      <th rowspan=\"2\" valign=\"top\">MA</th>\n",
       "      <th>Boston</th>\n",
       "      <td>2018-12-11 00:00:00</td>\n",
       "      <td>2019-03-11 21:00:00</td>\n",
       "    </tr>\n",
       "    <tr>\n",
       "      <th>Springfield</th>\n",
       "      <td>2018-12-11 00:00:00</td>\n",
       "      <td>2019-03-11 21:00:00</td>\n",
       "    </tr>\n",
       "    <tr>\n",
       "      <th rowspan=\"2\" valign=\"top\">NY</th>\n",
       "      <th>Albany</th>\n",
       "      <td>2018-12-11 00:00:00</td>\n",
       "      <td>2019-03-11 21:00:00</td>\n",
       "    </tr>\n",
       "    <tr>\n",
       "      <th>New York</th>\n",
       "      <td>2018-12-11 00:00:00</td>\n",
       "      <td>2019-03-11 21:00:00</td>\n",
       "    </tr>\n",
       "  </tbody>\n",
       "</table>\n",
       "</div>"
      ],
      "text/plain": [
       "                                     min                  max\n",
       "state city                                                   \n",
       "CA    Los Angeles    2018-12-11 00:00:00  2019-03-11 21:00:00\n",
       "      San Francisco  2018-12-11 00:00:00  2019-03-11 21:00:00\n",
       "IL    Chicago        2018-12-11 00:00:00  2019-03-11 21:00:00\n",
       "      Springfield    2018-12-11 00:00:00  2019-03-11 21:00:00\n",
       "MA    Boston         2018-12-11 00:00:00  2019-03-11 21:00:00\n",
       "      Springfield    2018-12-11 00:00:00  2019-03-11 21:00:00\n",
       "NY    Albany         2018-12-11 00:00:00  2019-03-11 21:00:00\n",
       "      New York       2018-12-11 00:00:00  2019-03-11 21:00:00"
      ]
     },
     "execution_count": 21,
     "metadata": {},
     "output_type": "execute_result"
    }
   ],
   "source": [
    "(\n",
    "    final_df.groupby(['state', 'city'])['date_time']\n",
    "    .agg(['min', 'max'])\n",
    ")"
   ]
  },
  {
   "cell_type": "markdown",
   "metadata": {},
   "source": [
    "to find the lowest minimum temperature recorded for each city in our data set"
   ]
  },
  {
   "cell_type": "code",
   "execution_count": 14,
   "metadata": {
    "vscode": {
     "languageId": "javascript"
    }
   },
   "outputs": [
    {
     "name": "stdout",
     "output_type": "stream",
     "text": [
      "<class 'pandas.core.frame.DataFrame'>\n",
      "RangeIndex: 5824 entries, 0 to 5823\n",
      "Data columns (total 5 columns):\n",
      " #   Column     Non-Null Count  Dtype \n",
      "---  ------     --------------  ----- \n",
      " 0   date_time  5824 non-null   object\n",
      " 1   max_temp   5824 non-null   int64 \n",
      " 2   min_temp   5824 non-null   int64 \n",
      " 3   city       5824 non-null   object\n",
      " 4   state      5824 non-null   object\n",
      "dtypes: int64(2), object(3)\n",
      "memory usage: 227.6+ KB\n"
     ]
    }
   ],
   "source": [
    "final_df.info()"
   ]
  },
  {
   "cell_type": "code",
   "execution_count": 16,
   "metadata": {
    "vscode": {
     "languageId": "javascript"
    }
   },
   "outputs": [
    {
     "data": {
      "text/plain": [
       "state  city         \n",
       "CA     Los Angeles       4\n",
       "       San Francisco     3\n",
       "IL     Chicago         -28\n",
       "       Springfield     -25\n",
       "MA     Boston          -14\n",
       "       Springfield     -20\n",
       "NY     Albany          -19\n",
       "       New York        -14\n",
       "Name: min_temp, dtype: int64"
      ]
     },
     "execution_count": 16,
     "metadata": {},
     "output_type": "execute_result"
    }
   ],
   "source": [
    "(\n",
    "    final_df.groupby(['state', 'city'])['min_temp'].min()\n",
    ")"
   ]
  },
  {
   "cell_type": "markdown",
   "metadata": {
    "vscode": {
     "languageId": "javascript"
    }
   },
   "source": [
    "to find the highest maximum temperature recorded during this period, but on a per-state basis rather than a per-city basic"
   ]
  },
  {
   "cell_type": "code",
   "execution_count": 18,
   "metadata": {
    "vscode": {
     "languageId": "javascript"
    }
   },
   "outputs": [
    {
     "data": {
      "text/plain": [
       "state  date_time          \n",
       "CA     2018-12-11 00:00:00    20\n",
       "       2018-12-11 03:00:00    20\n",
       "       2018-12-11 06:00:00    20\n",
       "       2018-12-11 09:00:00    20\n",
       "       2018-12-11 12:00:00    20\n",
       "                              ..\n",
       "NY     2019-03-11 09:00:00     6\n",
       "       2019-03-11 12:00:00     6\n",
       "       2019-03-11 15:00:00     6\n",
       "       2019-03-11 18:00:00     6\n",
       "       2019-03-11 21:00:00     6\n",
       "Name: max_temp, Length: 2912, dtype: int64"
      ]
     },
     "execution_count": 18,
     "metadata": {},
     "output_type": "execute_result"
    }
   ],
   "source": [
    "(\n",
    "    final_df.groupby(['state', 'date_time'])['max_temp'].max()\n",
    ")"
   ]
  },
  {
   "cell_type": "code",
   "execution_count": 19,
   "metadata": {
    "vscode": {
     "languageId": "javascript"
    }
   },
   "outputs": [
    {
     "data": {
      "text/plain": [
       "state\n",
       "CA    23\n",
       "IL    16\n",
       "MA    17\n",
       "NY    15\n",
       "Name: max_temp, dtype: int64"
      ]
     },
     "execution_count": 19,
     "metadata": {},
     "output_type": "execute_result"
    }
   ],
   "source": [
    "(\n",
    "    final_df.groupby(['state'])['max_temp'].max()\n",
    ")"
   ]
  },
  {
   "cell_type": "code",
   "execution_count": 20,
   "metadata": {
    "vscode": {
     "languageId": "javascript"
    }
   },
   "outputs": [
    {
     "data": {
      "text/plain": [
       "date_time            state\n",
       "2018-12-11 00:00:00  CA       20\n",
       "                     IL        5\n",
       "                     MA        1\n",
       "                     NY        4\n",
       "2018-12-11 03:00:00  CA       20\n",
       "                              ..\n",
       "2019-03-11 18:00:00  NY        6\n",
       "2019-03-11 21:00:00  CA       19\n",
       "                     IL        3\n",
       "                     MA        8\n",
       "                     NY        6\n",
       "Name: max_temp, Length: 2912, dtype: int64"
      ]
     },
     "execution_count": 20,
     "metadata": {},
     "output_type": "execute_result"
    }
   ],
   "source": [
    "(\n",
    "    final_df.groupby(['date_time', 'state' ])['max_temp'].max()\n",
    ")"
   ]
  },
  {
   "cell_type": "markdown",
   "metadata": {
    "vscode": {
     "languageId": "javascript"
    }
   },
   "source": [
    "Run describe on the minimum and maximum temperature for each state-city combination"
   ]
  },
  {
   "cell_type": "code",
   "execution_count": 23,
   "metadata": {
    "vscode": {
     "languageId": "javascript"
    }
   },
   "outputs": [
    {
     "data": {
      "text/html": [
       "<div>\n",
       "<style scoped>\n",
       "    .dataframe tbody tr th:only-of-type {\n",
       "        vertical-align: middle;\n",
       "    }\n",
       "\n",
       "    .dataframe tbody tr th {\n",
       "        vertical-align: top;\n",
       "    }\n",
       "\n",
       "    .dataframe thead tr th {\n",
       "        text-align: left;\n",
       "    }\n",
       "\n",
       "    .dataframe thead tr:last-of-type th {\n",
       "        text-align: right;\n",
       "    }\n",
       "</style>\n",
       "<table border=\"1\" class=\"dataframe\">\n",
       "  <thead>\n",
       "    <tr>\n",
       "      <th></th>\n",
       "      <th></th>\n",
       "      <th colspan=\"8\" halign=\"left\">min_temp</th>\n",
       "      <th colspan=\"8\" halign=\"left\">max_temp</th>\n",
       "    </tr>\n",
       "    <tr>\n",
       "      <th></th>\n",
       "      <th></th>\n",
       "      <th>count</th>\n",
       "      <th>mean</th>\n",
       "      <th>std</th>\n",
       "      <th>min</th>\n",
       "      <th>25%</th>\n",
       "      <th>50%</th>\n",
       "      <th>75%</th>\n",
       "      <th>max</th>\n",
       "      <th>count</th>\n",
       "      <th>mean</th>\n",
       "      <th>std</th>\n",
       "      <th>min</th>\n",
       "      <th>25%</th>\n",
       "      <th>50%</th>\n",
       "      <th>75%</th>\n",
       "      <th>max</th>\n",
       "    </tr>\n",
       "    <tr>\n",
       "      <th>state</th>\n",
       "      <th>city</th>\n",
       "      <th></th>\n",
       "      <th></th>\n",
       "      <th></th>\n",
       "      <th></th>\n",
       "      <th></th>\n",
       "      <th></th>\n",
       "      <th></th>\n",
       "      <th></th>\n",
       "      <th></th>\n",
       "      <th></th>\n",
       "      <th></th>\n",
       "      <th></th>\n",
       "      <th></th>\n",
       "      <th></th>\n",
       "      <th></th>\n",
       "      <th></th>\n",
       "    </tr>\n",
       "  </thead>\n",
       "  <tbody>\n",
       "    <tr>\n",
       "      <th rowspan=\"2\" valign=\"top\">CA</th>\n",
       "      <th>Los Angeles</th>\n",
       "      <td>728.0</td>\n",
       "      <td>10.637363</td>\n",
       "      <td>2.705200</td>\n",
       "      <td>4.0</td>\n",
       "      <td>9.0</td>\n",
       "      <td>11.0</td>\n",
       "      <td>12.0</td>\n",
       "      <td>17.0</td>\n",
       "      <td>728.0</td>\n",
       "      <td>17.054945</td>\n",
       "      <td>2.708640</td>\n",
       "      <td>12.0</td>\n",
       "      <td>15.0</td>\n",
       "      <td>16.0</td>\n",
       "      <td>19.0</td>\n",
       "      <td>23.0</td>\n",
       "    </tr>\n",
       "    <tr>\n",
       "      <th>San Francisco</th>\n",
       "      <td>728.0</td>\n",
       "      <td>8.252747</td>\n",
       "      <td>2.021036</td>\n",
       "      <td>3.0</td>\n",
       "      <td>7.0</td>\n",
       "      <td>8.0</td>\n",
       "      <td>10.0</td>\n",
       "      <td>13.0</td>\n",
       "      <td>728.0</td>\n",
       "      <td>12.604396</td>\n",
       "      <td>1.437399</td>\n",
       "      <td>9.0</td>\n",
       "      <td>12.0</td>\n",
       "      <td>13.0</td>\n",
       "      <td>14.0</td>\n",
       "      <td>15.0</td>\n",
       "    </tr>\n",
       "    <tr>\n",
       "      <th rowspan=\"2\" valign=\"top\">IL</th>\n",
       "      <th>Chicago</th>\n",
       "      <td>728.0</td>\n",
       "      <td>-5.076923</td>\n",
       "      <td>6.255857</td>\n",
       "      <td>-28.0</td>\n",
       "      <td>-9.0</td>\n",
       "      <td>-4.0</td>\n",
       "      <td>-1.0</td>\n",
       "      <td>6.0</td>\n",
       "      <td>728.0</td>\n",
       "      <td>-0.736264</td>\n",
       "      <td>6.128985</td>\n",
       "      <td>-25.0</td>\n",
       "      <td>-3.0</td>\n",
       "      <td>0.0</td>\n",
       "      <td>3.0</td>\n",
       "      <td>9.0</td>\n",
       "    </tr>\n",
       "    <tr>\n",
       "      <th>Springfield</th>\n",
       "      <td>728.0</td>\n",
       "      <td>-4.857143</td>\n",
       "      <td>6.508184</td>\n",
       "      <td>-25.0</td>\n",
       "      <td>-8.0</td>\n",
       "      <td>-5.0</td>\n",
       "      <td>-1.0</td>\n",
       "      <td>10.0</td>\n",
       "      <td>728.0</td>\n",
       "      <td>2.076923</td>\n",
       "      <td>6.273423</td>\n",
       "      <td>-20.0</td>\n",
       "      <td>-2.0</td>\n",
       "      <td>2.0</td>\n",
       "      <td>7.0</td>\n",
       "      <td>16.0</td>\n",
       "    </tr>\n",
       "    <tr>\n",
       "      <th rowspan=\"2\" valign=\"top\">MA</th>\n",
       "      <th>Boston</th>\n",
       "      <td>728.0</td>\n",
       "      <td>-3.142857</td>\n",
       "      <td>4.957195</td>\n",
       "      <td>-14.0</td>\n",
       "      <td>-6.0</td>\n",
       "      <td>-3.0</td>\n",
       "      <td>0.0</td>\n",
       "      <td>9.0</td>\n",
       "      <td>728.0</td>\n",
       "      <td>2.868132</td>\n",
       "      <td>4.945277</td>\n",
       "      <td>-12.0</td>\n",
       "      <td>0.0</td>\n",
       "      <td>2.0</td>\n",
       "      <td>6.0</td>\n",
       "      <td>17.0</td>\n",
       "    </tr>\n",
       "    <tr>\n",
       "      <th>Springfield</th>\n",
       "      <td>728.0</td>\n",
       "      <td>-6.032967</td>\n",
       "      <td>5.384681</td>\n",
       "      <td>-20.0</td>\n",
       "      <td>-10.0</td>\n",
       "      <td>-6.0</td>\n",
       "      <td>-2.0</td>\n",
       "      <td>6.0</td>\n",
       "      <td>728.0</td>\n",
       "      <td>1.472527</td>\n",
       "      <td>5.266678</td>\n",
       "      <td>-16.0</td>\n",
       "      <td>-2.0</td>\n",
       "      <td>2.0</td>\n",
       "      <td>4.0</td>\n",
       "      <td>15.0</td>\n",
       "    </tr>\n",
       "    <tr>\n",
       "      <th rowspan=\"2\" valign=\"top\">NY</th>\n",
       "      <th>Albany</th>\n",
       "      <td>728.0</td>\n",
       "      <td>-5.956044</td>\n",
       "      <td>5.599984</td>\n",
       "      <td>-19.0</td>\n",
       "      <td>-10.0</td>\n",
       "      <td>-6.0</td>\n",
       "      <td>-2.0</td>\n",
       "      <td>7.0</td>\n",
       "      <td>728.0</td>\n",
       "      <td>0.362637</td>\n",
       "      <td>5.294136</td>\n",
       "      <td>-14.0</td>\n",
       "      <td>-3.0</td>\n",
       "      <td>0.0</td>\n",
       "      <td>4.0</td>\n",
       "      <td>13.0</td>\n",
       "    </tr>\n",
       "    <tr>\n",
       "      <th>New York</th>\n",
       "      <td>728.0</td>\n",
       "      <td>-1.054945</td>\n",
       "      <td>5.025082</td>\n",
       "      <td>-14.0</td>\n",
       "      <td>-4.0</td>\n",
       "      <td>0.0</td>\n",
       "      <td>2.0</td>\n",
       "      <td>12.0</td>\n",
       "      <td>728.0</td>\n",
       "      <td>4.208791</td>\n",
       "      <td>4.619238</td>\n",
       "      <td>-12.0</td>\n",
       "      <td>2.0</td>\n",
       "      <td>4.0</td>\n",
       "      <td>7.0</td>\n",
       "      <td>15.0</td>\n",
       "    </tr>\n",
       "  </tbody>\n",
       "</table>\n",
       "</div>"
      ],
      "text/plain": [
       "                    min_temp                                               \\\n",
       "                       count       mean       std   min   25%   50%   75%   \n",
       "state city                                                                  \n",
       "CA    Los Angeles      728.0  10.637363  2.705200   4.0   9.0  11.0  12.0   \n",
       "      San Francisco    728.0   8.252747  2.021036   3.0   7.0   8.0  10.0   \n",
       "IL    Chicago          728.0  -5.076923  6.255857 -28.0  -9.0  -4.0  -1.0   \n",
       "      Springfield      728.0  -4.857143  6.508184 -25.0  -8.0  -5.0  -1.0   \n",
       "MA    Boston           728.0  -3.142857  4.957195 -14.0  -6.0  -3.0   0.0   \n",
       "      Springfield      728.0  -6.032967  5.384681 -20.0 -10.0  -6.0  -2.0   \n",
       "NY    Albany           728.0  -5.956044  5.599984 -19.0 -10.0  -6.0  -2.0   \n",
       "      New York         728.0  -1.054945  5.025082 -14.0  -4.0   0.0   2.0   \n",
       "\n",
       "                          max_temp                                         \\\n",
       "                      max    count       mean       std   min   25%   50%   \n",
       "state city                                                                  \n",
       "CA    Los Angeles    17.0    728.0  17.054945  2.708640  12.0  15.0  16.0   \n",
       "      San Francisco  13.0    728.0  12.604396  1.437399   9.0  12.0  13.0   \n",
       "IL    Chicago         6.0    728.0  -0.736264  6.128985 -25.0  -3.0   0.0   \n",
       "      Springfield    10.0    728.0   2.076923  6.273423 -20.0  -2.0   2.0   \n",
       "MA    Boston          9.0    728.0   2.868132  4.945277 -12.0   0.0   2.0   \n",
       "      Springfield     6.0    728.0   1.472527  5.266678 -16.0  -2.0   2.0   \n",
       "NY    Albany          7.0    728.0   0.362637  5.294136 -14.0  -3.0   0.0   \n",
       "      New York       12.0    728.0   4.208791  4.619238 -12.0   2.0   4.0   \n",
       "\n",
       "                                 \n",
       "                      75%   max  \n",
       "state city                       \n",
       "CA    Los Angeles    19.0  23.0  \n",
       "      San Francisco  14.0  15.0  \n",
       "IL    Chicago         3.0   9.0  \n",
       "      Springfield     7.0  16.0  \n",
       "MA    Boston          6.0  17.0  \n",
       "      Springfield     4.0  15.0  \n",
       "NY    Albany          4.0  13.0  \n",
       "      New York        7.0  15.0  "
      ]
     },
     "execution_count": 23,
     "metadata": {},
     "output_type": "execute_result"
    }
   ],
   "source": [
    "final_df.groupby(['state', 'city'])[['min_temp', 'max_temp']].describe()"
   ]
  },
  {
   "cell_type": "code",
   "execution_count": 24,
   "metadata": {
    "vscode": {
     "languageId": "javascript"
    }
   },
   "outputs": [
    {
     "data": {
      "text/html": [
       "<div>\n",
       "<style scoped>\n",
       "    .dataframe tbody tr th:only-of-type {\n",
       "        vertical-align: middle;\n",
       "    }\n",
       "\n",
       "    .dataframe tbody tr th {\n",
       "        vertical-align: top;\n",
       "    }\n",
       "\n",
       "    .dataframe thead tr th {\n",
       "        text-align: left;\n",
       "    }\n",
       "\n",
       "    .dataframe thead tr:last-of-type th {\n",
       "        text-align: right;\n",
       "    }\n",
       "</style>\n",
       "<table border=\"1\" class=\"dataframe\">\n",
       "  <thead>\n",
       "    <tr>\n",
       "      <th></th>\n",
       "      <th></th>\n",
       "      <th colspan=\"4\" halign=\"left\">state</th>\n",
       "      <th colspan=\"4\" halign=\"left\">city</th>\n",
       "    </tr>\n",
       "    <tr>\n",
       "      <th></th>\n",
       "      <th></th>\n",
       "      <th>count</th>\n",
       "      <th>unique</th>\n",
       "      <th>top</th>\n",
       "      <th>freq</th>\n",
       "      <th>count</th>\n",
       "      <th>unique</th>\n",
       "      <th>top</th>\n",
       "      <th>freq</th>\n",
       "    </tr>\n",
       "    <tr>\n",
       "      <th>min_temp</th>\n",
       "      <th>max_temp</th>\n",
       "      <th></th>\n",
       "      <th></th>\n",
       "      <th></th>\n",
       "      <th></th>\n",
       "      <th></th>\n",
       "      <th></th>\n",
       "      <th></th>\n",
       "      <th></th>\n",
       "    </tr>\n",
       "  </thead>\n",
       "  <tbody>\n",
       "    <tr>\n",
       "      <th>-28</th>\n",
       "      <th>-25</th>\n",
       "      <td>8</td>\n",
       "      <td>1</td>\n",
       "      <td>IL</td>\n",
       "      <td>8</td>\n",
       "      <td>8</td>\n",
       "      <td>1</td>\n",
       "      <td>Chicago</td>\n",
       "      <td>8</td>\n",
       "    </tr>\n",
       "    <tr>\n",
       "      <th>-27</th>\n",
       "      <th>-17</th>\n",
       "      <td>8</td>\n",
       "      <td>1</td>\n",
       "      <td>IL</td>\n",
       "      <td>8</td>\n",
       "      <td>8</td>\n",
       "      <td>1</td>\n",
       "      <td>Chicago</td>\n",
       "      <td>8</td>\n",
       "    </tr>\n",
       "    <tr>\n",
       "      <th>-25</th>\n",
       "      <th>-20</th>\n",
       "      <td>8</td>\n",
       "      <td>1</td>\n",
       "      <td>IL</td>\n",
       "      <td>8</td>\n",
       "      <td>8</td>\n",
       "      <td>1</td>\n",
       "      <td>Springfield</td>\n",
       "      <td>8</td>\n",
       "    </tr>\n",
       "    <tr>\n",
       "      <th>-22</th>\n",
       "      <th>-7</th>\n",
       "      <td>8</td>\n",
       "      <td>1</td>\n",
       "      <td>IL</td>\n",
       "      <td>8</td>\n",
       "      <td>8</td>\n",
       "      <td>1</td>\n",
       "      <td>Springfield</td>\n",
       "      <td>8</td>\n",
       "    </tr>\n",
       "    <tr>\n",
       "      <th>-20</th>\n",
       "      <th>-15</th>\n",
       "      <td>8</td>\n",
       "      <td>1</td>\n",
       "      <td>IL</td>\n",
       "      <td>8</td>\n",
       "      <td>8</td>\n",
       "      <td>1</td>\n",
       "      <td>Chicago</td>\n",
       "      <td>8</td>\n",
       "    </tr>\n",
       "    <tr>\n",
       "      <th>...</th>\n",
       "      <th>...</th>\n",
       "      <td>...</td>\n",
       "      <td>...</td>\n",
       "      <td>...</td>\n",
       "      <td>...</td>\n",
       "      <td>...</td>\n",
       "      <td>...</td>\n",
       "      <td>...</td>\n",
       "      <td>...</td>\n",
       "    </tr>\n",
       "    <tr>\n",
       "      <th rowspan=\"3\" valign=\"top\">15</th>\n",
       "      <th>21</th>\n",
       "      <td>8</td>\n",
       "      <td>1</td>\n",
       "      <td>CA</td>\n",
       "      <td>8</td>\n",
       "      <td>8</td>\n",
       "      <td>1</td>\n",
       "      <td>Los Angeles</td>\n",
       "      <td>8</td>\n",
       "    </tr>\n",
       "    <tr>\n",
       "      <th>22</th>\n",
       "      <td>8</td>\n",
       "      <td>1</td>\n",
       "      <td>CA</td>\n",
       "      <td>8</td>\n",
       "      <td>8</td>\n",
       "      <td>1</td>\n",
       "      <td>Los Angeles</td>\n",
       "      <td>8</td>\n",
       "    </tr>\n",
       "    <tr>\n",
       "      <th>23</th>\n",
       "      <td>8</td>\n",
       "      <td>1</td>\n",
       "      <td>CA</td>\n",
       "      <td>8</td>\n",
       "      <td>8</td>\n",
       "      <td>1</td>\n",
       "      <td>Los Angeles</td>\n",
       "      <td>8</td>\n",
       "    </tr>\n",
       "    <tr>\n",
       "      <th>16</th>\n",
       "      <th>20</th>\n",
       "      <td>8</td>\n",
       "      <td>1</td>\n",
       "      <td>CA</td>\n",
       "      <td>8</td>\n",
       "      <td>8</td>\n",
       "      <td>1</td>\n",
       "      <td>Los Angeles</td>\n",
       "      <td>8</td>\n",
       "    </tr>\n",
       "    <tr>\n",
       "      <th>17</th>\n",
       "      <th>23</th>\n",
       "      <td>8</td>\n",
       "      <td>1</td>\n",
       "      <td>CA</td>\n",
       "      <td>8</td>\n",
       "      <td>8</td>\n",
       "      <td>1</td>\n",
       "      <td>Los Angeles</td>\n",
       "      <td>8</td>\n",
       "    </tr>\n",
       "  </tbody>\n",
       "</table>\n",
       "<p>288 rows × 8 columns</p>\n",
       "</div>"
      ],
      "text/plain": [
       "                  state                  city                         \n",
       "                  count unique top freq count unique          top freq\n",
       "min_temp max_temp                                                     \n",
       "-28      -25          8      1  IL    8     8      1      Chicago    8\n",
       "-27      -17          8      1  IL    8     8      1      Chicago    8\n",
       "-25      -20          8      1  IL    8     8      1  Springfield    8\n",
       "-22      -7           8      1  IL    8     8      1  Springfield    8\n",
       "-20      -15          8      1  IL    8     8      1      Chicago    8\n",
       "...                 ...    ...  ..  ...   ...    ...          ...  ...\n",
       " 15       21          8      1  CA    8     8      1  Los Angeles    8\n",
       "          22          8      1  CA    8     8      1  Los Angeles    8\n",
       "          23          8      1  CA    8     8      1  Los Angeles    8\n",
       " 16       20          8      1  CA    8     8      1  Los Angeles    8\n",
       " 17       23          8      1  CA    8     8      1  Los Angeles    8\n",
       "\n",
       "[288 rows x 8 columns]"
      ]
     },
     "execution_count": 24,
     "metadata": {},
     "output_type": "execute_result"
    }
   ],
   "source": [
    "final_df.groupby(['min_temp', 'max_temp'])[['state', 'city']].describe()"
   ]
  },
  {
   "cell_type": "markdown",
   "metadata": {
    "vscode": {
     "languageId": "javascript"
    }
   },
   "source": [
    "What is the average difference in temperature (i.e., max – min) for each of the cities in our data set?\n",
    "\n",
    "pseudocode: \n",
    " - create a new column that perfrom (max - min) tempureture \n",
    " - groupby city with average of the variance  "
   ]
  },
  {
   "cell_type": "code",
   "execution_count": 25,
   "metadata": {
    "vscode": {
     "languageId": "javascript"
    }
   },
   "outputs": [],
   "source": [
    "final_df['daily_temp_var'] = final_df['max_temp'] - final_df['min_temp']"
   ]
  },
  {
   "cell_type": "code",
   "execution_count": 26,
   "metadata": {
    "vscode": {
     "languageId": "javascript"
    }
   },
   "outputs": [
    {
     "data": {
      "text/plain": [
       "state  city         \n",
       "CA     Los Angeles      6.417582\n",
       "       San Francisco    4.351648\n",
       "IL     Chicago          4.340659\n",
       "       Springfield      6.934066\n",
       "MA     Boston           6.010989\n",
       "       Springfield      7.505495\n",
       "NY     Albany           6.318681\n",
       "       New York         5.263736\n",
       "Name: daily_temp_var, dtype: float64"
      ]
     },
     "execution_count": 26,
     "metadata": {},
     "output_type": "execute_result"
    }
   ],
   "source": [
    "final_df.groupby(['state', 'city'])['daily_temp_var'].mean()"
   ]
  },
  {
   "cell_type": "markdown",
   "metadata": {
    "vscode": {
     "languageId": "javascript"
    }
   },
   "source": [
    "# Window functions"
   ]
  },
  {
   "cell_type": "code",
   "execution_count": 31,
   "metadata": {
    "vscode": {
     "languageId": "javascript"
    }
   },
   "outputs": [],
   "source": [
    "df = DataFrame({'sales':[100, 150, 200, 250,\n",
    "                200, 150, 300, 400,\n",
    "                500, 100, 300, 200],\n",
    "            'quarters':'Q1 Q2 Q3 Q4'.split()*3})\n"
   ]
  },
  {
   "cell_type": "code",
   "execution_count": 32,
   "metadata": {
    "vscode": {
     "languageId": "javascript"
    }
   },
   "outputs": [
    {
     "data": {
      "text/html": [
       "<div>\n",
       "<style scoped>\n",
       "    .dataframe tbody tr th:only-of-type {\n",
       "        vertical-align: middle;\n",
       "    }\n",
       "\n",
       "    .dataframe tbody tr th {\n",
       "        vertical-align: top;\n",
       "    }\n",
       "\n",
       "    .dataframe thead th {\n",
       "        text-align: right;\n",
       "    }\n",
       "</style>\n",
       "<table border=\"1\" class=\"dataframe\">\n",
       "  <thead>\n",
       "    <tr style=\"text-align: right;\">\n",
       "      <th></th>\n",
       "      <th>sales</th>\n",
       "      <th>quarters</th>\n",
       "    </tr>\n",
       "  </thead>\n",
       "  <tbody>\n",
       "    <tr>\n",
       "      <th>0</th>\n",
       "      <td>100</td>\n",
       "      <td>Q1</td>\n",
       "    </tr>\n",
       "    <tr>\n",
       "      <th>1</th>\n",
       "      <td>150</td>\n",
       "      <td>Q2</td>\n",
       "    </tr>\n",
       "    <tr>\n",
       "      <th>2</th>\n",
       "      <td>200</td>\n",
       "      <td>Q3</td>\n",
       "    </tr>\n",
       "    <tr>\n",
       "      <th>3</th>\n",
       "      <td>250</td>\n",
       "      <td>Q4</td>\n",
       "    </tr>\n",
       "    <tr>\n",
       "      <th>4</th>\n",
       "      <td>200</td>\n",
       "      <td>Q1</td>\n",
       "    </tr>\n",
       "    <tr>\n",
       "      <th>5</th>\n",
       "      <td>150</td>\n",
       "      <td>Q2</td>\n",
       "    </tr>\n",
       "    <tr>\n",
       "      <th>6</th>\n",
       "      <td>300</td>\n",
       "      <td>Q3</td>\n",
       "    </tr>\n",
       "    <tr>\n",
       "      <th>7</th>\n",
       "      <td>400</td>\n",
       "      <td>Q4</td>\n",
       "    </tr>\n",
       "    <tr>\n",
       "      <th>8</th>\n",
       "      <td>500</td>\n",
       "      <td>Q1</td>\n",
       "    </tr>\n",
       "    <tr>\n",
       "      <th>9</th>\n",
       "      <td>100</td>\n",
       "      <td>Q2</td>\n",
       "    </tr>\n",
       "    <tr>\n",
       "      <th>10</th>\n",
       "      <td>300</td>\n",
       "      <td>Q3</td>\n",
       "    </tr>\n",
       "    <tr>\n",
       "      <th>11</th>\n",
       "      <td>200</td>\n",
       "      <td>Q4</td>\n",
       "    </tr>\n",
       "  </tbody>\n",
       "</table>\n",
       "</div>"
      ],
      "text/plain": [
       "    sales quarters\n",
       "0     100       Q1\n",
       "1     150       Q2\n",
       "2     200       Q3\n",
       "3     250       Q4\n",
       "4     200       Q1\n",
       "5     150       Q2\n",
       "6     300       Q3\n",
       "7     400       Q4\n",
       "8     500       Q1\n",
       "9     100       Q2\n",
       "10    300       Q3\n",
       "11    200       Q4"
      ]
     },
     "execution_count": 32,
     "metadata": {},
     "output_type": "execute_result"
    }
   ],
   "source": [
    "df"
   ]
  },
  {
   "cell_type": "code",
   "execution_count": 33,
   "metadata": {
    "vscode": {
     "languageId": "javascript"
    }
   },
   "outputs": [
    {
     "data": {
      "text/plain": [
       "2850"
      ]
     },
     "execution_count": 33,
     "metadata": {},
     "output_type": "execute_result"
    }
   ],
   "source": [
    "df['sales'].sum()"
   ]
  },
  {
   "cell_type": "markdown",
   "metadata": {
    "vscode": {
     "languageId": "javascript"
    }
   },
   "source": [
    "This returns a series whose values are the cumulative sum of values in sales up to that point"
   ]
  },
  {
   "cell_type": "code",
   "execution_count": 39,
   "metadata": {
    "vscode": {
     "languageId": "javascript"
    }
   },
   "outputs": [
    {
     "data": {
      "text/plain": [
       "0      100.0\n",
       "1      250.0\n",
       "2      450.0\n",
       "3      700.0\n",
       "4      900.0\n",
       "5     1050.0\n",
       "6     1350.0\n",
       "7     1750.0\n",
       "8     2250.0\n",
       "9     2350.0\n",
       "10    2650.0\n",
       "11    2850.0\n",
       "Name: sales, dtype: float64"
      ]
     },
     "execution_count": 39,
     "metadata": {},
     "output_type": "execute_result"
    }
   ],
   "source": [
    "df['sales'].expanding().sum()"
   ]
  },
  {
   "cell_type": "markdown",
   "metadata": {
    "vscode": {
     "languageId": "javascript"
    }
   },
   "source": [
    "rolling is how we indicate that we want to run a rolling window function, and the argument 3 indicates that we want three rows in each window. We thus invoke mean on rows 0-2, then 1-3, then 2-4, then 3-5, and so on. The series we get back from this call puts the result of mean in the same location as the third (and final) row in our rolling window. This means row indexes 0 and 1 have NaN values."
   ]
  },
  {
   "cell_type": "code",
   "execution_count": 42,
   "metadata": {
    "vscode": {
     "languageId": "javascript"
    }
   },
   "outputs": [
    {
     "data": {
      "text/plain": [
       "0            NaN\n",
       "1            NaN\n",
       "2     150.000000\n",
       "3     200.000000\n",
       "4     216.666667\n",
       "5     200.000000\n",
       "6     216.666667\n",
       "7     283.333333\n",
       "8     400.000000\n",
       "9     333.333333\n",
       "10    300.000000\n",
       "11    200.000000\n",
       "Name: sales, dtype: float64"
      ]
     },
     "execution_count": 42,
     "metadata": {},
     "output_type": "execute_result"
    }
   ],
   "source": [
    "df['sales'].rolling(3).mean()"
   ]
  },
  {
   "cell_type": "markdown",
   "metadata": {
    "vscode": {
     "languageId": "javascript"
    }
   },
   "source": [
    "A third type of window function is pct_change. When we run this on a series, we get back a new series with NaN at row index 0. The remaining rows indicate the percentage change from the previous row to the current one"
   ]
  },
  {
   "cell_type": "code",
   "execution_count": 43,
   "metadata": {
    "vscode": {
     "languageId": "javascript"
    }
   },
   "outputs": [
    {
     "data": {
      "text/plain": [
       "0          NaN\n",
       "1     0.500000\n",
       "2     0.333333\n",
       "3     0.250000\n",
       "4    -0.200000\n",
       "5    -0.250000\n",
       "6     1.000000\n",
       "7     0.333333\n",
       "8     0.250000\n",
       "9    -0.800000\n",
       "10    2.000000\n",
       "11   -0.333333\n",
       "Name: sales, dtype: float64"
      ]
     },
     "execution_count": 43,
     "metadata": {},
     "output_type": "execute_result"
    }
   ],
   "source": [
    "df['sales'].pct_change()"
   ]
  }
 ],
 "metadata": {
  "kernelspec": {
   "display_name": "fresh_env",
   "language": "python",
   "name": "python3"
  },
  "language_info": {
   "codemirror_mode": {
    "name": "ipython",
    "version": 3
   },
   "file_extension": ".py",
   "mimetype": "text/x-python",
   "name": "python",
   "nbconvert_exporter": "python",
   "pygments_lexer": "ipython3",
   "version": "3.10.15"
  }
 },
 "nbformat": 4,
 "nbformat_minor": 2
}
