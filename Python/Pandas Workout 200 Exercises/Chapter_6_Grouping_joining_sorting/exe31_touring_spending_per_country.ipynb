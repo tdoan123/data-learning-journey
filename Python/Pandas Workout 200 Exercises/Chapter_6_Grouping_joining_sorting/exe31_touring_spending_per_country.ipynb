{
 "cells": [
  {
   "cell_type": "code",
   "execution_count": 1,
   "metadata": {},
   "outputs": [],
   "source": [
    "import pandas as pd\n",
    "from pandas import DataFrame"
   ]
  },
  {
   "cell_type": "code",
   "execution_count": 18,
   "metadata": {},
   "outputs": [],
   "source": [
    "filepath = r\"C:\\Users\\dqthi\\Downloads\\pandas-workout-data\\data\\oecd_tourism.csv\"\n",
    "\n",
    "tourism_df = pd.read_csv(filepath, usecols=['LOCATION', 'SUBJECT', 'TIME', 'Value'])"
   ]
  },
  {
   "cell_type": "code",
   "execution_count": 19,
   "metadata": {},
   "outputs": [
    {
     "data": {
      "text/html": [
       "<div>\n",
       "<style scoped>\n",
       "    .dataframe tbody tr th:only-of-type {\n",
       "        vertical-align: middle;\n",
       "    }\n",
       "\n",
       "    .dataframe tbody tr th {\n",
       "        vertical-align: top;\n",
       "    }\n",
       "\n",
       "    .dataframe thead th {\n",
       "        text-align: right;\n",
       "    }\n",
       "</style>\n",
       "<table border=\"1\" class=\"dataframe\">\n",
       "  <thead>\n",
       "    <tr style=\"text-align: right;\">\n",
       "      <th></th>\n",
       "      <th>LOCATION</th>\n",
       "      <th>SUBJECT</th>\n",
       "      <th>TIME</th>\n",
       "      <th>Value</th>\n",
       "    </tr>\n",
       "  </thead>\n",
       "  <tbody>\n",
       "    <tr>\n",
       "      <th>0</th>\n",
       "      <td>AUS</td>\n",
       "      <td>INT_REC</td>\n",
       "      <td>2008</td>\n",
       "      <td>31159.800</td>\n",
       "    </tr>\n",
       "    <tr>\n",
       "      <th>1</th>\n",
       "      <td>AUS</td>\n",
       "      <td>INT_REC</td>\n",
       "      <td>2009</td>\n",
       "      <td>29980.700</td>\n",
       "    </tr>\n",
       "    <tr>\n",
       "      <th>2</th>\n",
       "      <td>AUS</td>\n",
       "      <td>INT_REC</td>\n",
       "      <td>2010</td>\n",
       "      <td>35165.500</td>\n",
       "    </tr>\n",
       "    <tr>\n",
       "      <th>3</th>\n",
       "      <td>AUS</td>\n",
       "      <td>INT_REC</td>\n",
       "      <td>2011</td>\n",
       "      <td>38710.100</td>\n",
       "    </tr>\n",
       "    <tr>\n",
       "      <th>4</th>\n",
       "      <td>AUS</td>\n",
       "      <td>INT_REC</td>\n",
       "      <td>2012</td>\n",
       "      <td>38003.700</td>\n",
       "    </tr>\n",
       "    <tr>\n",
       "      <th>...</th>\n",
       "      <td>...</td>\n",
       "      <td>...</td>\n",
       "      <td>...</td>\n",
       "      <td>...</td>\n",
       "    </tr>\n",
       "    <tr>\n",
       "      <th>1229</th>\n",
       "      <td>SRB</td>\n",
       "      <td>INT-EXP</td>\n",
       "      <td>2015</td>\n",
       "      <td>1253.644</td>\n",
       "    </tr>\n",
       "    <tr>\n",
       "      <th>1230</th>\n",
       "      <td>SRB</td>\n",
       "      <td>INT-EXP</td>\n",
       "      <td>2016</td>\n",
       "      <td>1351.098</td>\n",
       "    </tr>\n",
       "    <tr>\n",
       "      <th>1231</th>\n",
       "      <td>SRB</td>\n",
       "      <td>INT-EXP</td>\n",
       "      <td>2017</td>\n",
       "      <td>1549.183</td>\n",
       "    </tr>\n",
       "    <tr>\n",
       "      <th>1232</th>\n",
       "      <td>SRB</td>\n",
       "      <td>INT-EXP</td>\n",
       "      <td>2018</td>\n",
       "      <td>1837.317</td>\n",
       "    </tr>\n",
       "    <tr>\n",
       "      <th>1233</th>\n",
       "      <td>SRB</td>\n",
       "      <td>INT-EXP</td>\n",
       "      <td>2019</td>\n",
       "      <td>1999.313</td>\n",
       "    </tr>\n",
       "  </tbody>\n",
       "</table>\n",
       "<p>1234 rows × 4 columns</p>\n",
       "</div>"
      ],
      "text/plain": [
       "     LOCATION  SUBJECT  TIME      Value\n",
       "0         AUS  INT_REC  2008  31159.800\n",
       "1         AUS  INT_REC  2009  29980.700\n",
       "2         AUS  INT_REC  2010  35165.500\n",
       "3         AUS  INT_REC  2011  38710.100\n",
       "4         AUS  INT_REC  2012  38003.700\n",
       "...       ...      ...   ...        ...\n",
       "1229      SRB  INT-EXP  2015   1253.644\n",
       "1230      SRB  INT-EXP  2016   1351.098\n",
       "1231      SRB  INT-EXP  2017   1549.183\n",
       "1232      SRB  INT-EXP  2018   1837.317\n",
       "1233      SRB  INT-EXP  2019   1999.313\n",
       "\n",
       "[1234 rows x 4 columns]"
      ]
     },
     "execution_count": 19,
     "metadata": {},
     "output_type": "execute_result"
    }
   ],
   "source": [
    "tourism_df"
   ]
  },
  {
   "cell_type": "code",
   "execution_count": 20,
   "metadata": {},
   "outputs": [
    {
     "name": "stdout",
     "output_type": "stream",
     "text": [
      "<class 'pandas.core.frame.DataFrame'>\n",
      "RangeIndex: 1234 entries, 0 to 1233\n",
      "Data columns (total 4 columns):\n",
      " #   Column    Non-Null Count  Dtype  \n",
      "---  ------    --------------  -----  \n",
      " 0   LOCATION  1234 non-null   object \n",
      " 1   SUBJECT   1234 non-null   object \n",
      " 2   TIME      1234 non-null   int64  \n",
      " 3   Value     1234 non-null   float64\n",
      "dtypes: float64(1), int64(1), object(2)\n",
      "memory usage: 38.7+ KB\n"
     ]
    }
   ],
   "source": [
    "tourism_df.info()"
   ]
  },
  {
   "cell_type": "code",
   "execution_count": 21,
   "metadata": {},
   "outputs": [
    {
     "data": {
      "text/plain": [
       "LOCATION\n",
       "AUS    24\n",
       "IDN    24\n",
       "BRA    24\n",
       "BGR    24\n",
       "CHL    24\n",
       "COL    24\n",
       "CRI    24\n",
       "HRV    24\n",
       "EGY    24\n",
       "IND    24\n",
       "ISR    24\n",
       "CHE    24\n",
       "MLT    24\n",
       "MAR    24\n",
       "PER    24\n",
       "PHL    24\n",
       "ROU    24\n",
       "ZAF    24\n",
       "CHN    24\n",
       "KAZ    24\n",
       "USA    24\n",
       "SRB    24\n",
       "CAN    24\n",
       "NZL    24\n",
       "JPN    24\n",
       "PRT    22\n",
       "ISL    22\n",
       "BEL    22\n",
       "CZE    22\n",
       "SVN    22\n",
       "RUS    22\n",
       "DNK    22\n",
       "FIN    22\n",
       "FRA    22\n",
       "DEU    22\n",
       "GRC    22\n",
       "LVA    22\n",
       "HUN    22\n",
       "IRL    22\n",
       "SVK    22\n",
       "EST    22\n",
       "ITA    22\n",
       "KOR    22\n",
       "LUX    22\n",
       "MEX    22\n",
       "NLD    22\n",
       "NOR    22\n",
       "GBR    22\n",
       "AUT    22\n",
       "POL    22\n",
       "SWE    22\n",
       "ESP    22\n",
       "TUR    22\n",
       "LTU    18\n",
       "Name: count, dtype: int64"
      ]
     },
     "execution_count": 21,
     "metadata": {},
     "output_type": "execute_result"
    }
   ],
   "source": [
    "tourism_df['LOCATION'].value_counts()"
   ]
  },
  {
   "cell_type": "code",
   "execution_count": 22,
   "metadata": {},
   "outputs": [
    {
     "data": {
      "text/plain": [
       "SUBJECT\n",
       "INT_REC    617\n",
       "INT-EXP    617\n",
       "Name: count, dtype: int64"
      ]
     },
     "execution_count": 22,
     "metadata": {},
     "output_type": "execute_result"
    }
   ],
   "source": [
    "tourism_df['SUBJECT'].value_counts()"
   ]
  },
  {
   "cell_type": "code",
   "execution_count": 24,
   "metadata": {},
   "outputs": [
    {
     "data": {
      "text/plain": [
       "TIME\n",
       "2010    108\n",
       "2011    108\n",
       "2012    108\n",
       "2013    108\n",
       "2014    108\n",
       "2015    108\n",
       "2016    108\n",
       "2017    108\n",
       "2018    108\n",
       "2009    106\n",
       "2008    104\n",
       "2019     52\n",
       "Name: count, dtype: int64"
      ]
     },
     "execution_count": 24,
     "metadata": {},
     "output_type": "execute_result"
    }
   ],
   "source": [
    "tourism_df['TIME'].value_counts()"
   ]
  },
  {
   "cell_type": "markdown",
   "metadata": {},
   "source": [
    "Find the five countries that received the greatest amount of tourist dollars, on average, across years in the data set."
   ]
  },
  {
   "cell_type": "code",
   "execution_count": 26,
   "metadata": {},
   "outputs": [
    {
     "data": {
      "text/plain": [
       "18876.11070502431"
      ]
     },
     "execution_count": 26,
     "metadata": {},
     "output_type": "execute_result"
    }
   ],
   "source": [
    "(\n",
    "    tourism_df\n",
    "    .loc[tourism_df['SUBJECT'] == 'INT_REC']\n",
    "    ['Value']\n",
    "    .mean()\n",
    ")"
   ]
  },
  {
   "cell_type": "code",
   "execution_count": null,
   "metadata": {},
   "outputs": [
    {
     "data": {
      "text/plain": [
       "LOCATION\n",
       "AUS     38540.900000\n",
       "AUT     21413.209091\n",
       "BEL     12190.591636\n",
       "BGR      4343.541417\n",
       "BRA      6321.476083\n",
       "CAN     24202.591667\n",
       "CHE     16481.041667\n",
       "CHL      3163.441667\n",
       "CHN     43554.309417\n",
       "COL      4778.975000\n",
       "CRI      3174.100000\n",
       "CZE      7909.922273\n",
       "DEU     53408.570636\n",
       "DNK      9398.957636\n",
       "EGY      9850.430833\n",
       "ESP     69655.817364\n",
       "EST      1848.067364\n",
       "FIN      4700.236273\n",
       "FRA     65063.335727\n",
       "GBR     51752.090909\n",
       "GRC     16908.736000\n",
       "HRV      9286.770000\n",
       "HUN      7299.353000\n",
       "IDN     11484.960000\n",
       "IND     20606.844083\n",
       "IRL     10535.157364\n",
       "ISL      2397.367455\n",
       "ISR      6542.383250\n",
       "ITA     44930.211545\n",
       "JPN     25015.858333\n",
       "KAZ      1979.881333\n",
       "KOR     17780.754545\n",
       "LTU      1426.155556\n",
       "LUX      5122.330727\n",
       "LVA      1215.036364\n",
       "MAR      8684.227500\n",
       "MEX     16564.354545\n",
       "MLT      1607.669250\n",
       "NLD     20042.627273\n",
       "NOR      5188.772727\n",
       "NZL      9593.466667\n",
       "PER      3596.176667\n",
       "PHL      5910.688833\n",
       "POL     12231.065182\n",
       "PRT     16470.353909\n",
       "ROU      2340.742833\n",
       "RUS     16131.481818\n",
       "SRB      1356.921333\n",
       "SVK      2683.343727\n",
       "SVN      2913.229364\n",
       "SWE     13373.514000\n",
       "TUR     31582.090909\n",
       "USA    201613.500000\n",
       "ZAF      9794.813167\n",
       "Name: Value, dtype: float64"
      ]
     },
     "execution_count": 27,
     "metadata": {},
     "output_type": "execute_result"
    }
   ],
   "source": [
    "(\n",
    "    tourism_df\n",
    "    .loc[tourism_df['SUBJECT'] == 'INT_REC']\n",
    "    .groupby('LOCATION')['Value']\n",
    "    .mean()\n",
    ")"
   ]
  },
  {
   "cell_type": "markdown",
   "metadata": {},
   "source": [
    "Find the five countries whose citizens spent the least amount of tourist dollars, on average, across years in the data set."
   ]
  },
  {
   "cell_type": "code",
   "execution_count": 38,
   "metadata": {},
   "outputs": [
    {
     "data": {
      "text/plain": [
       "LOCATION\n",
       "CHN    163217.404417\n",
       "USA    142080.666667\n",
       "DEU     96615.075545\n",
       "GBR     75262.227273\n",
       "FRA     51394.272273\n",
       "Name: Value, dtype: float64"
      ]
     },
     "execution_count": 38,
     "metadata": {},
     "output_type": "execute_result"
    }
   ],
   "source": [
    "(\n",
    "    tourism_df\n",
    "    .loc[tourism_df['SUBJECT'] == 'INT-EXP']\n",
    "    .groupby('LOCATION')['Value']\n",
    "    .mean()\n",
    "    .sort_values(ascending=False)\n",
    "    .head()\n",
    ")"
   ]
  },
  {
   "cell_type": "code",
   "execution_count": 29,
   "metadata": {},
   "outputs": [
    {
     "data": {
      "text/plain": [
       "LOCATION\n",
       "MLT     387.801667\n",
       "CRI     867.075000\n",
       "LVA     919.545455\n",
       "ISL    1072.819636\n",
       "HRV    1115.628083\n",
       "Name: Value, dtype: float64"
      ]
     },
     "execution_count": 29,
     "metadata": {},
     "output_type": "execute_result"
    }
   ],
   "source": [
    "(\n",
    "    tourism_df\n",
    "    .loc[tourism_df['SUBJECT'] == 'INT-EXP']\n",
    "    .groupby('LOCATION')['Value']\n",
    "    .mean()\n",
    "    .sort_values()\n",
    "    .head()\n",
    ")"
   ]
  },
  {
   "cell_type": "markdown",
   "metadata": {},
   "source": [
    "The separate CSV file oecd_locations.csv has two columns: one contains the three-letter abbreviated location name from the first CSV file, and the second is the full country name. Load this into a data frame, using the abbreviated data as an index."
   ]
  },
  {
   "cell_type": "code",
   "execution_count": 30,
   "metadata": {},
   "outputs": [],
   "source": [
    "locations_filename = r\"C:\\Users\\dqthi\\Downloads\\pandas-workout-data\\data\\oecd_locations.csv\"\n",
    "locations_df = pd.read_csv(locations_filename,\n",
    "                        header=None,\n",
    "                        names=['LOCATION', 'NAME'],\n",
    "                        index_col='LOCATION')"
   ]
  },
  {
   "cell_type": "code",
   "execution_count": 31,
   "metadata": {},
   "outputs": [
    {
     "data": {
      "text/html": [
       "<div>\n",
       "<style scoped>\n",
       "    .dataframe tbody tr th:only-of-type {\n",
       "        vertical-align: middle;\n",
       "    }\n",
       "\n",
       "    .dataframe tbody tr th {\n",
       "        vertical-align: top;\n",
       "    }\n",
       "\n",
       "    .dataframe thead th {\n",
       "        text-align: right;\n",
       "    }\n",
       "</style>\n",
       "<table border=\"1\" class=\"dataframe\">\n",
       "  <thead>\n",
       "    <tr style=\"text-align: right;\">\n",
       "      <th></th>\n",
       "      <th>NAME</th>\n",
       "    </tr>\n",
       "    <tr>\n",
       "      <th>LOCATION</th>\n",
       "      <th></th>\n",
       "    </tr>\n",
       "  </thead>\n",
       "  <tbody>\n",
       "    <tr>\n",
       "      <th>AUS</th>\n",
       "      <td>Australia</td>\n",
       "    </tr>\n",
       "    <tr>\n",
       "      <th>AUT</th>\n",
       "      <td>Austria</td>\n",
       "    </tr>\n",
       "    <tr>\n",
       "      <th>BEL</th>\n",
       "      <td>Belgium</td>\n",
       "    </tr>\n",
       "    <tr>\n",
       "      <th>CAN</th>\n",
       "      <td>Canada</td>\n",
       "    </tr>\n",
       "    <tr>\n",
       "      <th>DNK</th>\n",
       "      <td>Denmark</td>\n",
       "    </tr>\n",
       "    <tr>\n",
       "      <th>FIN</th>\n",
       "      <td>Finland</td>\n",
       "    </tr>\n",
       "    <tr>\n",
       "      <th>FRA</th>\n",
       "      <td>France</td>\n",
       "    </tr>\n",
       "    <tr>\n",
       "      <th>DEU</th>\n",
       "      <td>Germany</td>\n",
       "    </tr>\n",
       "    <tr>\n",
       "      <th>HUN</th>\n",
       "      <td>Hungary</td>\n",
       "    </tr>\n",
       "    <tr>\n",
       "      <th>ITA</th>\n",
       "      <td>Italy</td>\n",
       "    </tr>\n",
       "    <tr>\n",
       "      <th>JPN</th>\n",
       "      <td>Japan</td>\n",
       "    </tr>\n",
       "    <tr>\n",
       "      <th>KOR</th>\n",
       "      <td>Korea</td>\n",
       "    </tr>\n",
       "    <tr>\n",
       "      <th>GBR</th>\n",
       "      <td>United Kingdom</td>\n",
       "    </tr>\n",
       "    <tr>\n",
       "      <th>USA</th>\n",
       "      <td>United States</td>\n",
       "    </tr>\n",
       "    <tr>\n",
       "      <th>BRA</th>\n",
       "      <td>Brazil</td>\n",
       "    </tr>\n",
       "    <tr>\n",
       "      <th>ISR</th>\n",
       "      <td>Israel</td>\n",
       "    </tr>\n",
       "  </tbody>\n",
       "</table>\n",
       "</div>"
      ],
      "text/plain": [
       "                    NAME\n",
       "LOCATION                \n",
       "AUS            Australia\n",
       "AUT              Austria\n",
       "BEL              Belgium\n",
       "CAN               Canada\n",
       "DNK              Denmark\n",
       "FIN              Finland\n",
       "FRA               France\n",
       "DEU              Germany\n",
       "HUN              Hungary\n",
       "ITA                Italy\n",
       "JPN                Japan\n",
       "KOR                Korea\n",
       "GBR       United Kingdom\n",
       "USA        United States\n",
       "BRA               Brazil\n",
       "ISR               Israel"
      ]
     },
     "execution_count": 31,
     "metadata": {},
     "output_type": "execute_result"
    }
   ],
   "source": [
    "locations_df"
   ]
  },
  {
   "cell_type": "markdown",
   "metadata": {},
   "source": [
    "Join these two data frames together into a new one. In the new data frame, there is no LOCATION column. Instead, there is a name column with the full name of the country."
   ]
  },
  {
   "cell_type": "code",
   "execution_count": 34,
   "metadata": {},
   "outputs": [
    {
     "data": {
      "text/html": [
       "<div>\n",
       "<style scoped>\n",
       "    .dataframe tbody tr th:only-of-type {\n",
       "        vertical-align: middle;\n",
       "    }\n",
       "\n",
       "    .dataframe tbody tr th {\n",
       "        vertical-align: top;\n",
       "    }\n",
       "\n",
       "    .dataframe thead th {\n",
       "        text-align: right;\n",
       "    }\n",
       "</style>\n",
       "<table border=\"1\" class=\"dataframe\">\n",
       "  <thead>\n",
       "    <tr style=\"text-align: right;\">\n",
       "      <th></th>\n",
       "      <th>NAME</th>\n",
       "      <th>SUBJECT</th>\n",
       "      <th>TIME</th>\n",
       "      <th>Value</th>\n",
       "    </tr>\n",
       "    <tr>\n",
       "      <th>LOCATION</th>\n",
       "      <th></th>\n",
       "      <th></th>\n",
       "      <th></th>\n",
       "      <th></th>\n",
       "    </tr>\n",
       "  </thead>\n",
       "  <tbody>\n",
       "    <tr>\n",
       "      <th>AUS</th>\n",
       "      <td>Australia</td>\n",
       "      <td>INT_REC</td>\n",
       "      <td>2008</td>\n",
       "      <td>31159.8</td>\n",
       "    </tr>\n",
       "    <tr>\n",
       "      <th>AUS</th>\n",
       "      <td>Australia</td>\n",
       "      <td>INT_REC</td>\n",
       "      <td>2009</td>\n",
       "      <td>29980.7</td>\n",
       "    </tr>\n",
       "    <tr>\n",
       "      <th>AUS</th>\n",
       "      <td>Australia</td>\n",
       "      <td>INT_REC</td>\n",
       "      <td>2010</td>\n",
       "      <td>35165.5</td>\n",
       "    </tr>\n",
       "    <tr>\n",
       "      <th>AUS</th>\n",
       "      <td>Australia</td>\n",
       "      <td>INT_REC</td>\n",
       "      <td>2011</td>\n",
       "      <td>38710.1</td>\n",
       "    </tr>\n",
       "    <tr>\n",
       "      <th>AUS</th>\n",
       "      <td>Australia</td>\n",
       "      <td>INT_REC</td>\n",
       "      <td>2012</td>\n",
       "      <td>38003.7</td>\n",
       "    </tr>\n",
       "    <tr>\n",
       "      <th>...</th>\n",
       "      <td>...</td>\n",
       "      <td>...</td>\n",
       "      <td>...</td>\n",
       "      <td>...</td>\n",
       "    </tr>\n",
       "    <tr>\n",
       "      <th>ISR</th>\n",
       "      <td>Israel</td>\n",
       "      <td>INT-EXP</td>\n",
       "      <td>2015</td>\n",
       "      <td>7507.0</td>\n",
       "    </tr>\n",
       "    <tr>\n",
       "      <th>ISR</th>\n",
       "      <td>Israel</td>\n",
       "      <td>INT-EXP</td>\n",
       "      <td>2016</td>\n",
       "      <td>8210.3</td>\n",
       "    </tr>\n",
       "    <tr>\n",
       "      <th>ISR</th>\n",
       "      <td>Israel</td>\n",
       "      <td>INT-EXP</td>\n",
       "      <td>2017</td>\n",
       "      <td>8986.0</td>\n",
       "    </tr>\n",
       "    <tr>\n",
       "      <th>ISR</th>\n",
       "      <td>Israel</td>\n",
       "      <td>INT-EXP</td>\n",
       "      <td>2018</td>\n",
       "      <td>9974.7</td>\n",
       "    </tr>\n",
       "    <tr>\n",
       "      <th>ISR</th>\n",
       "      <td>Israel</td>\n",
       "      <td>INT-EXP</td>\n",
       "      <td>2019</td>\n",
       "      <td>10389.5</td>\n",
       "    </tr>\n",
       "  </tbody>\n",
       "</table>\n",
       "<p>364 rows × 4 columns</p>\n",
       "</div>"
      ],
      "text/plain": [
       "               NAME  SUBJECT  TIME    Value\n",
       "LOCATION                                   \n",
       "AUS       Australia  INT_REC  2008  31159.8\n",
       "AUS       Australia  INT_REC  2009  29980.7\n",
       "AUS       Australia  INT_REC  2010  35165.5\n",
       "AUS       Australia  INT_REC  2011  38710.1\n",
       "AUS       Australia  INT_REC  2012  38003.7\n",
       "...             ...      ...   ...      ...\n",
       "ISR          Israel  INT-EXP  2015   7507.0\n",
       "ISR          Israel  INT-EXP  2016   8210.3\n",
       "ISR          Israel  INT-EXP  2017   8986.0\n",
       "ISR          Israel  INT-EXP  2018   9974.7\n",
       "ISR          Israel  INT-EXP  2019  10389.5\n",
       "\n",
       "[364 rows x 4 columns]"
      ]
     },
     "execution_count": 34,
     "metadata": {},
     "output_type": "execute_result"
    }
   ],
   "source": [
    "fullname_df = locations_df.join(tourism_df.set_index('LOCATION'))\n",
    "fullname_df"
   ]
  },
  {
   "cell_type": "code",
   "execution_count": null,
   "metadata": {},
   "outputs": [],
   "source": [
    "# Create a new (anonymous) data frame based on tourism_df, whose index is set to LOCATION.\n",
    "# Run join on locations_df and the new LOCATION-indexed version of tourism_df.\n",
    "# # Assign this to a new data frame, which we call fullname_df."
   ]
  },
  {
   "cell_type": "markdown",
   "metadata": {},
   "source": [
    "Rerun the queries from steps 2 and 3, finding the five countries that spent and received the most, on average, from tourism. But this time, get the name of each country, rather than its abbreviation, for your reports."
   ]
  },
  {
   "cell_type": "code",
   "execution_count": 36,
   "metadata": {},
   "outputs": [
    {
     "data": {
      "text/plain": [
       "NAME\n",
       "Hungary     2918.390182\n",
       "Finland     5877.080909\n",
       "Israel      6726.524833\n",
       "Denmark    11326.169636\n",
       "Austria    11934.563636\n",
       "Name: Value, dtype: float64"
      ]
     },
     "execution_count": 36,
     "metadata": {},
     "output_type": "execute_result"
    }
   ],
   "source": [
    "(\n",
    "    fullname_df\n",
    "    .loc[fullname_df['SUBJECT'] == 'INT-EXP']\n",
    "    .groupby('NAME')['Value']\n",
    "    .mean()\n",
    "    .sort_values()\n",
    "    .head()\n",
    ")"
   ]
  },
  {
   "cell_type": "code",
   "execution_count": 37,
   "metadata": {},
   "outputs": [
    {
     "data": {
      "text/plain": [
       "NAME\n",
       "United States     142080.666667\n",
       "Germany            96615.075545\n",
       "United Kingdom     75262.227273\n",
       "France             51394.272273\n",
       "Canada             40984.633333\n",
       "Name: Value, dtype: float64"
      ]
     },
     "execution_count": 37,
     "metadata": {},
     "output_type": "execute_result"
    }
   ],
   "source": [
    "(\n",
    "    fullname_df\n",
    "    .loc[fullname_df['SUBJECT'] == 'INT-EXP']\n",
    "    .groupby('NAME')['Value']\n",
    "    .mean()\n",
    "    .sort_values(ascending=False)\n",
    "    .head()\n",
    ")"
   ]
  },
  {
   "cell_type": "markdown",
   "metadata": {},
   "source": [
    "Ignoring the names, did you get the same results as before? Why or why not?"
   ]
  }
 ],
 "metadata": {
  "kernelspec": {
   "display_name": "fresh_env",
   "language": "python",
   "name": "python3"
  },
  "language_info": {
   "codemirror_mode": {
    "name": "ipython",
    "version": 3
   },
   "file_extension": ".py",
   "mimetype": "text/x-python",
   "name": "python",
   "nbconvert_exporter": "python",
   "pygments_lexer": "ipython3",
   "version": "3.10.15"
  }
 },
 "nbformat": 4,
 "nbformat_minor": 2
}
