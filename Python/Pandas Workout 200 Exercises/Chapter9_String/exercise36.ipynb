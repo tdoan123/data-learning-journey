{
 "cells": [
  {
   "cell_type": "code",
   "execution_count": 6,
   "metadata": {},
   "outputs": [],
   "source": [
    "import pandas as pd\n",
    "import numpy as np"
   ]
  },
  {
   "cell_type": "code",
   "execution_count": 4,
   "metadata": {},
   "outputs": [
    {
     "data": {
      "text/plain": [
       "['this', 'is', 'a', 'test', '123', '456']"
      ]
     },
     "execution_count": 4,
     "metadata": {},
     "output_type": "execute_result"
    }
   ],
   "source": [
    "s = 'this is a test 123 456'.split()\n",
    "s"
   ]
  },
  {
   "cell_type": "code",
   "execution_count": 10,
   "metadata": {},
   "outputs": [
    {
     "name": "stdout",
     "output_type": "stream",
     "text": [
      "0             ﻿The\n",
      "1          Project\n",
      "2        Gutenberg\n",
      "3            EBook\n",
      "4               of\n",
      "           ...    \n",
      "12758           to\n",
      "12759         hear\n",
      "12760        about\n",
      "12761          new\n",
      "12762      eBooks.\n",
      "Length: 12763, dtype: object\n"
     ]
    }
   ],
   "source": [
    "filepath = r\"C:\\Users\\dqthi\\Downloads\\pandas-workout-data\\data\\alice-in-wonderland.txt\"\n",
    "s = pd.Series(open(filepath).read().split())\n",
    "\n",
    "print (s)"
   ]
  },
  {
   "cell_type": "code",
   "execution_count": 11,
   "metadata": {},
   "outputs": [
    {
     "data": {
      "text/plain": [
       "the            732\n",
       "and            362\n",
       "a              321\n",
       "to             311\n",
       "of             300\n",
       "              ... \n",
       "present--at      1\n",
       "morning,         1\n",
       "then.\"           1\n",
       "sternly.         1\n",
       "newsletter       1\n",
       "Name: count, Length: 3408, dtype: int64"
      ]
     },
     "execution_count": 11,
     "metadata": {},
     "output_type": "execute_result"
    }
   ],
   "source": [
    "s.value_counts() # to find the most common words "
   ]
  },
  {
   "cell_type": "code",
   "execution_count": 12,
   "metadata": {},
   "outputs": [
    {
     "data": {
      "text/plain": [
       "the    792\n",
       "and    379\n",
       "a      325\n",
       "to     318\n",
       "of     313\n",
       "she    232\n",
       "in     222\n",
       "was    160\n",
       "you    141\n",
       "it     136\n",
       "Name: count, dtype: int64"
      ]
     },
     "execution_count": 12,
     "metadata": {},
     "output_type": "execute_result"
    }
   ],
   "source": [
    "s.str.lower().value_counts().head(10)"
   ]
  },
  {
   "cell_type": "code",
   "execution_count": 14,
   "metadata": {},
   "outputs": [],
   "source": [
    "import string"
   ]
  },
  {
   "cell_type": "code",
   "execution_count": 17,
   "metadata": {},
   "outputs": [
    {
     "data": {
      "text/plain": [
       "the    807\n",
       "and    404\n",
       "a      328\n",
       "to     327\n",
       "of     318\n",
       "she    237\n",
       "in     227\n",
       "it     183\n",
       "you    171\n",
       "was    168\n",
       "Name: count, dtype: int64"
      ]
     },
     "execution_count": 17,
     "metadata": {},
     "output_type": "execute_result"
    }
   ],
   "source": [
    "(\n",
    "    s\n",
    "    .str\n",
    "    .lower()\n",
    "    .str\n",
    "    .strip(string.punctuation)\n",
    "    .value_counts()\n",
    "    .head(10)\n",
    ")"
   ]
  },
  {
   "cell_type": "code",
   "execution_count": 19,
   "metadata": {},
   "outputs": [
    {
     "data": {
      "text/plain": [
       "0        False\n",
       "1        False\n",
       "2        False\n",
       "3        False\n",
       "4        False\n",
       "         ...  \n",
       "12758    False\n",
       "12759    False\n",
       "12760    False\n",
       "12761    False\n",
       "12762    False\n",
       "Length: 12763, dtype: bool"
      ]
     },
     "execution_count": 19,
     "metadata": {},
     "output_type": "execute_result"
    }
   ],
   "source": [
    "s.str.contains('^[A-Z]\\W*$',regex=True)"
   ]
  },
  {
   "cell_type": "code",
   "execution_count": 20,
   "metadata": {},
   "outputs": [
    {
     "data": {
      "text/plain": [
       "1          Project\n",
       "2        Gutenberg\n",
       "3            EBook\n",
       "5            Alice\n",
       "9            Lewis\n",
       "           ...    \n",
       "12729      Project\n",
       "12738      Project\n",
       "12739    Gutenberg\n",
       "12740     Literary\n",
       "12741      Archive\n",
       "Length: 1100, dtype: object"
      ]
     },
     "execution_count": 20,
     "metadata": {},
     "output_type": "execute_result"
    }
   ],
   "source": [
    "(\n",
    "    s\n",
    "    .loc[s.str.contains('^[A-Z]\\w*$', regex=True)]\n",
    ")"
   ]
  },
  {
   "cell_type": "code",
   "execution_count": 21,
   "metadata": {},
   "outputs": [
    {
     "data": {
      "text/plain": [
       "1686"
      ]
     },
     "execution_count": 21,
     "metadata": {},
     "output_type": "execute_result"
    }
   ],
   "source": [
    "(\n",
    "    s\n",
    "    .loc[s.str.strip(string.punctuation )\n",
    "    .str\n",
    "    .contains('^[A-Z]\\w*$', regex=True)]\n",
    "    .count()\n",
    ")"
   ]
  },
  {
   "cell_type": "code",
   "execution_count": 22,
   "metadata": {},
   "outputs": [],
   "source": [
    "def count_vowels(one_word):\n",
    "    total = 0\n",
    "    for one_letter in one_word.lower():\n",
    "        if one_letter in 'aeiou':\n",
    "            total += 1\n",
    "\n",
    "    return total"
   ]
  },
  {
   "cell_type": "code",
   "execution_count": 23,
   "metadata": {},
   "outputs": [
    {
     "data": {
      "text/plain": [
       "0        1\n",
       "1        2\n",
       "2        3\n",
       "3        3\n",
       "4        1\n",
       "        ..\n",
       "12758    1\n",
       "12759    2\n",
       "12760    3\n",
       "12761    1\n",
       "12762    3\n",
       "Length: 12763, dtype: int64"
      ]
     },
     "execution_count": 23,
     "metadata": {},
     "output_type": "execute_result"
    }
   ],
   "source": [
    "s.apply(count_vowels)"
   ]
  },
  {
   "cell_type": "code",
   "execution_count": 24,
   "metadata": {},
   "outputs": [
    {
     "data": {
      "text/plain": [
       "1.66379377889211"
      ]
     },
     "execution_count": 24,
     "metadata": {},
     "output_type": "execute_result"
    }
   ],
   "source": [
    "s.apply(count_vowels).mean()"
   ]
  },
  {
   "cell_type": "code",
   "execution_count": null,
   "metadata": {},
   "outputs": [],
   "source": []
  }
 ],
 "metadata": {
  "kernelspec": {
   "display_name": "fresh_env",
   "language": "python",
   "name": "python3"
  },
  "language_info": {
   "codemirror_mode": {
    "name": "ipython",
    "version": 3
   },
   "file_extension": ".py",
   "mimetype": "text/x-python",
   "name": "python",
   "nbconvert_exporter": "python",
   "pygments_lexer": "ipython3",
   "version": "3.10.15"
  }
 },
 "nbformat": 4,
 "nbformat_minor": 2
}
